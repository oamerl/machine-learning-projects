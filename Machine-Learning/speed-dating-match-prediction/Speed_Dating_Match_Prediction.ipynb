{
  "nbformat": 4,
  "nbformat_minor": 0,
  "metadata": {
    "colab": {
      "provenance": [],
      "toc_visible": true,
      "include_colab_link": true
    },
    "kernelspec": {
      "name": "python3",
      "display_name": "Python 3"
    },
    "language_info": {
      "name": "python"
    }
  },
  "cells": [
    {
      "cell_type": "markdown",
      "metadata": {
        "id": "view-in-github",
        "colab_type": "text"
      },
      "source": [
        "<a href=\"https://colab.research.google.com/github/oamerl/machine-learning-projects/blob/main/Machine-Learning/speed-dating-match-prediction/Speed_Dating_Match_Prediction.ipynb\" target=\"_parent\"><img src=\"https://colab.research.google.com/assets/colab-badge.svg\" alt=\"Open In Colab\"/></a>"
      ]
    },
    {
      "cell_type": "markdown",
      "source": [
        "# **2- Data Importing and Understanding 📋💡**\n"
      ],
      "metadata": {
        "id": "o6Z4qAMlC6DI"
      }
    },
    {
      "cell_type": "markdown",
      "source": [
        "Importing needed libraries\n"
      ],
      "metadata": {
        "id": "jg6HvZJlYYOS"
      }
    },
    {
      "cell_type": "code",
      "execution_count": null,
      "metadata": {
        "id": "W9DOqmuGWbP2"
      },
      "outputs": [],
      "source": [
        "import numpy as np\n",
        "import pandas as pd\n",
        "from matplotlib import pyplot as plt\n",
        "%matplotlib inline\n",
        "import seaborn as sns\n",
        "from sklearn.model_selection import train_test_split\n",
        "from sklearn import metrics\n",
        "from sklearn.metrics import classification_report"
      ]
    },
    {
      "cell_type": "markdown",
      "source": [
        "Importing the data"
      ],
      "metadata": {
        "id": "LJa0n4oWYbgB"
      }
    },
    {
      "cell_type": "code",
      "source": [
        "train_data_org = pd.read_csv(\"/content/train.csv\") # reading the training dataset file\n",
        "test_data = pd.read_csv(\"/content/test.csv\") # reading the testing dataset file"
      ],
      "metadata": {
        "id": "fidMS_wpmrT9"
      },
      "execution_count": null,
      "outputs": []
    },
    {
      "cell_type": "markdown",
      "source": [
        "Checking the datatypes and structure"
      ],
      "metadata": {
        "id": "UkEKNPW3LqJj"
      }
    },
    {
      "cell_type": "code",
      "source": [
        "# printing different info about the trainig set like the data types of features and number of rows and columns\n",
        "train_data_org.info(verbose = \"True\")"
      ],
      "metadata": {
        "colab": {
          "base_uri": "https://localhost:8080/"
        },
        "id": "A8490LswXCYE",
        "outputId": "2c353ed9-6e88-40ac-a9d0-35a5de7f99f3"
      },
      "execution_count": null,
      "outputs": [
        {
          "output_type": "stream",
          "name": "stdout",
          "text": [
            "<class 'pandas.core.frame.DataFrame'>\n",
            "RangeIndex: 5909 entries, 0 to 5908\n",
            "Data columns (total 192 columns):\n",
            " #    Column    Dtype  \n",
            "---   ------    -----  \n",
            " 0    gender    int64  \n",
            " 1    idg       int64  \n",
            " 2    condtn    int64  \n",
            " 3    wave      int64  \n",
            " 4    round     int64  \n",
            " 5    position  int64  \n",
            " 6    positin1  float64\n",
            " 7    order     int64  \n",
            " 8    partner   int64  \n",
            " 9    pid       float64\n",
            " 10   match     int64  \n",
            " 11   int_corr  float64\n",
            " 12   samerace  int64  \n",
            " 13   age_o     float64\n",
            " 14   race_o    float64\n",
            " 15   pf_o_att  float64\n",
            " 16   pf_o_sin  float64\n",
            " 17   pf_o_int  float64\n",
            " 18   pf_o_fun  float64\n",
            " 19   pf_o_amb  float64\n",
            " 20   pf_o_sha  float64\n",
            " 21   attr_o    float64\n",
            " 22   sinc_o    float64\n",
            " 23   intel_o   float64\n",
            " 24   fun_o     float64\n",
            " 25   amb_o     float64\n",
            " 26   shar_o    float64\n",
            " 27   like_o    float64\n",
            " 28   prob_o    float64\n",
            " 29   met_o     float64\n",
            " 30   age       float64\n",
            " 31   field     object \n",
            " 32   field_cd  float64\n",
            " 33   undergra  object \n",
            " 34   mn_sat    object \n",
            " 35   tuition   object \n",
            " 36   race      float64\n",
            " 37   imprace   float64\n",
            " 38   imprelig  float64\n",
            " 39   from      object \n",
            " 40   zipcode   object \n",
            " 41   income    object \n",
            " 42   goal      float64\n",
            " 43   date      float64\n",
            " 44   go_out    float64\n",
            " 45   career    object \n",
            " 46   career_c  float64\n",
            " 47   sports    float64\n",
            " 48   tvsports  float64\n",
            " 49   exercise  float64\n",
            " 50   dining    float64\n",
            " 51   museums   float64\n",
            " 52   art       float64\n",
            " 53   hiking    float64\n",
            " 54   gaming    float64\n",
            " 55   clubbing  float64\n",
            " 56   reading   float64\n",
            " 57   tv        float64\n",
            " 58   theater   float64\n",
            " 59   movies    float64\n",
            " 60   concerts  float64\n",
            " 61   music     float64\n",
            " 62   shopping  float64\n",
            " 63   yoga      float64\n",
            " 64   exphappy  float64\n",
            " 65   expnum    float64\n",
            " 66   attr1_1   float64\n",
            " 67   sinc1_1   float64\n",
            " 68   intel1_1  float64\n",
            " 69   fun1_1    float64\n",
            " 70   amb1_1    float64\n",
            " 71   shar1_1   float64\n",
            " 72   attr4_1   float64\n",
            " 73   sinc4_1   float64\n",
            " 74   intel4_1  float64\n",
            " 75   fun4_1    float64\n",
            " 76   amb4_1    float64\n",
            " 77   shar4_1   float64\n",
            " 78   attr2_1   float64\n",
            " 79   sinc2_1   float64\n",
            " 80   intel2_1  float64\n",
            " 81   fun2_1    float64\n",
            " 82   amb2_1    float64\n",
            " 83   shar2_1   float64\n",
            " 84   attr3_1   float64\n",
            " 85   sinc3_1   float64\n",
            " 86   fun3_1    float64\n",
            " 87   intel3_1  float64\n",
            " 88   amb3_1    float64\n",
            " 89   attr5_1   float64\n",
            " 90   sinc5_1   float64\n",
            " 91   intel5_1  float64\n",
            " 92   fun5_1    float64\n",
            " 93   amb5_1    float64\n",
            " 94   attr      float64\n",
            " 95   sinc      float64\n",
            " 96   intel     float64\n",
            " 97   fun       float64\n",
            " 98   amb       float64\n",
            " 99   shar      float64\n",
            " 100  like      float64\n",
            " 101  prob      float64\n",
            " 102  met       float64\n",
            " 103  match_es  float64\n",
            " 104  attr1_s   float64\n",
            " 105  sinc1_s   float64\n",
            " 106  intel1_s  float64\n",
            " 107  fun1_s    float64\n",
            " 108  amb1_s    float64\n",
            " 109  shar1_s   float64\n",
            " 110  attr3_s   float64\n",
            " 111  sinc3_s   float64\n",
            " 112  intel3_s  float64\n",
            " 113  fun3_s    float64\n",
            " 114  amb3_s    float64\n",
            " 115  satis_2   float64\n",
            " 116  length    float64\n",
            " 117  numdat_2  float64\n",
            " 118  attr7_2   float64\n",
            " 119  sinc7_2   float64\n",
            " 120  intel7_2  float64\n",
            " 121  fun7_2    float64\n",
            " 122  amb7_2    float64\n",
            " 123  shar7_2   float64\n",
            " 124  attr1_2   float64\n",
            " 125  sinc1_2   float64\n",
            " 126  intel1_2  float64\n",
            " 127  fun1_2    float64\n",
            " 128  amb1_2    float64\n",
            " 129  shar1_2   float64\n",
            " 130  attr4_2   float64\n",
            " 131  sinc4_2   float64\n",
            " 132  intel4_2  float64\n",
            " 133  fun4_2    float64\n",
            " 134  amb4_2    float64\n",
            " 135  shar4_2   float64\n",
            " 136  attr2_2   float64\n",
            " 137  sinc2_2   float64\n",
            " 138  intel2_2  float64\n",
            " 139  fun2_2    float64\n",
            " 140  amb2_2    float64\n",
            " 141  shar2_2   float64\n",
            " 142  attr3_2   float64\n",
            " 143  sinc3_2   float64\n",
            " 144  intel3_2  float64\n",
            " 145  fun3_2    float64\n",
            " 146  amb3_2    float64\n",
            " 147  attr5_2   float64\n",
            " 148  sinc5_2   float64\n",
            " 149  intel5_2  float64\n",
            " 150  fun5_2    float64\n",
            " 151  amb5_2    float64\n",
            " 152  you_call  float64\n",
            " 153  them_cal  float64\n",
            " 154  date_3    float64\n",
            " 155  numdat_3  float64\n",
            " 156  num_in_3  float64\n",
            " 157  attr1_3   float64\n",
            " 158  sinc1_3   float64\n",
            " 159  intel1_3  float64\n",
            " 160  fun1_3    float64\n",
            " 161  amb1_3    float64\n",
            " 162  shar1_3   float64\n",
            " 163  attr7_3   float64\n",
            " 164  sinc7_3   float64\n",
            " 165  intel7_3  float64\n",
            " 166  fun7_3    float64\n",
            " 167  amb7_3    float64\n",
            " 168  shar7_3   float64\n",
            " 169  attr4_3   float64\n",
            " 170  sinc4_3   float64\n",
            " 171  intel4_3  float64\n",
            " 172  fun4_3    float64\n",
            " 173  amb4_3    float64\n",
            " 174  shar4_3   float64\n",
            " 175  attr2_3   float64\n",
            " 176  sinc2_3   float64\n",
            " 177  intel2_3  float64\n",
            " 178  fun2_3    float64\n",
            " 179  amb2_3    float64\n",
            " 180  shar2_3   float64\n",
            " 181  attr3_3   float64\n",
            " 182  sinc3_3   float64\n",
            " 183  intel3_3  float64\n",
            " 184  fun3_3    float64\n",
            " 185  amb3_3    float64\n",
            " 186  attr5_3   float64\n",
            " 187  sinc5_3   float64\n",
            " 188  intel5_3  float64\n",
            " 189  fun5_3    float64\n",
            " 190  amb5_3    float64\n",
            " 191  id        int64  \n",
            "dtypes: float64(173), int64(11), object(8)\n",
            "memory usage: 8.7+ MB\n"
          ]
        }
      ]
    },
    {
      "cell_type": "code",
      "source": [
        "# printing the first 6 rows of the training set\n",
        "train_data_org.head(6)"
      ],
      "metadata": {
        "colab": {
          "base_uri": "https://localhost:8080/",
          "height": 267
        },
        "id": "pfthiHA_XoYl",
        "outputId": "206c2d48-8ec3-4c97-8af7-59d567c0b371"
      },
      "execution_count": null,
      "outputs": [
        {
          "output_type": "execute_result",
          "data": {
            "text/plain": [
              "   gender  idg  condtn  wave  round  position  positin1  order  partner  \\\n",
              "0       0    3       2    14     18         2       2.0     14       12   \n",
              "1       1   14       1     3     10         2       NaN      8        8   \n",
              "2       1   14       1    13     10         8       8.0     10       10   \n",
              "3       1   38       2     9     20        18      13.0      6        7   \n",
              "4       1   24       2    14     20         6       6.0     20       17   \n",
              "5       0    3       2    14     18         2       2.0     18        8   \n",
              "\n",
              "     pid  ...  sinc3_3  intel3_3  fun3_3  amb3_3  attr5_3  sinc5_3  intel5_3  \\\n",
              "0  372.0  ...      NaN       NaN     NaN     NaN      NaN      NaN       NaN   \n",
              "1   63.0  ...      8.0       8.0     7.0     8.0      NaN      NaN       NaN   \n",
              "2  331.0  ...      NaN       NaN     NaN     NaN      NaN      NaN       NaN   \n",
              "3  200.0  ...      9.0       8.0     8.0     6.0      NaN      NaN       NaN   \n",
              "4  357.0  ...      NaN       NaN     NaN     NaN      NaN      NaN       NaN   \n",
              "5  368.0  ...      NaN       NaN     NaN     NaN      NaN      NaN       NaN   \n",
              "\n",
              "   fun5_3  amb5_3    id  \n",
              "0     NaN     NaN  2583  \n",
              "1     NaN     NaN  6830  \n",
              "2     NaN     NaN  4840  \n",
              "3     NaN     NaN  5508  \n",
              "4     NaN     NaN  4828  \n",
              "5     NaN     NaN  7126  \n",
              "\n",
              "[6 rows x 192 columns]"
            ],
            "text/html": [
              "\n",
              "  <div id=\"df-1e5967cb-ac49-4204-89ae-e469c4416874\">\n",
              "    <div class=\"colab-df-container\">\n",
              "      <div>\n",
              "<style scoped>\n",
              "    .dataframe tbody tr th:only-of-type {\n",
              "        vertical-align: middle;\n",
              "    }\n",
              "\n",
              "    .dataframe tbody tr th {\n",
              "        vertical-align: top;\n",
              "    }\n",
              "\n",
              "    .dataframe thead th {\n",
              "        text-align: right;\n",
              "    }\n",
              "</style>\n",
              "<table border=\"1\" class=\"dataframe\">\n",
              "  <thead>\n",
              "    <tr style=\"text-align: right;\">\n",
              "      <th></th>\n",
              "      <th>gender</th>\n",
              "      <th>idg</th>\n",
              "      <th>condtn</th>\n",
              "      <th>wave</th>\n",
              "      <th>round</th>\n",
              "      <th>position</th>\n",
              "      <th>positin1</th>\n",
              "      <th>order</th>\n",
              "      <th>partner</th>\n",
              "      <th>pid</th>\n",
              "      <th>...</th>\n",
              "      <th>sinc3_3</th>\n",
              "      <th>intel3_3</th>\n",
              "      <th>fun3_3</th>\n",
              "      <th>amb3_3</th>\n",
              "      <th>attr5_3</th>\n",
              "      <th>sinc5_3</th>\n",
              "      <th>intel5_3</th>\n",
              "      <th>fun5_3</th>\n",
              "      <th>amb5_3</th>\n",
              "      <th>id</th>\n",
              "    </tr>\n",
              "  </thead>\n",
              "  <tbody>\n",
              "    <tr>\n",
              "      <th>0</th>\n",
              "      <td>0</td>\n",
              "      <td>3</td>\n",
              "      <td>2</td>\n",
              "      <td>14</td>\n",
              "      <td>18</td>\n",
              "      <td>2</td>\n",
              "      <td>2.0</td>\n",
              "      <td>14</td>\n",
              "      <td>12</td>\n",
              "      <td>372.0</td>\n",
              "      <td>...</td>\n",
              "      <td>NaN</td>\n",
              "      <td>NaN</td>\n",
              "      <td>NaN</td>\n",
              "      <td>NaN</td>\n",
              "      <td>NaN</td>\n",
              "      <td>NaN</td>\n",
              "      <td>NaN</td>\n",
              "      <td>NaN</td>\n",
              "      <td>NaN</td>\n",
              "      <td>2583</td>\n",
              "    </tr>\n",
              "    <tr>\n",
              "      <th>1</th>\n",
              "      <td>1</td>\n",
              "      <td>14</td>\n",
              "      <td>1</td>\n",
              "      <td>3</td>\n",
              "      <td>10</td>\n",
              "      <td>2</td>\n",
              "      <td>NaN</td>\n",
              "      <td>8</td>\n",
              "      <td>8</td>\n",
              "      <td>63.0</td>\n",
              "      <td>...</td>\n",
              "      <td>8.0</td>\n",
              "      <td>8.0</td>\n",
              "      <td>7.0</td>\n",
              "      <td>8.0</td>\n",
              "      <td>NaN</td>\n",
              "      <td>NaN</td>\n",
              "      <td>NaN</td>\n",
              "      <td>NaN</td>\n",
              "      <td>NaN</td>\n",
              "      <td>6830</td>\n",
              "    </tr>\n",
              "    <tr>\n",
              "      <th>2</th>\n",
              "      <td>1</td>\n",
              "      <td>14</td>\n",
              "      <td>1</td>\n",
              "      <td>13</td>\n",
              "      <td>10</td>\n",
              "      <td>8</td>\n",
              "      <td>8.0</td>\n",
              "      <td>10</td>\n",
              "      <td>10</td>\n",
              "      <td>331.0</td>\n",
              "      <td>...</td>\n",
              "      <td>NaN</td>\n",
              "      <td>NaN</td>\n",
              "      <td>NaN</td>\n",
              "      <td>NaN</td>\n",
              "      <td>NaN</td>\n",
              "      <td>NaN</td>\n",
              "      <td>NaN</td>\n",
              "      <td>NaN</td>\n",
              "      <td>NaN</td>\n",
              "      <td>4840</td>\n",
              "    </tr>\n",
              "    <tr>\n",
              "      <th>3</th>\n",
              "      <td>1</td>\n",
              "      <td>38</td>\n",
              "      <td>2</td>\n",
              "      <td>9</td>\n",
              "      <td>20</td>\n",
              "      <td>18</td>\n",
              "      <td>13.0</td>\n",
              "      <td>6</td>\n",
              "      <td>7</td>\n",
              "      <td>200.0</td>\n",
              "      <td>...</td>\n",
              "      <td>9.0</td>\n",
              "      <td>8.0</td>\n",
              "      <td>8.0</td>\n",
              "      <td>6.0</td>\n",
              "      <td>NaN</td>\n",
              "      <td>NaN</td>\n",
              "      <td>NaN</td>\n",
              "      <td>NaN</td>\n",
              "      <td>NaN</td>\n",
              "      <td>5508</td>\n",
              "    </tr>\n",
              "    <tr>\n",
              "      <th>4</th>\n",
              "      <td>1</td>\n",
              "      <td>24</td>\n",
              "      <td>2</td>\n",
              "      <td>14</td>\n",
              "      <td>20</td>\n",
              "      <td>6</td>\n",
              "      <td>6.0</td>\n",
              "      <td>20</td>\n",
              "      <td>17</td>\n",
              "      <td>357.0</td>\n",
              "      <td>...</td>\n",
              "      <td>NaN</td>\n",
              "      <td>NaN</td>\n",
              "      <td>NaN</td>\n",
              "      <td>NaN</td>\n",
              "      <td>NaN</td>\n",
              "      <td>NaN</td>\n",
              "      <td>NaN</td>\n",
              "      <td>NaN</td>\n",
              "      <td>NaN</td>\n",
              "      <td>4828</td>\n",
              "    </tr>\n",
              "    <tr>\n",
              "      <th>5</th>\n",
              "      <td>0</td>\n",
              "      <td>3</td>\n",
              "      <td>2</td>\n",
              "      <td>14</td>\n",
              "      <td>18</td>\n",
              "      <td>2</td>\n",
              "      <td>2.0</td>\n",
              "      <td>18</td>\n",
              "      <td>8</td>\n",
              "      <td>368.0</td>\n",
              "      <td>...</td>\n",
              "      <td>NaN</td>\n",
              "      <td>NaN</td>\n",
              "      <td>NaN</td>\n",
              "      <td>NaN</td>\n",
              "      <td>NaN</td>\n",
              "      <td>NaN</td>\n",
              "      <td>NaN</td>\n",
              "      <td>NaN</td>\n",
              "      <td>NaN</td>\n",
              "      <td>7126</td>\n",
              "    </tr>\n",
              "  </tbody>\n",
              "</table>\n",
              "<p>6 rows × 192 columns</p>\n",
              "</div>\n",
              "      <button class=\"colab-df-convert\" onclick=\"convertToInteractive('df-1e5967cb-ac49-4204-89ae-e469c4416874')\"\n",
              "              title=\"Convert this dataframe to an interactive table.\"\n",
              "              style=\"display:none;\">\n",
              "        \n",
              "  <svg xmlns=\"http://www.w3.org/2000/svg\" height=\"24px\"viewBox=\"0 0 24 24\"\n",
              "       width=\"24px\">\n",
              "    <path d=\"M0 0h24v24H0V0z\" fill=\"none\"/>\n",
              "    <path d=\"M18.56 5.44l.94 2.06.94-2.06 2.06-.94-2.06-.94-.94-2.06-.94 2.06-2.06.94zm-11 1L8.5 8.5l.94-2.06 2.06-.94-2.06-.94L8.5 2.5l-.94 2.06-2.06.94zm10 10l.94 2.06.94-2.06 2.06-.94-2.06-.94-.94-2.06-.94 2.06-2.06.94z\"/><path d=\"M17.41 7.96l-1.37-1.37c-.4-.4-.92-.59-1.43-.59-.52 0-1.04.2-1.43.59L10.3 9.45l-7.72 7.72c-.78.78-.78 2.05 0 2.83L4 21.41c.39.39.9.59 1.41.59.51 0 1.02-.2 1.41-.59l7.78-7.78 2.81-2.81c.8-.78.8-2.07 0-2.86zM5.41 20L4 18.59l7.72-7.72 1.47 1.35L5.41 20z\"/>\n",
              "  </svg>\n",
              "      </button>\n",
              "      \n",
              "  <style>\n",
              "    .colab-df-container {\n",
              "      display:flex;\n",
              "      flex-wrap:wrap;\n",
              "      gap: 12px;\n",
              "    }\n",
              "\n",
              "    .colab-df-convert {\n",
              "      background-color: #E8F0FE;\n",
              "      border: none;\n",
              "      border-radius: 50%;\n",
              "      cursor: pointer;\n",
              "      display: none;\n",
              "      fill: #1967D2;\n",
              "      height: 32px;\n",
              "      padding: 0 0 0 0;\n",
              "      width: 32px;\n",
              "    }\n",
              "\n",
              "    .colab-df-convert:hover {\n",
              "      background-color: #E2EBFA;\n",
              "      box-shadow: 0px 1px 2px rgba(60, 64, 67, 0.3), 0px 1px 3px 1px rgba(60, 64, 67, 0.15);\n",
              "      fill: #174EA6;\n",
              "    }\n",
              "\n",
              "    [theme=dark] .colab-df-convert {\n",
              "      background-color: #3B4455;\n",
              "      fill: #D2E3FC;\n",
              "    }\n",
              "\n",
              "    [theme=dark] .colab-df-convert:hover {\n",
              "      background-color: #434B5C;\n",
              "      box-shadow: 0px 1px 3px 1px rgba(0, 0, 0, 0.15);\n",
              "      filter: drop-shadow(0px 1px 2px rgba(0, 0, 0, 0.3));\n",
              "      fill: #FFFFFF;\n",
              "    }\n",
              "  </style>\n",
              "\n",
              "      <script>\n",
              "        const buttonEl =\n",
              "          document.querySelector('#df-1e5967cb-ac49-4204-89ae-e469c4416874 button.colab-df-convert');\n",
              "        buttonEl.style.display =\n",
              "          google.colab.kernel.accessAllowed ? 'block' : 'none';\n",
              "\n",
              "        async function convertToInteractive(key) {\n",
              "          const element = document.querySelector('#df-1e5967cb-ac49-4204-89ae-e469c4416874');\n",
              "          const dataTable =\n",
              "            await google.colab.kernel.invokeFunction('convertToInteractive',\n",
              "                                                     [key], {});\n",
              "          if (!dataTable) return;\n",
              "\n",
              "          const docLinkHtml = 'Like what you see? Visit the ' +\n",
              "            '<a target=\"_blank\" href=https://colab.research.google.com/notebooks/data_table.ipynb>data table notebook</a>'\n",
              "            + ' to learn more about interactive tables.';\n",
              "          element.innerHTML = '';\n",
              "          dataTable['output_type'] = 'display_data';\n",
              "          await google.colab.output.renderOutput(dataTable, element);\n",
              "          const docLink = document.createElement('div');\n",
              "          docLink.innerHTML = docLinkHtml;\n",
              "          element.appendChild(docLink);\n",
              "        }\n",
              "      </script>\n",
              "    </div>\n",
              "  </div>\n",
              "  "
            ]
          },
          "metadata": {},
          "execution_count": 326
        }
      ]
    },
    {
      "cell_type": "code",
      "source": [
        "train_data_org.describe()"
      ],
      "metadata": {
        "colab": {
          "base_uri": "https://localhost:8080/",
          "height": 394
        },
        "id": "700usH8yNyFB",
        "outputId": "53069cdb-5b42-40bf-8217-388f199383c7"
      },
      "execution_count": null,
      "outputs": [
        {
          "output_type": "execute_result",
          "data": {
            "text/plain": [
              "            gender          idg       condtn         wave        round  \\\n",
              "count  5909.000000  5909.000000  5909.000000  5909.000000  5909.000000   \n",
              "mean      0.505331    17.360298     1.824843    11.347436    16.850228   \n",
              "std       0.500014    10.947542     0.380133     6.011495     4.389246   \n",
              "min       0.000000     1.000000     1.000000     1.000000     5.000000   \n",
              "25%       0.000000     8.000000     2.000000     7.000000    14.000000   \n",
              "50%       1.000000    16.000000     2.000000    11.000000    18.000000   \n",
              "75%       1.000000    26.000000     2.000000    15.000000    20.000000   \n",
              "max       1.000000    44.000000     2.000000    21.000000    22.000000   \n",
              "\n",
              "          position     positin1       order      partner          pid  ...  \\\n",
              "count  5909.000000  4591.000000  5909.00000  5909.000000  5901.000000  ...   \n",
              "mean      9.001523     9.254846     8.91166     8.962938   283.733266  ...   \n",
              "std       5.482368     5.611803     5.45710     5.500706   158.993002  ...   \n",
              "min       1.000000     1.000000     1.00000     1.000000     1.000000  ...   \n",
              "25%       4.000000     4.000000     4.00000     4.000000   153.000000  ...   \n",
              "50%       8.000000     9.000000     8.00000     8.000000   280.000000  ...   \n",
              "75%      13.000000    14.000000    13.00000    13.000000   409.000000  ...   \n",
              "max      22.000000    22.000000    22.00000    22.000000   552.000000  ...   \n",
              "\n",
              "           sinc3_3     intel3_3       fun3_3       amb3_3      attr5_3  \\\n",
              "count  2804.000000  2804.000000  2804.000000  2804.000000  1413.000000   \n",
              "mean      8.105563     8.377318     7.644437     7.398716     6.799717   \n",
              "std       1.601011     1.459013     1.757559     1.956924     1.535768   \n",
              "min       2.000000     3.000000     2.000000     1.000000     2.000000   \n",
              "25%       7.000000     8.000000     7.000000     6.000000     6.000000   \n",
              "50%       8.000000     8.000000     8.000000     8.000000     7.000000   \n",
              "75%       9.000000     9.000000     9.000000     9.000000     8.000000   \n",
              "max      12.000000    12.000000    12.000000    12.000000    10.000000   \n",
              "\n",
              "           sinc5_3     intel5_3       fun5_3       amb5_3           id  \n",
              "count  1413.000000  1413.000000  1413.000000  1413.000000  5909.000000  \n",
              "mean      7.631989     7.944798     7.162774     7.092711  4191.314943  \n",
              "std       1.498024     1.320919     1.687431     1.713729  2408.009173  \n",
              "min       2.000000     4.000000     1.000000     1.000000     0.000000  \n",
              "25%       7.000000     7.000000     6.000000     6.000000  2124.000000  \n",
              "50%       8.000000     8.000000     7.000000     7.000000  4210.000000  \n",
              "75%       9.000000     9.000000     8.000000     8.000000  6266.000000  \n",
              "max      10.000000    10.000000    10.000000    10.000000  8372.000000  \n",
              "\n",
              "[8 rows x 184 columns]"
            ],
            "text/html": [
              "\n",
              "  <div id=\"df-32b06792-87a1-42f6-8278-1167163fd838\">\n",
              "    <div class=\"colab-df-container\">\n",
              "      <div>\n",
              "<style scoped>\n",
              "    .dataframe tbody tr th:only-of-type {\n",
              "        vertical-align: middle;\n",
              "    }\n",
              "\n",
              "    .dataframe tbody tr th {\n",
              "        vertical-align: top;\n",
              "    }\n",
              "\n",
              "    .dataframe thead th {\n",
              "        text-align: right;\n",
              "    }\n",
              "</style>\n",
              "<table border=\"1\" class=\"dataframe\">\n",
              "  <thead>\n",
              "    <tr style=\"text-align: right;\">\n",
              "      <th></th>\n",
              "      <th>gender</th>\n",
              "      <th>idg</th>\n",
              "      <th>condtn</th>\n",
              "      <th>wave</th>\n",
              "      <th>round</th>\n",
              "      <th>position</th>\n",
              "      <th>positin1</th>\n",
              "      <th>order</th>\n",
              "      <th>partner</th>\n",
              "      <th>pid</th>\n",
              "      <th>...</th>\n",
              "      <th>sinc3_3</th>\n",
              "      <th>intel3_3</th>\n",
              "      <th>fun3_3</th>\n",
              "      <th>amb3_3</th>\n",
              "      <th>attr5_3</th>\n",
              "      <th>sinc5_3</th>\n",
              "      <th>intel5_3</th>\n",
              "      <th>fun5_3</th>\n",
              "      <th>amb5_3</th>\n",
              "      <th>id</th>\n",
              "    </tr>\n",
              "  </thead>\n",
              "  <tbody>\n",
              "    <tr>\n",
              "      <th>count</th>\n",
              "      <td>5909.000000</td>\n",
              "      <td>5909.000000</td>\n",
              "      <td>5909.000000</td>\n",
              "      <td>5909.000000</td>\n",
              "      <td>5909.000000</td>\n",
              "      <td>5909.000000</td>\n",
              "      <td>4591.000000</td>\n",
              "      <td>5909.00000</td>\n",
              "      <td>5909.000000</td>\n",
              "      <td>5901.000000</td>\n",
              "      <td>...</td>\n",
              "      <td>2804.000000</td>\n",
              "      <td>2804.000000</td>\n",
              "      <td>2804.000000</td>\n",
              "      <td>2804.000000</td>\n",
              "      <td>1413.000000</td>\n",
              "      <td>1413.000000</td>\n",
              "      <td>1413.000000</td>\n",
              "      <td>1413.000000</td>\n",
              "      <td>1413.000000</td>\n",
              "      <td>5909.000000</td>\n",
              "    </tr>\n",
              "    <tr>\n",
              "      <th>mean</th>\n",
              "      <td>0.505331</td>\n",
              "      <td>17.360298</td>\n",
              "      <td>1.824843</td>\n",
              "      <td>11.347436</td>\n",
              "      <td>16.850228</td>\n",
              "      <td>9.001523</td>\n",
              "      <td>9.254846</td>\n",
              "      <td>8.91166</td>\n",
              "      <td>8.962938</td>\n",
              "      <td>283.733266</td>\n",
              "      <td>...</td>\n",
              "      <td>8.105563</td>\n",
              "      <td>8.377318</td>\n",
              "      <td>7.644437</td>\n",
              "      <td>7.398716</td>\n",
              "      <td>6.799717</td>\n",
              "      <td>7.631989</td>\n",
              "      <td>7.944798</td>\n",
              "      <td>7.162774</td>\n",
              "      <td>7.092711</td>\n",
              "      <td>4191.314943</td>\n",
              "    </tr>\n",
              "    <tr>\n",
              "      <th>std</th>\n",
              "      <td>0.500014</td>\n",
              "      <td>10.947542</td>\n",
              "      <td>0.380133</td>\n",
              "      <td>6.011495</td>\n",
              "      <td>4.389246</td>\n",
              "      <td>5.482368</td>\n",
              "      <td>5.611803</td>\n",
              "      <td>5.45710</td>\n",
              "      <td>5.500706</td>\n",
              "      <td>158.993002</td>\n",
              "      <td>...</td>\n",
              "      <td>1.601011</td>\n",
              "      <td>1.459013</td>\n",
              "      <td>1.757559</td>\n",
              "      <td>1.956924</td>\n",
              "      <td>1.535768</td>\n",
              "      <td>1.498024</td>\n",
              "      <td>1.320919</td>\n",
              "      <td>1.687431</td>\n",
              "      <td>1.713729</td>\n",
              "      <td>2408.009173</td>\n",
              "    </tr>\n",
              "    <tr>\n",
              "      <th>min</th>\n",
              "      <td>0.000000</td>\n",
              "      <td>1.000000</td>\n",
              "      <td>1.000000</td>\n",
              "      <td>1.000000</td>\n",
              "      <td>5.000000</td>\n",
              "      <td>1.000000</td>\n",
              "      <td>1.000000</td>\n",
              "      <td>1.00000</td>\n",
              "      <td>1.000000</td>\n",
              "      <td>1.000000</td>\n",
              "      <td>...</td>\n",
              "      <td>2.000000</td>\n",
              "      <td>3.000000</td>\n",
              "      <td>2.000000</td>\n",
              "      <td>1.000000</td>\n",
              "      <td>2.000000</td>\n",
              "      <td>2.000000</td>\n",
              "      <td>4.000000</td>\n",
              "      <td>1.000000</td>\n",
              "      <td>1.000000</td>\n",
              "      <td>0.000000</td>\n",
              "    </tr>\n",
              "    <tr>\n",
              "      <th>25%</th>\n",
              "      <td>0.000000</td>\n",
              "      <td>8.000000</td>\n",
              "      <td>2.000000</td>\n",
              "      <td>7.000000</td>\n",
              "      <td>14.000000</td>\n",
              "      <td>4.000000</td>\n",
              "      <td>4.000000</td>\n",
              "      <td>4.00000</td>\n",
              "      <td>4.000000</td>\n",
              "      <td>153.000000</td>\n",
              "      <td>...</td>\n",
              "      <td>7.000000</td>\n",
              "      <td>8.000000</td>\n",
              "      <td>7.000000</td>\n",
              "      <td>6.000000</td>\n",
              "      <td>6.000000</td>\n",
              "      <td>7.000000</td>\n",
              "      <td>7.000000</td>\n",
              "      <td>6.000000</td>\n",
              "      <td>6.000000</td>\n",
              "      <td>2124.000000</td>\n",
              "    </tr>\n",
              "    <tr>\n",
              "      <th>50%</th>\n",
              "      <td>1.000000</td>\n",
              "      <td>16.000000</td>\n",
              "      <td>2.000000</td>\n",
              "      <td>11.000000</td>\n",
              "      <td>18.000000</td>\n",
              "      <td>8.000000</td>\n",
              "      <td>9.000000</td>\n",
              "      <td>8.00000</td>\n",
              "      <td>8.000000</td>\n",
              "      <td>280.000000</td>\n",
              "      <td>...</td>\n",
              "      <td>8.000000</td>\n",
              "      <td>8.000000</td>\n",
              "      <td>8.000000</td>\n",
              "      <td>8.000000</td>\n",
              "      <td>7.000000</td>\n",
              "      <td>8.000000</td>\n",
              "      <td>8.000000</td>\n",
              "      <td>7.000000</td>\n",
              "      <td>7.000000</td>\n",
              "      <td>4210.000000</td>\n",
              "    </tr>\n",
              "    <tr>\n",
              "      <th>75%</th>\n",
              "      <td>1.000000</td>\n",
              "      <td>26.000000</td>\n",
              "      <td>2.000000</td>\n",
              "      <td>15.000000</td>\n",
              "      <td>20.000000</td>\n",
              "      <td>13.000000</td>\n",
              "      <td>14.000000</td>\n",
              "      <td>13.00000</td>\n",
              "      <td>13.000000</td>\n",
              "      <td>409.000000</td>\n",
              "      <td>...</td>\n",
              "      <td>9.000000</td>\n",
              "      <td>9.000000</td>\n",
              "      <td>9.000000</td>\n",
              "      <td>9.000000</td>\n",
              "      <td>8.000000</td>\n",
              "      <td>9.000000</td>\n",
              "      <td>9.000000</td>\n",
              "      <td>8.000000</td>\n",
              "      <td>8.000000</td>\n",
              "      <td>6266.000000</td>\n",
              "    </tr>\n",
              "    <tr>\n",
              "      <th>max</th>\n",
              "      <td>1.000000</td>\n",
              "      <td>44.000000</td>\n",
              "      <td>2.000000</td>\n",
              "      <td>21.000000</td>\n",
              "      <td>22.000000</td>\n",
              "      <td>22.000000</td>\n",
              "      <td>22.000000</td>\n",
              "      <td>22.00000</td>\n",
              "      <td>22.000000</td>\n",
              "      <td>552.000000</td>\n",
              "      <td>...</td>\n",
              "      <td>12.000000</td>\n",
              "      <td>12.000000</td>\n",
              "      <td>12.000000</td>\n",
              "      <td>12.000000</td>\n",
              "      <td>10.000000</td>\n",
              "      <td>10.000000</td>\n",
              "      <td>10.000000</td>\n",
              "      <td>10.000000</td>\n",
              "      <td>10.000000</td>\n",
              "      <td>8372.000000</td>\n",
              "    </tr>\n",
              "  </tbody>\n",
              "</table>\n",
              "<p>8 rows × 184 columns</p>\n",
              "</div>\n",
              "      <button class=\"colab-df-convert\" onclick=\"convertToInteractive('df-32b06792-87a1-42f6-8278-1167163fd838')\"\n",
              "              title=\"Convert this dataframe to an interactive table.\"\n",
              "              style=\"display:none;\">\n",
              "        \n",
              "  <svg xmlns=\"http://www.w3.org/2000/svg\" height=\"24px\"viewBox=\"0 0 24 24\"\n",
              "       width=\"24px\">\n",
              "    <path d=\"M0 0h24v24H0V0z\" fill=\"none\"/>\n",
              "    <path d=\"M18.56 5.44l.94 2.06.94-2.06 2.06-.94-2.06-.94-.94-2.06-.94 2.06-2.06.94zm-11 1L8.5 8.5l.94-2.06 2.06-.94-2.06-.94L8.5 2.5l-.94 2.06-2.06.94zm10 10l.94 2.06.94-2.06 2.06-.94-2.06-.94-.94-2.06-.94 2.06-2.06.94z\"/><path d=\"M17.41 7.96l-1.37-1.37c-.4-.4-.92-.59-1.43-.59-.52 0-1.04.2-1.43.59L10.3 9.45l-7.72 7.72c-.78.78-.78 2.05 0 2.83L4 21.41c.39.39.9.59 1.41.59.51 0 1.02-.2 1.41-.59l7.78-7.78 2.81-2.81c.8-.78.8-2.07 0-2.86zM5.41 20L4 18.59l7.72-7.72 1.47 1.35L5.41 20z\"/>\n",
              "  </svg>\n",
              "      </button>\n",
              "      \n",
              "  <style>\n",
              "    .colab-df-container {\n",
              "      display:flex;\n",
              "      flex-wrap:wrap;\n",
              "      gap: 12px;\n",
              "    }\n",
              "\n",
              "    .colab-df-convert {\n",
              "      background-color: #E8F0FE;\n",
              "      border: none;\n",
              "      border-radius: 50%;\n",
              "      cursor: pointer;\n",
              "      display: none;\n",
              "      fill: #1967D2;\n",
              "      height: 32px;\n",
              "      padding: 0 0 0 0;\n",
              "      width: 32px;\n",
              "    }\n",
              "\n",
              "    .colab-df-convert:hover {\n",
              "      background-color: #E2EBFA;\n",
              "      box-shadow: 0px 1px 2px rgba(60, 64, 67, 0.3), 0px 1px 3px 1px rgba(60, 64, 67, 0.15);\n",
              "      fill: #174EA6;\n",
              "    }\n",
              "\n",
              "    [theme=dark] .colab-df-convert {\n",
              "      background-color: #3B4455;\n",
              "      fill: #D2E3FC;\n",
              "    }\n",
              "\n",
              "    [theme=dark] .colab-df-convert:hover {\n",
              "      background-color: #434B5C;\n",
              "      box-shadow: 0px 1px 3px 1px rgba(0, 0, 0, 0.15);\n",
              "      filter: drop-shadow(0px 1px 2px rgba(0, 0, 0, 0.3));\n",
              "      fill: #FFFFFF;\n",
              "    }\n",
              "  </style>\n",
              "\n",
              "      <script>\n",
              "        const buttonEl =\n",
              "          document.querySelector('#df-32b06792-87a1-42f6-8278-1167163fd838 button.colab-df-convert');\n",
              "        buttonEl.style.display =\n",
              "          google.colab.kernel.accessAllowed ? 'block' : 'none';\n",
              "\n",
              "        async function convertToInteractive(key) {\n",
              "          const element = document.querySelector('#df-32b06792-87a1-42f6-8278-1167163fd838');\n",
              "          const dataTable =\n",
              "            await google.colab.kernel.invokeFunction('convertToInteractive',\n",
              "                                                     [key], {});\n",
              "          if (!dataTable) return;\n",
              "\n",
              "          const docLinkHtml = 'Like what you see? Visit the ' +\n",
              "            '<a target=\"_blank\" href=https://colab.research.google.com/notebooks/data_table.ipynb>data table notebook</a>'\n",
              "            + ' to learn more about interactive tables.';\n",
              "          element.innerHTML = '';\n",
              "          dataTable['output_type'] = 'display_data';\n",
              "          await google.colab.output.renderOutput(dataTable, element);\n",
              "          const docLink = document.createElement('div');\n",
              "          docLink.innerHTML = docLinkHtml;\n",
              "          element.appendChild(docLink);\n",
              "        }\n",
              "      </script>\n",
              "    </div>\n",
              "  </div>\n",
              "  "
            ]
          },
          "metadata": {},
          "execution_count": 327
        }
      ]
    },
    {
      "cell_type": "markdown",
      "source": [
        "Checking if there are any null values"
      ],
      "metadata": {
        "id": "JbP-2HNMLyiw"
      }
    },
    {
      "cell_type": "code",
      "source": [
        "nulls = train_data_org.isnull().sum().sort_values(ascending=False) # nulls per column\n",
        "nulls[nulls>0] # filtering on columns(features) having missing values"
      ],
      "metadata": {
        "colab": {
          "base_uri": "https://localhost:8080/"
        },
        "id": "KSaLVqKc0JTQ",
        "outputId": "0c4b40ec-ec54-4556-af48-0e628c25d1c2"
      },
      "execution_count": null,
      "outputs": [
        {
          "output_type": "execute_result",
          "data": {
            "text/plain": [
              "num_in_3    5449\n",
              "numdat_3    4849\n",
              "expnum      4627\n",
              "amb7_2      4519\n",
              "sinc7_2     4519\n",
              "            ... \n",
              "goal          58\n",
              "race_o        48\n",
              "race          45\n",
              "field         45\n",
              "pid            8\n",
              "Length: 181, dtype: int64"
            ]
          },
          "metadata": {},
          "execution_count": 328
        }
      ]
    },
    {
      "cell_type": "markdown",
      "source": [
        "Selecting columns with missing values greater than 70% for later usage when we preprocess the data"
      ],
      "metadata": {
        "id": "jP8ROONiL93c"
      }
    },
    {
      "cell_type": "code",
      "source": [
        "# missing values percentage per-column\n",
        "percent = (train_data_org.isnull().sum()/train_data_org.isnull().count()).sort_values(ascending=False)\n",
        "missing_values_cols = list(percent[percent>0.7].index) # features with more than 70% of values is missing\n",
        "print(percent[percent>0]) # printing missing values percentage for features\n",
        "print(missing_values_cols) # printing features that have more than 70% of data is missing"
      ],
      "metadata": {
        "colab": {
          "base_uri": "https://localhost:8080/"
        },
        "id": "doZxh-FM2AFN",
        "outputId": "2cb75527-e77b-4acd-c9ea-35d6e6cc7335"
      },
      "execution_count": null,
      "outputs": [
        {
          "output_type": "stream",
          "name": "stdout",
          "text": [
            "num_in_3    0.922153\n",
            "numdat_3    0.820613\n",
            "expnum      0.783043\n",
            "amb7_2      0.764766\n",
            "sinc7_2     0.764766\n",
            "              ...   \n",
            "goal        0.009816\n",
            "race_o      0.008123\n",
            "race        0.007616\n",
            "field       0.007616\n",
            "pid         0.001354\n",
            "Length: 181, dtype: float64\n",
            "['num_in_3', 'numdat_3', 'expnum', 'amb7_2', 'sinc7_2', 'shar7_2', 'fun7_2', 'intel7_2', 'attr7_2', 'attr7_3', 'sinc7_3', 'intel7_3', 'fun7_3', 'amb7_3', 'shar7_3', 'shar2_3', 'attr5_3', 'sinc5_3', 'intel5_3', 'fun5_3', 'amb5_3']\n"
          ]
        }
      ]
    },
    {
      "cell_type": "markdown",
      "source": [
        "Checking traget label \"match\" distribution. It is clear that the data is severly imbalanced so we should decide how we will handle this later."
      ],
      "metadata": {
        "id": "Q3m0elpsMLqu"
      }
    },
    {
      "cell_type": "code",
      "source": [
        "print(train_data_org[\"match\"].value_counts()) # checking the values count of the target label"
      ],
      "metadata": {
        "colab": {
          "base_uri": "https://localhost:8080/"
        },
        "id": "3q6GO4YCLb93",
        "outputId": "74c1e91c-5f8f-4ce5-9821-5531d3c0ac05"
      },
      "execution_count": null,
      "outputs": [
        {
          "output_type": "stream",
          "name": "stdout",
          "text": [
            "0    4921\n",
            "1     988\n",
            "Name: match, dtype: int64\n"
          ]
        }
      ]
    },
    {
      "cell_type": "code",
      "source": [
        "# plotting the histogram of the target label which is the \"match\"\n",
        "plt = train_data_org.match.value_counts().plot(kind = 'bar') # getting the count of different \"match\" values\n",
        "plt.set_xlabel('match') # renaming the x-axis\n",
        "plt.set_ylabel('Count') # renaming the y-axis"
      ],
      "metadata": {
        "colab": {
          "base_uri": "https://localhost:8080/",
          "height": 461
        },
        "id": "JCMShA3BJxYY",
        "outputId": "d0242618-62aa-4fed-b475-09fa528a502b"
      },
      "execution_count": null,
      "outputs": [
        {
          "output_type": "execute_result",
          "data": {
            "text/plain": [
              "Text(0, 0.5, 'Count')"
            ]
          },
          "metadata": {},
          "execution_count": 331
        },
        {
          "output_type": "display_data",
          "data": {
            "text/plain": [
              "<Figure size 640x480 with 1 Axes>"
            ],
            "image/png": "[encoded data removed]"
          },
          "metadata": {}
        }
      ]
    },
    {
      "cell_type": "markdown",
      "source": [
        "Plotting pairwise correlation between features to check if we can agin any insight.\n",
        "Frim below plot we can notice that there are features that are correlatedwith each other."
      ],
      "metadata": {
        "id": "HQfFJb3NMvUL"
      }
    },
    {
      "cell_type": "code",
      "source": [
        "#importing needed libraries\n",
        "import matplotlib.pyplot as plt\n",
        "import seaborn as sns\n",
        "\n",
        "plt.figure(figsize=(15,9)) # changing the figure size for better fitting of the data\n",
        "sns.heatmap(data = train_data_org.corr(),cmap='bwr') # using seaborn library correlation function"
      ],
      "metadata": {
        "colab": {
          "base_uri": "https://localhost:8080/",
          "height": 831
        },
        "id": "58xGQwuuKIDo",
        "outputId": "dbfcafb9-075d-47ee-d27b-7b5fbc8c3136"
      },
      "execution_count": null,
      "outputs": [
        {
          "output_type": "execute_result",
          "data": {
            "text/plain": [
              "<Axes: >"
            ]
          },
          "metadata": {},
          "execution_count": 332
        },
        {
          "output_type": "display_data",
          "data": {
            "text/plain": [
              "<Figure size 1500x900 with 2 Axes>"
            ],
            "image/png": "[encoded data removed]"
          },
          "metadata": {}
        }
      ]
    },
    {
      "cell_type": "markdown",
      "source": [
        "# **3- Data Cleaning/Pre-processing and Pipelines 🛁🧼**"
      ],
      "metadata": {
        "id": "P0jvLYMyClO0"
      }
    },
    {
      "cell_type": "markdown",
      "source": [
        "Our data cleaning and pre-processing will consist of two stages:\n",
        "\n",
        "\n",
        "1.   Manual part in which we apply changes on training and testing sets manually before using pipelines. This stage includes:\n",
        "\n",
        "*   Setting the record's (sample) \"id\" as the dataframe index\n",
        "*   Removing commas from features that should be numeric\n",
        "*   Dropping unneeded features\n",
        "\n",
        "2.   The second stage is in which we use piplines to:\n",
        "\n",
        "*   Fill N/As\n",
        "*   Encode categorical features\n",
        "*   Standardize/Normalize numeric features\n",
        "\n",
        "\n",
        "\n",
        "\n",
        "\n",
        "\n"
      ],
      "metadata": {
        "id": "e7JsqdX4Ztgi"
      }
    },
    {
      "cell_type": "markdown",
      "source": [
        "Before we proceed with any pre-processing we will conserve the \"id\" of the record as the dataframe index for two reasons, first it wont be considered as a feature and wont be included in training, and second we can retrieve it later during testing when we output the submission file that is be submitted on kaggle."
      ],
      "metadata": {
        "id": "xeE7shfbM1Wc"
      }
    },
    {
      "cell_type": "code",
      "source": [
        "train_data = train_data_org.copy() # making a copy of the original dataframe before applying any changes\n",
        "train_data.set_index('id', inplace = True) # setting the index of the training set dataframe to be the coulmn named \"id\" such that we don't lose it.\n",
        "test_data.set_index('id', inplace = True) # setting the index of the testing set dataframe to be the coulmn named \"id\" such that we don't lose it."
      ],
      "metadata": {
        "id": "Yo8fRBC9Xf-c"
      },
      "execution_count": null,
      "outputs": []
    },
    {
      "cell_type": "markdown",
      "source": [
        "## *3.1) Removing commas from numeric features*"
      ],
      "metadata": {
        "id": "IajqgoNw0TTf"
      }
    },
    {
      "cell_type": "markdown",
      "source": [
        "After reading the data description sheet we noticed that there are features that represent numbers but were encoded as object or categorical so we'll change them to float to be numeric as they should be. We also will remove the comma delimeter if existed."
      ],
      "metadata": {
        "id": "EY1fCJCnYex5"
      }
    },
    {
      "cell_type": "code",
      "source": [
        "# showing the pre-mentioned features\n",
        "train_data[[\"income\", \"mn_sat\", \"tuition\"]].head(5)"
      ],
      "metadata": {
        "colab": {
          "base_uri": "https://localhost:8080/",
          "height": 238
        },
        "id": "PWnTiB1kza8O",
        "outputId": "644f0ce5-9b51-46f1-b686-a3bff5f05b92"
      },
      "execution_count": null,
      "outputs": [
        {
          "output_type": "execute_result",
          "data": {
            "text/plain": [
              "         income    mn_sat    tuition\n",
              "id                                  \n",
              "2583        NaN  1,290.00  21,645.00\n",
              "6830        NaN       NaN        NaN\n",
              "4840        NaN       NaN        NaN\n",
              "5508  45,300.00       NaN        NaN\n",
              "4828  46,138.00  1,400.00  26,019.00"
            ],
            "text/html": [
              "\n",
              "  <div id=\"df-b346b41b-eac3-4379-9edd-115b1381bfd2\">\n",
              "    <div class=\"colab-df-container\">\n",
              "      <div>\n",
              "<style scoped>\n",
              "    .dataframe tbody tr th:only-of-type {\n",
              "        vertical-align: middle;\n",
              "    }\n",
              "\n",
              "    .dataframe tbody tr th {\n",
              "        vertical-align: top;\n",
              "    }\n",
              "\n",
              "    .dataframe thead th {\n",
              "        text-align: right;\n",
              "    }\n",
              "</style>\n",
              "<table border=\"1\" class=\"dataframe\">\n",
              "  <thead>\n",
              "    <tr style=\"text-align: right;\">\n",
              "      <th></th>\n",
              "      <th>income</th>\n",
              "      <th>mn_sat</th>\n",
              "      <th>tuition</th>\n",
              "    </tr>\n",
              "    <tr>\n",
              "      <th>id</th>\n",
              "      <th></th>\n",
              "      <th></th>\n",
              "      <th></th>\n",
              "    </tr>\n",
              "  </thead>\n",
              "  <tbody>\n",
              "    <tr>\n",
              "      <th>2583</th>\n",
              "      <td>NaN</td>\n",
              "      <td>1,290.00</td>\n",
              "      <td>21,645.00</td>\n",
              "    </tr>\n",
              "    <tr>\n",
              "      <th>6830</th>\n",
              "      <td>NaN</td>\n",
              "      <td>NaN</td>\n",
              "      <td>NaN</td>\n",
              "    </tr>\n",
              "    <tr>\n",
              "      <th>4840</th>\n",
              "      <td>NaN</td>\n",
              "      <td>NaN</td>\n",
              "      <td>NaN</td>\n",
              "    </tr>\n",
              "    <tr>\n",
              "      <th>5508</th>\n",
              "      <td>45,300.00</td>\n",
              "      <td>NaN</td>\n",
              "      <td>NaN</td>\n",
              "    </tr>\n",
              "    <tr>\n",
              "      <th>4828</th>\n",
              "      <td>46,138.00</td>\n",
              "      <td>1,400.00</td>\n",
              "      <td>26,019.00</td>\n",
              "    </tr>\n",
              "  </tbody>\n",
              "</table>\n",
              "</div>\n",
              "      <button class=\"colab-df-convert\" onclick=\"convertToInteractive('df-b346b41b-eac3-4379-9edd-115b1381bfd2')\"\n",
              "              title=\"Convert this dataframe to an interactive table.\"\n",
              "              style=\"display:none;\">\n",
              "        \n",
              "  <svg xmlns=\"http://www.w3.org/2000/svg\" height=\"24px\"viewBox=\"0 0 24 24\"\n",
              "       width=\"24px\">\n",
              "    <path d=\"M0 0h24v24H0V0z\" fill=\"none\"/>\n",
              "    <path d=\"M18.56 5.44l.94 2.06.94-2.06 2.06-.94-2.06-.94-.94-2.06-.94 2.06-2.06.94zm-11 1L8.5 8.5l.94-2.06 2.06-.94-2.06-.94L8.5 2.5l-.94 2.06-2.06.94zm10 10l.94 2.06.94-2.06 2.06-.94-2.06-.94-.94-2.06-.94 2.06-2.06.94z\"/><path d=\"M17.41 7.96l-1.37-1.37c-.4-.4-.92-.59-1.43-.59-.52 0-1.04.2-1.43.59L10.3 9.45l-7.72 7.72c-.78.78-.78 2.05 0 2.83L4 21.41c.39.39.9.59 1.41.59.51 0 1.02-.2 1.41-.59l7.78-7.78 2.81-2.81c.8-.78.8-2.07 0-2.86zM5.41 20L4 18.59l7.72-7.72 1.47 1.35L5.41 20z\"/>\n",
              "  </svg>\n",
              "      </button>\n",
              "      \n",
              "  <style>\n",
              "    .colab-df-container {\n",
              "      display:flex;\n",
              "      flex-wrap:wrap;\n",
              "      gap: 12px;\n",
              "    }\n",
              "\n",
              "    .colab-df-convert {\n",
              "      background-color: #E8F0FE;\n",
              "      border: none;\n",
              "      border-radius: 50%;\n",
              "      cursor: pointer;\n",
              "      display: none;\n",
              "      fill: #1967D2;\n",
              "      height: 32px;\n",
              "      padding: 0 0 0 0;\n",
              "      width: 32px;\n",
              "    }\n",
              "\n",
              "    .colab-df-convert:hover {\n",
              "      background-color: #E2EBFA;\n",
              "      box-shadow: 0px 1px 2px rgba(60, 64, 67, 0.3), 0px 1px 3px 1px rgba(60, 64, 67, 0.15);\n",
              "      fill: #174EA6;\n",
              "    }\n",
              "\n",
              "    [theme=dark] .colab-df-convert {\n",
              "      background-color: #3B4455;\n",
              "      fill: #D2E3FC;\n",
              "    }\n",
              "\n",
              "    [theme=dark] .colab-df-convert:hover {\n",
              "      background-color: #434B5C;\n",
              "      box-shadow: 0px 1px 3px 1px rgba(0, 0, 0, 0.15);\n",
              "      filter: drop-shadow(0px 1px 2px rgba(0, 0, 0, 0.3));\n",
              "      fill: #FFFFFF;\n",
              "    }\n",
              "  </style>\n",
              "\n",
              "      <script>\n",
              "        const buttonEl =\n",
              "          document.querySelector('#df-b346b41b-eac3-4379-9edd-115b1381bfd2 button.colab-df-convert');\n",
              "        buttonEl.style.display =\n",
              "          google.colab.kernel.accessAllowed ? 'block' : 'none';\n",
              "\n",
              "        async function convertToInteractive(key) {\n",
              "          const element = document.querySelector('#df-b346b41b-eac3-4379-9edd-115b1381bfd2');\n",
              "          const dataTable =\n",
              "            await google.colab.kernel.invokeFunction('convertToInteractive',\n",
              "                                                     [key], {});\n",
              "          if (!dataTable) return;\n",
              "\n",
              "          const docLinkHtml = 'Like what you see? Visit the ' +\n",
              "            '<a target=\"_blank\" href=https://colab.research.google.com/notebooks/data_table.ipynb>data table notebook</a>'\n",
              "            + ' to learn more about interactive tables.';\n",
              "          element.innerHTML = '';\n",
              "          dataTable['output_type'] = 'display_data';\n",
              "          await google.colab.output.renderOutput(dataTable, element);\n",
              "          const docLink = document.createElement('div');\n",
              "          docLink.innerHTML = docLinkHtml;\n",
              "          element.appendChild(docLink);\n",
              "        }\n",
              "      </script>\n",
              "    </div>\n",
              "  </div>\n",
              "  "
            ]
          },
          "metadata": {},
          "execution_count": 334
        }
      ]
    },
    {
      "cell_type": "code",
      "source": [
        "# as you can see, columns [income, mn_sat, tuition] comes with comma, let's remove it\n",
        "train_data['income'] = train_data['income'].str.replace(',', '').astype(float)\n",
        "train_data['mn_sat'] = train_data['mn_sat'].str.replace(',', '').astype(float)\n",
        "train_data['tuition'] = train_data['tuition'].str.replace(',', '').astype(float)\n",
        "\n",
        "# applying the same change on the testing data\n",
        "test_data['income'] = test_data['income'].str.replace(',', '').astype(float)\n",
        "test_data['mn_sat'] = test_data['mn_sat'].str.replace(',', '').astype(float)\n",
        "test_data['tuition'] = test_data['tuition'].str.replace(',', '').astype(float)"
      ],
      "metadata": {
        "id": "2T1yZUE5zUaG"
      },
      "execution_count": null,
      "outputs": []
    },
    {
      "cell_type": "code",
      "source": [
        "# checking if comma is removed successfully\n",
        "train_data[[\"income\", \"mn_sat\", \"tuition\"]].head(5)"
      ],
      "metadata": {
        "colab": {
          "base_uri": "https://localhost:8080/",
          "height": 238
        },
        "id": "pqkfmlKY0jTD",
        "outputId": "5b4a856d-4d19-48a5-c3f5-1ce4d2d9a179"
      },
      "execution_count": null,
      "outputs": [
        {
          "output_type": "execute_result",
          "data": {
            "text/plain": [
              "       income  mn_sat  tuition\n",
              "id                            \n",
              "2583      NaN  1290.0  21645.0\n",
              "6830      NaN     NaN      NaN\n",
              "4840      NaN     NaN      NaN\n",
              "5508  45300.0     NaN      NaN\n",
              "4828  46138.0  1400.0  26019.0"
            ],
            "text/html": [
              "\n",
              "  <div id=\"df-4832860a-b8c0-43e4-b5ad-8f653bf32857\">\n",
              "    <div class=\"colab-df-container\">\n",
              "      <div>\n",
              "<style scoped>\n",
              "    .dataframe tbody tr th:only-of-type {\n",
              "        vertical-align: middle;\n",
              "    }\n",
              "\n",
              "    .dataframe tbody tr th {\n",
              "        vertical-align: top;\n",
              "    }\n",
              "\n",
              "    .dataframe thead th {\n",
              "        text-align: right;\n",
              "    }\n",
              "</style>\n",
              "<table border=\"1\" class=\"dataframe\">\n",
              "  <thead>\n",
              "    <tr style=\"text-align: right;\">\n",
              "      <th></th>\n",
              "      <th>income</th>\n",
              "      <th>mn_sat</th>\n",
              "      <th>tuition</th>\n",
              "    </tr>\n",
              "    <tr>\n",
              "      <th>id</th>\n",
              "      <th></th>\n",
              "      <th></th>\n",
              "      <th></th>\n",
              "    </tr>\n",
              "  </thead>\n",
              "  <tbody>\n",
              "    <tr>\n",
              "      <th>2583</th>\n",
              "      <td>NaN</td>\n",
              "      <td>1290.0</td>\n",
              "      <td>21645.0</td>\n",
              "    </tr>\n",
              "    <tr>\n",
              "      <th>6830</th>\n",
              "      <td>NaN</td>\n",
              "      <td>NaN</td>\n",
              "      <td>NaN</td>\n",
              "    </tr>\n",
              "    <tr>\n",
              "      <th>4840</th>\n",
              "      <td>NaN</td>\n",
              "      <td>NaN</td>\n",
              "      <td>NaN</td>\n",
              "    </tr>\n",
              "    <tr>\n",
              "      <th>5508</th>\n",
              "      <td>45300.0</td>\n",
              "      <td>NaN</td>\n",
              "      <td>NaN</td>\n",
              "    </tr>\n",
              "    <tr>\n",
              "      <th>4828</th>\n",
              "      <td>46138.0</td>\n",
              "      <td>1400.0</td>\n",
              "      <td>26019.0</td>\n",
              "    </tr>\n",
              "  </tbody>\n",
              "</table>\n",
              "</div>\n",
              "      <button class=\"colab-df-convert\" onclick=\"convertToInteractive('df-4832860a-b8c0-43e4-b5ad-8f653bf32857')\"\n",
              "              title=\"Convert this dataframe to an interactive table.\"\n",
              "              style=\"display:none;\">\n",
              "        \n",
              "  <svg xmlns=\"http://www.w3.org/2000/svg\" height=\"24px\"viewBox=\"0 0 24 24\"\n",
              "       width=\"24px\">\n",
              "    <path d=\"M0 0h24v24H0V0z\" fill=\"none\"/>\n",
              "    <path d=\"M18.56 5.44l.94 2.06.94-2.06 2.06-.94-2.06-.94-.94-2.06-.94 2.06-2.06.94zm-11 1L8.5 8.5l.94-2.06 2.06-.94-2.06-.94L8.5 2.5l-.94 2.06-2.06.94zm10 10l.94 2.06.94-2.06 2.06-.94-2.06-.94-.94-2.06-.94 2.06-2.06.94z\"/><path d=\"M17.41 7.96l-1.37-1.37c-.4-.4-.92-.59-1.43-.59-.52 0-1.04.2-1.43.59L10.3 9.45l-7.72 7.72c-.78.78-.78 2.05 0 2.83L4 21.41c.39.39.9.59 1.41.59.51 0 1.02-.2 1.41-.59l7.78-7.78 2.81-2.81c.8-.78.8-2.07 0-2.86zM5.41 20L4 18.59l7.72-7.72 1.47 1.35L5.41 20z\"/>\n",
              "  </svg>\n",
              "      </button>\n",
              "      \n",
              "  <style>\n",
              "    .colab-df-container {\n",
              "      display:flex;\n",
              "      flex-wrap:wrap;\n",
              "      gap: 12px;\n",
              "    }\n",
              "\n",
              "    .colab-df-convert {\n",
              "      background-color: #E8F0FE;\n",
              "      border: none;\n",
              "      border-radius: 50%;\n",
              "      cursor: pointer;\n",
              "      display: none;\n",
              "      fill: #1967D2;\n",
              "      height: 32px;\n",
              "      padding: 0 0 0 0;\n",
              "      width: 32px;\n",
              "    }\n",
              "\n",
              "    .colab-df-convert:hover {\n",
              "      background-color: #E2EBFA;\n",
              "      box-shadow: 0px 1px 2px rgba(60, 64, 67, 0.3), 0px 1px 3px 1px rgba(60, 64, 67, 0.15);\n",
              "      fill: #174EA6;\n",
              "    }\n",
              "\n",
              "    [theme=dark] .colab-df-convert {\n",
              "      background-color: #3B4455;\n",
              "      fill: #D2E3FC;\n",
              "    }\n",
              "\n",
              "    [theme=dark] .colab-df-convert:hover {\n",
              "      background-color: #434B5C;\n",
              "      box-shadow: 0px 1px 3px 1px rgba(0, 0, 0, 0.15);\n",
              "      filter: drop-shadow(0px 1px 2px rgba(0, 0, 0, 0.3));\n",
              "      fill: #FFFFFF;\n",
              "    }\n",
              "  </style>\n",
              "\n",
              "      <script>\n",
              "        const buttonEl =\n",
              "          document.querySelector('#df-4832860a-b8c0-43e4-b5ad-8f653bf32857 button.colab-df-convert');\n",
              "        buttonEl.style.display =\n",
              "          google.colab.kernel.accessAllowed ? 'block' : 'none';\n",
              "\n",
              "        async function convertToInteractive(key) {\n",
              "          const element = document.querySelector('#df-4832860a-b8c0-43e4-b5ad-8f653bf32857');\n",
              "          const dataTable =\n",
              "            await google.colab.kernel.invokeFunction('convertToInteractive',\n",
              "                                                     [key], {});\n",
              "          if (!dataTable) return;\n",
              "\n",
              "          const docLinkHtml = 'Like what you see? Visit the ' +\n",
              "            '<a target=\"_blank\" href=https://colab.research.google.com/notebooks/data_table.ipynb>data table notebook</a>'\n",
              "            + ' to learn more about interactive tables.';\n",
              "          element.innerHTML = '';\n",
              "          dataTable['output_type'] = 'display_data';\n",
              "          await google.colab.output.renderOutput(dataTable, element);\n",
              "          const docLink = document.createElement('div');\n",
              "          docLink.innerHTML = docLinkHtml;\n",
              "          element.appendChild(docLink);\n",
              "        }\n",
              "      </script>\n",
              "    </div>\n",
              "  </div>\n",
              "  "
            ]
          },
          "metadata": {},
          "execution_count": 336
        }
      ]
    },
    {
      "cell_type": "markdown",
      "source": [
        "## *3.2) Non-important features drop*"
      ],
      "metadata": {
        "id": "BovY29PEbQVp"
      }
    },
    {
      "cell_type": "markdown",
      "source": [
        "*   Here we are defining the unneeded features columns to be dropped\n",
        "*   These features to drop are either ids,uneffective features, features that have another representation or the features of missing values exceeding 70%\n"
      ],
      "metadata": {
        "id": "rs0XU3F9dTmO"
      }
    },
    {
      "cell_type": "code",
      "source": [
        "# manually defined features obtained after reading the data description sheet\n",
        "features_to_drop = [\"idg\", \"pid\", \"field\", \"zipcode\",\"career\", \"partner\",\"undergra\",\"from\"]  # we added two categorial features to drop also (undergra,from)\n",
        "\n",
        "# then we add the previously found features that have more than 70% missing values to the manually defined colummn\n",
        "features_to_drop = features_to_drop + missing_values_cols\n",
        "features_to_drop # showing the features to be dropped"
      ],
      "metadata": {
        "id": "249lPXB8YO7Z",
        "colab": {
          "base_uri": "https://localhost:8080/"
        },
        "outputId": "59ee957c-8082-4fa1-b168-2bc71cccdc02"
      },
      "execution_count": null,
      "outputs": [
        {
          "output_type": "execute_result",
          "data": {
            "text/plain": [
              "['idg',\n",
              " 'pid',\n",
              " 'field',\n",
              " 'zipcode',\n",
              " 'career',\n",
              " 'partner',\n",
              " 'undergra',\n",
              " 'from',\n",
              " 'num_in_3',\n",
              " 'numdat_3',\n",
              " 'expnum',\n",
              " 'amb7_2',\n",
              " 'sinc7_2',\n",
              " 'shar7_2',\n",
              " 'fun7_2',\n",
              " 'intel7_2',\n",
              " 'attr7_2',\n",
              " 'attr7_3',\n",
              " 'sinc7_3',\n",
              " 'intel7_3',\n",
              " 'fun7_3',\n",
              " 'amb7_3',\n",
              " 'shar7_3',\n",
              " 'shar2_3',\n",
              " 'attr5_3',\n",
              " 'sinc5_3',\n",
              " 'intel5_3',\n",
              " 'fun5_3',\n",
              " 'amb5_3']"
            ]
          },
          "metadata": {},
          "execution_count": 337
        }
      ]
    },
    {
      "cell_type": "markdown",
      "source": [
        "Features drop from training and testing data"
      ],
      "metadata": {
        "id": "08uRJJrCebLd"
      }
    },
    {
      "cell_type": "code",
      "source": [
        "train_data = train_data.drop(features_to_drop, axis=1) # removing the unneeded features from the training set\n",
        "X_test = test_data.drop(features_to_drop, axis=1) # removing the unneeded features from the testing set"
      ],
      "metadata": {
        "id": "U2bU4Vuv5iP9"
      },
      "execution_count": null,
      "outputs": []
    },
    {
      "cell_type": "markdown",
      "source": [
        "Now we check the nulls after features drop to make sure that features of missing values greater than 70% are not still existent"
      ],
      "metadata": {
        "id": "YtpWvhn9ejvh"
      }
    },
    {
      "cell_type": "markdown",
      "source": [
        "Nulls count per remaining features"
      ],
      "metadata": {
        "id": "gALDmLmefFTP"
      }
    },
    {
      "cell_type": "code",
      "source": [
        "# missing values count per column\n",
        "nulls_after_drop = train_data.isnull().sum().sort_values(ascending=False)\n",
        "nulls_after_drop[nulls_after_drop>0]"
      ],
      "metadata": {
        "colab": {
          "base_uri": "https://localhost:8080/"
        },
        "id": "03X4GOBz57OQ",
        "outputId": "97df2050-a825-4773-9499-a6d675264452"
      },
      "execution_count": null,
      "outputs": [
        {
          "output_type": "execute_result",
          "data": {
            "text/plain": [
              "sinc2_3     3838\n",
              "intel4_3    3838\n",
              "attr4_3     3838\n",
              "amb2_3      3838\n",
              "fun2_3      3838\n",
              "            ... \n",
              "exercise      58\n",
              "clubbing      58\n",
              "sports        58\n",
              "race_o        48\n",
              "race          45\n",
              "Length: 154, dtype: int64"
            ]
          },
          "metadata": {},
          "execution_count": 339
        }
      ]
    },
    {
      "cell_type": "markdown",
      "source": [
        "Nulls percentage per remaining features"
      ],
      "metadata": {
        "id": "9HAIeJWVfHet"
      }
    },
    {
      "cell_type": "code",
      "source": [
        "# missing values percentage per column\n",
        "percent_after_drop = (train_data.isnull().sum()/train_data.isnull().count()).sort_values(ascending=False)\n",
        "percent_after_drop[percent_after_drop>0]"
      ],
      "metadata": {
        "colab": {
          "base_uri": "https://localhost:8080/"
        },
        "id": "B8o0gIDA58EE",
        "outputId": "78f04558-274b-4496-a8b6-8e653e51f4f0"
      },
      "execution_count": null,
      "outputs": [
        {
          "output_type": "execute_result",
          "data": {
            "text/plain": [
              "sinc2_3     0.649518\n",
              "intel4_3    0.649518\n",
              "attr4_3     0.649518\n",
              "amb2_3      0.649518\n",
              "fun2_3      0.649518\n",
              "              ...   \n",
              "exercise    0.009816\n",
              "clubbing    0.009816\n",
              "sports      0.009816\n",
              "race_o      0.008123\n",
              "race        0.007616\n",
              "Length: 154, dtype: float64"
            ]
          },
          "metadata": {},
          "execution_count": 340
        }
      ]
    },
    {
      "cell_type": "code",
      "source": [
        "# printing different info about the training set after features dropping (to check remaining datatypes)\n",
        "train_data.info(verbose = \"True\")"
      ],
      "metadata": {
        "colab": {
          "base_uri": "https://localhost:8080/"
        },
        "id": "Iz_E5gu1aiy0",
        "outputId": "5deb16c3-0feb-4abe-e219-08ff49bb92f0"
      },
      "execution_count": null,
      "outputs": [
        {
          "output_type": "stream",
          "name": "stdout",
          "text": [
            "<class 'pandas.core.frame.DataFrame'>\n",
            "Int64Index: 5909 entries, 2583 to 8149\n",
            "Data columns (total 162 columns):\n",
            " #    Column    Dtype  \n",
            "---   ------    -----  \n",
            " 0    gender    int64  \n",
            " 1    condtn    int64  \n",
            " 2    wave      int64  \n",
            " 3    round     int64  \n",
            " 4    position  int64  \n",
            " 5    positin1  float64\n",
            " 6    order     int64  \n",
            " 7    match     int64  \n",
            " 8    int_corr  float64\n",
            " 9    samerace  int64  \n",
            " 10   age_o     float64\n",
            " 11   race_o    float64\n",
            " 12   pf_o_att  float64\n",
            " 13   pf_o_sin  float64\n",
            " 14   pf_o_int  float64\n",
            " 15   pf_o_fun  float64\n",
            " 16   pf_o_amb  float64\n",
            " 17   pf_o_sha  float64\n",
            " 18   attr_o    float64\n",
            " 19   sinc_o    float64\n",
            " 20   intel_o   float64\n",
            " 21   fun_o     float64\n",
            " 22   amb_o     float64\n",
            " 23   shar_o    float64\n",
            " 24   like_o    float64\n",
            " 25   prob_o    float64\n",
            " 26   met_o     float64\n",
            " 27   age       float64\n",
            " 28   field_cd  float64\n",
            " 29   mn_sat    float64\n",
            " 30   tuition   float64\n",
            " 31   race      float64\n",
            " 32   imprace   float64\n",
            " 33   imprelig  float64\n",
            " 34   income    float64\n",
            " 35   goal      float64\n",
            " 36   date      float64\n",
            " 37   go_out    float64\n",
            " 38   career_c  float64\n",
            " 39   sports    float64\n",
            " 40   tvsports  float64\n",
            " 41   exercise  float64\n",
            " 42   dining    float64\n",
            " 43   museums   float64\n",
            " 44   art       float64\n",
            " 45   hiking    float64\n",
            " 46   gaming    float64\n",
            " 47   clubbing  float64\n",
            " 48   reading   float64\n",
            " 49   tv        float64\n",
            " 50   theater   float64\n",
            " 51   movies    float64\n",
            " 52   concerts  float64\n",
            " 53   music     float64\n",
            " 54   shopping  float64\n",
            " 55   yoga      float64\n",
            " 56   exphappy  float64\n",
            " 57   attr1_1   float64\n",
            " 58   sinc1_1   float64\n",
            " 59   intel1_1  float64\n",
            " 60   fun1_1    float64\n",
            " 61   amb1_1    float64\n",
            " 62   shar1_1   float64\n",
            " 63   attr4_1   float64\n",
            " 64   sinc4_1   float64\n",
            " 65   intel4_1  float64\n",
            " 66   fun4_1    float64\n",
            " 67   amb4_1    float64\n",
            " 68   shar4_1   float64\n",
            " 69   attr2_1   float64\n",
            " 70   sinc2_1   float64\n",
            " 71   intel2_1  float64\n",
            " 72   fun2_1    float64\n",
            " 73   amb2_1    float64\n",
            " 74   shar2_1   float64\n",
            " 75   attr3_1   float64\n",
            " 76   sinc3_1   float64\n",
            " 77   fun3_1    float64\n",
            " 78   intel3_1  float64\n",
            " 79   amb3_1    float64\n",
            " 80   attr5_1   float64\n",
            " 81   sinc5_1   float64\n",
            " 82   intel5_1  float64\n",
            " 83   fun5_1    float64\n",
            " 84   amb5_1    float64\n",
            " 85   attr      float64\n",
            " 86   sinc      float64\n",
            " 87   intel     float64\n",
            " 88   fun       float64\n",
            " 89   amb       float64\n",
            " 90   shar      float64\n",
            " 91   like      float64\n",
            " 92   prob      float64\n",
            " 93   met       float64\n",
            " 94   match_es  float64\n",
            " 95   attr1_s   float64\n",
            " 96   sinc1_s   float64\n",
            " 97   intel1_s  float64\n",
            " 98   fun1_s    float64\n",
            " 99   amb1_s    float64\n",
            " 100  shar1_s   float64\n",
            " 101  attr3_s   float64\n",
            " 102  sinc3_s   float64\n",
            " 103  intel3_s  float64\n",
            " 104  fun3_s    float64\n",
            " 105  amb3_s    float64\n",
            " 106  satis_2   float64\n",
            " 107  length    float64\n",
            " 108  numdat_2  float64\n",
            " 109  attr1_2   float64\n",
            " 110  sinc1_2   float64\n",
            " 111  intel1_2  float64\n",
            " 112  fun1_2    float64\n",
            " 113  amb1_2    float64\n",
            " 114  shar1_2   float64\n",
            " 115  attr4_2   float64\n",
            " 116  sinc4_2   float64\n",
            " 117  intel4_2  float64\n",
            " 118  fun4_2    float64\n",
            " 119  amb4_2    float64\n",
            " 120  shar4_2   float64\n",
            " 121  attr2_2   float64\n",
            " 122  sinc2_2   float64\n",
            " 123  intel2_2  float64\n",
            " 124  fun2_2    float64\n",
            " 125  amb2_2    float64\n",
            " 126  shar2_2   float64\n",
            " 127  attr3_2   float64\n",
            " 128  sinc3_2   float64\n",
            " 129  intel3_2  float64\n",
            " 130  fun3_2    float64\n",
            " 131  amb3_2    float64\n",
            " 132  attr5_2   float64\n",
            " 133  sinc5_2   float64\n",
            " 134  intel5_2  float64\n",
            " 135  fun5_2    float64\n",
            " 136  amb5_2    float64\n",
            " 137  you_call  float64\n",
            " 138  them_cal  float64\n",
            " 139  date_3    float64\n",
            " 140  attr1_3   float64\n",
            " 141  sinc1_3   float64\n",
            " 142  intel1_3  float64\n",
            " 143  fun1_3    float64\n",
            " 144  amb1_3    float64\n",
            " 145  shar1_3   float64\n",
            " 146  attr4_3   float64\n",
            " 147  sinc4_3   float64\n",
            " 148  intel4_3  float64\n",
            " 149  fun4_3    float64\n",
            " 150  amb4_3    float64\n",
            " 151  shar4_3   float64\n",
            " 152  attr2_3   float64\n",
            " 153  sinc2_3   float64\n",
            " 154  intel2_3  float64\n",
            " 155  fun2_3    float64\n",
            " 156  amb2_3    float64\n",
            " 157  attr3_3   float64\n",
            " 158  sinc3_3   float64\n",
            " 159  intel3_3  float64\n",
            " 160  fun3_3    float64\n",
            " 161  amb3_3    float64\n",
            "dtypes: float64(154), int64(8)\n",
            "memory usage: 7.3 MB\n"
          ]
        }
      ]
    },
    {
      "cell_type": "code",
      "source": [
        "# printing different info about the testing set after features dropping\n",
        "X_test.info()"
      ],
      "metadata": {
        "colab": {
          "base_uri": "https://localhost:8080/"
        },
        "id": "mlp2yjfgg6XC",
        "outputId": "93c74f37-545c-426f-9c9d-5d14fa654c23"
      },
      "execution_count": null,
      "outputs": [
        {
          "output_type": "stream",
          "name": "stdout",
          "text": [
            "<class 'pandas.core.frame.DataFrame'>\n",
            "Int64Index: 2469 entries, 934 to 6691\n",
            "Columns: 163 entries, gender to amb3_3\n",
            "dtypes: float64(154), int64(7), object(2)\n",
            "memory usage: 3.1+ MB\n"
          ]
        }
      ]
    },
    {
      "cell_type": "markdown",
      "source": [
        "## *3.3) Pipelines*\n",
        "In this part we will be defining 2 pipelines one for numeric features and one for categorical ones responsible for:\n",
        "*   Filling N/As for numerical and categorical features in which we used KNN imputer.\n",
        "*   Encoding categorical features with one hot encoding\n",
        "*   Standardizing/Normalizing numeric features\n",
        "\n",
        "\n",
        "\n"
      ],
      "metadata": {
        "id": "lijYCVSRbZh_"
      }
    },
    {
      "cell_type": "markdown",
      "source": [
        "After reading the data description sheet we extracted categorical features that to be encoded. To decide upon the suitable encoding method we will be checking how many unique values are exsiting for the categorical features to choose whether to use one hot encoding or binary encoder\n"
      ],
      "metadata": {
        "id": "sDwy1RSQPHjg"
      }
    },
    {
      "cell_type": "code",
      "source": [
        "print(\"there are\", train_data['condtn'].nunique(), \"condtn\" + \" unique values\")\n",
        "print(\"there are\", train_data['field_cd'].nunique(), \"field_cd\" + \" unique values\")\n",
        "print(\"there are\", train_data['race_o'].nunique(), \"race_o\" + \" unique values\")\n",
        "print(\"there are\", train_data['goal'].nunique(), \"goal\" + \" unique values\")\n",
        "print(\"there are\", train_data['career_c'].nunique(), \"career_c\" + \" unique values\")\n",
        "print(\"there are\", train_data['length'].nunique(), \"length\" + \" unique values\")\n",
        "print(\"there are\", train_data['numdat_2'].nunique(), \"numdat_2\" + \" unique values\")\n",
        "#print(\"there are\", train_data['from'].nunique(), \"from\" + \" unique values\") # dropped\n",
        "#print(\"there are\", train_data['undergra'].nunique(), \"undergra\" + \" unique values\") # dropped"
      ],
      "metadata": {
        "colab": {
          "base_uri": "https://localhost:8080/"
        },
        "id": "5xKdRh0RO64y",
        "outputId": "60d4cbe2-888c-448d-a280-8e43f32d294b"
      },
      "execution_count": null,
      "outputs": [
        {
          "output_type": "stream",
          "name": "stdout",
          "text": [
            "there are 2 condtn unique values\n",
            "there are 18 field_cd unique values\n",
            "there are 5 race_o unique values\n",
            "there are 6 goal unique values\n",
            "there are 17 career_c unique values\n",
            "there are 3 length unique values\n",
            "there are 3 numdat_2 unique values\n"
          ]
        }
      ]
    },
    {
      "cell_type": "markdown",
      "source": [
        "Before dropping \"undergra\" and \"from\" features they were having very large number of categories so one hot encoding them will be giving a lot of features and the data will be sparse so instead we tried using binary encoding for them but were faced by some conversion errors so we decided to drop them for now, however the remaining categorical features will be encoded using one hot encoding."
      ],
      "metadata": {
        "id": "lL0GidfwQ4GG"
      }
    },
    {
      "cell_type": "code",
      "source": [
        "# selected columns that are representing categorical values to be encoded using one hot encoder\n",
        "# Note: categorical features [\"undergra\",\"from\"] were dropped\n",
        "categorical_features = [\"condtn\", \"field_cd\",\n",
        "                        \"race\", \"race_o\",\n",
        "                        \"goal\", \"career_c\",\n",
        "                        \"length\", \"numdat_2\"]\n",
        "\n",
        "# converting selected categorical features to category datatype for easier filtering in the pipeline\n",
        "for col_name in train_data.columns:\n",
        "    if col_name in categorical_features:\n",
        "        train_data[col_name] = train_data[col_name].astype('category')\n",
        "        X_test[col_name] = X_test[col_name].astype('category')\n"
      ],
      "metadata": {
        "id": "HFzNDWLIEV5m"
      },
      "execution_count": null,
      "outputs": []
    },
    {
      "cell_type": "code",
      "source": [
        "# checking if the type has been changed correctly\n",
        "features_categorical = list(train_data.select_dtypes(include=['category'])) # returns columns names of datatype category\n",
        "print(features_categorical)\n",
        "print(len(features_categorical)) # number of categorical features"
      ],
      "metadata": {
        "colab": {
          "base_uri": "https://localhost:8080/"
        },
        "id": "KY1yKu0qGcDk",
        "outputId": "5367439d-13e3-40bd-812d-8a488a67e303"
      },
      "execution_count": null,
      "outputs": [
        {
          "output_type": "stream",
          "name": "stdout",
          "text": [
            "['condtn', 'race_o', 'field_cd', 'race', 'goal', 'career_c', 'length', 'numdat_2']\n",
            "8\n"
          ]
        }
      ]
    },
    {
      "cell_type": "code",
      "source": [
        "# selecting numeric features for the numeric pipeline\n",
        "features_numeric = list(train_data.select_dtypes(include=['float64', 'int64'])) # returns columns names of numeric features\n",
        "features_numeric.remove(\"match\") # removing the target label from the features that will be entered to the numeric pipeline\n",
        "print(len(features_numeric)) # number of numeric features"
      ],
      "metadata": {
        "colab": {
          "base_uri": "https://localhost:8080/"
        },
        "id": "h7-lDLhbINR1",
        "outputId": "052ccf4b-71e8-4ce9-cc32-06d79f1c6635"
      },
      "execution_count": null,
      "outputs": [
        {
          "output_type": "stream",
          "name": "stdout",
          "text": [
            "153\n"
          ]
        }
      ]
    },
    {
      "cell_type": "markdown",
      "source": [
        "Checking if features that will be given to pipelines are complete and nothing is missed in the type conversions by comparing with the training set number of columns dimension"
      ],
      "metadata": {
        "id": "v0l2TxMvJLZK"
      }
    },
    {
      "cell_type": "code",
      "source": [
        "total_number_of_pipeline_features = len(features_categorical) + len(features_numeric) + 1 # the added 1 is for the removed \"match\" label\n",
        "total_number_of_pipeline_features == train_data.shape[1] # prints True or False"
      ],
      "metadata": {
        "colab": {
          "base_uri": "https://localhost:8080/"
        },
        "id": "1neKmIvvIqLu",
        "outputId": "a29b401e-f665-4da7-8ffb-7fcc6c6af335"
      },
      "execution_count": null,
      "outputs": [
        {
          "output_type": "execute_result",
          "data": {
            "text/plain": [
              "True"
            ]
          },
          "metadata": {},
          "execution_count": 347
        }
      ]
    },
    {
      "cell_type": "code",
      "source": [
        "# printing  the info about the trainig set after setting category features\n",
        "train_data.info(verbose = \"True\")"
      ],
      "metadata": {
        "colab": {
          "base_uri": "https://localhost:8080/"
        },
        "id": "OICPRZKsFnnf",
        "outputId": "579ff2b6-74fd-4c05-a351-09ce7c69e5e1"
      },
      "execution_count": null,
      "outputs": [
        {
          "output_type": "stream",
          "name": "stdout",
          "text": [
            "<class 'pandas.core.frame.DataFrame'>\n",
            "Int64Index: 5909 entries, 2583 to 8149\n",
            "Data columns (total 162 columns):\n",
            " #    Column    Dtype   \n",
            "---   ------    -----   \n",
            " 0    gender    int64   \n",
            " 1    condtn    category\n",
            " 2    wave      int64   \n",
            " 3    round     int64   \n",
            " 4    position  int64   \n",
            " 5    positin1  float64 \n",
            " 6    order     int64   \n",
            " 7    match     int64   \n",
            " 8    int_corr  float64 \n",
            " 9    samerace  int64   \n",
            " 10   age_o     float64 \n",
            " 11   race_o    category\n",
            " 12   pf_o_att  float64 \n",
            " 13   pf_o_sin  float64 \n",
            " 14   pf_o_int  float64 \n",
            " 15   pf_o_fun  float64 \n",
            " 16   pf_o_amb  float64 \n",
            " 17   pf_o_sha  float64 \n",
            " 18   attr_o    float64 \n",
            " 19   sinc_o    float64 \n",
            " 20   intel_o   float64 \n",
            " 21   fun_o     float64 \n",
            " 22   amb_o     float64 \n",
            " 23   shar_o    float64 \n",
            " 24   like_o    float64 \n",
            " 25   prob_o    float64 \n",
            " 26   met_o     float64 \n",
            " 27   age       float64 \n",
            " 28   field_cd  category\n",
            " 29   mn_sat    float64 \n",
            " 30   tuition   float64 \n",
            " 31   race      category\n",
            " 32   imprace   float64 \n",
            " 33   imprelig  float64 \n",
            " 34   income    float64 \n",
            " 35   goal      category\n",
            " 36   date      float64 \n",
            " 37   go_out    float64 \n",
            " 38   career_c  category\n",
            " 39   sports    float64 \n",
            " 40   tvsports  float64 \n",
            " 41   exercise  float64 \n",
            " 42   dining    float64 \n",
            " 43   museums   float64 \n",
            " 44   art       float64 \n",
            " 45   hiking    float64 \n",
            " 46   gaming    float64 \n",
            " 47   clubbing  float64 \n",
            " 48   reading   float64 \n",
            " 49   tv        float64 \n",
            " 50   theater   float64 \n",
            " 51   movies    float64 \n",
            " 52   concerts  float64 \n",
            " 53   music     float64 \n",
            " 54   shopping  float64 \n",
            " 55   yoga      float64 \n",
            " 56   exphappy  float64 \n",
            " 57   attr1_1   float64 \n",
            " 58   sinc1_1   float64 \n",
            " 59   intel1_1  float64 \n",
            " 60   fun1_1    float64 \n",
            " 61   amb1_1    float64 \n",
            " 62   shar1_1   float64 \n",
            " 63   attr4_1   float64 \n",
            " 64   sinc4_1   float64 \n",
            " 65   intel4_1  float64 \n",
            " 66   fun4_1    float64 \n",
            " 67   amb4_1    float64 \n",
            " 68   shar4_1   float64 \n",
            " 69   attr2_1   float64 \n",
            " 70   sinc2_1   float64 \n",
            " 71   intel2_1  float64 \n",
            " 72   fun2_1    float64 \n",
            " 73   amb2_1    float64 \n",
            " 74   shar2_1   float64 \n",
            " 75   attr3_1   float64 \n",
            " 76   sinc3_1   float64 \n",
            " 77   fun3_1    float64 \n",
            " 78   intel3_1  float64 \n",
            " 79   amb3_1    float64 \n",
            " 80   attr5_1   float64 \n",
            " 81   sinc5_1   float64 \n",
            " 82   intel5_1  float64 \n",
            " 83   fun5_1    float64 \n",
            " 84   amb5_1    float64 \n",
            " 85   attr      float64 \n",
            " 86   sinc      float64 \n",
            " 87   intel     float64 \n",
            " 88   fun       float64 \n",
            " 89   amb       float64 \n",
            " 90   shar      float64 \n",
            " 91   like      float64 \n",
            " 92   prob      float64 \n",
            " 93   met       float64 \n",
            " 94   match_es  float64 \n",
            " 95   attr1_s   float64 \n",
            " 96   sinc1_s   float64 \n",
            " 97   intel1_s  float64 \n",
            " 98   fun1_s    float64 \n",
            " 99   amb1_s    float64 \n",
            " 100  shar1_s   float64 \n",
            " 101  attr3_s   float64 \n",
            " 102  sinc3_s   float64 \n",
            " 103  intel3_s  float64 \n",
            " 104  fun3_s    float64 \n",
            " 105  amb3_s    float64 \n",
            " 106  satis_2   float64 \n",
            " 107  length    category\n",
            " 108  numdat_2  category\n",
            " 109  attr1_2   float64 \n",
            " 110  sinc1_2   float64 \n",
            " 111  intel1_2  float64 \n",
            " 112  fun1_2    float64 \n",
            " 113  amb1_2    float64 \n",
            " 114  shar1_2   float64 \n",
            " 115  attr4_2   float64 \n",
            " 116  sinc4_2   float64 \n",
            " 117  intel4_2  float64 \n",
            " 118  fun4_2    float64 \n",
            " 119  amb4_2    float64 \n",
            " 120  shar4_2   float64 \n",
            " 121  attr2_2   float64 \n",
            " 122  sinc2_2   float64 \n",
            " 123  intel2_2  float64 \n",
            " 124  fun2_2    float64 \n",
            " 125  amb2_2    float64 \n",
            " 126  shar2_2   float64 \n",
            " 127  attr3_2   float64 \n",
            " 128  sinc3_2   float64 \n",
            " 129  intel3_2  float64 \n",
            " 130  fun3_2    float64 \n",
            " 131  amb3_2    float64 \n",
            " 132  attr5_2   float64 \n",
            " 133  sinc5_2   float64 \n",
            " 134  intel5_2  float64 \n",
            " 135  fun5_2    float64 \n",
            " 136  amb5_2    float64 \n",
            " 137  you_call  float64 \n",
            " 138  them_cal  float64 \n",
            " 139  date_3    float64 \n",
            " 140  attr1_3   float64 \n",
            " 141  sinc1_3   float64 \n",
            " 142  intel1_3  float64 \n",
            " 143  fun1_3    float64 \n",
            " 144  amb1_3    float64 \n",
            " 145  shar1_3   float64 \n",
            " 146  attr4_3   float64 \n",
            " 147  sinc4_3   float64 \n",
            " 148  intel4_3  float64 \n",
            " 149  fun4_3    float64 \n",
            " 150  amb4_3    float64 \n",
            " 151  shar4_3   float64 \n",
            " 152  attr2_3   float64 \n",
            " 153  sinc2_3   float64 \n",
            " 154  intel2_3  float64 \n",
            " 155  fun2_3    float64 \n",
            " 156  amb2_3    float64 \n",
            " 157  attr3_3   float64 \n",
            " 158  sinc3_3   float64 \n",
            " 159  intel3_3  float64 \n",
            " 160  fun3_3    float64 \n",
            " 161  amb3_3    float64 \n",
            "dtypes: category(8), float64(147), int64(7)\n",
            "memory usage: 7.0 MB\n"
          ]
        }
      ]
    },
    {
      "cell_type": "markdown",
      "source": [
        "The binary encoder was imported mainly to encode categorical features with large number of classes such as \"undergra\" and \"from\" features but encoding was not successfull so both features were dropped and the library was no longer used."
      ],
      "metadata": {
        "id": "UqJpP9GW7WvO"
      }
    },
    {
      "cell_type": "code",
      "source": [
        "!pip install category_encoders # installing the library containg the BinaryEncoder\n",
        "from category_encoders import BinaryEncoder # importing the BinaryEncoder Library"
      ],
      "metadata": {
        "colab": {
          "base_uri": "https://localhost:8080/"
        },
        "id": "K4m5gA0QTL_3",
        "outputId": "3334e114-88f5-4474-b219-90a505a9085c"
      },
      "execution_count": null,
      "outputs": [
        {
          "output_type": "stream",
          "name": "stdout",
          "text": [
            "Looking in indexes: https://pypi.org/simple, https://us-python.pkg.dev/colab-wheels/public/simple/\n",
            "Requirement already satisfied: category_encoders in /usr/local/lib/python3.9/dist-packages (2.6.0)\n",
            "Requirement already satisfied: scikit-learn>=0.20.0 in /usr/local/lib/python3.9/dist-packages (from category_encoders) (1.2.2)\n",
            "Requirement already satisfied: pandas>=1.0.5 in /usr/local/lib/python3.9/dist-packages (from category_encoders) (1.4.4)\n",
            "Requirement already satisfied: scipy>=1.0.0 in /usr/local/lib/python3.9/dist-packages (from category_encoders) (1.10.1)\n",
            "Requirement already satisfied: patsy>=0.5.1 in /usr/local/lib/python3.9/dist-packages (from category_encoders) (0.5.3)\n",
            "Requirement already satisfied: statsmodels>=0.9.0 in /usr/local/lib/python3.9/dist-packages (from category_encoders) (0.13.5)\n",
            "Requirement already satisfied: numpy>=1.14.0 in /usr/local/lib/python3.9/dist-packages (from category_encoders) (1.22.4)\n",
            "Requirement already satisfied: pytz>=2020.1 in /usr/local/lib/python3.9/dist-packages (from pandas>=1.0.5->category_encoders) (2022.7.1)\n",
            "Requirement already satisfied: python-dateutil>=2.8.1 in /usr/local/lib/python3.9/dist-packages (from pandas>=1.0.5->category_encoders) (2.8.2)\n",
            "Requirement already satisfied: six in /usr/local/lib/python3.9/dist-packages (from patsy>=0.5.1->category_encoders) (1.16.0)\n",
            "Requirement already satisfied: joblib>=1.1.1 in /usr/local/lib/python3.9/dist-packages (from scikit-learn>=0.20.0->category_encoders) (1.1.1)\n",
            "Requirement already satisfied: threadpoolctl>=2.0.0 in /usr/local/lib/python3.9/dist-packages (from scikit-learn>=0.20.0->category_encoders) (3.1.0)\n",
            "Requirement already satisfied: packaging>=21.3 in /usr/local/lib/python3.9/dist-packages (from statsmodels>=0.9.0->category_encoders) (23.0)\n"
          ]
        }
      ]
    },
    {
      "cell_type": "markdown",
      "source": [
        "Preprocessing Pipelines Definition"
      ],
      "metadata": {
        "id": "XeInKxLE74oa"
      }
    },
    {
      "cell_type": "code",
      "source": [
        "# importing usual needed libraries\n",
        "from sklearn.compose import ColumnTransformer\n",
        "from sklearn.datasets import fetch_openml\n",
        "from sklearn.pipeline import Pipeline\n",
        "from sklearn.preprocessing import StandardScaler, MinMaxScaler, OneHotEncoder, LabelEncoder\n",
        "from sklearn.linear_model import LogisticRegression\n",
        "from sklearn.ensemble import RandomForestClassifier\n",
        "from sklearn.model_selection import train_test_split, GridSearchCV\n",
        "from xgboost.sklearn import XGBClassifier\n",
        "from sklearn.impute import KNNImputer\n",
        "\n",
        "np.random.seed(0) # setting a random seed for reproducibility\n",
        "\n",
        "# define a pipeline for numeric feature preprocessing\n",
        "# we gave them a name so we can set their hyperparameters\n",
        "transformer_numeric = Pipeline(\n",
        "    steps=[\n",
        "        ('knn_imputer', KNNImputer()), # K of knn will be tuned\n",
        "        ('scaler', MinMaxScaler()), # scale features to be max of 1 min of 0\n",
        "        ('normalizer', StandardScaler()) # normalization of features to have mean of 0 and std 1\n",
        "    ]\n",
        ")\n",
        "\n",
        "# define a pipeline for categorical feature preprocessing\n",
        "# we gave them a name so we can set their hyperparameters\n",
        "transformer_categorical = Pipeline(\n",
        "    steps=[\n",
        "        ('knn_imputer', KNNImputer()), # K of knn will be tuned\n",
        "        ('onehot', OneHotEncoder(handle_unknown='ignore')) # one hot encoding\n",
        "    ]\n",
        ")\n",
        "\n",
        "# define the preprocessor\n",
        "# we gave them a name so we can set their hyperparameters\n",
        "# we also specify what are the categorical and numerical pipelines\n",
        "preprocessor = ColumnTransformer(\n",
        "    transformers=[\n",
        "        ('num', transformer_numeric, features_numeric), # numerical pipeline step\n",
        "        ('cat', transformer_categorical, categorical_features) # categorical pipline step\n",
        "    ]\n",
        ")\n",
        "\n"
      ],
      "metadata": {
        "id": "9zaTXnjzyt0R"
      },
      "execution_count": null,
      "outputs": []
    },
    {
      "cell_type": "markdown",
      "source": [
        "# **4- Division of training set into training and validation and decoupling the features from the labels ✂️**"
      ],
      "metadata": {
        "id": "ola_o3WfKiLi"
      }
    },
    {
      "cell_type": "markdown",
      "source": [
        "Decoupling the training dataset's features matrix and labels vetcor"
      ],
      "metadata": {
        "id": "wY1O8TJQELHT"
      }
    },
    {
      "cell_type": "code",
      "source": [
        "y_train = train_data[\"match\"] # target label series\n",
        "X_train = train_data.drop(['match'], axis=1) # training features df\n"
      ],
      "metadata": {
        "id": "_fLMMBkAEb3H"
      },
      "execution_count": null,
      "outputs": []
    },
    {
      "cell_type": "code",
      "source": [
        "X_train.shape # training feature shape"
      ],
      "metadata": {
        "colab": {
          "base_uri": "https://localhost:8080/"
        },
        "id": "o12OnVKeEs8T",
        "outputId": "ab534b8f-38ed-490e-c78b-ad7b708e2861"
      },
      "execution_count": null,
      "outputs": [
        {
          "output_type": "execute_result",
          "data": {
            "text/plain": [
              "(5909, 161)"
            ]
          },
          "metadata": {},
          "execution_count": 351
        }
      ]
    },
    {
      "cell_type": "code",
      "source": [
        "y_train.shape # training label shape"
      ],
      "metadata": {
        "colab": {
          "base_uri": "https://localhost:8080/"
        },
        "id": "VHXcOEX2EwY_",
        "outputId": "fd3f3151-f97a-4f09-fa67-554cf118f721"
      },
      "execution_count": null,
      "outputs": [
        {
          "output_type": "execute_result",
          "data": {
            "text/plain": [
              "(5909,)"
            ]
          },
          "metadata": {},
          "execution_count": 352
        }
      ]
    },
    {
      "cell_type": "markdown",
      "source": [
        "Dividing the Training data into training and validation sets"
      ],
      "metadata": {
        "id": "oE5e30VdBCq7"
      }
    },
    {
      "cell_type": "code",
      "source": [
        "# splitting the dataset into 80% training and 20% testing while using stratify to ensure equal class distribution in training and validation sets\n",
        "X_tr, X_valid, y_tr, y_valid = train_test_split(X_train, y_train, test_size = 0.2, stratify = y_train, random_state=10)\n",
        "\n",
        "print(\"Training data shape:\",X_tr.shape) # printing training data number of rows and coulmns\n",
        "print(\"Testing data shape\",X_valid.shape) # printing validation data number of rows and coulmns\n",
        "print(\"Training labels shape\",y_tr.shape) # printing training target label number of rows\n",
        "print(\"Testing labels shape\",y_valid.shape) # printing validation target label number of rows"
      ],
      "metadata": {
        "colab": {
          "base_uri": "https://localhost:8080/"
        },
        "id": "hLBeoymGKnyR",
        "outputId": "901584f6-bcd8-4889-eb6e-cefd7d82d35a"
      },
      "execution_count": null,
      "outputs": [
        {
          "output_type": "stream",
          "name": "stdout",
          "text": [
            "Training data shape: (4727, 161)\n",
            "Testing data shape (1182, 161)\n",
            "Training labels shape (4727,)\n",
            "Testing labels shape (1182,)\n"
          ]
        }
      ]
    },
    {
      "cell_type": "markdown",
      "source": [
        "# **5- Models Training and Evaluation 📈**"
      ],
      "metadata": {
        "id": "YjcUcQUJ2wZg"
      }
    },
    {
      "cell_type": "markdown",
      "source": [
        "During model training we will be either using randomized search cv or bayesian search cv to tune the model hyperparameters as well as the preprocessing hyperparameters, so we will combine the previously defined preprocessing pipeline with different models instance in each trail into a single full pipleine instance that will be given to the hyperparameters search algorithm to train with and find optimal values."
      ],
      "metadata": {
        "id": "rKC9-ZYbII-U"
      }
    },
    {
      "cell_type": "markdown",
      "source": [
        "## *5.1) Models 1 & 2 Random Forest*\n",
        "*   Model 1 uses Random Search\n",
        "*   Model 2 uses Bayesian Search\n",
        "\n"
      ],
      "metadata": {
        "id": "HrOFSEltcLs3"
      }
    },
    {
      "cell_type": "markdown",
      "source": [
        "Random Forest Full Pipline"
      ],
      "metadata": {
        "id": "HkP8YYnN57HJ"
      }
    },
    {
      "cell_type": "code",
      "source": [
        "# combine the preprocessor with the model as a full tunable pipeline\n",
        "# we gave them a name so we can set their hyperparameters\n",
        "full_pipline = Pipeline(\n",
        "    steps=[\n",
        "        ('preprocessor', preprocessor),\n",
        "        ('my_classifier', RandomForestClassifier(), # class_weight = \"balanced\" was not used\n",
        "        )\n",
        "    ]\n",
        ")\n",
        "full_pipline"
      ],
      "metadata": {
        "colab": {
          "base_uri": "https://localhost:8080/",
          "height": 262
        },
        "id": "1t57F9lnV4JJ",
        "outputId": "95527e7a-a086-43c0-b0bf-3cd301add060"
      },
      "execution_count": null,
      "outputs": [
        {
          "output_type": "execute_result",
          "data": {
            "text/plain": [
              "Pipeline(steps=[('preprocessor',\n",
              "                 ColumnTransformer(transformers=[('num',\n",
              "                                                  Pipeline(steps=[('knn_imputer',\n",
              "                                                                   KNNImputer()),\n",
              "                                                                  ('scaler',\n",
              "                                                                   MinMaxScaler()),\n",
              "                                                                  ('normalizer',\n",
              "                                                                   StandardScaler())]),\n",
              "                                                  ['gender', 'wave', 'round',\n",
              "                                                   'position', 'positin1',\n",
              "                                                   'order', 'int_corr',\n",
              "                                                   'samerace', 'age_o',\n",
              "                                                   'pf_o_att', 'pf_o_sin',\n",
              "                                                   'pf_o_int', 'pf_o_fun',\n",
              "                                                   'pf_o_amb', 'pf_o_sha',\n",
              "                                                   'attr_o', 'sinc_o',\n",
              "                                                   'intel_o', 'fun_o', 'amb_o',\n",
              "                                                   'shar_o', 'like_o', 'prob_o',\n",
              "                                                   'met_o', 'age', 'mn_sat',\n",
              "                                                   'tuition', 'imprace',\n",
              "                                                   'imprelig', 'income', ...]),\n",
              "                                                 ('cat',\n",
              "                                                  Pipeline(steps=[('knn_imputer',\n",
              "                                                                   KNNImputer()),\n",
              "                                                                  ('onehot',\n",
              "                                                                   OneHotEncoder(handle_unknown='ignore'))]),\n",
              "                                                  ['condtn', 'field_cd', 'race',\n",
              "                                                   'race_o', 'goal', 'career_c',\n",
              "                                                   'length', 'numdat_2'])])),\n",
              "                ('my_classifier', RandomForestClassifier())])"
            ],
            "text/html": [
              "<style>#sk-container-id-17 {color: black;background-color: white;}#sk-container-id-17 pre{padding: 0;}#sk-container-id-17 div.sk-toggleable {background-color: white;}#sk-container-id-17 label.sk-toggleable__label {cursor: pointer;display: block;width: 100%;margin-bottom: 0;padding: 0.3em;box-sizing: border-box;text-align: center;}#sk-container-id-17 label.sk-toggleable__label-arrow:before {content: \"▸\";float: left;margin-right: 0.25em;color: #696969;}#sk-container-id-17 label.sk-toggleable__label-arrow:hover:before {color: black;}#sk-container-id-17 div.sk-estimator:hover label.sk-toggleable__label-arrow:before {color: black;}#sk-container-id-17 div.sk-toggleable__content {max-height: 0;max-width: 0;overflow: hidden;text-align: left;background-color: #f0f8ff;}#sk-container-id-17 div.sk-toggleable__content pre {margin: 0.2em;color: black;border-radius: 0.25em;background-color: #f0f8ff;}#sk-container-id-17 input.sk-toggleable__control:checked~div.sk-toggleable__content {max-height: 200px;max-width: 100%;overflow: auto;}#sk-container-id-17 input.sk-toggleable__control:checked~label.sk-toggleable__label-arrow:before {content: \"▾\";}#sk-container-id-17 div.sk-estimator input.sk-toggleable__control:checked~label.sk-toggleable__label {background-color: #d4ebff;}#sk-container-id-17 div.sk-label input.sk-toggleable__control:checked~label.sk-toggleable__label {background-color: #d4ebff;}#sk-container-id-17 input.sk-hidden--visually {border: 0;clip: rect(1px 1px 1px 1px);clip: rect(1px, 1px, 1px, 1px);height: 1px;margin: -1px;overflow: hidden;padding: 0;position: absolute;width: 1px;}#sk-container-id-17 div.sk-estimator {font-family: monospace;background-color: #f0f8ff;border: 1px dotted black;border-radius: 0.25em;box-sizing: border-box;margin-bottom: 0.5em;}#sk-container-id-17 div.sk-estimator:hover {background-color: #d4ebff;}#sk-container-id-17 div.sk-parallel-item::after {content: \"\";width: 100%;border-bottom: 1px solid gray;flex-grow: 1;}#sk-container-id-17 div.sk-label:hover label.sk-toggleable__label {background-color: #d4ebff;}#sk-container-id-17 div.sk-serial::before {content: \"\";position: absolute;border-left: 1px solid gray;box-sizing: border-box;top: 0;bottom: 0;left: 50%;z-index: 0;}#sk-container-id-17 div.sk-serial {display: flex;flex-direction: column;align-items: center;background-color: white;padding-right: 0.2em;padding-left: 0.2em;position: relative;}#sk-container-id-17 div.sk-item {position: relative;z-index: 1;}#sk-container-id-17 div.sk-parallel {display: flex;align-items: stretch;justify-content: center;background-color: white;position: relative;}#sk-container-id-17 div.sk-item::before, #sk-container-id-17 div.sk-parallel-item::before {content: \"\";position: absolute;border-left: 1px solid gray;box-sizing: border-box;top: 0;bottom: 0;left: 50%;z-index: -1;}#sk-container-id-17 div.sk-parallel-item {display: flex;flex-direction: column;z-index: 1;position: relative;background-color: white;}#sk-container-id-17 div.sk-parallel-item:first-child::after {align-self: flex-end;width: 50%;}#sk-container-id-17 div.sk-parallel-item:last-child::after {align-self: flex-start;width: 50%;}#sk-container-id-17 div.sk-parallel-item:only-child::after {width: 0;}#sk-container-id-17 div.sk-dashed-wrapped {border: 1px dashed gray;margin: 0 0.4em 0.5em 0.4em;box-sizing: border-box;padding-bottom: 0.4em;background-color: white;}#sk-container-id-17 div.sk-label label {font-family: monospace;font-weight: bold;display: inline-block;line-height: 1.2em;}#sk-container-id-17 div.sk-label-container {text-align: center;}#sk-container-id-17 div.sk-container {/* jupyter's `normalize.less` sets `[hidden] { display: none; }` but bootstrap.min.css set `[hidden] { display: none !important; }` so we also need the `!important` here to be able to override the default hidden behavior on the sphinx rendered scikit-learn.org. See: https://github.com/scikit-learn/scikit-learn/issues/21755 */display: inline-block !important;position: relative;}#sk-container-id-17 div.sk-text-repr-fallback {display: none;}</style><div id=\"sk-container-id-17\" class=\"sk-top-container\"><div class=\"sk-text-repr-fallback\"><pre>Pipeline(steps=[(&#x27;preprocessor&#x27;,\n",
              "                 ColumnTransformer(transformers=[(&#x27;num&#x27;,\n",
              "                                                  Pipeline(steps=[(&#x27;knn_imputer&#x27;,\n",
              "                                                                   KNNImputer()),\n",
              "                                                                  (&#x27;scaler&#x27;,\n",
              "                                                                   MinMaxScaler()),\n",
              "                                                                  (&#x27;normalizer&#x27;,\n",
              "                                                                   StandardScaler())]),\n",
              "                                                  [&#x27;gender&#x27;, &#x27;wave&#x27;, &#x27;round&#x27;,\n",
              "                                                   &#x27;position&#x27;, &#x27;positin1&#x27;,\n",
              "                                                   &#x27;order&#x27;, &#x27;int_corr&#x27;,\n",
              "                                                   &#x27;samerace&#x27;, &#x27;age_o&#x27;,\n",
              "                                                   &#x27;pf_o_att&#x27;, &#x27;pf_o_sin&#x27;,\n",
              "                                                   &#x27;pf_o_int&#x27;, &#x27;pf_o_fun&#x27;,\n",
              "                                                   &#x27;pf_o_amb&#x27;, &#x27;pf_o_sha&#x27;,\n",
              "                                                   &#x27;attr_o&#x27;, &#x27;sinc_o&#x27;,\n",
              "                                                   &#x27;intel_o&#x27;, &#x27;fun_o&#x27;, &#x27;amb_o&#x27;,\n",
              "                                                   &#x27;shar_o&#x27;, &#x27;like_o&#x27;, &#x27;prob_o&#x27;,\n",
              "                                                   &#x27;met_o&#x27;, &#x27;age&#x27;, &#x27;mn_sat&#x27;,\n",
              "                                                   &#x27;tuition&#x27;, &#x27;imprace&#x27;,\n",
              "                                                   &#x27;imprelig&#x27;, &#x27;income&#x27;, ...]),\n",
              "                                                 (&#x27;cat&#x27;,\n",
              "                                                  Pipeline(steps=[(&#x27;knn_imputer&#x27;,\n",
              "                                                                   KNNImputer()),\n",
              "                                                                  (&#x27;onehot&#x27;,\n",
              "                                                                   OneHotEncoder(handle_unknown=&#x27;ignore&#x27;))]),\n",
              "                                                  [&#x27;condtn&#x27;, &#x27;field_cd&#x27;, &#x27;race&#x27;,\n",
              "                                                   &#x27;race_o&#x27;, &#x27;goal&#x27;, &#x27;career_c&#x27;,\n",
              "                                                   &#x27;length&#x27;, &#x27;numdat_2&#x27;])])),\n",
              "                (&#x27;my_classifier&#x27;, RandomForestClassifier())])</pre><b>In a Jupyter environment, please rerun this cell to show the HTML representation or trust the notebook. <br />On GitHub, the HTML representation is unable to render, please try loading this page with nbviewer.org.</b></div><div class=\"sk-container\" hidden><div class=\"sk-item sk-dashed-wrapped\"><div class=\"sk-label-container\"><div class=\"sk-label sk-toggleable\"><input class=\"sk-toggleable__control sk-hidden--visually\" id=\"sk-estimator-id-191\" type=\"checkbox\" ><label for=\"sk-estimator-id-191\" class=\"sk-toggleable__label sk-toggleable__label-arrow\">Pipeline</label><div class=\"sk-toggleable__content\"><pre>Pipeline(steps=[(&#x27;preprocessor&#x27;,\n",
              "                 ColumnTransformer(transformers=[(&#x27;num&#x27;,\n",
              "                                                  Pipeline(steps=[(&#x27;knn_imputer&#x27;,\n",
              "                                                                   KNNImputer()),\n",
              "                                                                  (&#x27;scaler&#x27;,\n",
              "                                                                   MinMaxScaler()),\n",
              "                                                                  (&#x27;normalizer&#x27;,\n",
              "                                                                   StandardScaler())]),\n",
              "                                                  [&#x27;gender&#x27;, &#x27;wave&#x27;, &#x27;round&#x27;,\n",
              "                                                   &#x27;position&#x27;, &#x27;positin1&#x27;,\n",
              "                                                   &#x27;order&#x27;, &#x27;int_corr&#x27;,\n",
              "                                                   &#x27;samerace&#x27;, &#x27;age_o&#x27;,\n",
              "                                                   &#x27;pf_o_att&#x27;, &#x27;pf_o_sin&#x27;,\n",
              "                                                   &#x27;pf_o_int&#x27;, &#x27;pf_o_fun&#x27;,\n",
              "                                                   &#x27;pf_o_amb&#x27;, &#x27;pf_o_sha&#x27;,\n",
              "                                                   &#x27;attr_o&#x27;, &#x27;sinc_o&#x27;,\n",
              "                                                   &#x27;intel_o&#x27;, &#x27;fun_o&#x27;, &#x27;amb_o&#x27;,\n",
              "                                                   &#x27;shar_o&#x27;, &#x27;like_o&#x27;, &#x27;prob_o&#x27;,\n",
              "                                                   &#x27;met_o&#x27;, &#x27;age&#x27;, &#x27;mn_sat&#x27;,\n",
              "                                                   &#x27;tuition&#x27;, &#x27;imprace&#x27;,\n",
              "                                                   &#x27;imprelig&#x27;, &#x27;income&#x27;, ...]),\n",
              "                                                 (&#x27;cat&#x27;,\n",
              "                                                  Pipeline(steps=[(&#x27;knn_imputer&#x27;,\n",
              "                                                                   KNNImputer()),\n",
              "                                                                  (&#x27;onehot&#x27;,\n",
              "                                                                   OneHotEncoder(handle_unknown=&#x27;ignore&#x27;))]),\n",
              "                                                  [&#x27;condtn&#x27;, &#x27;field_cd&#x27;, &#x27;race&#x27;,\n",
              "                                                   &#x27;race_o&#x27;, &#x27;goal&#x27;, &#x27;career_c&#x27;,\n",
              "                                                   &#x27;length&#x27;, &#x27;numdat_2&#x27;])])),\n",
              "                (&#x27;my_classifier&#x27;, RandomForestClassifier())])</pre></div></div></div><div class=\"sk-serial\"><div class=\"sk-item sk-dashed-wrapped\"><div class=\"sk-label-container\"><div class=\"sk-label sk-toggleable\"><input class=\"sk-toggleable__control sk-hidden--visually\" id=\"sk-estimator-id-192\" type=\"checkbox\" ><label for=\"sk-estimator-id-192\" class=\"sk-toggleable__label sk-toggleable__label-arrow\">preprocessor: ColumnTransformer</label><div class=\"sk-toggleable__content\"><pre>ColumnTransformer(transformers=[(&#x27;num&#x27;,\n",
              "                                 Pipeline(steps=[(&#x27;knn_imputer&#x27;, KNNImputer()),\n",
              "                                                 (&#x27;scaler&#x27;, MinMaxScaler()),\n",
              "                                                 (&#x27;normalizer&#x27;,\n",
              "                                                  StandardScaler())]),\n",
              "                                 [&#x27;gender&#x27;, &#x27;wave&#x27;, &#x27;round&#x27;, &#x27;position&#x27;,\n",
              "                                  &#x27;positin1&#x27;, &#x27;order&#x27;, &#x27;int_corr&#x27;, &#x27;samerace&#x27;,\n",
              "                                  &#x27;age_o&#x27;, &#x27;pf_o_att&#x27;, &#x27;pf_o_sin&#x27;, &#x27;pf_o_int&#x27;,\n",
              "                                  &#x27;pf_o_fun&#x27;, &#x27;pf_o_amb&#x27;, &#x27;pf_o_sha&#x27;, &#x27;attr_o&#x27;,\n",
              "                                  &#x27;sinc_o&#x27;, &#x27;intel_o&#x27;, &#x27;fun_o&#x27;, &#x27;amb_o&#x27;,\n",
              "                                  &#x27;shar_o&#x27;, &#x27;like_o&#x27;, &#x27;prob_o&#x27;, &#x27;met_o&#x27;, &#x27;age&#x27;,\n",
              "                                  &#x27;mn_sat&#x27;, &#x27;tuition&#x27;, &#x27;imprace&#x27;, &#x27;imprelig&#x27;,\n",
              "                                  &#x27;income&#x27;, ...]),\n",
              "                                (&#x27;cat&#x27;,\n",
              "                                 Pipeline(steps=[(&#x27;knn_imputer&#x27;, KNNImputer()),\n",
              "                                                 (&#x27;onehot&#x27;,\n",
              "                                                  OneHotEncoder(handle_unknown=&#x27;ignore&#x27;))]),\n",
              "                                 [&#x27;condtn&#x27;, &#x27;field_cd&#x27;, &#x27;race&#x27;, &#x27;race_o&#x27;,\n",
              "                                  &#x27;goal&#x27;, &#x27;career_c&#x27;, &#x27;length&#x27;, &#x27;numdat_2&#x27;])])</pre></div></div></div><div class=\"sk-parallel\"><div class=\"sk-parallel-item\"><div class=\"sk-item\"><div class=\"sk-label-container\"><div class=\"sk-label sk-toggleable\"><input class=\"sk-toggleable__control sk-hidden--visually\" id=\"sk-estimator-id-193\" type=\"checkbox\" ><label for=\"sk-estimator-id-193\" class=\"sk-toggleable__label sk-toggleable__label-arrow\">num</label><div class=\"sk-toggleable__content\"><pre>[&#x27;gender&#x27;, &#x27;wave&#x27;, &#x27;round&#x27;, &#x27;position&#x27;, &#x27;positin1&#x27;, &#x27;order&#x27;, &#x27;int_corr&#x27;, &#x27;samerace&#x27;, &#x27;age_o&#x27;, &#x27;pf_o_att&#x27;, &#x27;pf_o_sin&#x27;, &#x27;pf_o_int&#x27;, &#x27;pf_o_fun&#x27;, &#x27;pf_o_amb&#x27;, &#x27;pf_o_sha&#x27;, &#x27;attr_o&#x27;, &#x27;sinc_o&#x27;, &#x27;intel_o&#x27;, &#x27;fun_o&#x27;, &#x27;amb_o&#x27;, &#x27;shar_o&#x27;, &#x27;like_o&#x27;, &#x27;prob_o&#x27;, &#x27;met_o&#x27;, &#x27;age&#x27;, &#x27;mn_sat&#x27;, &#x27;tuition&#x27;, &#x27;imprace&#x27;, &#x27;imprelig&#x27;, &#x27;income&#x27;, &#x27;date&#x27;, &#x27;go_out&#x27;, &#x27;sports&#x27;, &#x27;tvsports&#x27;, &#x27;exercise&#x27;, &#x27;dining&#x27;, &#x27;museums&#x27;, &#x27;art&#x27;, &#x27;hiking&#x27;, &#x27;gaming&#x27;, &#x27;clubbing&#x27;, &#x27;reading&#x27;, &#x27;tv&#x27;, &#x27;theater&#x27;, &#x27;movies&#x27;, &#x27;concerts&#x27;, &#x27;music&#x27;, &#x27;shopping&#x27;, &#x27;yoga&#x27;, &#x27;exphappy&#x27;, &#x27;attr1_1&#x27;, &#x27;sinc1_1&#x27;, &#x27;intel1_1&#x27;, &#x27;fun1_1&#x27;, &#x27;amb1_1&#x27;, &#x27;shar1_1&#x27;, &#x27;attr4_1&#x27;, &#x27;sinc4_1&#x27;, &#x27;intel4_1&#x27;, &#x27;fun4_1&#x27;, &#x27;amb4_1&#x27;, &#x27;shar4_1&#x27;, &#x27;attr2_1&#x27;, &#x27;sinc2_1&#x27;, &#x27;intel2_1&#x27;, &#x27;fun2_1&#x27;, &#x27;amb2_1&#x27;, &#x27;shar2_1&#x27;, &#x27;attr3_1&#x27;, &#x27;sinc3_1&#x27;, &#x27;fun3_1&#x27;, &#x27;intel3_1&#x27;, &#x27;amb3_1&#x27;, &#x27;attr5_1&#x27;, &#x27;sinc5_1&#x27;, &#x27;intel5_1&#x27;, &#x27;fun5_1&#x27;, &#x27;amb5_1&#x27;, &#x27;attr&#x27;, &#x27;sinc&#x27;, &#x27;intel&#x27;, &#x27;fun&#x27;, &#x27;amb&#x27;, &#x27;shar&#x27;, &#x27;like&#x27;, &#x27;prob&#x27;, &#x27;met&#x27;, &#x27;match_es&#x27;, &#x27;attr1_s&#x27;, &#x27;sinc1_s&#x27;, &#x27;intel1_s&#x27;, &#x27;fun1_s&#x27;, &#x27;amb1_s&#x27;, &#x27;shar1_s&#x27;, &#x27;attr3_s&#x27;, &#x27;sinc3_s&#x27;, &#x27;intel3_s&#x27;, &#x27;fun3_s&#x27;, &#x27;amb3_s&#x27;, &#x27;satis_2&#x27;, &#x27;attr1_2&#x27;, &#x27;sinc1_2&#x27;, &#x27;intel1_2&#x27;, &#x27;fun1_2&#x27;, &#x27;amb1_2&#x27;, &#x27;shar1_2&#x27;, &#x27;attr4_2&#x27;, &#x27;sinc4_2&#x27;, &#x27;intel4_2&#x27;, &#x27;fun4_2&#x27;, &#x27;amb4_2&#x27;, &#x27;shar4_2&#x27;, &#x27;attr2_2&#x27;, &#x27;sinc2_2&#x27;, &#x27;intel2_2&#x27;, &#x27;fun2_2&#x27;, &#x27;amb2_2&#x27;, &#x27;shar2_2&#x27;, &#x27;attr3_2&#x27;, &#x27;sinc3_2&#x27;, &#x27;intel3_2&#x27;, &#x27;fun3_2&#x27;, &#x27;amb3_2&#x27;, &#x27;attr5_2&#x27;, &#x27;sinc5_2&#x27;, &#x27;intel5_2&#x27;, &#x27;fun5_2&#x27;, &#x27;amb5_2&#x27;, &#x27;you_call&#x27;, &#x27;them_cal&#x27;, &#x27;date_3&#x27;, &#x27;attr1_3&#x27;, &#x27;sinc1_3&#x27;, &#x27;intel1_3&#x27;, &#x27;fun1_3&#x27;, &#x27;amb1_3&#x27;, &#x27;shar1_3&#x27;, &#x27;attr4_3&#x27;, &#x27;sinc4_3&#x27;, &#x27;intel4_3&#x27;, &#x27;fun4_3&#x27;, &#x27;amb4_3&#x27;, &#x27;shar4_3&#x27;, &#x27;attr2_3&#x27;, &#x27;sinc2_3&#x27;, &#x27;intel2_3&#x27;, &#x27;fun2_3&#x27;, &#x27;amb2_3&#x27;, &#x27;attr3_3&#x27;, &#x27;sinc3_3&#x27;, &#x27;intel3_3&#x27;, &#x27;fun3_3&#x27;, &#x27;amb3_3&#x27;]</pre></div></div></div><div class=\"sk-serial\"><div class=\"sk-item\"><div class=\"sk-serial\"><div class=\"sk-item\"><div class=\"sk-estimator sk-toggleable\"><input class=\"sk-toggleable__control sk-hidden--visually\" id=\"sk-estimator-id-194\" type=\"checkbox\" ><label for=\"sk-estimator-id-194\" class=\"sk-toggleable__label sk-toggleable__label-arrow\">KNNImputer</label><div class=\"sk-toggleable__content\"><pre>KNNImputer()</pre></div></div></div><div class=\"sk-item\"><div class=\"sk-estimator sk-toggleable\"><input class=\"sk-toggleable__control sk-hidden--visually\" id=\"sk-estimator-id-195\" type=\"checkbox\" ><label for=\"sk-estimator-id-195\" class=\"sk-toggleable__label sk-toggleable__label-arrow\">MinMaxScaler</label><div class=\"sk-toggleable__content\"><pre>MinMaxScaler()</pre></div></div></div><div class=\"sk-item\"><div class=\"sk-estimator sk-toggleable\"><input class=\"sk-toggleable__control sk-hidden--visually\" id=\"sk-estimator-id-196\" type=\"checkbox\" ><label for=\"sk-estimator-id-196\" class=\"sk-toggleable__label sk-toggleable__label-arrow\">StandardScaler</label><div class=\"sk-toggleable__content\"><pre>StandardScaler()</pre></div></div></div></div></div></div></div></div><div class=\"sk-parallel-item\"><div class=\"sk-item\"><div class=\"sk-label-container\"><div class=\"sk-label sk-toggleable\"><input class=\"sk-toggleable__control sk-hidden--visually\" id=\"sk-estimator-id-197\" type=\"checkbox\" ><label for=\"sk-estimator-id-197\" class=\"sk-toggleable__label sk-toggleable__label-arrow\">cat</label><div class=\"sk-toggleable__content\"><pre>[&#x27;condtn&#x27;, &#x27;field_cd&#x27;, &#x27;race&#x27;, &#x27;race_o&#x27;, &#x27;goal&#x27;, &#x27;career_c&#x27;, &#x27;length&#x27;, &#x27;numdat_2&#x27;]</pre></div></div></div><div class=\"sk-serial\"><div class=\"sk-item\"><div class=\"sk-serial\"><div class=\"sk-item\"><div class=\"sk-estimator sk-toggleable\"><input class=\"sk-toggleable__control sk-hidden--visually\" id=\"sk-estimator-id-198\" type=\"checkbox\" ><label for=\"sk-estimator-id-198\" class=\"sk-toggleable__label sk-toggleable__label-arrow\">KNNImputer</label><div class=\"sk-toggleable__content\"><pre>KNNImputer()</pre></div></div></div><div class=\"sk-item\"><div class=\"sk-estimator sk-toggleable\"><input class=\"sk-toggleable__control sk-hidden--visually\" id=\"sk-estimator-id-199\" type=\"checkbox\" ><label for=\"sk-estimator-id-199\" class=\"sk-toggleable__label sk-toggleable__label-arrow\">OneHotEncoder</label><div class=\"sk-toggleable__content\"><pre>OneHotEncoder(handle_unknown=&#x27;ignore&#x27;)</pre></div></div></div></div></div></div></div></div></div></div><div class=\"sk-item\"><div class=\"sk-estimator sk-toggleable\"><input class=\"sk-toggleable__control sk-hidden--visually\" id=\"sk-estimator-id-200\" type=\"checkbox\" ><label for=\"sk-estimator-id-200\" class=\"sk-toggleable__label sk-toggleable__label-arrow\">RandomForestClassifier</label><div class=\"sk-toggleable__content\"><pre>RandomForestClassifier()</pre></div></div></div></div></div></div></div>"
            ]
          },
          "metadata": {},
          "execution_count": 359
        }
      ]
    },
    {
      "cell_type": "markdown",
      "source": [
        "### Model 1: Random forest using **Randomized Search CV**"
      ],
      "metadata": {
        "id": "qSfjNp4z6Ls4"
      }
    },
    {
      "cell_type": "code",
      "source": [
        "from sklearn.model_selection import RandomizedSearchCV\n",
        "from sklearn.metrics import roc_auc_score\n",
        "# here we specify the search space\n",
        "# `__` denotes an attribute of the preceeding name\n",
        "# (e.g. my_classifier__n_estimators means the `n_estimators` param for `my_classifier`)\n",
        "\n",
        "# hyperparameters search space of both the model and preprocessing\n",
        "param_grid = {\n",
        "    # preprocessing hyperparameters\n",
        "    'preprocessor__num__knn_imputer__n_neighbors': [3, 5],\n",
        "    'preprocessor__cat__knn_imputer__n_neighbors': [3, 5],\n",
        "    # model hyperparameters\n",
        "    'my_classifier__n_estimators': [20, 50, 100],\n",
        "    'my_classifier__max_depth':[10, 20, 30]\n",
        "}\n",
        "\n",
        "# random forest random search instance\n",
        "random_search = RandomizedSearchCV(\n",
        "                                    full_pipline, # pipeline containing the model and preprocessing\n",
        "                                    param_grid, # pipeline hyperparameters\n",
        "                                    cv=2, # cv=2 means two-fold cross-validation\n",
        "                                    verbose=1,\n",
        "                                    n_jobs=2, # n_jobs means the cuncurrent number of threads (on colab since we only have two cpu cores, we set it to 2)\n",
        "                                    n_iter=15, # number of trials (hyperparameters combinations to try)\n",
        "                                    scoring='roc_auc') # scoring metric used to evaluate the cross-validation data with it\n",
        "\n",
        "# model fitting and training using the training data (will use the optimal hyperparameters that will be found)\n",
        "random_search.fit(X_tr, y_tr)\n",
        "\n",
        "print('best score {}'.format(random_search.best_score_)) # getting the best validation AUC score\n",
        "print('best score {}'.format(random_search.best_params_)) # getting the optimal hyperparameters values found"
      ],
      "metadata": {
        "colab": {
          "base_uri": "https://localhost:8080/"
        },
        "id": "aVa4FoNI0At-",
        "outputId": "9cdc3511-04ef-4340-aea5-eeb213e2359f"
      },
      "execution_count": null,
      "outputs": [
        {
          "output_type": "stream",
          "name": "stdout",
          "text": [
            "Fitting 2 folds for each of 15 candidates, totalling 30 fits\n",
            "best score 0.8473890538087192\n",
            "best score {'preprocessor__num__knn_imputer__n_neighbors': 5, 'preprocessor__cat__knn_imputer__n_neighbors': 5, 'my_classifier__n_estimators': 100, 'my_classifier__max_depth': 10}\n"
          ]
        }
      ]
    },
    {
      "cell_type": "markdown",
      "source": [
        "Validation Score"
      ],
      "metadata": {
        "id": "_4Zs7TrFVTVH"
      }
    },
    {
      "cell_type": "code",
      "source": [
        "# the resulting model is the same search instance with the best hyperparameters\n",
        "# we can use it directly to test the performance on our unseen validation data\n",
        "y_pred_rf_grid = random_search.predict(X_valid)\n",
        "auc_rf_grid = roc_auc_score(y_valid, y_pred_rf_grid)\n",
        "print(auc_rf_grid)"
      ],
      "metadata": {
        "colab": {
          "base_uri": "https://localhost:8080/"
        },
        "id": "Nc0IgOnh0OYC",
        "outputId": "019050ad-8d49-474a-a7bd-58b4353826f2"
      },
      "execution_count": null,
      "outputs": [
        {
          "output_type": "stream",
          "name": "stdout",
          "text": [
            "0.7803030303030303\n"
          ]
        }
      ]
    },
    {
      "cell_type": "markdown",
      "source": [
        "Testing (Predictions of test set)"
      ],
      "metadata": {
        "id": "KydmIu8PVSkT"
      }
    },
    {
      "cell_type": "code",
      "source": [
        "submission = pd.DataFrame()\n",
        "submission['id'] = X_test.index\n",
        "submission['match'] = random_search.predict_proba(X_test)[:,1]\n",
        "submission.to_csv('submission.csv', index=False)\n"
      ],
      "metadata": {
        "id": "WEFaU57V0VvM"
      },
      "execution_count": null,
      "outputs": []
    },
    {
      "cell_type": "markdown",
      "source": [
        "Observations and trial summary"
      ],
      "metadata": {
        "id": "HhHKXpSTa6dt"
      }
    },
    {
      "cell_type": "markdown",
      "source": [
        "| Aspect                                                \t| Comment                                                                                                                                                                  \t|\n",
        "|-------------------------------------------------------\t|--------------------------------------------------------------------------------------------------------------------------------------------------------------------------\t|\n",
        "| _1- Model type_                                          \t| Random forest (ensemble)                                                                                                                                                            \t|\n",
        "| _2- Model hyperparameters space_                         \t| n_estimators': [20, 50, 100],<br /> max_depth':[10, 20, 30]                                                                                                                                             \t|\n",
        "| _3- Preprocessing hyperparameters space_                 \t| n_neighbors': [3, 5] for both numeric and categorical features imputation                                                                                                                                                     \t|\n",
        "| _4- Class imbalance treatment_                 \t| Not treated however we could have used class_weight = \"balanced\" but we discovered the parameter after trial end. <br /> This imbalance issue can be a reason for the low perfromace specially if the testing set contains large number of the under-represented class.                                                                                                                                                   \t|\n",
        "| _5- Optimal hyperparameters found_                       \t| 'preprocessor__num__knn_imputer__n_neighbors': 5, --> there is a potential better value, obtained value is on the edge of the provided region<br /> 'preprocessor__cat__knn_imputer__n_neighbors': 5, --> there is a potential better value, obtained value is on the edge of the provided region<br /> 'my_classifier__n_estimators': 100, --> there is a potential better value, obtained value is on the edge of the provided region<br /> 'my_classifier__max_depth': 10 --> there is a potential better value, obtained value is on the edge of the provided region \t|\n",
        "| _6- Best cross validation AUC score_                     \t| 0.84                                                                                                                                                                     \t|\n",
        "| _7- AUC score on held out validation set_                \t| 0.78                                                                                                                                                                     \t|\n",
        "| _8- AUC score on kaggle test set (public)_                            | 0.85               |\n",
        "| _9- Observed performance and thoughts on it_             \t|     - First we can notice that the best hyperparameters values lie on the edges of the provided region which means that there is still a room for better hyperparameters <br /> so in the next trial we shall provide another values for all hyperparameters by exploring more values beyond the current defined boundes. <br /> - Secondly we notice that the score on the validation set is close to the best cross validation score but it is less than it with 6% so probably the model is overfitting<br />  (althought we should be comparing by the training score we took the cross validation score for now) so we should introduce regularization parameters into or model <br /> to reduce the overfitting which was only controlled by the maximum depth which is not necessarily representing the complexity of the trees<br /> - We can also notice that the performance on the real (public) test set is quite simialr to the crossvalidation one which might suggest that the model is underfitting! <br /> however we need to choose one reference to tune accordingly either the our held-out validation set or kaggle's public testing set.                                                                                                                                                                       \t|\n",
        "| _10- Reason for changes (if any) and plan for next trial_ \t|                                                                               - Expand the hyperparameters bounds as the found optimal ones during current trial lie in the edges of the defined space <br /> - Add more regularization parameters to the tree to prevent overfitting                                                                                           \t|\n",
        "| _11- Expected outcome_                                    \t|                                                                               Obtaining better hyperparameters and reducing the overfitting leading to more generalization capability on test set                                                                                           \t|"
      ],
      "metadata": {
        "id": "AdmY_F15dNc8"
      }
    },
    {
      "cell_type": "markdown",
      "source": [
        "### Model 2: Random Forest using **Bayesian Search CV**"
      ],
      "metadata": {
        "id": "qwItojwQ5k_2"
      }
    },
    {
      "cell_type": "code",
      "source": [
        "!pip install scikit-optimize"
      ],
      "metadata": {
        "colab": {
          "base_uri": "https://localhost:8080/"
        },
        "id": "_RSkQpFl6u_c",
        "outputId": "a6c7a306-57e4-4d36-ba53-77b80571e532"
      },
      "execution_count": null,
      "outputs": [
        {
          "output_type": "stream",
          "name": "stdout",
          "text": [
            "Looking in indexes: https://pypi.org/simple, https://us-python.pkg.dev/colab-wheels/public/simple/\n",
            "Collecting scikit-optimize\n",
            "  Downloading scikit_optimize-0.9.0-py2.py3-none-any.whl (100 kB)\n",
            "\u001b[2K     \u001b[90m━━━━━━━━━━━━━━━━━━━━━━━━━━━━━━━━━━━━━━━\u001b[0m \u001b[32m100.3/100.3 KB\u001b[0m \u001b[31m3.6 MB/s\u001b[0m eta \u001b[36m0:00:00\u001b[0m\n",
            "\u001b[?25hCollecting pyaml>=16.9\n",
            "  Downloading pyaml-21.10.1-py2.py3-none-any.whl (24 kB)\n",
            "Requirement already satisfied: scipy>=0.19.1 in /usr/local/lib/python3.9/dist-packages (from scikit-optimize) (1.10.1)\n",
            "Requirement already satisfied: numpy>=1.13.3 in /usr/local/lib/python3.9/dist-packages (from scikit-optimize) (1.22.4)\n",
            "Requirement already satisfied: joblib>=0.11 in /usr/local/lib/python3.9/dist-packages (from scikit-optimize) (1.1.1)\n",
            "Requirement already satisfied: scikit-learn>=0.20.0 in /usr/local/lib/python3.9/dist-packages (from scikit-optimize) (1.2.2)\n",
            "Requirement already satisfied: PyYAML in /usr/local/lib/python3.9/dist-packages (from pyaml>=16.9->scikit-optimize) (6.0)\n",
            "Requirement already satisfied: threadpoolctl>=2.0.0 in /usr/local/lib/python3.9/dist-packages (from scikit-learn>=0.20.0->scikit-optimize) (3.1.0)\n",
            "Installing collected packages: pyaml, scikit-optimize\n",
            "Successfully installed pyaml-21.10.1 scikit-optimize-0.9.0\n"
          ]
        }
      ]
    },
    {
      "cell_type": "code",
      "source": [
        "from skopt import BayesSearchCV\n",
        "from skopt.space import Real, Categorical, Integer\n",
        "from sklearn.metrics import roc_auc_score\n",
        "# here we specify the search space\n",
        "# `__` denotes an attribute of the preceeding name\n",
        "# (e.g. my_classifier__n_estimators means the `n_estimators` param for `my_classifier`)\n",
        "\n",
        "# hyperparameters search space of both the model and preprocessing\n",
        "param_grid = {\n",
        "    # preprocessing hyperparameters\n",
        "    'preprocessor__num__knn_imputer__n_neighbors': [5,10],\n",
        "    'preprocessor__cat__knn_imputer__n_neighbors': [5,10],\n",
        "    # model hyperparameters\n",
        "    'my_classifier__n_estimators': [250, 500],\n",
        "    'my_classifier__max_leaf_nodes': [10, 25, 40],\n",
        "    'my_classifier__min_samples_split': [10, 50]\n",
        "}\n",
        "\n",
        "# random forest bayesian search instance\n",
        "bayes_search = BayesSearchCV(full_pipline, # pipeline containing the model and preprocessing\n",
        "                              param_grid, # pipeline hyperparameters\n",
        "                              cv=2, # cv=2 means two-fold cross-validation\n",
        "                              verbose=1,\n",
        "                              n_iter=15, # number of trials (hyperparameters combinations to try)\n",
        "                              scoring='roc_auc') # scoring metric used to evaluate the cross-validation data with it\n",
        "\n",
        "# model fitting and training using the training data (will use the optimal hyperparameters that will be found)\n",
        "bayes_search.fit(X_tr, y_tr)\n",
        "\n",
        "print('best score {}'.format(bayes_search.best_score_)) # getting best validation AUC score\n",
        "print('best score {}'.format(bayes_search.best_params_)) # getting the optimal hyperparameters values found"
      ],
      "metadata": {
        "colab": {
          "base_uri": "https://localhost:8080/"
        },
        "id": "ahXFgFM66j2e",
        "outputId": "8f27cce5-a360-4ece-f8f9-6f03da52685c"
      },
      "execution_count": null,
      "outputs": [
        {
          "output_type": "stream",
          "name": "stdout",
          "text": [
            "Fitting 2 folds for each of 1 candidates, totalling 2 fits\n",
            "Fitting 2 folds for each of 1 candidates, totalling 2 fits\n",
            "Fitting 2 folds for each of 1 candidates, totalling 2 fits\n",
            "Fitting 2 folds for each of 1 candidates, totalling 2 fits\n",
            "Fitting 2 folds for each of 1 candidates, totalling 2 fits\n",
            "Fitting 2 folds for each of 1 candidates, totalling 2 fits\n",
            "Fitting 2 folds for each of 1 candidates, totalling 2 fits\n",
            "Fitting 2 folds for each of 1 candidates, totalling 2 fits\n",
            "Fitting 2 folds for each of 1 candidates, totalling 2 fits\n",
            "Fitting 2 folds for each of 1 candidates, totalling 2 fits\n",
            "Fitting 2 folds for each of 1 candidates, totalling 2 fits\n",
            "Fitting 2 folds for each of 1 candidates, totalling 2 fits\n",
            "Fitting 2 folds for each of 1 candidates, totalling 2 fits\n",
            "Fitting 2 folds for each of 1 candidates, totalling 2 fits\n",
            "Fitting 2 folds for each of 1 candidates, totalling 2 fits\n",
            "best score 0.8565505196894354\n",
            "best score OrderedDict([('my_classifier__max_leaf_nodes', 40), ('my_classifier__min_samples_split', 10), ('my_classifier__n_estimators', 500), ('preprocessor__cat__knn_imputer__n_neighbors', 6), ('preprocessor__num__knn_imputer__n_neighbors', 10)])\n"
          ]
        }
      ]
    },
    {
      "cell_type": "markdown",
      "source": [
        "Validation Score"
      ],
      "metadata": {
        "id": "kltaxoTQVfzN"
      }
    },
    {
      "cell_type": "code",
      "source": [
        "# the resulting model is the same search instance with the best hyperparameters\n",
        "# we can use it directly to test the performance on our unseen validation data\n",
        "y_pred_rf_bayes = bayes_search.predict(X_valid)\n",
        "auc_rf_bayes = roc_auc_score(y_valid, y_pred_rf_bayes)\n",
        "print(auc_rf_bayes)"
      ],
      "metadata": {
        "colab": {
          "base_uri": "https://localhost:8080/"
        },
        "id": "pH7t-zGp6kwF",
        "outputId": "0d20abcb-499b-4d1a-9403-7cdcb50a05a6"
      },
      "execution_count": null,
      "outputs": [
        {
          "output_type": "stream",
          "name": "stdout",
          "text": [
            "0.537370657797487\n"
          ]
        }
      ]
    },
    {
      "cell_type": "markdown",
      "source": [
        "Testing (Predictions of test set)"
      ],
      "metadata": {
        "id": "R5JmX1WlVj8i"
      }
    },
    {
      "cell_type": "code",
      "source": [
        "submission = pd.DataFrame()\n",
        "submission['id'] = X_test.index\n",
        "submission['match'] = bayes_search.predict_proba(X_test)[:,1]\n",
        "submission.to_csv('submission.csv', index=False)"
      ],
      "metadata": {
        "id": "ZUbaoL1R6ofH"
      },
      "execution_count": null,
      "outputs": []
    },
    {
      "cell_type": "markdown",
      "source": [
        "Observations and trial summary"
      ],
      "metadata": {
        "id": "f-rJNw-R67US"
      }
    },
    {
      "cell_type": "markdown",
      "source": [
        "| Aspect                                                \t| Comment                                                                                                                                                                  \t|\n",
        "|-------------------------------------------------------\t|--------------------------------------------------------------------------------------------------------------------------------------------------------------------------\t|\n",
        "| _1- Model type_                                          \t| Random forest (ensemble)                                                                                                                                                          \t|\n",
        "| _2- Model hyperparameters space_                         \t| n_estimators': [250, 500], we increased the upper bound towards potentially better values<br /> max_leaf_nodes': [10, 25, 40] (new hyperparameter added for more regularization)<br /> min_samples_split': [10, 50] (new hyperparameter added for more regularization)                                                                                                                                              \t|\n",
        "| _3- Preprocessing hyperparameters space_                 \t| n_neighbors': [5, 10] for both numeric and categorical features imputation (we increased the upperbound as this was the direction of potentially better values)                                                                                                                                                     \t|\n",
        "| _4- Class imbalance treatment_                 \t| Not treated however we could have used class_weight = \"balanced\" but we discovered the parameter after trial end. <br /> This imbalance issue can be a reason for the low perfromace specially if the testing set contains large number of the under-represented class.                                                                                                                                                   \t|\n",
        "| _5- Optimal hyperparameters found_                       \t| ('my_classifier__max_leaf_nodes', 40), --> there is a potential better value, obtained value is on the edge of the provided region<br /> ('my_classifier__min_samples_split', 10), --> there is a potential better value, obtained value is on the edge of the provided region<br /> ('my_classifier__n_estimators', 500), --> there is a potential better value, obtained value is on the edge of the provided region<br /> ('preprocessor__cat__knn_imputer__n_neighbors', 6),<br /> ('preprocessor__num__knn_imputer__n_neighbors', 10) --> there is a potential better value, obtained value is on the edge of the provided region \t|\n",
        "| _6- Best cross validation AUC score_                     \t| 0.86                                                                                                                                                                     \t|\n",
        "| _7- AUC score on held out validation set_                \t| 0.54                                                                                                                                                                     \t|\n",
        "| _8- AUC score on kaggle test set (public)_                            | 0.85               |\n",
        "| _9- Observed performance and thoughts on it_             \t|     - We notice that the found best hyperparameters values still lie on the edges of the provided region which means that there is still more room for better hyperparameters <br /> beyound the current bounds that we can try, We also notice that the score on the validation set became more less than the best cross validation score probably the model is <br /> still overfitting (althought we should be comparing by the training score we took the cross validation score for now) so stronger regularization parameters should be tried <br />- We can also notice similar performance on the real (public) test set as previous trial were metrics are approximately the same so the model is either good fit or underfitting! <br /> - We can't decide actually if 0.85 is bad such that the model is underfitting or if this is the best possible value, but  other people models performance on the leaderboard suggest that our model is indeed underfitting.<br /> - These are contradictory results between our held-out validation set and kaggle's public testing set so we need to choose which one is our reference to tune accordingly and of course it should be the testing set and <br /> better use our held-out validation set as a part of training set and only judge the performance by multiple submissions on the test set.                                                                                                                                                                     \t|\n",
        "| _10- Reason for changes (if any) and plan for next trial_ \t|                                                                               - There is still a room for improving this model however we chose to try another model algorithm in sake of exploration as models performances<br /> - We will be trying boosting technique using xgboosting which will differ from random forest which can been seen as ensemble model of decision trees.                                                                                       \t|\n",
        "| _11- Expected outcome_                                    \t|                                                                               We expect xgboosting to have good performance due to our previous experience with it.                                                                                        \t|"
      ],
      "metadata": {
        "id": "XoqMAmEJ6rpT"
      }
    },
    {
      "cell_type": "markdown",
      "source": [
        "## *5.2) Model 3 XGBoost Classifier using Bayesian Search (Best performer on Kaggle's private dataset)⭐⭐⭐*"
      ],
      "metadata": {
        "id": "jaIvOC_zBtII"
      }
    },
    {
      "cell_type": "markdown",
      "source": [
        "XG Boost Full Pipeline"
      ],
      "metadata": {
        "id": "EhX-JJ9JCOFJ"
      }
    },
    {
      "cell_type": "code",
      "source": [
        "from xgboost import XGBClassifier\n",
        "# combine the preprocessor with the model as a full tunable pipeline\n",
        "# we gave them a name so we can set their hyperparameters\n",
        "full_pipline = Pipeline(\n",
        "    steps=[\n",
        "        ('preprocessor', preprocessor),\n",
        "        ('my_classifier', XGBClassifier(),\n",
        "        )\n",
        "    ]\n",
        ")\n",
        "full_pipline"
      ],
      "metadata": {
        "colab": {
          "base_uri": "https://localhost:8080/",
          "height": 262
        },
        "id": "Chzd5E5gB3xG",
        "outputId": "6a2ac5b3-e514-4932-a2cc-466587678d79"
      },
      "execution_count": null,
      "outputs": [
        {
          "output_type": "execute_result",
          "data": {
            "text/plain": [
              "Pipeline(steps=[('preprocessor',\n",
              "                 ColumnTransformer(transformers=[('num',\n",
              "                                                  Pipeline(steps=[('knn_imputer',\n",
              "                                                                   KNNImputer()),\n",
              "                                                                  ('scaler',\n",
              "                                                                   MinMaxScaler()),\n",
              "                                                                  ('normalizer',\n",
              "                                                                   StandardScaler())]),\n",
              "                                                  ['gender', 'wave', 'round',\n",
              "                                                   'position', 'positin1',\n",
              "                                                   'order', 'int_corr',\n",
              "                                                   'samerace', 'age_o',\n",
              "                                                   'pf_o_att', 'pf_o_sin',\n",
              "                                                   'pf_o_int', 'pf_o_fun',\n",
              "                                                   'pf_o_amb', 'pf_o_sha',\n",
              "                                                   'attr_o', 'sinc_o',\n",
              "                                                   'inte...\n",
              "                               feature_types=None, gamma=None, gpu_id=None,\n",
              "                               grow_policy=None, importance_type=None,\n",
              "                               interaction_constraints=None, learning_rate=None,\n",
              "                               max_bin=None, max_cat_threshold=None,\n",
              "                               max_cat_to_onehot=None, max_delta_step=None,\n",
              "                               max_depth=None, max_leaves=None,\n",
              "                               min_child_weight=None, missing=nan,\n",
              "                               monotone_constraints=None, n_estimators=100,\n",
              "                               n_jobs=None, num_parallel_tree=None,\n",
              "                               predictor=None, random_state=None, ...))])"
            ],
            "text/html": [
              "<style>#sk-container-id-18 {color: black;background-color: white;}#sk-container-id-18 pre{padding: 0;}#sk-container-id-18 div.sk-toggleable {background-color: white;}#sk-container-id-18 label.sk-toggleable__label {cursor: pointer;display: block;width: 100%;margin-bottom: 0;padding: 0.3em;box-sizing: border-box;text-align: center;}#sk-container-id-18 label.sk-toggleable__label-arrow:before {content: \"▸\";float: left;margin-right: 0.25em;color: #696969;}#sk-container-id-18 label.sk-toggleable__label-arrow:hover:before {color: black;}#sk-container-id-18 div.sk-estimator:hover label.sk-toggleable__label-arrow:before {color: black;}#sk-container-id-18 div.sk-toggleable__content {max-height: 0;max-width: 0;overflow: hidden;text-align: left;background-color: #f0f8ff;}#sk-container-id-18 div.sk-toggleable__content pre {margin: 0.2em;color: black;border-radius: 0.25em;background-color: #f0f8ff;}#sk-container-id-18 input.sk-toggleable__control:checked~div.sk-toggleable__content {max-height: 200px;max-width: 100%;overflow: auto;}#sk-container-id-18 input.sk-toggleable__control:checked~label.sk-toggleable__label-arrow:before {content: \"▾\";}#sk-container-id-18 div.sk-estimator input.sk-toggleable__control:checked~label.sk-toggleable__label {background-color: #d4ebff;}#sk-container-id-18 div.sk-label input.sk-toggleable__control:checked~label.sk-toggleable__label {background-color: #d4ebff;}#sk-container-id-18 input.sk-hidden--visually {border: 0;clip: rect(1px 1px 1px 1px);clip: rect(1px, 1px, 1px, 1px);height: 1px;margin: -1px;overflow: hidden;padding: 0;position: absolute;width: 1px;}#sk-container-id-18 div.sk-estimator {font-family: monospace;background-color: #f0f8ff;border: 1px dotted black;border-radius: 0.25em;box-sizing: border-box;margin-bottom: 0.5em;}#sk-container-id-18 div.sk-estimator:hover {background-color: #d4ebff;}#sk-container-id-18 div.sk-parallel-item::after {content: \"\";width: 100%;border-bottom: 1px solid gray;flex-grow: 1;}#sk-container-id-18 div.sk-label:hover label.sk-toggleable__label {background-color: #d4ebff;}#sk-container-id-18 div.sk-serial::before {content: \"\";position: absolute;border-left: 1px solid gray;box-sizing: border-box;top: 0;bottom: 0;left: 50%;z-index: 0;}#sk-container-id-18 div.sk-serial {display: flex;flex-direction: column;align-items: center;background-color: white;padding-right: 0.2em;padding-left: 0.2em;position: relative;}#sk-container-id-18 div.sk-item {position: relative;z-index: 1;}#sk-container-id-18 div.sk-parallel {display: flex;align-items: stretch;justify-content: center;background-color: white;position: relative;}#sk-container-id-18 div.sk-item::before, #sk-container-id-18 div.sk-parallel-item::before {content: \"\";position: absolute;border-left: 1px solid gray;box-sizing: border-box;top: 0;bottom: 0;left: 50%;z-index: -1;}#sk-container-id-18 div.sk-parallel-item {display: flex;flex-direction: column;z-index: 1;position: relative;background-color: white;}#sk-container-id-18 div.sk-parallel-item:first-child::after {align-self: flex-end;width: 50%;}#sk-container-id-18 div.sk-parallel-item:last-child::after {align-self: flex-start;width: 50%;}#sk-container-id-18 div.sk-parallel-item:only-child::after {width: 0;}#sk-container-id-18 div.sk-dashed-wrapped {border: 1px dashed gray;margin: 0 0.4em 0.5em 0.4em;box-sizing: border-box;padding-bottom: 0.4em;background-color: white;}#sk-container-id-18 div.sk-label label {font-family: monospace;font-weight: bold;display: inline-block;line-height: 1.2em;}#sk-container-id-18 div.sk-label-container {text-align: center;}#sk-container-id-18 div.sk-container {/* jupyter's `normalize.less` sets `[hidden] { display: none; }` but bootstrap.min.css set `[hidden] { display: none !important; }` so we also need the `!important` here to be able to override the default hidden behavior on the sphinx rendered scikit-learn.org. See: https://github.com/scikit-learn/scikit-learn/issues/21755 */display: inline-block !important;position: relative;}#sk-container-id-18 div.sk-text-repr-fallback {display: none;}</style><div id=\"sk-container-id-18\" class=\"sk-top-container\"><div class=\"sk-text-repr-fallback\"><pre>Pipeline(steps=[(&#x27;preprocessor&#x27;,\n",
              "                 ColumnTransformer(transformers=[(&#x27;num&#x27;,\n",
              "                                                  Pipeline(steps=[(&#x27;knn_imputer&#x27;,\n",
              "                                                                   KNNImputer()),\n",
              "                                                                  (&#x27;scaler&#x27;,\n",
              "                                                                   MinMaxScaler()),\n",
              "                                                                  (&#x27;normalizer&#x27;,\n",
              "                                                                   StandardScaler())]),\n",
              "                                                  [&#x27;gender&#x27;, &#x27;wave&#x27;, &#x27;round&#x27;,\n",
              "                                                   &#x27;position&#x27;, &#x27;positin1&#x27;,\n",
              "                                                   &#x27;order&#x27;, &#x27;int_corr&#x27;,\n",
              "                                                   &#x27;samerace&#x27;, &#x27;age_o&#x27;,\n",
              "                                                   &#x27;pf_o_att&#x27;, &#x27;pf_o_sin&#x27;,\n",
              "                                                   &#x27;pf_o_int&#x27;, &#x27;pf_o_fun&#x27;,\n",
              "                                                   &#x27;pf_o_amb&#x27;, &#x27;pf_o_sha&#x27;,\n",
              "                                                   &#x27;attr_o&#x27;, &#x27;sinc_o&#x27;,\n",
              "                                                   &#x27;inte...\n",
              "                               feature_types=None, gamma=None, gpu_id=None,\n",
              "                               grow_policy=None, importance_type=None,\n",
              "                               interaction_constraints=None, learning_rate=None,\n",
              "                               max_bin=None, max_cat_threshold=None,\n",
              "                               max_cat_to_onehot=None, max_delta_step=None,\n",
              "                               max_depth=None, max_leaves=None,\n",
              "                               min_child_weight=None, missing=nan,\n",
              "                               monotone_constraints=None, n_estimators=100,\n",
              "                               n_jobs=None, num_parallel_tree=None,\n",
              "                               predictor=None, random_state=None, ...))])</pre><b>In a Jupyter environment, please rerun this cell to show the HTML representation or trust the notebook. <br />On GitHub, the HTML representation is unable to render, please try loading this page with nbviewer.org.</b></div><div class=\"sk-container\" hidden><div class=\"sk-item sk-dashed-wrapped\"><div class=\"sk-label-container\"><div class=\"sk-label sk-toggleable\"><input class=\"sk-toggleable__control sk-hidden--visually\" id=\"sk-estimator-id-201\" type=\"checkbox\" ><label for=\"sk-estimator-id-201\" class=\"sk-toggleable__label sk-toggleable__label-arrow\">Pipeline</label><div class=\"sk-toggleable__content\"><pre>Pipeline(steps=[(&#x27;preprocessor&#x27;,\n",
              "                 ColumnTransformer(transformers=[(&#x27;num&#x27;,\n",
              "                                                  Pipeline(steps=[(&#x27;knn_imputer&#x27;,\n",
              "                                                                   KNNImputer()),\n",
              "                                                                  (&#x27;scaler&#x27;,\n",
              "                                                                   MinMaxScaler()),\n",
              "                                                                  (&#x27;normalizer&#x27;,\n",
              "                                                                   StandardScaler())]),\n",
              "                                                  [&#x27;gender&#x27;, &#x27;wave&#x27;, &#x27;round&#x27;,\n",
              "                                                   &#x27;position&#x27;, &#x27;positin1&#x27;,\n",
              "                                                   &#x27;order&#x27;, &#x27;int_corr&#x27;,\n",
              "                                                   &#x27;samerace&#x27;, &#x27;age_o&#x27;,\n",
              "                                                   &#x27;pf_o_att&#x27;, &#x27;pf_o_sin&#x27;,\n",
              "                                                   &#x27;pf_o_int&#x27;, &#x27;pf_o_fun&#x27;,\n",
              "                                                   &#x27;pf_o_amb&#x27;, &#x27;pf_o_sha&#x27;,\n",
              "                                                   &#x27;attr_o&#x27;, &#x27;sinc_o&#x27;,\n",
              "                                                   &#x27;inte...\n",
              "                               feature_types=None, gamma=None, gpu_id=None,\n",
              "                               grow_policy=None, importance_type=None,\n",
              "                               interaction_constraints=None, learning_rate=None,\n",
              "                               max_bin=None, max_cat_threshold=None,\n",
              "                               max_cat_to_onehot=None, max_delta_step=None,\n",
              "                               max_depth=None, max_leaves=None,\n",
              "                               min_child_weight=None, missing=nan,\n",
              "                               monotone_constraints=None, n_estimators=100,\n",
              "                               n_jobs=None, num_parallel_tree=None,\n",
              "                               predictor=None, random_state=None, ...))])</pre></div></div></div><div class=\"sk-serial\"><div class=\"sk-item sk-dashed-wrapped\"><div class=\"sk-label-container\"><div class=\"sk-label sk-toggleable\"><input class=\"sk-toggleable__control sk-hidden--visually\" id=\"sk-estimator-id-202\" type=\"checkbox\" ><label for=\"sk-estimator-id-202\" class=\"sk-toggleable__label sk-toggleable__label-arrow\">preprocessor: ColumnTransformer</label><div class=\"sk-toggleable__content\"><pre>ColumnTransformer(transformers=[(&#x27;num&#x27;,\n",
              "                                 Pipeline(steps=[(&#x27;knn_imputer&#x27;, KNNImputer()),\n",
              "                                                 (&#x27;scaler&#x27;, MinMaxScaler()),\n",
              "                                                 (&#x27;normalizer&#x27;,\n",
              "                                                  StandardScaler())]),\n",
              "                                 [&#x27;gender&#x27;, &#x27;wave&#x27;, &#x27;round&#x27;, &#x27;position&#x27;,\n",
              "                                  &#x27;positin1&#x27;, &#x27;order&#x27;, &#x27;int_corr&#x27;, &#x27;samerace&#x27;,\n",
              "                                  &#x27;age_o&#x27;, &#x27;pf_o_att&#x27;, &#x27;pf_o_sin&#x27;, &#x27;pf_o_int&#x27;,\n",
              "                                  &#x27;pf_o_fun&#x27;, &#x27;pf_o_amb&#x27;, &#x27;pf_o_sha&#x27;, &#x27;attr_o&#x27;,\n",
              "                                  &#x27;sinc_o&#x27;, &#x27;intel_o&#x27;, &#x27;fun_o&#x27;, &#x27;amb_o&#x27;,\n",
              "                                  &#x27;shar_o&#x27;, &#x27;like_o&#x27;, &#x27;prob_o&#x27;, &#x27;met_o&#x27;, &#x27;age&#x27;,\n",
              "                                  &#x27;mn_sat&#x27;, &#x27;tuition&#x27;, &#x27;imprace&#x27;, &#x27;imprelig&#x27;,\n",
              "                                  &#x27;income&#x27;, ...]),\n",
              "                                (&#x27;cat&#x27;,\n",
              "                                 Pipeline(steps=[(&#x27;knn_imputer&#x27;, KNNImputer()),\n",
              "                                                 (&#x27;onehot&#x27;,\n",
              "                                                  OneHotEncoder(handle_unknown=&#x27;ignore&#x27;))]),\n",
              "                                 [&#x27;condtn&#x27;, &#x27;field_cd&#x27;, &#x27;race&#x27;, &#x27;race_o&#x27;,\n",
              "                                  &#x27;goal&#x27;, &#x27;career_c&#x27;, &#x27;length&#x27;, &#x27;numdat_2&#x27;])])</pre></div></div></div><div class=\"sk-parallel\"><div class=\"sk-parallel-item\"><div class=\"sk-item\"><div class=\"sk-label-container\"><div class=\"sk-label sk-toggleable\"><input class=\"sk-toggleable__control sk-hidden--visually\" id=\"sk-estimator-id-203\" type=\"checkbox\" ><label for=\"sk-estimator-id-203\" class=\"sk-toggleable__label sk-toggleable__label-arrow\">num</label><div class=\"sk-toggleable__content\"><pre>[&#x27;gender&#x27;, &#x27;wave&#x27;, &#x27;round&#x27;, &#x27;position&#x27;, &#x27;positin1&#x27;, &#x27;order&#x27;, &#x27;int_corr&#x27;, &#x27;samerace&#x27;, &#x27;age_o&#x27;, &#x27;pf_o_att&#x27;, &#x27;pf_o_sin&#x27;, &#x27;pf_o_int&#x27;, &#x27;pf_o_fun&#x27;, &#x27;pf_o_amb&#x27;, &#x27;pf_o_sha&#x27;, &#x27;attr_o&#x27;, &#x27;sinc_o&#x27;, &#x27;intel_o&#x27;, &#x27;fun_o&#x27;, &#x27;amb_o&#x27;, &#x27;shar_o&#x27;, &#x27;like_o&#x27;, &#x27;prob_o&#x27;, &#x27;met_o&#x27;, &#x27;age&#x27;, &#x27;mn_sat&#x27;, &#x27;tuition&#x27;, &#x27;imprace&#x27;, &#x27;imprelig&#x27;, &#x27;income&#x27;, &#x27;date&#x27;, &#x27;go_out&#x27;, &#x27;sports&#x27;, &#x27;tvsports&#x27;, &#x27;exercise&#x27;, &#x27;dining&#x27;, &#x27;museums&#x27;, &#x27;art&#x27;, &#x27;hiking&#x27;, &#x27;gaming&#x27;, &#x27;clubbing&#x27;, &#x27;reading&#x27;, &#x27;tv&#x27;, &#x27;theater&#x27;, &#x27;movies&#x27;, &#x27;concerts&#x27;, &#x27;music&#x27;, &#x27;shopping&#x27;, &#x27;yoga&#x27;, &#x27;exphappy&#x27;, &#x27;attr1_1&#x27;, &#x27;sinc1_1&#x27;, &#x27;intel1_1&#x27;, &#x27;fun1_1&#x27;, &#x27;amb1_1&#x27;, &#x27;shar1_1&#x27;, &#x27;attr4_1&#x27;, &#x27;sinc4_1&#x27;, &#x27;intel4_1&#x27;, &#x27;fun4_1&#x27;, &#x27;amb4_1&#x27;, &#x27;shar4_1&#x27;, &#x27;attr2_1&#x27;, &#x27;sinc2_1&#x27;, &#x27;intel2_1&#x27;, &#x27;fun2_1&#x27;, &#x27;amb2_1&#x27;, &#x27;shar2_1&#x27;, &#x27;attr3_1&#x27;, &#x27;sinc3_1&#x27;, &#x27;fun3_1&#x27;, &#x27;intel3_1&#x27;, &#x27;amb3_1&#x27;, &#x27;attr5_1&#x27;, &#x27;sinc5_1&#x27;, &#x27;intel5_1&#x27;, &#x27;fun5_1&#x27;, &#x27;amb5_1&#x27;, &#x27;attr&#x27;, &#x27;sinc&#x27;, &#x27;intel&#x27;, &#x27;fun&#x27;, &#x27;amb&#x27;, &#x27;shar&#x27;, &#x27;like&#x27;, &#x27;prob&#x27;, &#x27;met&#x27;, &#x27;match_es&#x27;, &#x27;attr1_s&#x27;, &#x27;sinc1_s&#x27;, &#x27;intel1_s&#x27;, &#x27;fun1_s&#x27;, &#x27;amb1_s&#x27;, &#x27;shar1_s&#x27;, &#x27;attr3_s&#x27;, &#x27;sinc3_s&#x27;, &#x27;intel3_s&#x27;, &#x27;fun3_s&#x27;, &#x27;amb3_s&#x27;, &#x27;satis_2&#x27;, &#x27;attr1_2&#x27;, &#x27;sinc1_2&#x27;, &#x27;intel1_2&#x27;, &#x27;fun1_2&#x27;, &#x27;amb1_2&#x27;, &#x27;shar1_2&#x27;, &#x27;attr4_2&#x27;, &#x27;sinc4_2&#x27;, &#x27;intel4_2&#x27;, &#x27;fun4_2&#x27;, &#x27;amb4_2&#x27;, &#x27;shar4_2&#x27;, &#x27;attr2_2&#x27;, &#x27;sinc2_2&#x27;, &#x27;intel2_2&#x27;, &#x27;fun2_2&#x27;, &#x27;amb2_2&#x27;, &#x27;shar2_2&#x27;, &#x27;attr3_2&#x27;, &#x27;sinc3_2&#x27;, &#x27;intel3_2&#x27;, &#x27;fun3_2&#x27;, &#x27;amb3_2&#x27;, &#x27;attr5_2&#x27;, &#x27;sinc5_2&#x27;, &#x27;intel5_2&#x27;, &#x27;fun5_2&#x27;, &#x27;amb5_2&#x27;, &#x27;you_call&#x27;, &#x27;them_cal&#x27;, &#x27;date_3&#x27;, &#x27;attr1_3&#x27;, &#x27;sinc1_3&#x27;, &#x27;intel1_3&#x27;, &#x27;fun1_3&#x27;, &#x27;amb1_3&#x27;, &#x27;shar1_3&#x27;, &#x27;attr4_3&#x27;, &#x27;sinc4_3&#x27;, &#x27;intel4_3&#x27;, &#x27;fun4_3&#x27;, &#x27;amb4_3&#x27;, &#x27;shar4_3&#x27;, &#x27;attr2_3&#x27;, &#x27;sinc2_3&#x27;, &#x27;intel2_3&#x27;, &#x27;fun2_3&#x27;, &#x27;amb2_3&#x27;, &#x27;attr3_3&#x27;, &#x27;sinc3_3&#x27;, &#x27;intel3_3&#x27;, &#x27;fun3_3&#x27;, &#x27;amb3_3&#x27;]</pre></div></div></div><div class=\"sk-serial\"><div class=\"sk-item\"><div class=\"sk-serial\"><div class=\"sk-item\"><div class=\"sk-estimator sk-toggleable\"><input class=\"sk-toggleable__control sk-hidden--visually\" id=\"sk-estimator-id-204\" type=\"checkbox\" ><label for=\"sk-estimator-id-204\" class=\"sk-toggleable__label sk-toggleable__label-arrow\">KNNImputer</label><div class=\"sk-toggleable__content\"><pre>KNNImputer()</pre></div></div></div><div class=\"sk-item\"><div class=\"sk-estimator sk-toggleable\"><input class=\"sk-toggleable__control sk-hidden--visually\" id=\"sk-estimator-id-205\" type=\"checkbox\" ><label for=\"sk-estimator-id-205\" class=\"sk-toggleable__label sk-toggleable__label-arrow\">MinMaxScaler</label><div class=\"sk-toggleable__content\"><pre>MinMaxScaler()</pre></div></div></div><div class=\"sk-item\"><div class=\"sk-estimator sk-toggleable\"><input class=\"sk-toggleable__control sk-hidden--visually\" id=\"sk-estimator-id-206\" type=\"checkbox\" ><label for=\"sk-estimator-id-206\" class=\"sk-toggleable__label sk-toggleable__label-arrow\">StandardScaler</label><div class=\"sk-toggleable__content\"><pre>StandardScaler()</pre></div></div></div></div></div></div></div></div><div class=\"sk-parallel-item\"><div class=\"sk-item\"><div class=\"sk-label-container\"><div class=\"sk-label sk-toggleable\"><input class=\"sk-toggleable__control sk-hidden--visually\" id=\"sk-estimator-id-207\" type=\"checkbox\" ><label for=\"sk-estimator-id-207\" class=\"sk-toggleable__label sk-toggleable__label-arrow\">cat</label><div class=\"sk-toggleable__content\"><pre>[&#x27;condtn&#x27;, &#x27;field_cd&#x27;, &#x27;race&#x27;, &#x27;race_o&#x27;, &#x27;goal&#x27;, &#x27;career_c&#x27;, &#x27;length&#x27;, &#x27;numdat_2&#x27;]</pre></div></div></div><div class=\"sk-serial\"><div class=\"sk-item\"><div class=\"sk-serial\"><div class=\"sk-item\"><div class=\"sk-estimator sk-toggleable\"><input class=\"sk-toggleable__control sk-hidden--visually\" id=\"sk-estimator-id-208\" type=\"checkbox\" ><label for=\"sk-estimator-id-208\" class=\"sk-toggleable__label sk-toggleable__label-arrow\">KNNImputer</label><div class=\"sk-toggleable__content\"><pre>KNNImputer()</pre></div></div></div><div class=\"sk-item\"><div class=\"sk-estimator sk-toggleable\"><input class=\"sk-toggleable__control sk-hidden--visually\" id=\"sk-estimator-id-209\" type=\"checkbox\" ><label for=\"sk-estimator-id-209\" class=\"sk-toggleable__label sk-toggleable__label-arrow\">OneHotEncoder</label><div class=\"sk-toggleable__content\"><pre>OneHotEncoder(handle_unknown=&#x27;ignore&#x27;)</pre></div></div></div></div></div></div></div></div></div></div><div class=\"sk-item\"><div class=\"sk-estimator sk-toggleable\"><input class=\"sk-toggleable__control sk-hidden--visually\" id=\"sk-estimator-id-210\" type=\"checkbox\" ><label for=\"sk-estimator-id-210\" class=\"sk-toggleable__label sk-toggleable__label-arrow\">XGBClassifier</label><div class=\"sk-toggleable__content\"><pre>XGBClassifier(base_score=None, booster=None, callbacks=None,\n",
              "              colsample_bylevel=None, colsample_bynode=None,\n",
              "              colsample_bytree=None, early_stopping_rounds=None,\n",
              "              enable_categorical=False, eval_metric=None, feature_types=None,\n",
              "              gamma=None, gpu_id=None, grow_policy=None, importance_type=None,\n",
              "              interaction_constraints=None, learning_rate=None, max_bin=None,\n",
              "              max_cat_threshold=None, max_cat_to_onehot=None,\n",
              "              max_delta_step=None, max_depth=None, max_leaves=None,\n",
              "              min_child_weight=None, missing=nan, monotone_constraints=None,\n",
              "              n_estimators=100, n_jobs=None, num_parallel_tree=None,\n",
              "              predictor=None, random_state=None, ...)</pre></div></div></div></div></div></div></div>"
            ]
          },
          "metadata": {},
          "execution_count": 373
        }
      ]
    },
    {
      "cell_type": "code",
      "source": [
        "from skopt import BayesSearchCV\n",
        "from sklearn.metrics import roc_auc_score\n",
        "# here we specify the search space\n",
        "# `__` denotes an attribute of the preceeding name\n",
        "# (e.g. my_classifier__n_estimators means the `n_estimators` param for `my_classifier`)\n",
        "\n",
        "scale_pos_weight = (train_data_org[\"match\"].value_counts()[1]/train_data_org[\"match\"].value_counts()[0])\n",
        "\n",
        "# hyperparameters search space of both the model and preprocessing\n",
        "param_grid = {\n",
        "    # preprocessing hyperparameters\n",
        "    'preprocessor__num__knn_imputer__n_neighbors': [5,10],\n",
        "    'preprocessor__cat__knn_imputer__n_neighbors': [5,10],\n",
        "    # model hyperparameters\n",
        "    'my_classifier__learning_rate': [0.01, 0.1],\n",
        "    'my_classifier__gamma': [0, 0.25],\n",
        "    'my_classifier__n_estimators': [250, 500],\n",
        "    'my_classifier__subsample': [0.5, 0.8],\n",
        "    'my_classifier__colsample_bytree': [0.5, 0.8],\n",
        "    'my_classifier__scale_pos_weight' : [scale_pos_weight]\n",
        "}\n",
        "\n",
        "# XGboost bayesian search instance\n",
        "bayes_search = BayesSearchCV(full_pipline, # pipeline containing the model and preprocessing\n",
        "                              param_grid, # pipeline hyperparameters\n",
        "                              cv=5, # cv=5 means five-fold cross-validation\n",
        "                              verbose=1,\n",
        "                              n_jobs=2, # the number of concurrent threads (on colab since we only have two cpu cores, we set it to 2)\n",
        "                              n_iter=20, # number of trials (hyperparameters combinations to try)\n",
        "                              scoring='roc_auc') # scoring metric used to evaluate the cross-validation data with it\n",
        "\n",
        "# model fitting and training using the training data (will use the optimal hyperparameters that will be found)\n",
        "bayes_search.fit(X_tr, y_tr)\n",
        "\n",
        "print('best score {}'.format(bayes_search.best_score_)) # getting the best validation AUC score\n",
        "print('best score {}'.format(bayes_search.best_params_)) # getting the optimal hyperparameters values found"
      ],
      "metadata": {
        "colab": {
          "base_uri": "https://localhost:8080/"
        },
        "id": "y_j41KhQCURh",
        "outputId": "7622df25-b570-486b-dab7-1c5f5d3d5391"
      },
      "execution_count": null,
      "outputs": [
        {
          "output_type": "stream",
          "name": "stdout",
          "text": [
            "Fitting 5 folds for each of 1 candidates, totalling 5 fits\n",
            "Fitting 5 folds for each of 1 candidates, totalling 5 fits\n",
            "Fitting 5 folds for each of 1 candidates, totalling 5 fits\n",
            "Fitting 5 folds for each of 1 candidates, totalling 5 fits\n",
            "Fitting 5 folds for each of 1 candidates, totalling 5 fits\n",
            "Fitting 5 folds for each of 1 candidates, totalling 5 fits\n",
            "Fitting 5 folds for each of 1 candidates, totalling 5 fits\n",
            "Fitting 5 folds for each of 1 candidates, totalling 5 fits\n",
            "Fitting 5 folds for each of 1 candidates, totalling 5 fits\n",
            "Fitting 5 folds for each of 1 candidates, totalling 5 fits\n",
            "Fitting 5 folds for each of 1 candidates, totalling 5 fits\n",
            "Fitting 5 folds for each of 1 candidates, totalling 5 fits\n",
            "Fitting 5 folds for each of 1 candidates, totalling 5 fits\n",
            "Fitting 5 folds for each of 1 candidates, totalling 5 fits\n",
            "Fitting 5 folds for each of 1 candidates, totalling 5 fits\n",
            "Fitting 5 folds for each of 1 candidates, totalling 5 fits\n",
            "Fitting 5 folds for each of 1 candidates, totalling 5 fits\n",
            "Fitting 5 folds for each of 1 candidates, totalling 5 fits\n",
            "Fitting 5 folds for each of 1 candidates, totalling 5 fits\n",
            "Fitting 5 folds for each of 1 candidates, totalling 5 fits\n",
            "best score 0.8707842273414096\n",
            "best score OrderedDict([('my_classifier__colsample_bytree', 0.5), ('my_classifier__gamma', 0.205894966184632), ('my_classifier__learning_rate', 0.029962060999001054), ('my_classifier__n_estimators', 250), ('my_classifier__scale_pos_weight', 0.20077220077220076), ('my_classifier__subsample', 0.789965928292366), ('preprocessor__cat__knn_imputer__n_neighbors', 5), ('preprocessor__num__knn_imputer__n_neighbors', 5)])\n"
          ]
        }
      ]
    },
    {
      "cell_type": "markdown",
      "source": [
        "Validation Score"
      ],
      "metadata": {
        "id": "0hrW94QUVn35"
      }
    },
    {
      "cell_type": "code",
      "source": [
        "# the resulting model is the same search instance with the best hyperparameters\n",
        "# we can use it directly to test the performance on our unseen validation data\n",
        "y_pred_xg_bayes = bayes_search.predict(X_valid)\n",
        "auc_xg_bayes = roc_auc_score(y_valid, y_pred_xg_bayes)\n",
        "print(auc_xg_bayes)"
      ],
      "metadata": {
        "colab": {
          "base_uri": "https://localhost:8080/"
        },
        "id": "bto_c5UuCW0f",
        "outputId": "1cc339a5-6705-4d1d-c7fd-e79446a52618"
      },
      "execution_count": null,
      "outputs": [
        {
          "output_type": "stream",
          "name": "stdout",
          "text": [
            "0.5590816703621582\n"
          ]
        }
      ]
    },
    {
      "cell_type": "markdown",
      "source": [
        "Testing (Predictions of test set)"
      ],
      "metadata": {
        "id": "c4pgbWD6Vqpm"
      }
    },
    {
      "cell_type": "code",
      "source": [
        "submission = pd.DataFrame()\n",
        "submission['id'] = X_test.index\n",
        "submission['match'] = bayes_search.predict_proba(X_test)[:,1]\n",
        "submission.to_csv('submission.csv', index=False)\n"
      ],
      "metadata": {
        "id": "Nolh6zZ_CalQ"
      },
      "execution_count": null,
      "outputs": []
    },
    {
      "cell_type": "markdown",
      "source": [
        "Observations and trial summary"
      ],
      "metadata": {
        "id": "ZcqqBLry69mK"
      }
    },
    {
      "cell_type": "markdown",
      "source": [
        "| Aspect                                                \t| Comment                                                                                                                                                                  \t|\n",
        "|-------------------------------------------------------\t|--------------------------------------------------------------------------------------------------------------------------------------------------------------------------\t|\n",
        "| _1- Model type_                                          \t| XGboost (boosting)                                                                                                                                                            \t|\n",
        "| _2- Model hyperparameters space_                         \t| learning_rate': [0.01, 0.1], <br /> gamma': [0, 0.25], <br /> n_estimators': [250, 500], <br /> subsample': [0.5, 0.8], <br /> colsample_bytree': [0.5, 0.8], <br /> scale_pos_weight' : [scale_pos_weight]                                                                                                                                              \t|\n",
        "| _3- Preprocessing hyperparameters space_                 \t| n_neighbors': [5, 10] for both numeric and categorical features imputation                                                                                                                                                    \t|\n",
        "| _4- Class imbalance treatment_                 \t| Treated with \"scale_pos_weight\" hyperparameter                                                                                                                                                   \t|\n",
        "| _5- Optimal hyperparameters found_                       \t| ('my_classifier__colsample_bytree', 0.5), --> there is a potential better value, obtained value is on the edge of the provided region <br />('my_classifier__gamma', 0.205894966184632),<br /> ('my_classifier__learning_rate', 0.029962060999001054),<br /> ('my_classifier__n_estimators', 250), --> there is a potential better value, obtained value is on the edge of the provided region <br />('my_classifier__scale_pos_weight', 0.20077220077220076), <br />('my_classifier__subsample', 0.789965928292366),<br /> ('preprocessor__cat__knn_imputer__n_neighbors', 5), --> there is a potential better value, obtained value is on the edge of the provided region<br /> ('preprocessor__num__knn_imputer__n_neighbors', 5) --> there is a potential better value, obtained value is on the edge of the provided region\t|\n",
        "| _6- Best cross validation AUC score_                     \t| 0.87                                                                                                                                                                     \t|\n",
        "| _7- AUC score on held out validation set_                \t| 0.56                                                                                                                                                                     \t|\n",
        "| _8- AUC score on kaggle test set (public)_                            | 0.88               |\n",
        "| _9- Observed performance and thoughts on it_             \t|     - Still some of the obtained values hyperparameters lie on the edge of the provided region so the provided search space is not optimal we we can try <br />different subset in the direction of potential better values <br /> - Judging by the performance on the testing set there is a potential of being slightly underfitting this insight is gained by seeing how others' models are<br /> performing and their maximum obtained score. <br /> - We should be having more complex model so in next trial we will explore different hyperparameters subset towards better fit and we will also use different data<br /> preprocessing in which we will not drop features that have missing values percentage greater than 70% as what we have done with previous models.                                                                                                                                                              \t|\n",
        "| _10- Reason for changes (if any) and plan for next trial_ \t|                                                                               - There is still a room for improving this model hyperparameters<br /> - We will also add more features that were dropped previously as they were having more than 70% of values missing. we will impute them and check the perfromance. .                                                                                       \t|\n",
        "| _11- Expected outcome_                                    \t|                                                                               We expect the next model will fit the data more appropriately due to better ranges of hyperparameters and the added features                                                                                        \t|"
      ],
      "metadata": {
        "id": "-EwvEPnvFb8p"
      }
    },
    {
      "cell_type": "markdown",
      "source": [
        "## *5.3) Now we will add the dropped features that had 70% of their values missing and check the performance (New Preprocessing)*"
      ],
      "metadata": {
        "id": "d-4kBuKSUkrG"
      }
    },
    {
      "cell_type": "markdown",
      "source": [
        "we will re-import the data and do all the previously done changes except for dropping the columns containg missing values greater than 70% in aim of making the model more complex and reduce the underfitting"
      ],
      "metadata": {
        "id": "xNw4-uUjkNoX"
      }
    },
    {
      "cell_type": "code",
      "source": [
        "train_data_org = pd.read_csv(\"/content/train.csv\") # reading the training dataset file\n",
        "test_data = pd.read_csv(\"/content/test.csv\") # reading the testing dataset file\n",
        "\n",
        "train_data = train_data_org.copy() # making a copy before changes\n",
        "train_data.set_index('id', inplace = True) # setting the index of the training set dataframe to be the coulmn named \"id\" such that we don't lose it.\n",
        "test_data.set_index('id', inplace = True) # setting the index of the testing set dataframe to be the coulmn named \"id\" such that we don't lose it.\n",
        "\n",
        "train_data['income'] = train_data['income'].str.replace(',', '').astype(float)\n",
        "train_data['mn_sat'] = train_data['mn_sat'].str.replace(',', '').astype(float)\n",
        "train_data['tuition'] = train_data['tuition'].str.replace(',', '').astype(float)\n",
        "\n",
        "test_data['income'] = test_data['income'].str.replace(',', '').astype(float)\n",
        "test_data['mn_sat'] = test_data['mn_sat'].str.replace(',', '').astype(float)\n",
        "test_data['tuition'] = test_data['tuition'].str.replace(',', '').astype(float)\n",
        "\n",
        "features_to_drop = [\"idg\", \"pid\", \"field\", \"zipcode\",\"career\", \"partner\",\"undergra\",\"from\"]\n",
        "\n",
        "train_data = train_data.drop(features_to_drop, axis=1) # removing the unneeded features from the training set\n",
        "X_test = test_data.drop(features_to_drop, axis=1) # removing the unneeded features from the testing set\n",
        "\n",
        "# selected columns that are representing categorical values to encoded using one hot encoder\n",
        "categorical_features = [\"condtn\", \"field_cd\",\n",
        "                       \"race\", \"race_o\", \"goal\",\n",
        "                       \"career_c\", \"length\", \"numdat_2\"]\n",
        "\n",
        "# categorical features to be dropped [\"undergra\",\"from\"]\n",
        "\n",
        "for col_name in train_data.columns:\n",
        "    if col_name in categorical_features:\n",
        "        train_data[col_name] = train_data[col_name].astype('category')\n",
        "        X_test[col_name] = X_test[col_name].astype('category')\n",
        "\n",
        "# selecting numeric features\n",
        "features_numeric = list(train_data.select_dtypes(include=['float64', 'int64'])) # returns coulmns names\n",
        "features_numeric.remove(\"match\")\n",
        "print(len(features_numeric))\n",
        "\n",
        "y_train = train_data[\"match\"] # target label series\n",
        "X_train = train_data.drop(['match'], axis=1) # training features df\n",
        "\n",
        "# splitting the dataset into 80% training and 20% testing while using stratify to ensure equal class distribution in training and validation sets\n",
        "X_tr, X_valid, y_tr, y_valid = train_test_split(X_train, y_train, test_size = 0.2, stratify = y_train, random_state=10)"
      ],
      "metadata": {
        "colab": {
          "base_uri": "https://localhost:8080/"
        },
        "id": "SIZTTaB9V06u",
        "outputId": "3f2b58e7-f705-4ce6-d472-7292cc0815d7"
      },
      "execution_count": null,
      "outputs": [
        {
          "output_type": "stream",
          "name": "stdout",
          "text": [
            "174\n"
          ]
        }
      ]
    },
    {
      "cell_type": "markdown",
      "source": [
        "redefine the pipelines"
      ],
      "metadata": {
        "id": "MCvOL2wTkIaF"
      }
    },
    {
      "cell_type": "code",
      "source": [
        "np.random.seed(0)\n",
        "\n",
        "# define a pipe line for numeric feature preprocessing\n",
        "# we gave them a name so we can set their hyperparameters\n",
        "transformer_numeric = Pipeline(\n",
        "    steps=[\n",
        "        ('knn_imputer', KNNImputer()), # K will be searched for\n",
        "        ('scaler', MinMaxScaler()), # scale features to be max of 1 min of 0\n",
        "        ('normalizer', StandardScaler()) # normalization of features to have mean of 0 and std 1\n",
        "    ]\n",
        ")\n",
        "\n",
        "# define a pipe line for categorical feature preprocessing\n",
        "# we gave them a name so we can set their hyperparameters\n",
        "transformer_categorical = Pipeline(\n",
        "    steps=[\n",
        "        ('knn_imputer', KNNImputer()), # K will be searched for\n",
        "        ('onehot', OneHotEncoder(handle_unknown='ignore'))\n",
        "    ]\n",
        ")\n",
        "\n",
        "\n",
        "# define the preprocessor\n",
        "# we gave them a name so we can set their hyperparameters\n",
        "# we also specify what are the categorical\n",
        "preprocessor = ColumnTransformer(\n",
        "    transformers=[\n",
        "        ('num', transformer_numeric, features_numeric),\n",
        "        ('cat', transformer_categorical, categorical_features)\n",
        "    ]\n",
        ")\n"
      ],
      "metadata": {
        "id": "Jc4HaSF_WOwA"
      },
      "execution_count": null,
      "outputs": []
    },
    {
      "cell_type": "markdown",
      "source": [
        "## *5.4) Model 6 XGBoost Classifier using Bayesian Search (without null features drop)*"
      ],
      "metadata": {
        "id": "xdYAi1zUoacI"
      }
    },
    {
      "cell_type": "markdown",
      "source": [
        "XG Boost Full Pipeline"
      ],
      "metadata": {
        "id": "shvLYf0woacJ"
      }
    },
    {
      "cell_type": "code",
      "source": [
        "from xgboost import XGBClassifier\n",
        "# combine the preprocessor with the model as a full tunable pipeline\n",
        "# we gave them a name so we can set their hyperparameters\n",
        "full_pipline = Pipeline(\n",
        "    steps=[\n",
        "        ('preprocessor', preprocessor),\n",
        "        ('my_classifier', XGBClassifier(),\n",
        "        )\n",
        "    ]\n",
        ")\n",
        "full_pipline"
      ],
      "metadata": {
        "colab": {
          "base_uri": "https://localhost:8080/",
          "height": 262
        },
        "outputId": "e85a72f8-c20a-4e6b-ee52-e61d94e27585",
        "id": "CuE31_f5oacJ"
      },
      "execution_count": null,
      "outputs": [
        {
          "output_type": "execute_result",
          "data": {
            "text/plain": [
              "Pipeline(steps=[('preprocessor',\n",
              "                 ColumnTransformer(transformers=[('num',\n",
              "                                                  Pipeline(steps=[('knn_imputer',\n",
              "                                                                   KNNImputer()),\n",
              "                                                                  ('scaler',\n",
              "                                                                   MinMaxScaler()),\n",
              "                                                                  ('normalizer',\n",
              "                                                                   StandardScaler())]),\n",
              "                                                  ['gender', 'wave', 'round',\n",
              "                                                   'position', 'positin1',\n",
              "                                                   'order', 'int_corr',\n",
              "                                                   'samerace', 'age_o',\n",
              "                                                   'pf_o_att', 'pf_o_sin',\n",
              "                                                   'pf_o_int', 'pf_o_fun',\n",
              "                                                   'pf_o_amb', 'pf_o_sha',\n",
              "                                                   'attr_o', 'sinc_o',\n",
              "                                                   'inte...\n",
              "                               feature_types=None, gamma=None, gpu_id=None,\n",
              "                               grow_policy=None, importance_type=None,\n",
              "                               interaction_constraints=None, learning_rate=None,\n",
              "                               max_bin=None, max_cat_threshold=None,\n",
              "                               max_cat_to_onehot=None, max_delta_step=None,\n",
              "                               max_depth=None, max_leaves=None,\n",
              "                               min_child_weight=None, missing=nan,\n",
              "                               monotone_constraints=None, n_estimators=100,\n",
              "                               n_jobs=None, num_parallel_tree=None,\n",
              "                               predictor=None, random_state=None, ...))])"
            ],
            "text/html": [
              "<style>#sk-container-id-3 {color: black;background-color: white;}#sk-container-id-3 pre{padding: 0;}#sk-container-id-3 div.sk-toggleable {background-color: white;}#sk-container-id-3 label.sk-toggleable__label {cursor: pointer;display: block;width: 100%;margin-bottom: 0;padding: 0.3em;box-sizing: border-box;text-align: center;}#sk-container-id-3 label.sk-toggleable__label-arrow:before {content: \"▸\";float: left;margin-right: 0.25em;color: #696969;}#sk-container-id-3 label.sk-toggleable__label-arrow:hover:before {color: black;}#sk-container-id-3 div.sk-estimator:hover label.sk-toggleable__label-arrow:before {color: black;}#sk-container-id-3 div.sk-toggleable__content {max-height: 0;max-width: 0;overflow: hidden;text-align: left;background-color: #f0f8ff;}#sk-container-id-3 div.sk-toggleable__content pre {margin: 0.2em;color: black;border-radius: 0.25em;background-color: #f0f8ff;}#sk-container-id-3 input.sk-toggleable__control:checked~div.sk-toggleable__content {max-height: 200px;max-width: 100%;overflow: auto;}#sk-container-id-3 input.sk-toggleable__control:checked~label.sk-toggleable__label-arrow:before {content: \"▾\";}#sk-container-id-3 div.sk-estimator input.sk-toggleable__control:checked~label.sk-toggleable__label {background-color: #d4ebff;}#sk-container-id-3 div.sk-label input.sk-toggleable__control:checked~label.sk-toggleable__label {background-color: #d4ebff;}#sk-container-id-3 input.sk-hidden--visually {border: 0;clip: rect(1px 1px 1px 1px);clip: rect(1px, 1px, 1px, 1px);height: 1px;margin: -1px;overflow: hidden;padding: 0;position: absolute;width: 1px;}#sk-container-id-3 div.sk-estimator {font-family: monospace;background-color: #f0f8ff;border: 1px dotted black;border-radius: 0.25em;box-sizing: border-box;margin-bottom: 0.5em;}#sk-container-id-3 div.sk-estimator:hover {background-color: #d4ebff;}#sk-container-id-3 div.sk-parallel-item::after {content: \"\";width: 100%;border-bottom: 1px solid gray;flex-grow: 1;}#sk-container-id-3 div.sk-label:hover label.sk-toggleable__label {background-color: #d4ebff;}#sk-container-id-3 div.sk-serial::before {content: \"\";position: absolute;border-left: 1px solid gray;box-sizing: border-box;top: 0;bottom: 0;left: 50%;z-index: 0;}#sk-container-id-3 div.sk-serial {display: flex;flex-direction: column;align-items: center;background-color: white;padding-right: 0.2em;padding-left: 0.2em;position: relative;}#sk-container-id-3 div.sk-item {position: relative;z-index: 1;}#sk-container-id-3 div.sk-parallel {display: flex;align-items: stretch;justify-content: center;background-color: white;position: relative;}#sk-container-id-3 div.sk-item::before, #sk-container-id-3 div.sk-parallel-item::before {content: \"\";position: absolute;border-left: 1px solid gray;box-sizing: border-box;top: 0;bottom: 0;left: 50%;z-index: -1;}#sk-container-id-3 div.sk-parallel-item {display: flex;flex-direction: column;z-index: 1;position: relative;background-color: white;}#sk-container-id-3 div.sk-parallel-item:first-child::after {align-self: flex-end;width: 50%;}#sk-container-id-3 div.sk-parallel-item:last-child::after {align-self: flex-start;width: 50%;}#sk-container-id-3 div.sk-parallel-item:only-child::after {width: 0;}#sk-container-id-3 div.sk-dashed-wrapped {border: 1px dashed gray;margin: 0 0.4em 0.5em 0.4em;box-sizing: border-box;padding-bottom: 0.4em;background-color: white;}#sk-container-id-3 div.sk-label label {font-family: monospace;font-weight: bold;display: inline-block;line-height: 1.2em;}#sk-container-id-3 div.sk-label-container {text-align: center;}#sk-container-id-3 div.sk-container {/* jupyter's `normalize.less` sets `[hidden] { display: none; }` but bootstrap.min.css set `[hidden] { display: none !important; }` so we also need the `!important` here to be able to override the default hidden behavior on the sphinx rendered scikit-learn.org. See: https://github.com/scikit-learn/scikit-learn/issues/21755 */display: inline-block !important;position: relative;}#sk-container-id-3 div.sk-text-repr-fallback {display: none;}</style><div id=\"sk-container-id-3\" class=\"sk-top-container\"><div class=\"sk-text-repr-fallback\"><pre>Pipeline(steps=[(&#x27;preprocessor&#x27;,\n",
              "                 ColumnTransformer(transformers=[(&#x27;num&#x27;,\n",
              "                                                  Pipeline(steps=[(&#x27;knn_imputer&#x27;,\n",
              "                                                                   KNNImputer()),\n",
              "                                                                  (&#x27;scaler&#x27;,\n",
              "                                                                   MinMaxScaler()),\n",
              "                                                                  (&#x27;normalizer&#x27;,\n",
              "                                                                   StandardScaler())]),\n",
              "                                                  [&#x27;gender&#x27;, &#x27;wave&#x27;, &#x27;round&#x27;,\n",
              "                                                   &#x27;position&#x27;, &#x27;positin1&#x27;,\n",
              "                                                   &#x27;order&#x27;, &#x27;int_corr&#x27;,\n",
              "                                                   &#x27;samerace&#x27;, &#x27;age_o&#x27;,\n",
              "                                                   &#x27;pf_o_att&#x27;, &#x27;pf_o_sin&#x27;,\n",
              "                                                   &#x27;pf_o_int&#x27;, &#x27;pf_o_fun&#x27;,\n",
              "                                                   &#x27;pf_o_amb&#x27;, &#x27;pf_o_sha&#x27;,\n",
              "                                                   &#x27;attr_o&#x27;, &#x27;sinc_o&#x27;,\n",
              "                                                   &#x27;inte...\n",
              "                               feature_types=None, gamma=None, gpu_id=None,\n",
              "                               grow_policy=None, importance_type=None,\n",
              "                               interaction_constraints=None, learning_rate=None,\n",
              "                               max_bin=None, max_cat_threshold=None,\n",
              "                               max_cat_to_onehot=None, max_delta_step=None,\n",
              "                               max_depth=None, max_leaves=None,\n",
              "                               min_child_weight=None, missing=nan,\n",
              "                               monotone_constraints=None, n_estimators=100,\n",
              "                               n_jobs=None, num_parallel_tree=None,\n",
              "                               predictor=None, random_state=None, ...))])</pre><b>In a Jupyter environment, please rerun this cell to show the HTML representation or trust the notebook. <br />On GitHub, the HTML representation is unable to render, please try loading this page with nbviewer.org.</b></div><div class=\"sk-container\" hidden><div class=\"sk-item sk-dashed-wrapped\"><div class=\"sk-label-container\"><div class=\"sk-label sk-toggleable\"><input class=\"sk-toggleable__control sk-hidden--visually\" id=\"sk-estimator-id-21\" type=\"checkbox\" ><label for=\"sk-estimator-id-21\" class=\"sk-toggleable__label sk-toggleable__label-arrow\">Pipeline</label><div class=\"sk-toggleable__content\"><pre>Pipeline(steps=[(&#x27;preprocessor&#x27;,\n",
              "                 ColumnTransformer(transformers=[(&#x27;num&#x27;,\n",
              "                                                  Pipeline(steps=[(&#x27;knn_imputer&#x27;,\n",
              "                                                                   KNNImputer()),\n",
              "                                                                  (&#x27;scaler&#x27;,\n",
              "                                                                   MinMaxScaler()),\n",
              "                                                                  (&#x27;normalizer&#x27;,\n",
              "                                                                   StandardScaler())]),\n",
              "                                                  [&#x27;gender&#x27;, &#x27;wave&#x27;, &#x27;round&#x27;,\n",
              "                                                   &#x27;position&#x27;, &#x27;positin1&#x27;,\n",
              "                                                   &#x27;order&#x27;, &#x27;int_corr&#x27;,\n",
              "                                                   &#x27;samerace&#x27;, &#x27;age_o&#x27;,\n",
              "                                                   &#x27;pf_o_att&#x27;, &#x27;pf_o_sin&#x27;,\n",
              "                                                   &#x27;pf_o_int&#x27;, &#x27;pf_o_fun&#x27;,\n",
              "                                                   &#x27;pf_o_amb&#x27;, &#x27;pf_o_sha&#x27;,\n",
              "                                                   &#x27;attr_o&#x27;, &#x27;sinc_o&#x27;,\n",
              "                                                   &#x27;inte...\n",
              "                               feature_types=None, gamma=None, gpu_id=None,\n",
              "                               grow_policy=None, importance_type=None,\n",
              "                               interaction_constraints=None, learning_rate=None,\n",
              "                               max_bin=None, max_cat_threshold=None,\n",
              "                               max_cat_to_onehot=None, max_delta_step=None,\n",
              "                               max_depth=None, max_leaves=None,\n",
              "                               min_child_weight=None, missing=nan,\n",
              "                               monotone_constraints=None, n_estimators=100,\n",
              "                               n_jobs=None, num_parallel_tree=None,\n",
              "                               predictor=None, random_state=None, ...))])</pre></div></div></div><div class=\"sk-serial\"><div class=\"sk-item sk-dashed-wrapped\"><div class=\"sk-label-container\"><div class=\"sk-label sk-toggleable\"><input class=\"sk-toggleable__control sk-hidden--visually\" id=\"sk-estimator-id-22\" type=\"checkbox\" ><label for=\"sk-estimator-id-22\" class=\"sk-toggleable__label sk-toggleable__label-arrow\">preprocessor: ColumnTransformer</label><div class=\"sk-toggleable__content\"><pre>ColumnTransformer(transformers=[(&#x27;num&#x27;,\n",
              "                                 Pipeline(steps=[(&#x27;knn_imputer&#x27;, KNNImputer()),\n",
              "                                                 (&#x27;scaler&#x27;, MinMaxScaler()),\n",
              "                                                 (&#x27;normalizer&#x27;,\n",
              "                                                  StandardScaler())]),\n",
              "                                 [&#x27;gender&#x27;, &#x27;wave&#x27;, &#x27;round&#x27;, &#x27;position&#x27;,\n",
              "                                  &#x27;positin1&#x27;, &#x27;order&#x27;, &#x27;int_corr&#x27;, &#x27;samerace&#x27;,\n",
              "                                  &#x27;age_o&#x27;, &#x27;pf_o_att&#x27;, &#x27;pf_o_sin&#x27;, &#x27;pf_o_int&#x27;,\n",
              "                                  &#x27;pf_o_fun&#x27;, &#x27;pf_o_amb&#x27;, &#x27;pf_o_sha&#x27;, &#x27;attr_o&#x27;,\n",
              "                                  &#x27;sinc_o&#x27;, &#x27;intel_o&#x27;, &#x27;fun_o&#x27;, &#x27;amb_o&#x27;,\n",
              "                                  &#x27;shar_o&#x27;, &#x27;like_o&#x27;, &#x27;prob_o&#x27;, &#x27;met_o&#x27;, &#x27;age&#x27;,\n",
              "                                  &#x27;mn_sat&#x27;, &#x27;tuition&#x27;, &#x27;imprace&#x27;, &#x27;imprelig&#x27;,\n",
              "                                  &#x27;income&#x27;, ...]),\n",
              "                                (&#x27;cat&#x27;,\n",
              "                                 Pipeline(steps=[(&#x27;knn_imputer&#x27;, KNNImputer()),\n",
              "                                                 (&#x27;onehot&#x27;,\n",
              "                                                  OneHotEncoder(handle_unknown=&#x27;ignore&#x27;))]),\n",
              "                                 [&#x27;condtn&#x27;, &#x27;field_cd&#x27;, &#x27;race&#x27;, &#x27;race_o&#x27;,\n",
              "                                  &#x27;goal&#x27;, &#x27;career_c&#x27;, &#x27;length&#x27;, &#x27;numdat_2&#x27;])])</pre></div></div></div><div class=\"sk-parallel\"><div class=\"sk-parallel-item\"><div class=\"sk-item\"><div class=\"sk-label-container\"><div class=\"sk-label sk-toggleable\"><input class=\"sk-toggleable__control sk-hidden--visually\" id=\"sk-estimator-id-23\" type=\"checkbox\" ><label for=\"sk-estimator-id-23\" class=\"sk-toggleable__label sk-toggleable__label-arrow\">num</label><div class=\"sk-toggleable__content\"><pre>[&#x27;gender&#x27;, &#x27;wave&#x27;, &#x27;round&#x27;, &#x27;position&#x27;, &#x27;positin1&#x27;, &#x27;order&#x27;, &#x27;int_corr&#x27;, &#x27;samerace&#x27;, &#x27;age_o&#x27;, &#x27;pf_o_att&#x27;, &#x27;pf_o_sin&#x27;, &#x27;pf_o_int&#x27;, &#x27;pf_o_fun&#x27;, &#x27;pf_o_amb&#x27;, &#x27;pf_o_sha&#x27;, &#x27;attr_o&#x27;, &#x27;sinc_o&#x27;, &#x27;intel_o&#x27;, &#x27;fun_o&#x27;, &#x27;amb_o&#x27;, &#x27;shar_o&#x27;, &#x27;like_o&#x27;, &#x27;prob_o&#x27;, &#x27;met_o&#x27;, &#x27;age&#x27;, &#x27;mn_sat&#x27;, &#x27;tuition&#x27;, &#x27;imprace&#x27;, &#x27;imprelig&#x27;, &#x27;income&#x27;, &#x27;date&#x27;, &#x27;go_out&#x27;, &#x27;sports&#x27;, &#x27;tvsports&#x27;, &#x27;exercise&#x27;, &#x27;dining&#x27;, &#x27;museums&#x27;, &#x27;art&#x27;, &#x27;hiking&#x27;, &#x27;gaming&#x27;, &#x27;clubbing&#x27;, &#x27;reading&#x27;, &#x27;tv&#x27;, &#x27;theater&#x27;, &#x27;movies&#x27;, &#x27;concerts&#x27;, &#x27;music&#x27;, &#x27;shopping&#x27;, &#x27;yoga&#x27;, &#x27;exphappy&#x27;, &#x27;expnum&#x27;, &#x27;attr1_1&#x27;, &#x27;sinc1_1&#x27;, &#x27;intel1_1&#x27;, &#x27;fun1_1&#x27;, &#x27;amb1_1&#x27;, &#x27;shar1_1&#x27;, &#x27;attr4_1&#x27;, &#x27;sinc4_1&#x27;, &#x27;intel4_1&#x27;, &#x27;fun4_1&#x27;, &#x27;amb4_1&#x27;, &#x27;shar4_1&#x27;, &#x27;attr2_1&#x27;, &#x27;sinc2_1&#x27;, &#x27;intel2_1&#x27;, &#x27;fun2_1&#x27;, &#x27;amb2_1&#x27;, &#x27;shar2_1&#x27;, &#x27;attr3_1&#x27;, &#x27;sinc3_1&#x27;, &#x27;fun3_1&#x27;, &#x27;intel3_1&#x27;, &#x27;amb3_1&#x27;, &#x27;attr5_1&#x27;, &#x27;sinc5_1&#x27;, &#x27;intel5_1&#x27;, &#x27;fun5_1&#x27;, &#x27;amb5_1&#x27;, &#x27;attr&#x27;, &#x27;sinc&#x27;, &#x27;intel&#x27;, &#x27;fun&#x27;, &#x27;amb&#x27;, &#x27;shar&#x27;, &#x27;like&#x27;, &#x27;prob&#x27;, &#x27;met&#x27;, &#x27;match_es&#x27;, &#x27;attr1_s&#x27;, &#x27;sinc1_s&#x27;, &#x27;intel1_s&#x27;, &#x27;fun1_s&#x27;, &#x27;amb1_s&#x27;, &#x27;shar1_s&#x27;, &#x27;attr3_s&#x27;, &#x27;sinc3_s&#x27;, &#x27;intel3_s&#x27;, &#x27;fun3_s&#x27;, &#x27;amb3_s&#x27;, &#x27;satis_2&#x27;, &#x27;attr7_2&#x27;, &#x27;sinc7_2&#x27;, &#x27;intel7_2&#x27;, &#x27;fun7_2&#x27;, &#x27;amb7_2&#x27;, &#x27;shar7_2&#x27;, &#x27;attr1_2&#x27;, &#x27;sinc1_2&#x27;, &#x27;intel1_2&#x27;, &#x27;fun1_2&#x27;, &#x27;amb1_2&#x27;, &#x27;shar1_2&#x27;, &#x27;attr4_2&#x27;, &#x27;sinc4_2&#x27;, &#x27;intel4_2&#x27;, &#x27;fun4_2&#x27;, &#x27;amb4_2&#x27;, &#x27;shar4_2&#x27;, &#x27;attr2_2&#x27;, &#x27;sinc2_2&#x27;, &#x27;intel2_2&#x27;, &#x27;fun2_2&#x27;, &#x27;amb2_2&#x27;, &#x27;shar2_2&#x27;, &#x27;attr3_2&#x27;, &#x27;sinc3_2&#x27;, &#x27;intel3_2&#x27;, &#x27;fun3_2&#x27;, &#x27;amb3_2&#x27;, &#x27;attr5_2&#x27;, &#x27;sinc5_2&#x27;, &#x27;intel5_2&#x27;, &#x27;fun5_2&#x27;, &#x27;amb5_2&#x27;, &#x27;you_call&#x27;, &#x27;them_cal&#x27;, &#x27;date_3&#x27;, &#x27;numdat_3&#x27;, &#x27;num_in_3&#x27;, &#x27;attr1_3&#x27;, &#x27;sinc1_3&#x27;, &#x27;intel1_3&#x27;, &#x27;fun1_3&#x27;, &#x27;amb1_3&#x27;, &#x27;shar1_3&#x27;, &#x27;attr7_3&#x27;, &#x27;sinc7_3&#x27;, &#x27;intel7_3&#x27;, &#x27;fun7_3&#x27;, &#x27;amb7_3&#x27;, &#x27;shar7_3&#x27;, &#x27;attr4_3&#x27;, &#x27;sinc4_3&#x27;, &#x27;intel4_3&#x27;, &#x27;fun4_3&#x27;, &#x27;amb4_3&#x27;, &#x27;shar4_3&#x27;, &#x27;attr2_3&#x27;, &#x27;sinc2_3&#x27;, &#x27;intel2_3&#x27;, &#x27;fun2_3&#x27;, &#x27;amb2_3&#x27;, &#x27;shar2_3&#x27;, &#x27;attr3_3&#x27;, &#x27;sinc3_3&#x27;, &#x27;intel3_3&#x27;, &#x27;fun3_3&#x27;, &#x27;amb3_3&#x27;, &#x27;attr5_3&#x27;, &#x27;sinc5_3&#x27;, &#x27;intel5_3&#x27;, &#x27;fun5_3&#x27;, &#x27;amb5_3&#x27;]</pre></div></div></div><div class=\"sk-serial\"><div class=\"sk-item\"><div class=\"sk-serial\"><div class=\"sk-item\"><div class=\"sk-estimator sk-toggleable\"><input class=\"sk-toggleable__control sk-hidden--visually\" id=\"sk-estimator-id-24\" type=\"checkbox\" ><label for=\"sk-estimator-id-24\" class=\"sk-toggleable__label sk-toggleable__label-arrow\">KNNImputer</label><div class=\"sk-toggleable__content\"><pre>KNNImputer()</pre></div></div></div><div class=\"sk-item\"><div class=\"sk-estimator sk-toggleable\"><input class=\"sk-toggleable__control sk-hidden--visually\" id=\"sk-estimator-id-25\" type=\"checkbox\" ><label for=\"sk-estimator-id-25\" class=\"sk-toggleable__label sk-toggleable__label-arrow\">MinMaxScaler</label><div class=\"sk-toggleable__content\"><pre>MinMaxScaler()</pre></div></div></div><div class=\"sk-item\"><div class=\"sk-estimator sk-toggleable\"><input class=\"sk-toggleable__control sk-hidden--visually\" id=\"sk-estimator-id-26\" type=\"checkbox\" ><label for=\"sk-estimator-id-26\" class=\"sk-toggleable__label sk-toggleable__label-arrow\">StandardScaler</label><div class=\"sk-toggleable__content\"><pre>StandardScaler()</pre></div></div></div></div></div></div></div></div><div class=\"sk-parallel-item\"><div class=\"sk-item\"><div class=\"sk-label-container\"><div class=\"sk-label sk-toggleable\"><input class=\"sk-toggleable__control sk-hidden--visually\" id=\"sk-estimator-id-27\" type=\"checkbox\" ><label for=\"sk-estimator-id-27\" class=\"sk-toggleable__label sk-toggleable__label-arrow\">cat</label><div class=\"sk-toggleable__content\"><pre>[&#x27;condtn&#x27;, &#x27;field_cd&#x27;, &#x27;race&#x27;, &#x27;race_o&#x27;, &#x27;goal&#x27;, &#x27;career_c&#x27;, &#x27;length&#x27;, &#x27;numdat_2&#x27;]</pre></div></div></div><div class=\"sk-serial\"><div class=\"sk-item\"><div class=\"sk-serial\"><div class=\"sk-item\"><div class=\"sk-estimator sk-toggleable\"><input class=\"sk-toggleable__control sk-hidden--visually\" id=\"sk-estimator-id-28\" type=\"checkbox\" ><label for=\"sk-estimator-id-28\" class=\"sk-toggleable__label sk-toggleable__label-arrow\">KNNImputer</label><div class=\"sk-toggleable__content\"><pre>KNNImputer()</pre></div></div></div><div class=\"sk-item\"><div class=\"sk-estimator sk-toggleable\"><input class=\"sk-toggleable__control sk-hidden--visually\" id=\"sk-estimator-id-29\" type=\"checkbox\" ><label for=\"sk-estimator-id-29\" class=\"sk-toggleable__label sk-toggleable__label-arrow\">OneHotEncoder</label><div class=\"sk-toggleable__content\"><pre>OneHotEncoder(handle_unknown=&#x27;ignore&#x27;)</pre></div></div></div></div></div></div></div></div></div></div><div class=\"sk-item\"><div class=\"sk-estimator sk-toggleable\"><input class=\"sk-toggleable__control sk-hidden--visually\" id=\"sk-estimator-id-30\" type=\"checkbox\" ><label for=\"sk-estimator-id-30\" class=\"sk-toggleable__label sk-toggleable__label-arrow\">XGBClassifier</label><div class=\"sk-toggleable__content\"><pre>XGBClassifier(base_score=None, booster=None, callbacks=None,\n",
              "              colsample_bylevel=None, colsample_bynode=None,\n",
              "              colsample_bytree=None, early_stopping_rounds=None,\n",
              "              enable_categorical=False, eval_metric=None, feature_types=None,\n",
              "              gamma=None, gpu_id=None, grow_policy=None, importance_type=None,\n",
              "              interaction_constraints=None, learning_rate=None, max_bin=None,\n",
              "              max_cat_threshold=None, max_cat_to_onehot=None,\n",
              "              max_delta_step=None, max_depth=None, max_leaves=None,\n",
              "              min_child_weight=None, missing=nan, monotone_constraints=None,\n",
              "              n_estimators=100, n_jobs=None, num_parallel_tree=None,\n",
              "              predictor=None, random_state=None, ...)</pre></div></div></div></div></div></div></div>"
            ]
          },
          "metadata": {},
          "execution_count": 48
        }
      ]
    },
    {
      "cell_type": "code",
      "source": [
        "from skopt import BayesSearchCV\n",
        "from sklearn.metrics import roc_auc_score\n",
        "# here we specify the search space\n",
        "# `__` denotes an attribute of the preceeding name\n",
        "# (e.g. my_classifier__n_estimators means the `n_estimators` param for `my_classifier`)\n",
        "\n",
        "scale_pos_weight = (train_data_org[\"match\"].value_counts()[1]/train_data_org[\"match\"].value_counts()[0])\n",
        "\n",
        "# hyperparameters search space of both the model and preprocessing\n",
        "param_grid = {\n",
        "    # preprocessing hyperparameters\n",
        "    'preprocessor__num__knn_imputer__n_neighbors': [5],\n",
        "    'preprocessor__cat__knn_imputer__n_neighbors': [5],\n",
        "    # model hyperparameters\n",
        "    'my_classifier__learning_rate': [0.01, 0.1],\n",
        "    'my_classifier__gamma': [0.20],\n",
        "    'my_classifier__n_estimators': [100, 250, 500],\n",
        "    'my_classifier__subsample': [0.5, 0.8],\n",
        "    'my_classifier__colsample_bytree': [0.5, 0.8],\n",
        "    'my_classifier__scale_pos_weight' : [scale_pos_weight**2]\n",
        "}\n",
        "\n",
        "# XGboost bayesian search instance\n",
        "bayes_search = BayesSearchCV(full_pipline, # pipeline containing the model and preprocessing\n",
        "                              param_grid, # pipeline hyperparameters\n",
        "                              cv=5, # five-fold cross-validation\n",
        "                              verbose=1,\n",
        "                              n_jobs=2, # number of concurrent threads, colab have two cpu cores, we set it to 2\n",
        "                              n_iter=10, # number of trials (hyperparameters combinations to try)\n",
        "                              scoring='roc_auc') # scoring metric used to evaluate the cross-validation data with it\n",
        "\n",
        "# model fitting and training using the training data (will use the optimal hyperparameters that will be found)\n",
        "bayes_search.fit(X_tr, y_tr)\n",
        "\n",
        "print('best score {}'.format(bayes_search.best_score_)) # getting the best validation AUC score\n",
        "print('best score {}'.format(bayes_search.best_params_)) # getting the optimal hyperparameters values found"
      ],
      "metadata": {
        "colab": {
          "base_uri": "https://localhost:8080/"
        },
        "outputId": "319b1971-0644-4d47-eebf-5d61ebf8d93e",
        "id": "k8fbg3oKoacJ"
      },
      "execution_count": null,
      "outputs": [
        {
          "output_type": "stream",
          "name": "stdout",
          "text": [
            "Fitting 5 folds for each of 1 candidates, totalling 5 fits\n",
            "Fitting 5 folds for each of 1 candidates, totalling 5 fits\n",
            "Fitting 5 folds for each of 1 candidates, totalling 5 fits\n",
            "Fitting 5 folds for each of 1 candidates, totalling 5 fits\n",
            "Fitting 5 folds for each of 1 candidates, totalling 5 fits\n",
            "Fitting 5 folds for each of 1 candidates, totalling 5 fits\n",
            "Fitting 5 folds for each of 1 candidates, totalling 5 fits\n",
            "Fitting 5 folds for each of 1 candidates, totalling 5 fits\n",
            "Fitting 5 folds for each of 1 candidates, totalling 5 fits\n",
            "Fitting 5 folds for each of 1 candidates, totalling 5 fits\n",
            "best score 0.8649430694490018\n",
            "best score OrderedDict([('my_classifier__colsample_bytree', 0.7627650274405504), ('my_classifier__gamma', 0.2), ('my_classifier__learning_rate', 0.06535867808092242), ('my_classifier__n_estimators', 250), ('my_classifier__scale_pos_weight', 0.04030947660291289), ('my_classifier__subsample', 0.762510161502491), ('preprocessor__cat__knn_imputer__n_neighbors', 5), ('preprocessor__num__knn_imputer__n_neighbors', 5)])\n"
          ]
        }
      ]
    },
    {
      "cell_type": "markdown",
      "source": [
        "Validation Score"
      ],
      "metadata": {
        "id": "4KjxHXqfV7L6"
      }
    },
    {
      "cell_type": "code",
      "source": [
        "# the resulting model is the same search instance with the best hyperparameters\n",
        "# we can use it directly to test the performance on our unseen validation data\n",
        "y_pred_xg_bayes = bayes_search.predict(X_valid)\n",
        "auc_xg_bayes = roc_auc_score(y_valid, y_pred_xg_bayes)\n",
        "print(auc_xg_bayes)"
      ],
      "metadata": {
        "colab": {
          "base_uri": "https://localhost:8080/"
        },
        "outputId": "de122a5d-5543-4ab1-b55a-2c7d0460f5f9",
        "id": "gmm16-W4oacJ"
      },
      "execution_count": null,
      "outputs": [
        {
          "output_type": "stream",
          "name": "stdout",
          "text": [
            "0.5328282828282829\n"
          ]
        }
      ]
    },
    {
      "cell_type": "markdown",
      "source": [
        "Testing (Predictions of test set)"
      ],
      "metadata": {
        "id": "wnyYqW3wV9Z2"
      }
    },
    {
      "cell_type": "code",
      "source": [
        "submission = pd.DataFrame()\n",
        "submission['id'] = X_test.index\n",
        "submission['match'] = bayes_search.predict_proba(X_test)[:,1]\n",
        "submission.to_csv('submission.csv', index=False)\n"
      ],
      "metadata": {
        "id": "Nm6PF0yFoacK"
      },
      "execution_count": null,
      "outputs": []
    },
    {
      "cell_type": "markdown",
      "source": [
        "Observations and trial summary"
      ],
      "metadata": {
        "id": "cI_oOYtm7INi"
      }
    },
    {
      "cell_type": "markdown",
      "source": [
        "| Aspect                                                \t| Comment                                                                                                                                                                  \t|\n",
        "|-------------------------------------------------------\t|--------------------------------------------------------------------------------------------------------------------------------------------------------------------------\t|\n",
        "| _1- Model type_                                          \t| XGboost (boosting)                                                                                                                                                            \t|\n",
        "| _2- Model hyperparameters space_                         \t| learning_rate': [0.01, 0.1], <br /> gamma': [0.20], --> set to previously found optimal value <br /> n_estimators': [100, 250, 500], --> decreased the lower bound in the direction of potentail better values <br /> subsample': [0.5, 0.8], <br /> colsample_bytree': [0.5, 0.8], <br /> scale_pos_weight' : [scale_pos_weight**2] --> used the square of the parameter for better compenstaion of the under-represented class                                                                                                                                              \t|\n",
        "| _3- Preprocessing hyperparameters space_                 \t| n_neighbors': [5] for both numeric and categorical features imputation                                                                                                                                                    \t|\n",
        "| _4- Class imbalance treatment_                 \t| Treated with \"scale_pos_weight\" hyperparameter.                                                                                                                                                   \t|\n",
        "| _5- Optimal hyperparameters found_                       \t| ('my_classifier__colsample_bytree', 0.76), <br />('my_classifier__gamma', 0.2),<br /> ('my_classifier__learning_rate', 0.065),<br /> ('my_classifier__n_estimators', 250), <br />('my_classifier__scale_pos_weight', 0.04), <br />('my_classifier__subsample', 0.76),<br /> ('preprocessor__cat__knn_imputer__n_neighbors', 5),<br /> ('preprocessor__num__knn_imputer__n_neighbors', 5)\t|\n",
        "| _6- Best cross validation AUC score_                     \t| 0.86                                                                                                                                                                     \t|\n",
        "| _7- AUC score on held out validation set_                \t| 0.53                                                                                                                                                                     \t|\n",
        "| _8- AUC score on kaggle test set (public)_                            | 0.87               |\n",
        "| _9- Observed performance and thoughts on it_             \t|     - The model is still underfitting as it can be noticed even after we added more features, maybe we should provide more percentage values for \"subsample\" and <br />\"colsample_bytree\" hyperparameters, we can try using 100% of features and training examples for each tree.                                                                                                                                                               \t|\n",
        "| _10- Reason for changes (if any) and plan for next trial_ \t|                                                                               - The model is not complex enough and we need to explore wider range of hyperparameters or decrease the parameters that are regularizing the tree. <br />however we will try another classification algorithms to check their performance. We will begin with SVM classifier.                                                                                   \t|\n",
        "| _11- Expected outcome_                                    \t|                                                                               We expect the next SVC model will have good performace as it usually scales relatively well to high dimensional data                                                                                        \t|"
      ],
      "metadata": {
        "id": "4lP4scgVNujh"
      }
    },
    {
      "cell_type": "markdown",
      "source": [
        "## *5.5) Model 4 SVM Classifier Using Randomized Search (without null features drop)*"
      ],
      "metadata": {
        "id": "zAbNPWO6Gzgo"
      }
    },
    {
      "cell_type": "markdown",
      "source": [
        "SVC Full Pipeline"
      ],
      "metadata": {
        "id": "-UeW01ogHGrd"
      }
    },
    {
      "cell_type": "code",
      "source": [
        "from sklearn.svm import SVC\n",
        "# combine the preprocessor with the model as a full tunable pipeline\n",
        "# we gave them a name so we can set their hyperparameters\n",
        "full_pipline = Pipeline(\n",
        "    steps=[\n",
        "        ('preprocessor', preprocessor),\n",
        "        ('my_classifier', SVC(class_weight = \"balanced\"),\n",
        "        )\n",
        "    ]\n",
        ")\n",
        "full_pipline"
      ],
      "metadata": {
        "colab": {
          "base_uri": "https://localhost:8080/",
          "height": 262
        },
        "id": "77MbNEfzHERx",
        "outputId": "e683a4b9-daed-477f-9d2d-c8c5fcb1c36b"
      },
      "execution_count": null,
      "outputs": [
        {
          "output_type": "execute_result",
          "data": {
            "text/plain": [
              "Pipeline(steps=[('preprocessor',\n",
              "                 ColumnTransformer(transformers=[('num',\n",
              "                                                  Pipeline(steps=[('knn_imputer',\n",
              "                                                                   KNNImputer()),\n",
              "                                                                  ('scaler',\n",
              "                                                                   MinMaxScaler()),\n",
              "                                                                  ('normalizer',\n",
              "                                                                   StandardScaler())]),\n",
              "                                                  ['gender', 'wave', 'round',\n",
              "                                                   'position', 'positin1',\n",
              "                                                   'order', 'int_corr',\n",
              "                                                   'samerace', 'age_o',\n",
              "                                                   'pf_o_att', 'pf_o_sin',\n",
              "                                                   'pf_o_int', 'pf_o_fun',\n",
              "                                                   'pf_o_amb', 'pf_o_sha',\n",
              "                                                   'attr_o', 'sinc_o',\n",
              "                                                   'intel_o', 'fun_o', 'amb_o',\n",
              "                                                   'shar_o', 'like_o', 'prob_o',\n",
              "                                                   'met_o', 'age', 'mn_sat',\n",
              "                                                   'tuition', 'imprace',\n",
              "                                                   'imprelig', 'income', ...]),\n",
              "                                                 ('cat',\n",
              "                                                  Pipeline(steps=[('knn_imputer',\n",
              "                                                                   KNNImputer()),\n",
              "                                                                  ('onehot',\n",
              "                                                                   OneHotEncoder(handle_unknown='ignore'))]),\n",
              "                                                  ['condtn', 'field_cd', 'race',\n",
              "                                                   'race_o', 'goal', 'career_c',\n",
              "                                                   'length', 'numdat_2'])])),\n",
              "                ('my_classifier', SVC(class_weight='balanced'))])"
            ],
            "text/html": [
              "<style>#sk-container-id-20 {color: black;background-color: white;}#sk-container-id-20 pre{padding: 0;}#sk-container-id-20 div.sk-toggleable {background-color: white;}#sk-container-id-20 label.sk-toggleable__label {cursor: pointer;display: block;width: 100%;margin-bottom: 0;padding: 0.3em;box-sizing: border-box;text-align: center;}#sk-container-id-20 label.sk-toggleable__label-arrow:before {content: \"▸\";float: left;margin-right: 0.25em;color: #696969;}#sk-container-id-20 label.sk-toggleable__label-arrow:hover:before {color: black;}#sk-container-id-20 div.sk-estimator:hover label.sk-toggleable__label-arrow:before {color: black;}#sk-container-id-20 div.sk-toggleable__content {max-height: 0;max-width: 0;overflow: hidden;text-align: left;background-color: #f0f8ff;}#sk-container-id-20 div.sk-toggleable__content pre {margin: 0.2em;color: black;border-radius: 0.25em;background-color: #f0f8ff;}#sk-container-id-20 input.sk-toggleable__control:checked~div.sk-toggleable__content {max-height: 200px;max-width: 100%;overflow: auto;}#sk-container-id-20 input.sk-toggleable__control:checked~label.sk-toggleable__label-arrow:before {content: \"▾\";}#sk-container-id-20 div.sk-estimator input.sk-toggleable__control:checked~label.sk-toggleable__label {background-color: #d4ebff;}#sk-container-id-20 div.sk-label input.sk-toggleable__control:checked~label.sk-toggleable__label {background-color: #d4ebff;}#sk-container-id-20 input.sk-hidden--visually {border: 0;clip: rect(1px 1px 1px 1px);clip: rect(1px, 1px, 1px, 1px);height: 1px;margin: -1px;overflow: hidden;padding: 0;position: absolute;width: 1px;}#sk-container-id-20 div.sk-estimator {font-family: monospace;background-color: #f0f8ff;border: 1px dotted black;border-radius: 0.25em;box-sizing: border-box;margin-bottom: 0.5em;}#sk-container-id-20 div.sk-estimator:hover {background-color: #d4ebff;}#sk-container-id-20 div.sk-parallel-item::after {content: \"\";width: 100%;border-bottom: 1px solid gray;flex-grow: 1;}#sk-container-id-20 div.sk-label:hover label.sk-toggleable__label {background-color: #d4ebff;}#sk-container-id-20 div.sk-serial::before {content: \"\";position: absolute;border-left: 1px solid gray;box-sizing: border-box;top: 0;bottom: 0;left: 50%;z-index: 0;}#sk-container-id-20 div.sk-serial {display: flex;flex-direction: column;align-items: center;background-color: white;padding-right: 0.2em;padding-left: 0.2em;position: relative;}#sk-container-id-20 div.sk-item {position: relative;z-index: 1;}#sk-container-id-20 div.sk-parallel {display: flex;align-items: stretch;justify-content: center;background-color: white;position: relative;}#sk-container-id-20 div.sk-item::before, #sk-container-id-20 div.sk-parallel-item::before {content: \"\";position: absolute;border-left: 1px solid gray;box-sizing: border-box;top: 0;bottom: 0;left: 50%;z-index: -1;}#sk-container-id-20 div.sk-parallel-item {display: flex;flex-direction: column;z-index: 1;position: relative;background-color: white;}#sk-container-id-20 div.sk-parallel-item:first-child::after {align-self: flex-end;width: 50%;}#sk-container-id-20 div.sk-parallel-item:last-child::after {align-self: flex-start;width: 50%;}#sk-container-id-20 div.sk-parallel-item:only-child::after {width: 0;}#sk-container-id-20 div.sk-dashed-wrapped {border: 1px dashed gray;margin: 0 0.4em 0.5em 0.4em;box-sizing: border-box;padding-bottom: 0.4em;background-color: white;}#sk-container-id-20 div.sk-label label {font-family: monospace;font-weight: bold;display: inline-block;line-height: 1.2em;}#sk-container-id-20 div.sk-label-container {text-align: center;}#sk-container-id-20 div.sk-container {/* jupyter's `normalize.less` sets `[hidden] { display: none; }` but bootstrap.min.css set `[hidden] { display: none !important; }` so we also need the `!important` here to be able to override the default hidden behavior on the sphinx rendered scikit-learn.org. See: https://github.com/scikit-learn/scikit-learn/issues/21755 */display: inline-block !important;position: relative;}#sk-container-id-20 div.sk-text-repr-fallback {display: none;}</style><div id=\"sk-container-id-20\" class=\"sk-top-container\"><div class=\"sk-text-repr-fallback\"><pre>Pipeline(steps=[(&#x27;preprocessor&#x27;,\n",
              "                 ColumnTransformer(transformers=[(&#x27;num&#x27;,\n",
              "                                                  Pipeline(steps=[(&#x27;knn_imputer&#x27;,\n",
              "                                                                   KNNImputer()),\n",
              "                                                                  (&#x27;scaler&#x27;,\n",
              "                                                                   MinMaxScaler()),\n",
              "                                                                  (&#x27;normalizer&#x27;,\n",
              "                                                                   StandardScaler())]),\n",
              "                                                  [&#x27;gender&#x27;, &#x27;wave&#x27;, &#x27;round&#x27;,\n",
              "                                                   &#x27;position&#x27;, &#x27;positin1&#x27;,\n",
              "                                                   &#x27;order&#x27;, &#x27;int_corr&#x27;,\n",
              "                                                   &#x27;samerace&#x27;, &#x27;age_o&#x27;,\n",
              "                                                   &#x27;pf_o_att&#x27;, &#x27;pf_o_sin&#x27;,\n",
              "                                                   &#x27;pf_o_int&#x27;, &#x27;pf_o_fun&#x27;,\n",
              "                                                   &#x27;pf_o_amb&#x27;, &#x27;pf_o_sha&#x27;,\n",
              "                                                   &#x27;attr_o&#x27;, &#x27;sinc_o&#x27;,\n",
              "                                                   &#x27;intel_o&#x27;, &#x27;fun_o&#x27;, &#x27;amb_o&#x27;,\n",
              "                                                   &#x27;shar_o&#x27;, &#x27;like_o&#x27;, &#x27;prob_o&#x27;,\n",
              "                                                   &#x27;met_o&#x27;, &#x27;age&#x27;, &#x27;mn_sat&#x27;,\n",
              "                                                   &#x27;tuition&#x27;, &#x27;imprace&#x27;,\n",
              "                                                   &#x27;imprelig&#x27;, &#x27;income&#x27;, ...]),\n",
              "                                                 (&#x27;cat&#x27;,\n",
              "                                                  Pipeline(steps=[(&#x27;knn_imputer&#x27;,\n",
              "                                                                   KNNImputer()),\n",
              "                                                                  (&#x27;onehot&#x27;,\n",
              "                                                                   OneHotEncoder(handle_unknown=&#x27;ignore&#x27;))]),\n",
              "                                                  [&#x27;condtn&#x27;, &#x27;field_cd&#x27;, &#x27;race&#x27;,\n",
              "                                                   &#x27;race_o&#x27;, &#x27;goal&#x27;, &#x27;career_c&#x27;,\n",
              "                                                   &#x27;length&#x27;, &#x27;numdat_2&#x27;])])),\n",
              "                (&#x27;my_classifier&#x27;, SVC(class_weight=&#x27;balanced&#x27;))])</pre><b>In a Jupyter environment, please rerun this cell to show the HTML representation or trust the notebook. <br />On GitHub, the HTML representation is unable to render, please try loading this page with nbviewer.org.</b></div><div class=\"sk-container\" hidden><div class=\"sk-item sk-dashed-wrapped\"><div class=\"sk-label-container\"><div class=\"sk-label sk-toggleable\"><input class=\"sk-toggleable__control sk-hidden--visually\" id=\"sk-estimator-id-221\" type=\"checkbox\" ><label for=\"sk-estimator-id-221\" class=\"sk-toggleable__label sk-toggleable__label-arrow\">Pipeline</label><div class=\"sk-toggleable__content\"><pre>Pipeline(steps=[(&#x27;preprocessor&#x27;,\n",
              "                 ColumnTransformer(transformers=[(&#x27;num&#x27;,\n",
              "                                                  Pipeline(steps=[(&#x27;knn_imputer&#x27;,\n",
              "                                                                   KNNImputer()),\n",
              "                                                                  (&#x27;scaler&#x27;,\n",
              "                                                                   MinMaxScaler()),\n",
              "                                                                  (&#x27;normalizer&#x27;,\n",
              "                                                                   StandardScaler())]),\n",
              "                                                  [&#x27;gender&#x27;, &#x27;wave&#x27;, &#x27;round&#x27;,\n",
              "                                                   &#x27;position&#x27;, &#x27;positin1&#x27;,\n",
              "                                                   &#x27;order&#x27;, &#x27;int_corr&#x27;,\n",
              "                                                   &#x27;samerace&#x27;, &#x27;age_o&#x27;,\n",
              "                                                   &#x27;pf_o_att&#x27;, &#x27;pf_o_sin&#x27;,\n",
              "                                                   &#x27;pf_o_int&#x27;, &#x27;pf_o_fun&#x27;,\n",
              "                                                   &#x27;pf_o_amb&#x27;, &#x27;pf_o_sha&#x27;,\n",
              "                                                   &#x27;attr_o&#x27;, &#x27;sinc_o&#x27;,\n",
              "                                                   &#x27;intel_o&#x27;, &#x27;fun_o&#x27;, &#x27;amb_o&#x27;,\n",
              "                                                   &#x27;shar_o&#x27;, &#x27;like_o&#x27;, &#x27;prob_o&#x27;,\n",
              "                                                   &#x27;met_o&#x27;, &#x27;age&#x27;, &#x27;mn_sat&#x27;,\n",
              "                                                   &#x27;tuition&#x27;, &#x27;imprace&#x27;,\n",
              "                                                   &#x27;imprelig&#x27;, &#x27;income&#x27;, ...]),\n",
              "                                                 (&#x27;cat&#x27;,\n",
              "                                                  Pipeline(steps=[(&#x27;knn_imputer&#x27;,\n",
              "                                                                   KNNImputer()),\n",
              "                                                                  (&#x27;onehot&#x27;,\n",
              "                                                                   OneHotEncoder(handle_unknown=&#x27;ignore&#x27;))]),\n",
              "                                                  [&#x27;condtn&#x27;, &#x27;field_cd&#x27;, &#x27;race&#x27;,\n",
              "                                                   &#x27;race_o&#x27;, &#x27;goal&#x27;, &#x27;career_c&#x27;,\n",
              "                                                   &#x27;length&#x27;, &#x27;numdat_2&#x27;])])),\n",
              "                (&#x27;my_classifier&#x27;, SVC(class_weight=&#x27;balanced&#x27;))])</pre></div></div></div><div class=\"sk-serial\"><div class=\"sk-item sk-dashed-wrapped\"><div class=\"sk-label-container\"><div class=\"sk-label sk-toggleable\"><input class=\"sk-toggleable__control sk-hidden--visually\" id=\"sk-estimator-id-222\" type=\"checkbox\" ><label for=\"sk-estimator-id-222\" class=\"sk-toggleable__label sk-toggleable__label-arrow\">preprocessor: ColumnTransformer</label><div class=\"sk-toggleable__content\"><pre>ColumnTransformer(transformers=[(&#x27;num&#x27;,\n",
              "                                 Pipeline(steps=[(&#x27;knn_imputer&#x27;, KNNImputer()),\n",
              "                                                 (&#x27;scaler&#x27;, MinMaxScaler()),\n",
              "                                                 (&#x27;normalizer&#x27;,\n",
              "                                                  StandardScaler())]),\n",
              "                                 [&#x27;gender&#x27;, &#x27;wave&#x27;, &#x27;round&#x27;, &#x27;position&#x27;,\n",
              "                                  &#x27;positin1&#x27;, &#x27;order&#x27;, &#x27;int_corr&#x27;, &#x27;samerace&#x27;,\n",
              "                                  &#x27;age_o&#x27;, &#x27;pf_o_att&#x27;, &#x27;pf_o_sin&#x27;, &#x27;pf_o_int&#x27;,\n",
              "                                  &#x27;pf_o_fun&#x27;, &#x27;pf_o_amb&#x27;, &#x27;pf_o_sha&#x27;, &#x27;attr_o&#x27;,\n",
              "                                  &#x27;sinc_o&#x27;, &#x27;intel_o&#x27;, &#x27;fun_o&#x27;, &#x27;amb_o&#x27;,\n",
              "                                  &#x27;shar_o&#x27;, &#x27;like_o&#x27;, &#x27;prob_o&#x27;, &#x27;met_o&#x27;, &#x27;age&#x27;,\n",
              "                                  &#x27;mn_sat&#x27;, &#x27;tuition&#x27;, &#x27;imprace&#x27;, &#x27;imprelig&#x27;,\n",
              "                                  &#x27;income&#x27;, ...]),\n",
              "                                (&#x27;cat&#x27;,\n",
              "                                 Pipeline(steps=[(&#x27;knn_imputer&#x27;, KNNImputer()),\n",
              "                                                 (&#x27;onehot&#x27;,\n",
              "                                                  OneHotEncoder(handle_unknown=&#x27;ignore&#x27;))]),\n",
              "                                 [&#x27;condtn&#x27;, &#x27;field_cd&#x27;, &#x27;race&#x27;, &#x27;race_o&#x27;,\n",
              "                                  &#x27;goal&#x27;, &#x27;career_c&#x27;, &#x27;length&#x27;, &#x27;numdat_2&#x27;])])</pre></div></div></div><div class=\"sk-parallel\"><div class=\"sk-parallel-item\"><div class=\"sk-item\"><div class=\"sk-label-container\"><div class=\"sk-label sk-toggleable\"><input class=\"sk-toggleable__control sk-hidden--visually\" id=\"sk-estimator-id-223\" type=\"checkbox\" ><label for=\"sk-estimator-id-223\" class=\"sk-toggleable__label sk-toggleable__label-arrow\">num</label><div class=\"sk-toggleable__content\"><pre>[&#x27;gender&#x27;, &#x27;wave&#x27;, &#x27;round&#x27;, &#x27;position&#x27;, &#x27;positin1&#x27;, &#x27;order&#x27;, &#x27;int_corr&#x27;, &#x27;samerace&#x27;, &#x27;age_o&#x27;, &#x27;pf_o_att&#x27;, &#x27;pf_o_sin&#x27;, &#x27;pf_o_int&#x27;, &#x27;pf_o_fun&#x27;, &#x27;pf_o_amb&#x27;, &#x27;pf_o_sha&#x27;, &#x27;attr_o&#x27;, &#x27;sinc_o&#x27;, &#x27;intel_o&#x27;, &#x27;fun_o&#x27;, &#x27;amb_o&#x27;, &#x27;shar_o&#x27;, &#x27;like_o&#x27;, &#x27;prob_o&#x27;, &#x27;met_o&#x27;, &#x27;age&#x27;, &#x27;mn_sat&#x27;, &#x27;tuition&#x27;, &#x27;imprace&#x27;, &#x27;imprelig&#x27;, &#x27;income&#x27;, &#x27;date&#x27;, &#x27;go_out&#x27;, &#x27;sports&#x27;, &#x27;tvsports&#x27;, &#x27;exercise&#x27;, &#x27;dining&#x27;, &#x27;museums&#x27;, &#x27;art&#x27;, &#x27;hiking&#x27;, &#x27;gaming&#x27;, &#x27;clubbing&#x27;, &#x27;reading&#x27;, &#x27;tv&#x27;, &#x27;theater&#x27;, &#x27;movies&#x27;, &#x27;concerts&#x27;, &#x27;music&#x27;, &#x27;shopping&#x27;, &#x27;yoga&#x27;, &#x27;exphappy&#x27;, &#x27;expnum&#x27;, &#x27;attr1_1&#x27;, &#x27;sinc1_1&#x27;, &#x27;intel1_1&#x27;, &#x27;fun1_1&#x27;, &#x27;amb1_1&#x27;, &#x27;shar1_1&#x27;, &#x27;attr4_1&#x27;, &#x27;sinc4_1&#x27;, &#x27;intel4_1&#x27;, &#x27;fun4_1&#x27;, &#x27;amb4_1&#x27;, &#x27;shar4_1&#x27;, &#x27;attr2_1&#x27;, &#x27;sinc2_1&#x27;, &#x27;intel2_1&#x27;, &#x27;fun2_1&#x27;, &#x27;amb2_1&#x27;, &#x27;shar2_1&#x27;, &#x27;attr3_1&#x27;, &#x27;sinc3_1&#x27;, &#x27;fun3_1&#x27;, &#x27;intel3_1&#x27;, &#x27;amb3_1&#x27;, &#x27;attr5_1&#x27;, &#x27;sinc5_1&#x27;, &#x27;intel5_1&#x27;, &#x27;fun5_1&#x27;, &#x27;amb5_1&#x27;, &#x27;attr&#x27;, &#x27;sinc&#x27;, &#x27;intel&#x27;, &#x27;fun&#x27;, &#x27;amb&#x27;, &#x27;shar&#x27;, &#x27;like&#x27;, &#x27;prob&#x27;, &#x27;met&#x27;, &#x27;match_es&#x27;, &#x27;attr1_s&#x27;, &#x27;sinc1_s&#x27;, &#x27;intel1_s&#x27;, &#x27;fun1_s&#x27;, &#x27;amb1_s&#x27;, &#x27;shar1_s&#x27;, &#x27;attr3_s&#x27;, &#x27;sinc3_s&#x27;, &#x27;intel3_s&#x27;, &#x27;fun3_s&#x27;, &#x27;amb3_s&#x27;, &#x27;satis_2&#x27;, &#x27;attr7_2&#x27;, &#x27;sinc7_2&#x27;, &#x27;intel7_2&#x27;, &#x27;fun7_2&#x27;, &#x27;amb7_2&#x27;, &#x27;shar7_2&#x27;, &#x27;attr1_2&#x27;, &#x27;sinc1_2&#x27;, &#x27;intel1_2&#x27;, &#x27;fun1_2&#x27;, &#x27;amb1_2&#x27;, &#x27;shar1_2&#x27;, &#x27;attr4_2&#x27;, &#x27;sinc4_2&#x27;, &#x27;intel4_2&#x27;, &#x27;fun4_2&#x27;, &#x27;amb4_2&#x27;, &#x27;shar4_2&#x27;, &#x27;attr2_2&#x27;, &#x27;sinc2_2&#x27;, &#x27;intel2_2&#x27;, &#x27;fun2_2&#x27;, &#x27;amb2_2&#x27;, &#x27;shar2_2&#x27;, &#x27;attr3_2&#x27;, &#x27;sinc3_2&#x27;, &#x27;intel3_2&#x27;, &#x27;fun3_2&#x27;, &#x27;amb3_2&#x27;, &#x27;attr5_2&#x27;, &#x27;sinc5_2&#x27;, &#x27;intel5_2&#x27;, &#x27;fun5_2&#x27;, &#x27;amb5_2&#x27;, &#x27;you_call&#x27;, &#x27;them_cal&#x27;, &#x27;date_3&#x27;, &#x27;numdat_3&#x27;, &#x27;num_in_3&#x27;, &#x27;attr1_3&#x27;, &#x27;sinc1_3&#x27;, &#x27;intel1_3&#x27;, &#x27;fun1_3&#x27;, &#x27;amb1_3&#x27;, &#x27;shar1_3&#x27;, &#x27;attr7_3&#x27;, &#x27;sinc7_3&#x27;, &#x27;intel7_3&#x27;, &#x27;fun7_3&#x27;, &#x27;amb7_3&#x27;, &#x27;shar7_3&#x27;, &#x27;attr4_3&#x27;, &#x27;sinc4_3&#x27;, &#x27;intel4_3&#x27;, &#x27;fun4_3&#x27;, &#x27;amb4_3&#x27;, &#x27;shar4_3&#x27;, &#x27;attr2_3&#x27;, &#x27;sinc2_3&#x27;, &#x27;intel2_3&#x27;, &#x27;fun2_3&#x27;, &#x27;amb2_3&#x27;, &#x27;shar2_3&#x27;, &#x27;attr3_3&#x27;, &#x27;sinc3_3&#x27;, &#x27;intel3_3&#x27;, &#x27;fun3_3&#x27;, &#x27;amb3_3&#x27;, &#x27;attr5_3&#x27;, &#x27;sinc5_3&#x27;, &#x27;intel5_3&#x27;, &#x27;fun5_3&#x27;, &#x27;amb5_3&#x27;]</pre></div></div></div><div class=\"sk-serial\"><div class=\"sk-item\"><div class=\"sk-serial\"><div class=\"sk-item\"><div class=\"sk-estimator sk-toggleable\"><input class=\"sk-toggleable__control sk-hidden--visually\" id=\"sk-estimator-id-224\" type=\"checkbox\" ><label for=\"sk-estimator-id-224\" class=\"sk-toggleable__label sk-toggleable__label-arrow\">KNNImputer</label><div class=\"sk-toggleable__content\"><pre>KNNImputer()</pre></div></div></div><div class=\"sk-item\"><div class=\"sk-estimator sk-toggleable\"><input class=\"sk-toggleable__control sk-hidden--visually\" id=\"sk-estimator-id-225\" type=\"checkbox\" ><label for=\"sk-estimator-id-225\" class=\"sk-toggleable__label sk-toggleable__label-arrow\">MinMaxScaler</label><div class=\"sk-toggleable__content\"><pre>MinMaxScaler()</pre></div></div></div><div class=\"sk-item\"><div class=\"sk-estimator sk-toggleable\"><input class=\"sk-toggleable__control sk-hidden--visually\" id=\"sk-estimator-id-226\" type=\"checkbox\" ><label for=\"sk-estimator-id-226\" class=\"sk-toggleable__label sk-toggleable__label-arrow\">StandardScaler</label><div class=\"sk-toggleable__content\"><pre>StandardScaler()</pre></div></div></div></div></div></div></div></div><div class=\"sk-parallel-item\"><div class=\"sk-item\"><div class=\"sk-label-container\"><div class=\"sk-label sk-toggleable\"><input class=\"sk-toggleable__control sk-hidden--visually\" id=\"sk-estimator-id-227\" type=\"checkbox\" ><label for=\"sk-estimator-id-227\" class=\"sk-toggleable__label sk-toggleable__label-arrow\">cat</label><div class=\"sk-toggleable__content\"><pre>[&#x27;condtn&#x27;, &#x27;field_cd&#x27;, &#x27;race&#x27;, &#x27;race_o&#x27;, &#x27;goal&#x27;, &#x27;career_c&#x27;, &#x27;length&#x27;, &#x27;numdat_2&#x27;]</pre></div></div></div><div class=\"sk-serial\"><div class=\"sk-item\"><div class=\"sk-serial\"><div class=\"sk-item\"><div class=\"sk-estimator sk-toggleable\"><input class=\"sk-toggleable__control sk-hidden--visually\" id=\"sk-estimator-id-228\" type=\"checkbox\" ><label for=\"sk-estimator-id-228\" class=\"sk-toggleable__label sk-toggleable__label-arrow\">KNNImputer</label><div class=\"sk-toggleable__content\"><pre>KNNImputer()</pre></div></div></div><div class=\"sk-item\"><div class=\"sk-estimator sk-toggleable\"><input class=\"sk-toggleable__control sk-hidden--visually\" id=\"sk-estimator-id-229\" type=\"checkbox\" ><label for=\"sk-estimator-id-229\" class=\"sk-toggleable__label sk-toggleable__label-arrow\">OneHotEncoder</label><div class=\"sk-toggleable__content\"><pre>OneHotEncoder(handle_unknown=&#x27;ignore&#x27;)</pre></div></div></div></div></div></div></div></div></div></div><div class=\"sk-item\"><div class=\"sk-estimator sk-toggleable\"><input class=\"sk-toggleable__control sk-hidden--visually\" id=\"sk-estimator-id-230\" type=\"checkbox\" ><label for=\"sk-estimator-id-230\" class=\"sk-toggleable__label sk-toggleable__label-arrow\">SVC</label><div class=\"sk-toggleable__content\"><pre>SVC(class_weight=&#x27;balanced&#x27;)</pre></div></div></div></div></div></div></div>"
            ]
          },
          "metadata": {},
          "execution_count": 388
        }
      ]
    },
    {
      "cell_type": "code",
      "source": [
        "from sklearn.model_selection import RandomizedSearchCV\n",
        "from sklearn.metrics import roc_auc_score\n",
        "# here we specify the search space\n",
        "# `__` denotes an attribute of the preceeding name\n",
        "# (e.g. my_classifier__n_estimators means the `n_estimators` param for `my_classifier`)\n",
        "\n",
        "# hyperparameters search space of both the model and preprocessing\n",
        "param_grid = {\n",
        "    # preprocessing hyperparameters\n",
        "    'preprocessor__num__knn_imputer__n_neighbors': [5,10],\n",
        "    'preprocessor__cat__knn_imputer__n_neighbors': [5,10],\n",
        "    # model hyperparameters\n",
        "    'my_classifier__kernel': (\"rbf\", \"poly\"),\n",
        "    'my_classifier__C': [0.1, 1, 10],\n",
        "    'my_classifier__degree': [3, 5],\n",
        "    'my_classifier__probability' : [True]\n",
        "}\n",
        "\n",
        "# SVC randomized search instance\n",
        "random_search = RandomizedSearchCV(full_pipline, # pipeline containing the model and preprocessing\n",
        "                                  param_grid, # pipeline hyperparameters\n",
        "                                  cv=5, # five-fold cross-validation\n",
        "                                  verbose=1,\n",
        "                                  n_jobs=2, # number of concurrent threads, colab have two cpu cores, we set it to 2\n",
        "                                  n_iter=10, # number of trials (hyperparameters combinations to try)\n",
        "                                  scoring='roc_auc') # scoring metric used to evaluate the cross-validation data with it\n",
        "\n",
        "# model fitting and training using the training data (will use the optimal hyperparameters that will be found)\n",
        "random_search.fit(X_tr, y_tr)\n",
        "\n",
        "print('best score {}'.format(random_search.best_score_)) # getting the best validation AUC score\n",
        "print('best score {}'.format(random_search.best_params_)) # getting the optimal hyperparameters values found"
      ],
      "metadata": {
        "colab": {
          "base_uri": "https://localhost:8080/"
        },
        "id": "qCjl-TwQHagT",
        "outputId": "85a8e26f-c764-4a0a-c772-1798f95abbe8"
      },
      "execution_count": null,
      "outputs": [
        {
          "output_type": "stream",
          "name": "stdout",
          "text": [
            "Fitting 5 folds for each of 10 candidates, totalling 50 fits\n",
            "best score 0.8461929117712399\n",
            "best score {'preprocessor__num__knn_imputer__n_neighbors': 10, 'preprocessor__cat__knn_imputer__n_neighbors': 10, 'my_classifier__probability': True, 'my_classifier__kernel': 'rbf', 'my_classifier__degree': 3, 'my_classifier__C': 1}\n"
          ]
        }
      ]
    },
    {
      "cell_type": "markdown",
      "source": [
        "Validation Score"
      ],
      "metadata": {
        "id": "3DkDAKLbVuGq"
      }
    },
    {
      "cell_type": "code",
      "source": [
        "# the resulting model is the same search instance with the best hyperparameters\n",
        "# we can use it directly to test the performance on our unseen validation data\n",
        "y_pred_svc_random = random_search.predict(X_valid)\n",
        "auc_svc_random = roc_auc_score(y_valid, y_pred_svc_random)\n",
        "print(auc_svc_random)"
      ],
      "metadata": {
        "colab": {
          "base_uri": "https://localhost:8080/"
        },
        "id": "7Z2zX6HvHfZz",
        "outputId": "41cc2531-6531-4e43-8326-798d9d4cf05c"
      },
      "execution_count": null,
      "outputs": [
        {
          "output_type": "stream",
          "name": "stdout",
          "text": [
            "0.774128479921163\n"
          ]
        }
      ]
    },
    {
      "cell_type": "markdown",
      "source": [
        "Testing (Predictions of test set)"
      ],
      "metadata": {
        "id": "EdWstNccVwZK"
      }
    },
    {
      "cell_type": "code",
      "source": [
        "submission = pd.DataFrame()\n",
        "submission['id'] = X_test.index\n",
        "submission['match'] = random_search.predict_proba(X_test)[:,1]\n",
        "submission.to_csv('submission.csv', index=False)"
      ],
      "metadata": {
        "id": "0b0a6AyGHh5x"
      },
      "execution_count": null,
      "outputs": []
    },
    {
      "cell_type": "markdown",
      "source": [
        "Observations and trial summary"
      ],
      "metadata": {
        "id": "nZf8QBAI7Ci1"
      }
    },
    {
      "cell_type": "markdown",
      "source": [
        "| Aspect                                                \t| Comment                                                                                                                                                                  \t|\n",
        "|-------------------------------------------------------\t|--------------------------------------------------------------------------------------------------------------------------------------------------------------------------\t|\n",
        "| _1- Model type_                                          \t| SVM Classifier                                                                                                                                                           \t|\n",
        "| _2- Model hyperparameters space_                         \t| kernel: (\"rbf\", \"poly\") <br /> C: [0.1, 1, 10], <br /> degree': [3, 5], <br />  probability' : [True]                                                                                                                                            \t|\n",
        "| _3- Preprocessing hyperparameters space_                 \t| n_neighbors': [5,10] for both numeric and categorical features imputation                                                                                                                                                    \t|\n",
        "| _4- Class imbalance treatment_                 \t| Treated with \"class_weight = \"balanced\"\" hyperparameter.                                                                                                                                                   \t|\n",
        "| _5- Optimal hyperparameters found_                       \t| 'preprocessor__num__knn_imputer__n_neighbors': 10, --> there is a potential better value, obtained value is on the edge of the provided region<br /> 'preprocessor__cat__knn_imputer__n_neighbors': 10, --> there is a potential better value, obtained value is on the edge of the provided region<br /> 'my_classifier__probability': True,<br /> 'my_classifier__kernel': 'rbf',<br /> 'my_classifier__degree': 3, --> there is a potential better value, obtained value is on the edge of the provided region<br /> 'my_classifier__C': 1\t|\n",
        "| _6- Best cross validation AUC score_                     \t| 0.85                                                                                                                                                                     \t|\n",
        "| _7- AUC score on held out validation set_                \t| 0.77                                                                                                                                                                     \t|\n",
        "| _8- AUC score on kaggle test set (public)_                            | 0.86               |\n",
        "| _9- Observed performance and thoughts on it_             \t|     - The model is still underfitting as it can be noticed even after we added more features, maybe we should use higher values of \"C\" to reduce the margin and potentially fit the data appropriately                                                                                                                                                               \t|\n",
        "| _10- Reason for changes (if any) and plan for next trial_ \t|                                                                               - The model is not complex enough and we need to explore other different values of \"C\" typically higher values for narrower margin or even different kernels . <br />however we will try a final basic classification algorithms which is the logistic regression to see how will it perform compared by the previously tried models which were supposedly more complex                                                                                 \t|\n",
        "| _11- Expected outcome_                                    \t|                                                                               We actually haven't tried logistic regression extensively before to have a guess about how will it perform but we know that it is widely used or usually is tried as a first model so we guess it will be <br /> good but not better than XGboost or random forest for example.                                                                                     \t|"
      ],
      "metadata": {
        "id": "90HZliS-e3Dw"
      }
    },
    {
      "cell_type": "markdown",
      "source": [
        "## *5.6) Model 5 Logistic Regression using Bayesian Search (without null features drop)*"
      ],
      "metadata": {
        "id": "bOAzSwmQK1Yk"
      }
    },
    {
      "cell_type": "markdown",
      "source": [
        "Logistic Regression full pipeline"
      ],
      "metadata": {
        "id": "JPNQQDTxLruz"
      }
    },
    {
      "cell_type": "code",
      "source": [
        "from sklearn.linear_model import LogisticRegression\n",
        "# combine the preprocessor with the model as a full tunable pipeline\n",
        "# we gave them a name so we can set their hyperparameters\n",
        "full_pipline = Pipeline(\n",
        "    steps=[\n",
        "        ('preprocessor', preprocessor),\n",
        "        ('my_classifier', LogisticRegression(class_weight = \"balanced\"),\n",
        "        )\n",
        "    ]\n",
        ")\n",
        "full_pipline"
      ],
      "metadata": {
        "colab": {
          "base_uri": "https://localhost:8080/",
          "height": 262
        },
        "outputId": "19f4f81b-abb8-45b2-b7eb-ab5027fffe91",
        "id": "CjT7TJI2gdZ1"
      },
      "execution_count": null,
      "outputs": [
        {
          "output_type": "execute_result",
          "data": {
            "text/plain": [
              "Pipeline(steps=[('preprocessor',\n",
              "                 ColumnTransformer(transformers=[('num',\n",
              "                                                  Pipeline(steps=[('knn_imputer',\n",
              "                                                                   KNNImputer()),\n",
              "                                                                  ('scaler',\n",
              "                                                                   MinMaxScaler()),\n",
              "                                                                  ('normalizer',\n",
              "                                                                   StandardScaler())]),\n",
              "                                                  ['gender', 'wave', 'round',\n",
              "                                                   'position', 'positin1',\n",
              "                                                   'order', 'int_corr',\n",
              "                                                   'samerace', 'age_o',\n",
              "                                                   'pf_o_att', 'pf_o_sin',\n",
              "                                                   'pf_o_int', 'pf_o_fun',\n",
              "                                                   'pf_o_amb', 'pf_o_sha',\n",
              "                                                   'attr_o', 'sinc_o',\n",
              "                                                   'inte...amb_o',\n",
              "                                                   'shar_o', 'like_o', 'prob_o',\n",
              "                                                   'met_o', 'age', 'mn_sat',\n",
              "                                                   'tuition', 'imprace',\n",
              "                                                   'imprelig', 'income', ...]),\n",
              "                                                 ('cat',\n",
              "                                                  Pipeline(steps=[('knn_imputer',\n",
              "                                                                   KNNImputer()),\n",
              "                                                                  ('onehot',\n",
              "                                                                   OneHotEncoder(handle_unknown='ignore'))]),\n",
              "                                                  ['condtn', 'field_cd', 'race',\n",
              "                                                   'race_o', 'goal', 'career_c',\n",
              "                                                   'length', 'numdat_2'])])),\n",
              "                ('my_classifier', LogisticRegression(class_weight='balanced'))])"
            ],
            "text/html": [
              "<style>#sk-container-id-2 {color: black;background-color: white;}#sk-container-id-2 pre{padding: 0;}#sk-container-id-2 div.sk-toggleable {background-color: white;}#sk-container-id-2 label.sk-toggleable__label {cursor: pointer;display: block;width: 100%;margin-bottom: 0;padding: 0.3em;box-sizing: border-box;text-align: center;}#sk-container-id-2 label.sk-toggleable__label-arrow:before {content: \"▸\";float: left;margin-right: 0.25em;color: #696969;}#sk-container-id-2 label.sk-toggleable__label-arrow:hover:before {color: black;}#sk-container-id-2 div.sk-estimator:hover label.sk-toggleable__label-arrow:before {color: black;}#sk-container-id-2 div.sk-toggleable__content {max-height: 0;max-width: 0;overflow: hidden;text-align: left;background-color: #f0f8ff;}#sk-container-id-2 div.sk-toggleable__content pre {margin: 0.2em;color: black;border-radius: 0.25em;background-color: #f0f8ff;}#sk-container-id-2 input.sk-toggleable__control:checked~div.sk-toggleable__content {max-height: 200px;max-width: 100%;overflow: auto;}#sk-container-id-2 input.sk-toggleable__control:checked~label.sk-toggleable__label-arrow:before {content: \"▾\";}#sk-container-id-2 div.sk-estimator input.sk-toggleable__control:checked~label.sk-toggleable__label {background-color: #d4ebff;}#sk-container-id-2 div.sk-label input.sk-toggleable__control:checked~label.sk-toggleable__label {background-color: #d4ebff;}#sk-container-id-2 input.sk-hidden--visually {border: 0;clip: rect(1px 1px 1px 1px);clip: rect(1px, 1px, 1px, 1px);height: 1px;margin: -1px;overflow: hidden;padding: 0;position: absolute;width: 1px;}#sk-container-id-2 div.sk-estimator {font-family: monospace;background-color: #f0f8ff;border: 1px dotted black;border-radius: 0.25em;box-sizing: border-box;margin-bottom: 0.5em;}#sk-container-id-2 div.sk-estimator:hover {background-color: #d4ebff;}#sk-container-id-2 div.sk-parallel-item::after {content: \"\";width: 100%;border-bottom: 1px solid gray;flex-grow: 1;}#sk-container-id-2 div.sk-label:hover label.sk-toggleable__label {background-color: #d4ebff;}#sk-container-id-2 div.sk-serial::before {content: \"\";position: absolute;border-left: 1px solid gray;box-sizing: border-box;top: 0;bottom: 0;left: 50%;z-index: 0;}#sk-container-id-2 div.sk-serial {display: flex;flex-direction: column;align-items: center;background-color: white;padding-right: 0.2em;padding-left: 0.2em;position: relative;}#sk-container-id-2 div.sk-item {position: relative;z-index: 1;}#sk-container-id-2 div.sk-parallel {display: flex;align-items: stretch;justify-content: center;background-color: white;position: relative;}#sk-container-id-2 div.sk-item::before, #sk-container-id-2 div.sk-parallel-item::before {content: \"\";position: absolute;border-left: 1px solid gray;box-sizing: border-box;top: 0;bottom: 0;left: 50%;z-index: -1;}#sk-container-id-2 div.sk-parallel-item {display: flex;flex-direction: column;z-index: 1;position: relative;background-color: white;}#sk-container-id-2 div.sk-parallel-item:first-child::after {align-self: flex-end;width: 50%;}#sk-container-id-2 div.sk-parallel-item:last-child::after {align-self: flex-start;width: 50%;}#sk-container-id-2 div.sk-parallel-item:only-child::after {width: 0;}#sk-container-id-2 div.sk-dashed-wrapped {border: 1px dashed gray;margin: 0 0.4em 0.5em 0.4em;box-sizing: border-box;padding-bottom: 0.4em;background-color: white;}#sk-container-id-2 div.sk-label label {font-family: monospace;font-weight: bold;display: inline-block;line-height: 1.2em;}#sk-container-id-2 div.sk-label-container {text-align: center;}#sk-container-id-2 div.sk-container {/* jupyter's `normalize.less` sets `[hidden] { display: none; }` but bootstrap.min.css set `[hidden] { display: none !important; }` so we also need the `!important` here to be able to override the default hidden behavior on the sphinx rendered scikit-learn.org. See: https://github.com/scikit-learn/scikit-learn/issues/21755 */display: inline-block !important;position: relative;}#sk-container-id-2 div.sk-text-repr-fallback {display: none;}</style><div id=\"sk-container-id-2\" class=\"sk-top-container\"><div class=\"sk-text-repr-fallback\"><pre>Pipeline(steps=[(&#x27;preprocessor&#x27;,\n",
              "                 ColumnTransformer(transformers=[(&#x27;num&#x27;,\n",
              "                                                  Pipeline(steps=[(&#x27;knn_imputer&#x27;,\n",
              "                                                                   KNNImputer()),\n",
              "                                                                  (&#x27;scaler&#x27;,\n",
              "                                                                   MinMaxScaler()),\n",
              "                                                                  (&#x27;normalizer&#x27;,\n",
              "                                                                   StandardScaler())]),\n",
              "                                                  [&#x27;gender&#x27;, &#x27;wave&#x27;, &#x27;round&#x27;,\n",
              "                                                   &#x27;position&#x27;, &#x27;positin1&#x27;,\n",
              "                                                   &#x27;order&#x27;, &#x27;int_corr&#x27;,\n",
              "                                                   &#x27;samerace&#x27;, &#x27;age_o&#x27;,\n",
              "                                                   &#x27;pf_o_att&#x27;, &#x27;pf_o_sin&#x27;,\n",
              "                                                   &#x27;pf_o_int&#x27;, &#x27;pf_o_fun&#x27;,\n",
              "                                                   &#x27;pf_o_amb&#x27;, &#x27;pf_o_sha&#x27;,\n",
              "                                                   &#x27;attr_o&#x27;, &#x27;sinc_o&#x27;,\n",
              "                                                   &#x27;inte...amb_o&#x27;,\n",
              "                                                   &#x27;shar_o&#x27;, &#x27;like_o&#x27;, &#x27;prob_o&#x27;,\n",
              "                                                   &#x27;met_o&#x27;, &#x27;age&#x27;, &#x27;mn_sat&#x27;,\n",
              "                                                   &#x27;tuition&#x27;, &#x27;imprace&#x27;,\n",
              "                                                   &#x27;imprelig&#x27;, &#x27;income&#x27;, ...]),\n",
              "                                                 (&#x27;cat&#x27;,\n",
              "                                                  Pipeline(steps=[(&#x27;knn_imputer&#x27;,\n",
              "                                                                   KNNImputer()),\n",
              "                                                                  (&#x27;onehot&#x27;,\n",
              "                                                                   OneHotEncoder(handle_unknown=&#x27;ignore&#x27;))]),\n",
              "                                                  [&#x27;condtn&#x27;, &#x27;field_cd&#x27;, &#x27;race&#x27;,\n",
              "                                                   &#x27;race_o&#x27;, &#x27;goal&#x27;, &#x27;career_c&#x27;,\n",
              "                                                   &#x27;length&#x27;, &#x27;numdat_2&#x27;])])),\n",
              "                (&#x27;my_classifier&#x27;, LogisticRegression(class_weight=&#x27;balanced&#x27;))])</pre><b>In a Jupyter environment, please rerun this cell to show the HTML representation or trust the notebook. <br />On GitHub, the HTML representation is unable to render, please try loading this page with nbviewer.org.</b></div><div class=\"sk-container\" hidden><div class=\"sk-item sk-dashed-wrapped\"><div class=\"sk-label-container\"><div class=\"sk-label sk-toggleable\"><input class=\"sk-toggleable__control sk-hidden--visually\" id=\"sk-estimator-id-11\" type=\"checkbox\" ><label for=\"sk-estimator-id-11\" class=\"sk-toggleable__label sk-toggleable__label-arrow\">Pipeline</label><div class=\"sk-toggleable__content\"><pre>Pipeline(steps=[(&#x27;preprocessor&#x27;,\n",
              "                 ColumnTransformer(transformers=[(&#x27;num&#x27;,\n",
              "                                                  Pipeline(steps=[(&#x27;knn_imputer&#x27;,\n",
              "                                                                   KNNImputer()),\n",
              "                                                                  (&#x27;scaler&#x27;,\n",
              "                                                                   MinMaxScaler()),\n",
              "                                                                  (&#x27;normalizer&#x27;,\n",
              "                                                                   StandardScaler())]),\n",
              "                                                  [&#x27;gender&#x27;, &#x27;wave&#x27;, &#x27;round&#x27;,\n",
              "                                                   &#x27;position&#x27;, &#x27;positin1&#x27;,\n",
              "                                                   &#x27;order&#x27;, &#x27;int_corr&#x27;,\n",
              "                                                   &#x27;samerace&#x27;, &#x27;age_o&#x27;,\n",
              "                                                   &#x27;pf_o_att&#x27;, &#x27;pf_o_sin&#x27;,\n",
              "                                                   &#x27;pf_o_int&#x27;, &#x27;pf_o_fun&#x27;,\n",
              "                                                   &#x27;pf_o_amb&#x27;, &#x27;pf_o_sha&#x27;,\n",
              "                                                   &#x27;attr_o&#x27;, &#x27;sinc_o&#x27;,\n",
              "                                                   &#x27;inte...amb_o&#x27;,\n",
              "                                                   &#x27;shar_o&#x27;, &#x27;like_o&#x27;, &#x27;prob_o&#x27;,\n",
              "                                                   &#x27;met_o&#x27;, &#x27;age&#x27;, &#x27;mn_sat&#x27;,\n",
              "                                                   &#x27;tuition&#x27;, &#x27;imprace&#x27;,\n",
              "                                                   &#x27;imprelig&#x27;, &#x27;income&#x27;, ...]),\n",
              "                                                 (&#x27;cat&#x27;,\n",
              "                                                  Pipeline(steps=[(&#x27;knn_imputer&#x27;,\n",
              "                                                                   KNNImputer()),\n",
              "                                                                  (&#x27;onehot&#x27;,\n",
              "                                                                   OneHotEncoder(handle_unknown=&#x27;ignore&#x27;))]),\n",
              "                                                  [&#x27;condtn&#x27;, &#x27;field_cd&#x27;, &#x27;race&#x27;,\n",
              "                                                   &#x27;race_o&#x27;, &#x27;goal&#x27;, &#x27;career_c&#x27;,\n",
              "                                                   &#x27;length&#x27;, &#x27;numdat_2&#x27;])])),\n",
              "                (&#x27;my_classifier&#x27;, LogisticRegression(class_weight=&#x27;balanced&#x27;))])</pre></div></div></div><div class=\"sk-serial\"><div class=\"sk-item sk-dashed-wrapped\"><div class=\"sk-label-container\"><div class=\"sk-label sk-toggleable\"><input class=\"sk-toggleable__control sk-hidden--visually\" id=\"sk-estimator-id-12\" type=\"checkbox\" ><label for=\"sk-estimator-id-12\" class=\"sk-toggleable__label sk-toggleable__label-arrow\">preprocessor: ColumnTransformer</label><div class=\"sk-toggleable__content\"><pre>ColumnTransformer(transformers=[(&#x27;num&#x27;,\n",
              "                                 Pipeline(steps=[(&#x27;knn_imputer&#x27;, KNNImputer()),\n",
              "                                                 (&#x27;scaler&#x27;, MinMaxScaler()),\n",
              "                                                 (&#x27;normalizer&#x27;,\n",
              "                                                  StandardScaler())]),\n",
              "                                 [&#x27;gender&#x27;, &#x27;wave&#x27;, &#x27;round&#x27;, &#x27;position&#x27;,\n",
              "                                  &#x27;positin1&#x27;, &#x27;order&#x27;, &#x27;int_corr&#x27;, &#x27;samerace&#x27;,\n",
              "                                  &#x27;age_o&#x27;, &#x27;pf_o_att&#x27;, &#x27;pf_o_sin&#x27;, &#x27;pf_o_int&#x27;,\n",
              "                                  &#x27;pf_o_fun&#x27;, &#x27;pf_o_amb&#x27;, &#x27;pf_o_sha&#x27;, &#x27;attr_o&#x27;,\n",
              "                                  &#x27;sinc_o&#x27;, &#x27;intel_o&#x27;, &#x27;fun_o&#x27;, &#x27;amb_o&#x27;,\n",
              "                                  &#x27;shar_o&#x27;, &#x27;like_o&#x27;, &#x27;prob_o&#x27;, &#x27;met_o&#x27;, &#x27;age&#x27;,\n",
              "                                  &#x27;mn_sat&#x27;, &#x27;tuition&#x27;, &#x27;imprace&#x27;, &#x27;imprelig&#x27;,\n",
              "                                  &#x27;income&#x27;, ...]),\n",
              "                                (&#x27;cat&#x27;,\n",
              "                                 Pipeline(steps=[(&#x27;knn_imputer&#x27;, KNNImputer()),\n",
              "                                                 (&#x27;onehot&#x27;,\n",
              "                                                  OneHotEncoder(handle_unknown=&#x27;ignore&#x27;))]),\n",
              "                                 [&#x27;condtn&#x27;, &#x27;field_cd&#x27;, &#x27;race&#x27;, &#x27;race_o&#x27;,\n",
              "                                  &#x27;goal&#x27;, &#x27;career_c&#x27;, &#x27;length&#x27;, &#x27;numdat_2&#x27;])])</pre></div></div></div><div class=\"sk-parallel\"><div class=\"sk-parallel-item\"><div class=\"sk-item\"><div class=\"sk-label-container\"><div class=\"sk-label sk-toggleable\"><input class=\"sk-toggleable__control sk-hidden--visually\" id=\"sk-estimator-id-13\" type=\"checkbox\" ><label for=\"sk-estimator-id-13\" class=\"sk-toggleable__label sk-toggleable__label-arrow\">num</label><div class=\"sk-toggleable__content\"><pre>[&#x27;gender&#x27;, &#x27;wave&#x27;, &#x27;round&#x27;, &#x27;position&#x27;, &#x27;positin1&#x27;, &#x27;order&#x27;, &#x27;int_corr&#x27;, &#x27;samerace&#x27;, &#x27;age_o&#x27;, &#x27;pf_o_att&#x27;, &#x27;pf_o_sin&#x27;, &#x27;pf_o_int&#x27;, &#x27;pf_o_fun&#x27;, &#x27;pf_o_amb&#x27;, &#x27;pf_o_sha&#x27;, &#x27;attr_o&#x27;, &#x27;sinc_o&#x27;, &#x27;intel_o&#x27;, &#x27;fun_o&#x27;, &#x27;amb_o&#x27;, &#x27;shar_o&#x27;, &#x27;like_o&#x27;, &#x27;prob_o&#x27;, &#x27;met_o&#x27;, &#x27;age&#x27;, &#x27;mn_sat&#x27;, &#x27;tuition&#x27;, &#x27;imprace&#x27;, &#x27;imprelig&#x27;, &#x27;income&#x27;, &#x27;date&#x27;, &#x27;go_out&#x27;, &#x27;sports&#x27;, &#x27;tvsports&#x27;, &#x27;exercise&#x27;, &#x27;dining&#x27;, &#x27;museums&#x27;, &#x27;art&#x27;, &#x27;hiking&#x27;, &#x27;gaming&#x27;, &#x27;clubbing&#x27;, &#x27;reading&#x27;, &#x27;tv&#x27;, &#x27;theater&#x27;, &#x27;movies&#x27;, &#x27;concerts&#x27;, &#x27;music&#x27;, &#x27;shopping&#x27;, &#x27;yoga&#x27;, &#x27;exphappy&#x27;, &#x27;expnum&#x27;, &#x27;attr1_1&#x27;, &#x27;sinc1_1&#x27;, &#x27;intel1_1&#x27;, &#x27;fun1_1&#x27;, &#x27;amb1_1&#x27;, &#x27;shar1_1&#x27;, &#x27;attr4_1&#x27;, &#x27;sinc4_1&#x27;, &#x27;intel4_1&#x27;, &#x27;fun4_1&#x27;, &#x27;amb4_1&#x27;, &#x27;shar4_1&#x27;, &#x27;attr2_1&#x27;, &#x27;sinc2_1&#x27;, &#x27;intel2_1&#x27;, &#x27;fun2_1&#x27;, &#x27;amb2_1&#x27;, &#x27;shar2_1&#x27;, &#x27;attr3_1&#x27;, &#x27;sinc3_1&#x27;, &#x27;fun3_1&#x27;, &#x27;intel3_1&#x27;, &#x27;amb3_1&#x27;, &#x27;attr5_1&#x27;, &#x27;sinc5_1&#x27;, &#x27;intel5_1&#x27;, &#x27;fun5_1&#x27;, &#x27;amb5_1&#x27;, &#x27;attr&#x27;, &#x27;sinc&#x27;, &#x27;intel&#x27;, &#x27;fun&#x27;, &#x27;amb&#x27;, &#x27;shar&#x27;, &#x27;like&#x27;, &#x27;prob&#x27;, &#x27;met&#x27;, &#x27;match_es&#x27;, &#x27;attr1_s&#x27;, &#x27;sinc1_s&#x27;, &#x27;intel1_s&#x27;, &#x27;fun1_s&#x27;, &#x27;amb1_s&#x27;, &#x27;shar1_s&#x27;, &#x27;attr3_s&#x27;, &#x27;sinc3_s&#x27;, &#x27;intel3_s&#x27;, &#x27;fun3_s&#x27;, &#x27;amb3_s&#x27;, &#x27;satis_2&#x27;, &#x27;attr7_2&#x27;, &#x27;sinc7_2&#x27;, &#x27;intel7_2&#x27;, &#x27;fun7_2&#x27;, &#x27;amb7_2&#x27;, &#x27;shar7_2&#x27;, &#x27;attr1_2&#x27;, &#x27;sinc1_2&#x27;, &#x27;intel1_2&#x27;, &#x27;fun1_2&#x27;, &#x27;amb1_2&#x27;, &#x27;shar1_2&#x27;, &#x27;attr4_2&#x27;, &#x27;sinc4_2&#x27;, &#x27;intel4_2&#x27;, &#x27;fun4_2&#x27;, &#x27;amb4_2&#x27;, &#x27;shar4_2&#x27;, &#x27;attr2_2&#x27;, &#x27;sinc2_2&#x27;, &#x27;intel2_2&#x27;, &#x27;fun2_2&#x27;, &#x27;amb2_2&#x27;, &#x27;shar2_2&#x27;, &#x27;attr3_2&#x27;, &#x27;sinc3_2&#x27;, &#x27;intel3_2&#x27;, &#x27;fun3_2&#x27;, &#x27;amb3_2&#x27;, &#x27;attr5_2&#x27;, &#x27;sinc5_2&#x27;, &#x27;intel5_2&#x27;, &#x27;fun5_2&#x27;, &#x27;amb5_2&#x27;, &#x27;you_call&#x27;, &#x27;them_cal&#x27;, &#x27;date_3&#x27;, &#x27;numdat_3&#x27;, &#x27;num_in_3&#x27;, &#x27;attr1_3&#x27;, &#x27;sinc1_3&#x27;, &#x27;intel1_3&#x27;, &#x27;fun1_3&#x27;, &#x27;amb1_3&#x27;, &#x27;shar1_3&#x27;, &#x27;attr7_3&#x27;, &#x27;sinc7_3&#x27;, &#x27;intel7_3&#x27;, &#x27;fun7_3&#x27;, &#x27;amb7_3&#x27;, &#x27;shar7_3&#x27;, &#x27;attr4_3&#x27;, &#x27;sinc4_3&#x27;, &#x27;intel4_3&#x27;, &#x27;fun4_3&#x27;, &#x27;amb4_3&#x27;, &#x27;shar4_3&#x27;, &#x27;attr2_3&#x27;, &#x27;sinc2_3&#x27;, &#x27;intel2_3&#x27;, &#x27;fun2_3&#x27;, &#x27;amb2_3&#x27;, &#x27;shar2_3&#x27;, &#x27;attr3_3&#x27;, &#x27;sinc3_3&#x27;, &#x27;intel3_3&#x27;, &#x27;fun3_3&#x27;, &#x27;amb3_3&#x27;, &#x27;attr5_3&#x27;, &#x27;sinc5_3&#x27;, &#x27;intel5_3&#x27;, &#x27;fun5_3&#x27;, &#x27;amb5_3&#x27;]</pre></div></div></div><div class=\"sk-serial\"><div class=\"sk-item\"><div class=\"sk-serial\"><div class=\"sk-item\"><div class=\"sk-estimator sk-toggleable\"><input class=\"sk-toggleable__control sk-hidden--visually\" id=\"sk-estimator-id-14\" type=\"checkbox\" ><label for=\"sk-estimator-id-14\" class=\"sk-toggleable__label sk-toggleable__label-arrow\">KNNImputer</label><div class=\"sk-toggleable__content\"><pre>KNNImputer()</pre></div></div></div><div class=\"sk-item\"><div class=\"sk-estimator sk-toggleable\"><input class=\"sk-toggleable__control sk-hidden--visually\" id=\"sk-estimator-id-15\" type=\"checkbox\" ><label for=\"sk-estimator-id-15\" class=\"sk-toggleable__label sk-toggleable__label-arrow\">MinMaxScaler</label><div class=\"sk-toggleable__content\"><pre>MinMaxScaler()</pre></div></div></div><div class=\"sk-item\"><div class=\"sk-estimator sk-toggleable\"><input class=\"sk-toggleable__control sk-hidden--visually\" id=\"sk-estimator-id-16\" type=\"checkbox\" ><label for=\"sk-estimator-id-16\" class=\"sk-toggleable__label sk-toggleable__label-arrow\">StandardScaler</label><div class=\"sk-toggleable__content\"><pre>StandardScaler()</pre></div></div></div></div></div></div></div></div><div class=\"sk-parallel-item\"><div class=\"sk-item\"><div class=\"sk-label-container\"><div class=\"sk-label sk-toggleable\"><input class=\"sk-toggleable__control sk-hidden--visually\" id=\"sk-estimator-id-17\" type=\"checkbox\" ><label for=\"sk-estimator-id-17\" class=\"sk-toggleable__label sk-toggleable__label-arrow\">cat</label><div class=\"sk-toggleable__content\"><pre>[&#x27;condtn&#x27;, &#x27;field_cd&#x27;, &#x27;race&#x27;, &#x27;race_o&#x27;, &#x27;goal&#x27;, &#x27;career_c&#x27;, &#x27;length&#x27;, &#x27;numdat_2&#x27;]</pre></div></div></div><div class=\"sk-serial\"><div class=\"sk-item\"><div class=\"sk-serial\"><div class=\"sk-item\"><div class=\"sk-estimator sk-toggleable\"><input class=\"sk-toggleable__control sk-hidden--visually\" id=\"sk-estimator-id-18\" type=\"checkbox\" ><label for=\"sk-estimator-id-18\" class=\"sk-toggleable__label sk-toggleable__label-arrow\">KNNImputer</label><div class=\"sk-toggleable__content\"><pre>KNNImputer()</pre></div></div></div><div class=\"sk-item\"><div class=\"sk-estimator sk-toggleable\"><input class=\"sk-toggleable__control sk-hidden--visually\" id=\"sk-estimator-id-19\" type=\"checkbox\" ><label for=\"sk-estimator-id-19\" class=\"sk-toggleable__label sk-toggleable__label-arrow\">OneHotEncoder</label><div class=\"sk-toggleable__content\"><pre>OneHotEncoder(handle_unknown=&#x27;ignore&#x27;)</pre></div></div></div></div></div></div></div></div></div></div><div class=\"sk-item\"><div class=\"sk-estimator sk-toggleable\"><input class=\"sk-toggleable__control sk-hidden--visually\" id=\"sk-estimator-id-20\" type=\"checkbox\" ><label for=\"sk-estimator-id-20\" class=\"sk-toggleable__label sk-toggleable__label-arrow\">LogisticRegression</label><div class=\"sk-toggleable__content\"><pre>LogisticRegression(class_weight=&#x27;balanced&#x27;)</pre></div></div></div></div></div></div></div>"
            ]
          },
          "metadata": {},
          "execution_count": 39
        }
      ]
    },
    {
      "cell_type": "code",
      "source": [
        "from skopt import BayesSearchCV\n",
        "from sklearn.metrics import roc_auc_score\n",
        "# here we specify the search space\n",
        "# `__` denotes an attribute of the preceeding name\n",
        "# (e.g. my_classifier__n_estimators means the `n_estimators` param for `my_classifier`)\n",
        "\n",
        "# hyperparameters search space of both the model and preprocessing\n",
        "param_grid = {\n",
        "    # preprocessing hyperparameters\n",
        "    'preprocessor__num__knn_imputer__n_neighbors': [5,10],\n",
        "    'preprocessor__cat__knn_imputer__n_neighbors': [5,10],\n",
        "    # model hyperparameters\n",
        "    'my_classifier__penalty': [\"l2\"],\n",
        "    'my_classifier__C': [0.01, 0.1, 1],\n",
        "    'my_classifier__max_iter': [10000],\n",
        "    'my_classifier__solver': [\"newton-cholesky\", \"saga\", \"lbfgs\"]\n",
        "\n",
        "}\n",
        "\n",
        "# logistic regression bayesian search instance\n",
        "bayes_search = BayesSearchCV(full_pipline, # pipeline containing the model and preprocessing\n",
        "                            param_grid, # pipeline hyperparameters\n",
        "                            cv=5, # five-fold cross-validation\n",
        "                            verbose=1,\n",
        "                            n_jobs=2, # number of concurrent threads, colab have two cpu cores, we set it to 2\n",
        "                            n_iter=10, # number of trials (hyperparameters combinations to try)\n",
        "                            scoring='roc_auc') # scoring metric used to evaluate the cross-validation data with it\n",
        "\n",
        "# model fitting and training using the training data (will use the optimal hyperparameters that will be found)\n",
        "bayes_search.fit(X_tr, y_tr)\n",
        "\n",
        "print('best score {}'.format(bayes_search.best_score_)) # getting the best validation AUC score\n",
        "print('best score {}'.format(bayes_search.best_params_)) # getting the optimal hyperparameters values found"
      ],
      "metadata": {
        "colab": {
          "base_uri": "https://localhost:8080/"
        },
        "outputId": "e31be5f3-c2cb-4f33-a227-ec5bd6f74b33",
        "id": "lNhm8HVFgmYI"
      },
      "execution_count": null,
      "outputs": [
        {
          "output_type": "stream",
          "name": "stdout",
          "text": [
            "Fitting 5 folds for each of 1 candidates, totalling 5 fits\n",
            "Fitting 5 folds for each of 1 candidates, totalling 5 fits\n",
            "Fitting 5 folds for each of 1 candidates, totalling 5 fits\n",
            "Fitting 5 folds for each of 1 candidates, totalling 5 fits\n",
            "Fitting 5 folds for each of 1 candidates, totalling 5 fits\n",
            "Fitting 5 folds for each of 1 candidates, totalling 5 fits\n",
            "Fitting 5 folds for each of 1 candidates, totalling 5 fits\n",
            "Fitting 5 folds for each of 1 candidates, totalling 5 fits\n",
            "Fitting 5 folds for each of 1 candidates, totalling 5 fits\n",
            "Fitting 5 folds for each of 1 candidates, totalling 5 fits\n",
            "best score 0.8588512539229616\n",
            "best score OrderedDict([('my_classifier__C', 0.01), ('my_classifier__max_iter', 10000), ('my_classifier__penalty', 'l2'), ('my_classifier__solver', 'saga'), ('preprocessor__cat__knn_imputer__n_neighbors', 7), ('preprocessor__num__knn_imputer__n_neighbors', 8)])\n"
          ]
        }
      ]
    },
    {
      "cell_type": "markdown",
      "source": [
        "Validation Score"
      ],
      "metadata": {
        "id": "OhEeY1DlV10K"
      }
    },
    {
      "cell_type": "code",
      "source": [
        "# the resulting model is the same search instance with the best hyperparameters\n",
        "# we can use it directly to test the performance on our unseen validation data\n",
        "y_pred_logreg_bayes = bayes_search.predict(X_valid)\n",
        "auc_logreg_bayes = roc_auc_score(y_valid, y_pred_logreg_bayes)\n",
        "print(auc_logreg_bayes)"
      ],
      "metadata": {
        "colab": {
          "base_uri": "https://localhost:8080/"
        },
        "outputId": "0ed9dbb2-992c-4239-ddc5-b9c374301eee",
        "id": "vjjYhUf4gsLs"
      },
      "execution_count": null,
      "outputs": [
        {
          "output_type": "stream",
          "name": "stdout",
          "text": [
            "0.7942689085981769\n"
          ]
        }
      ]
    },
    {
      "cell_type": "markdown",
      "source": [
        "Testing (Predictions of test set)"
      ],
      "metadata": {
        "id": "wtyjQZnsV37g"
      }
    },
    {
      "cell_type": "code",
      "source": [
        "submission = pd.DataFrame()\n",
        "submission['id'] = X_test.index\n",
        "submission['match'] = bayes_search.predict_proba(X_test)[:,1]\n",
        "submission.to_csv('submission.csv', index=False)"
      ],
      "metadata": {
        "id": "zko1D6PpNHiL"
      },
      "execution_count": null,
      "outputs": []
    },
    {
      "cell_type": "markdown",
      "source": [
        "Observations and trial summary"
      ],
      "metadata": {
        "id": "51lcJNPU7FbF"
      }
    },
    {
      "cell_type": "markdown",
      "source": [
        "| Aspect                                                \t| Comment                                                                                                                                                                  \t|\n",
        "|-------------------------------------------------------\t|--------------------------------------------------------------------------------------------------------------------------------------------------------------------------\t|\n",
        "| _1- Model type_                                          \t| Logistic Regression                                                                                                                                                           \t|\n",
        "| _2- Model hyperparameters space_                         \t| penalty': [\"l2\"] <br /> C: [0.01, 0.1, 1], <br /> max_iter: [10000], <br />  solver': [\"newton-cholesky\", \"saga\", \"lbfgs\"]                                                                                                                                            \t|\n",
        "| _3- Preprocessing hyperparameters space_                 \t| n_neighbors': [5,10] for both numeric and categorical features imputation                                                                                                                                                    \t|\n",
        "| _4- Class imbalance treatment_                 \t| Treated with \"class_weight = \"balanced\"\" hyperparameter.                                                                                                                                                   \t|\n",
        "| _5- Optimal hyperparameters found_                       \t| ('my_classifier__C', 0.01), --> there is a potential better value, obtained value is on the edge of the provided region<br /> ('my_classifier__max_iter', 10000),<br /> ('my_classifier__penalty', 'l2'),<br /> ('my_classifier__solver', 'saga'),<br /> ('preprocessor__cat__knn_imputer__n_neighbors', 7),<br /> ('preprocessor__num__knn_imputer__n_neighbors', 8)\t|\n",
        "| _6- Best cross validation AUC score_                     \t| 0.86                                                                                                                                                                     \t|\n",
        "| _7- AUC score on held out validation set_                \t| 0.79                                                                                                                                                                     \t|\n",
        "| _8- AUC score on kaggle test set (public)_                            | 0.85               |\n",
        "| _9- Observed performance and thoughts on it_             \t|     - The model is also underfitting so we can remove the L2 regularization and check the perfromance                                                                                                                                                               \t|\n",
        "| _10- Reason for changes (if any) and plan for next trial_ \t|                                                                               - The model is not complex enough so we need to reduce the regularization introduced by L2 and check the perfromance                                                                                 \t|\n",
        "| _11- Expected outcome_                                    \t|                                                                               We expect better performance as the current perfromance it not really bad knowing that the best attainable AUC score is something in order of 0.89                                                                                     \t|"
      ],
      "metadata": {
        "id": "tM3IdlNPnY0n"
      }
    },
    {
      "cell_type": "markdown",
      "source": [
        "Final Thoughts:\n",
        "we think that since most of the models were underfitting, the dropped categorical features named \"undergra\" and \"from\" which represent the school attended for undergraduate degree and from where they were originally, could be really capturing important info or relations for the model and unfortunately we have dropped them. If we think about it these two features can actually be important criteria for some people when choosing a mate."
      ],
      "metadata": {
        "id": "RYOIMjwBqx_f"
      }
    }
  ]
}