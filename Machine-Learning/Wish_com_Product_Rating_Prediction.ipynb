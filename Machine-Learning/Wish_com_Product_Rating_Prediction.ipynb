{
  "nbformat": 4,
  "nbformat_minor": 0,
  "metadata": {
    "colab": {
      "provenance": [],
      "collapsed_sections": [
        "XIkk6GDYvK7x",
        "A_smHjydBzLP",
        "FlYvDNPVF7Yt",
        "ola_o3WfKiLi",
        "VjASIRQIBZ7F",
        "21SiJXPwl1f6",
        "EX6Nh8GLl7pk",
        "6hlKl1eY_24d",
        "IuQoIeBl-e-V",
        "3G2dAFI2jNqu",
        "Fe51I8Hm1ogU",
        "x6CuCtaI7AGu",
        "Wd7qYIrqjWj5",
        "2M7Js-BQyZ7W",
        "hIrM7HS3QUPR",
        "emZvlmi4-rvo",
        "ccV8ziO3Wh0v",
        "hRMciqMGoMb1",
        "XPFZUOBYLQkp"
      ],
      "toc_visible": true,
      "include_colab_link": true
    },
    "kernelspec": {
      "name": "python3",
      "display_name": "Python 3"
    },
    "language_info": {
      "name": "python"
    }
  },
  "cells": [
    {
      "cell_type": "markdown",
      "metadata": {
        "id": "view-in-github",
        "colab_type": "text"
      },
      "source": [
        "<a href=\"https://colab.research.google.com/github/oamerl/machine-learning-projects/blob/main/Machine-Learning/Wish_com_Product_Rating_Prediction.ipynb\" target=\"_parent\"><img src=\"https://colab.research.google.com/assets/colab-badge.svg\" alt=\"Open In Colab\"/></a>"
      ]
    },
    {
      "cell_type": "markdown",
      "source": [
        "# **1- Data Importing 📋**\n"
      ],
      "metadata": {
        "id": "o6Z4qAMlC6DI"
      }
    },
    {
      "cell_type": "markdown",
      "source": [
        "Importing needed libraries\n"
      ],
      "metadata": {
        "id": "jg6HvZJlYYOS"
      }
    },
    {
      "cell_type": "code",
      "execution_count": null,
      "metadata": {
        "id": "W9DOqmuGWbP2"
      },
      "outputs": [],
      "source": [
        "import numpy as np\n",
        "import pandas as pd\n",
        "from matplotlib import pyplot as plt\n",
        "%matplotlib inline\n",
        "import seaborn as sns\n",
        "from sklearn.model_selection import train_test_split\n",
        "from sklearn import metrics\n",
        "from sklearn.metrics import classification_report"
      ]
    },
    {
      "cell_type": "markdown",
      "source": [
        "Importing the data"
      ],
      "metadata": {
        "id": "LJa0n4oWYbgB"
      }
    },
    {
      "cell_type": "code",
      "source": [
        "train_data = pd.read_csv(\"/content/train_new.csv\") # reading the training dataset file\n",
        "test_data = pd.read_csv(\"/content/test_new.csv\") # reading the testing dataset file"
      ],
      "metadata": {
        "id": "fidMS_wpmrT9"
      },
      "execution_count": null,
      "outputs": []
    },
    {
      "cell_type": "code",
      "source": [
        "# printing the first 6 rows of the training set\n",
        "train_data.head(6)"
      ],
      "metadata": {
        "colab": {
          "base_uri": "https://localhost:8080/",
          "height": 435
        },
        "id": "pfthiHA_XoYl",
        "outputId": "cb772e9b-ccdf-4086-fbc3-95e06ed9f9ee"
      },
      "execution_count": null,
      "outputs": [
        {
          "output_type": "execute_result",
          "data": {
            "text/plain": [
              "   price  retail_price currency_buyer  units_sold  uses_ad_boosts  rating  \\\n",
              "0   8.00             7            EUR       10000               1     4.0   \n",
              "1   8.00             7            EUR        1000               0     4.0   \n",
              "2   6.00            34            EUR         100               0     4.0   \n",
              "3   4.67             4            EUR         100               1     3.0   \n",
              "4   8.00            11            EUR        1000               0     4.0   \n",
              "5  14.00            51            EUR         100               0     4.0   \n",
              "\n",
              "   rating_count  badges_count  badge_local_product  badge_product_quality  \\\n",
              "0          1670             0                    0                      0   \n",
              "1           843             1                    1                      0   \n",
              "2            10             0                    0                      0   \n",
              "3            82             0                    0                      0   \n",
              "4           127             0                    0                      0   \n",
              "5            36             0                    0                      0   \n",
              "\n",
              "   ...      merchant_name             merchant_info_subtitle  \\\n",
              "0  ...         keepahorse  88 % avis positifs (66,644 notes)   \n",
              "1  ...       上海铭启电气科技有限公司  91 % avis positifs (25,752 notes)   \n",
              "2  ...        zhaodongmei   83 % avis positifs (3,897 notes)   \n",
              "3  ...         pookie0331   87 % avis positifs (7,497 notes)   \n",
              "4  ...  shitongyi12683626     91 % avis positifs (173 notes)   \n",
              "5  ...            pashesa                     (16,885 notes)   \n",
              "\n",
              "  merchant_rating_count merchant_rating               merchant_id  \\\n",
              "0                 66644        4.137582  577fb2b368116418674befd9   \n",
              "1                 25752        4.256873  566a3ef17233ff2686443082   \n",
              "2                  3897        3.928920  5aacd6c1ccf0c83e5a6f3de0   \n",
              "3                  7497        4.079365  583141fbfef4094e51453d9b   \n",
              "4                   173        4.306358  5d3bc9f8e13a7e654424a4cb   \n",
              "5                 16885        3.897898  58a6f41a96f1bb57840b0ed4   \n",
              "\n",
              "  merchant_has_profile_picture  \\\n",
              "0                            1   \n",
              "1                            0   \n",
              "2                            0   \n",
              "3                            0   \n",
              "4                            0   \n",
              "5                            0   \n",
              "\n",
              "                            merchant_profile_picture   theme  crawl_month  \\\n",
              "0  https://s3-us-west-1.amazonaws.com/sweeper-pro...  summer      2020-08   \n",
              "1                                                NaN  summer      2020-08   \n",
              "2                                                NaN  summer      2020-08   \n",
              "3                                                NaN  summer      2020-08   \n",
              "4                                                NaN  summer      2020-08   \n",
              "5                                                NaN  summer      2020-08   \n",
              "\n",
              "     id  \n",
              "0   272  \n",
              "1  1515  \n",
              "2   940  \n",
              "3   309  \n",
              "4   226  \n",
              "5   633  \n",
              "\n",
              "[6 rows x 34 columns]"
            ],
            "text/html": [
              "\n",
              "  <div id=\"df-e510f8ff-909e-4392-97ee-d33e026465cf\">\n",
              "    <div class=\"colab-df-container\">\n",
              "      <div>\n",
              "<style scoped>\n",
              "    .dataframe tbody tr th:only-of-type {\n",
              "        vertical-align: middle;\n",
              "    }\n",
              "\n",
              "    .dataframe tbody tr th {\n",
              "        vertical-align: top;\n",
              "    }\n",
              "\n",
              "    .dataframe thead th {\n",
              "        text-align: right;\n",
              "    }\n",
              "</style>\n",
              "<table border=\"1\" class=\"dataframe\">\n",
              "  <thead>\n",
              "    <tr style=\"text-align: right;\">\n",
              "      <th></th>\n",
              "      <th>price</th>\n",
              "      <th>retail_price</th>\n",
              "      <th>currency_buyer</th>\n",
              "      <th>units_sold</th>\n",
              "      <th>uses_ad_boosts</th>\n",
              "      <th>rating</th>\n",
              "      <th>rating_count</th>\n",
              "      <th>badges_count</th>\n",
              "      <th>badge_local_product</th>\n",
              "      <th>badge_product_quality</th>\n",
              "      <th>...</th>\n",
              "      <th>merchant_name</th>\n",
              "      <th>merchant_info_subtitle</th>\n",
              "      <th>merchant_rating_count</th>\n",
              "      <th>merchant_rating</th>\n",
              "      <th>merchant_id</th>\n",
              "      <th>merchant_has_profile_picture</th>\n",
              "      <th>merchant_profile_picture</th>\n",
              "      <th>theme</th>\n",
              "      <th>crawl_month</th>\n",
              "      <th>id</th>\n",
              "    </tr>\n",
              "  </thead>\n",
              "  <tbody>\n",
              "    <tr>\n",
              "      <th>0</th>\n",
              "      <td>8.00</td>\n",
              "      <td>7</td>\n",
              "      <td>EUR</td>\n",
              "      <td>10000</td>\n",
              "      <td>1</td>\n",
              "      <td>4.0</td>\n",
              "      <td>1670</td>\n",
              "      <td>0</td>\n",
              "      <td>0</td>\n",
              "      <td>0</td>\n",
              "      <td>...</td>\n",
              "      <td>keepahorse</td>\n",
              "      <td>88 % avis positifs (66,644 notes)</td>\n",
              "      <td>66644</td>\n",
              "      <td>4.137582</td>\n",
              "      <td>577fb2b368116418674befd9</td>\n",
              "      <td>1</td>\n",
              "      <td>https://s3-us-west-1.amazonaws.com/sweeper-pro...</td>\n",
              "      <td>summer</td>\n",
              "      <td>2020-08</td>\n",
              "      <td>272</td>\n",
              "    </tr>\n",
              "    <tr>\n",
              "      <th>1</th>\n",
              "      <td>8.00</td>\n",
              "      <td>7</td>\n",
              "      <td>EUR</td>\n",
              "      <td>1000</td>\n",
              "      <td>0</td>\n",
              "      <td>4.0</td>\n",
              "      <td>843</td>\n",
              "      <td>1</td>\n",
              "      <td>1</td>\n",
              "      <td>0</td>\n",
              "      <td>...</td>\n",
              "      <td>上海铭启电气科技有限公司</td>\n",
              "      <td>91 % avis positifs (25,752 notes)</td>\n",
              "      <td>25752</td>\n",
              "      <td>4.256873</td>\n",
              "      <td>566a3ef17233ff2686443082</td>\n",
              "      <td>0</td>\n",
              "      <td>NaN</td>\n",
              "      <td>summer</td>\n",
              "      <td>2020-08</td>\n",
              "      <td>1515</td>\n",
              "    </tr>\n",
              "    <tr>\n",
              "      <th>2</th>\n",
              "      <td>6.00</td>\n",
              "      <td>34</td>\n",
              "      <td>EUR</td>\n",
              "      <td>100</td>\n",
              "      <td>0</td>\n",
              "      <td>4.0</td>\n",
              "      <td>10</td>\n",
              "      <td>0</td>\n",
              "      <td>0</td>\n",
              "      <td>0</td>\n",
              "      <td>...</td>\n",
              "      <td>zhaodongmei</td>\n",
              "      <td>83 % avis positifs (3,897 notes)</td>\n",
              "      <td>3897</td>\n",
              "      <td>3.928920</td>\n",
              "      <td>5aacd6c1ccf0c83e5a6f3de0</td>\n",
              "      <td>0</td>\n",
              "      <td>NaN</td>\n",
              "      <td>summer</td>\n",
              "      <td>2020-08</td>\n",
              "      <td>940</td>\n",
              "    </tr>\n",
              "    <tr>\n",
              "      <th>3</th>\n",
              "      <td>4.67</td>\n",
              "      <td>4</td>\n",
              "      <td>EUR</td>\n",
              "      <td>100</td>\n",
              "      <td>1</td>\n",
              "      <td>3.0</td>\n",
              "      <td>82</td>\n",
              "      <td>0</td>\n",
              "      <td>0</td>\n",
              "      <td>0</td>\n",
              "      <td>...</td>\n",
              "      <td>pookie0331</td>\n",
              "      <td>87 % avis positifs (7,497 notes)</td>\n",
              "      <td>7497</td>\n",
              "      <td>4.079365</td>\n",
              "      <td>583141fbfef4094e51453d9b</td>\n",
              "      <td>0</td>\n",
              "      <td>NaN</td>\n",
              "      <td>summer</td>\n",
              "      <td>2020-08</td>\n",
              "      <td>309</td>\n",
              "    </tr>\n",
              "    <tr>\n",
              "      <th>4</th>\n",
              "      <td>8.00</td>\n",
              "      <td>11</td>\n",
              "      <td>EUR</td>\n",
              "      <td>1000</td>\n",
              "      <td>0</td>\n",
              "      <td>4.0</td>\n",
              "      <td>127</td>\n",
              "      <td>0</td>\n",
              "      <td>0</td>\n",
              "      <td>0</td>\n",
              "      <td>...</td>\n",
              "      <td>shitongyi12683626</td>\n",
              "      <td>91 % avis positifs (173 notes)</td>\n",
              "      <td>173</td>\n",
              "      <td>4.306358</td>\n",
              "      <td>5d3bc9f8e13a7e654424a4cb</td>\n",
              "      <td>0</td>\n",
              "      <td>NaN</td>\n",
              "      <td>summer</td>\n",
              "      <td>2020-08</td>\n",
              "      <td>226</td>\n",
              "    </tr>\n",
              "    <tr>\n",
              "      <th>5</th>\n",
              "      <td>14.00</td>\n",
              "      <td>51</td>\n",
              "      <td>EUR</td>\n",
              "      <td>100</td>\n",
              "      <td>0</td>\n",
              "      <td>4.0</td>\n",
              "      <td>36</td>\n",
              "      <td>0</td>\n",
              "      <td>0</td>\n",
              "      <td>0</td>\n",
              "      <td>...</td>\n",
              "      <td>pashesa</td>\n",
              "      <td>(16,885 notes)</td>\n",
              "      <td>16885</td>\n",
              "      <td>3.897898</td>\n",
              "      <td>58a6f41a96f1bb57840b0ed4</td>\n",
              "      <td>0</td>\n",
              "      <td>NaN</td>\n",
              "      <td>summer</td>\n",
              "      <td>2020-08</td>\n",
              "      <td>633</td>\n",
              "    </tr>\n",
              "  </tbody>\n",
              "</table>\n",
              "<p>6 rows × 34 columns</p>\n",
              "</div>\n",
              "      <button class=\"colab-df-convert\" onclick=\"convertToInteractive('df-e510f8ff-909e-4392-97ee-d33e026465cf')\"\n",
              "              title=\"Convert this dataframe to an interactive table.\"\n",
              "              style=\"display:none;\">\n",
              "        \n",
              "  <svg xmlns=\"http://www.w3.org/2000/svg\" height=\"24px\"viewBox=\"0 0 24 24\"\n",
              "       width=\"24px\">\n",
              "    <path d=\"M0 0h24v24H0V0z\" fill=\"none\"/>\n",
              "    <path d=\"M18.56 5.44l.94 2.06.94-2.06 2.06-.94-2.06-.94-.94-2.06-.94 2.06-2.06.94zm-11 1L8.5 8.5l.94-2.06 2.06-.94-2.06-.94L8.5 2.5l-.94 2.06-2.06.94zm10 10l.94 2.06.94-2.06 2.06-.94-2.06-.94-.94-2.06-.94 2.06-2.06.94z\"/><path d=\"M17.41 7.96l-1.37-1.37c-.4-.4-.92-.59-1.43-.59-.52 0-1.04.2-1.43.59L10.3 9.45l-7.72 7.72c-.78.78-.78 2.05 0 2.83L4 21.41c.39.39.9.59 1.41.59.51 0 1.02-.2 1.41-.59l7.78-7.78 2.81-2.81c.8-.78.8-2.07 0-2.86zM5.41 20L4 18.59l7.72-7.72 1.47 1.35L5.41 20z\"/>\n",
              "  </svg>\n",
              "      </button>\n",
              "      \n",
              "  <style>\n",
              "    .colab-df-container {\n",
              "      display:flex;\n",
              "      flex-wrap:wrap;\n",
              "      gap: 12px;\n",
              "    }\n",
              "\n",
              "    .colab-df-convert {\n",
              "      background-color: #E8F0FE;\n",
              "      border: none;\n",
              "      border-radius: 50%;\n",
              "      cursor: pointer;\n",
              "      display: none;\n",
              "      fill: #1967D2;\n",
              "      height: 32px;\n",
              "      padding: 0 0 0 0;\n",
              "      width: 32px;\n",
              "    }\n",
              "\n",
              "    .colab-df-convert:hover {\n",
              "      background-color: #E2EBFA;\n",
              "      box-shadow: 0px 1px 2px rgba(60, 64, 67, 0.3), 0px 1px 3px 1px rgba(60, 64, 67, 0.15);\n",
              "      fill: #174EA6;\n",
              "    }\n",
              "\n",
              "    [theme=dark] .colab-df-convert {\n",
              "      background-color: #3B4455;\n",
              "      fill: #D2E3FC;\n",
              "    }\n",
              "\n",
              "    [theme=dark] .colab-df-convert:hover {\n",
              "      background-color: #434B5C;\n",
              "      box-shadow: 0px 1px 3px 1px rgba(0, 0, 0, 0.15);\n",
              "      filter: drop-shadow(0px 1px 2px rgba(0, 0, 0, 0.3));\n",
              "      fill: #FFFFFF;\n",
              "    }\n",
              "  </style>\n",
              "\n",
              "      <script>\n",
              "        const buttonEl =\n",
              "          document.querySelector('#df-e510f8ff-909e-4392-97ee-d33e026465cf button.colab-df-convert');\n",
              "        buttonEl.style.display =\n",
              "          google.colab.kernel.accessAllowed ? 'block' : 'none';\n",
              "\n",
              "        async function convertToInteractive(key) {\n",
              "          const element = document.querySelector('#df-e510f8ff-909e-4392-97ee-d33e026465cf');\n",
              "          const dataTable =\n",
              "            await google.colab.kernel.invokeFunction('convertToInteractive',\n",
              "                                                     [key], {});\n",
              "          if (!dataTable) return;\n",
              "\n",
              "          const docLinkHtml = 'Like what you see? Visit the ' +\n",
              "            '<a target=\"_blank\" href=https://colab.research.google.com/notebooks/data_table.ipynb>data table notebook</a>'\n",
              "            + ' to learn more about interactive tables.';\n",
              "          element.innerHTML = '';\n",
              "          dataTable['output_type'] = 'display_data';\n",
              "          await google.colab.output.renderOutput(dataTable, element);\n",
              "          const docLink = document.createElement('div');\n",
              "          docLink.innerHTML = docLinkHtml;\n",
              "          element.appendChild(docLink);\n",
              "        }\n",
              "      </script>\n",
              "    </div>\n",
              "  </div>\n",
              "  "
            ]
          },
          "metadata": {},
          "execution_count": 107
        }
      ]
    },
    {
      "cell_type": "code",
      "source": [
        "# printing different info about the trainig set like the data types of features and if there are any null values\n",
        "train_data.info()"
      ],
      "metadata": {
        "colab": {
          "base_uri": "https://localhost:8080/"
        },
        "id": "A8490LswXCYE",
        "outputId": "e5e26f25-9ffd-41ec-e9a0-e0dc1d7909f4"
      },
      "execution_count": null,
      "outputs": [
        {
          "output_type": "stream",
          "name": "stdout",
          "text": [
            "<class 'pandas.core.frame.DataFrame'>\n",
            "RangeIndex: 1094 entries, 0 to 1093\n",
            "Data columns (total 34 columns):\n",
            " #   Column                        Non-Null Count  Dtype  \n",
            "---  ------                        --------------  -----  \n",
            " 0   price                         1094 non-null   float64\n",
            " 1   retail_price                  1094 non-null   int64  \n",
            " 2   currency_buyer                1094 non-null   object \n",
            " 3   units_sold                    1094 non-null   int64  \n",
            " 4   uses_ad_boosts                1094 non-null   int64  \n",
            " 5   rating                        1094 non-null   float64\n",
            " 6   rating_count                  1094 non-null   int64  \n",
            " 7   badges_count                  1094 non-null   int64  \n",
            " 8   badge_local_product           1094 non-null   int64  \n",
            " 9   badge_product_quality         1094 non-null   int64  \n",
            " 10  badge_fast_shipping           1094 non-null   int64  \n",
            " 11  tags                          1094 non-null   object \n",
            " 12  product_color                 1065 non-null   object \n",
            " 13  product_variation_size_id     1082 non-null   object \n",
            " 14  product_variation_inventory   1094 non-null   int64  \n",
            " 15  shipping_option_name          1094 non-null   object \n",
            " 16  shipping_option_price         1094 non-null   int64  \n",
            " 17  shipping_is_express           1094 non-null   int64  \n",
            " 18  countries_shipped_to          1094 non-null   int64  \n",
            " 19  inventory_total               1094 non-null   int64  \n",
            " 20  has_urgency_banner            349 non-null    float64\n",
            " 21  urgency_text                  349 non-null    object \n",
            " 22  origin_country                1082 non-null   object \n",
            " 23  merchant_title                1094 non-null   object \n",
            " 24  merchant_name                 1090 non-null   object \n",
            " 25  merchant_info_subtitle        1094 non-null   object \n",
            " 26  merchant_rating_count         1094 non-null   int64  \n",
            " 27  merchant_rating               1094 non-null   float64\n",
            " 28  merchant_id                   1094 non-null   object \n",
            " 29  merchant_has_profile_picture  1094 non-null   int64  \n",
            " 30  merchant_profile_picture      170 non-null    object \n",
            " 31  theme                         1094 non-null   object \n",
            " 32  crawl_month                   1094 non-null   object \n",
            " 33  id                            1094 non-null   int64  \n",
            "dtypes: float64(4), int64(16), object(14)\n",
            "memory usage: 290.7+ KB\n"
          ]
        }
      ]
    },
    {
      "cell_type": "code",
      "source": [
        "# plotting the histogram of the target label which is the \"rating\"\n",
        "plt = train_data.rating.value_counts().plot(kind = 'bar') # getting the count of different \"rating\" values\n",
        "plt.set_xlabel('rating') # renaming the x-axis\n",
        "plt.set_ylabel('rating Count') # renaming the y-axis"
      ],
      "metadata": {
        "colab": {
          "base_uri": "https://localhost:8080/",
          "height": 303
        },
        "id": "JCMShA3BJxYY",
        "outputId": "0a7ef5e2-750e-4ed0-9d63-aa7a555264e8"
      },
      "execution_count": null,
      "outputs": [
        {
          "output_type": "execute_result",
          "data": {
            "text/plain": [
              "Text(0, 0.5, 'rating Count')"
            ]
          },
          "metadata": {},
          "execution_count": 109
        },
        {
          "output_type": "display_data",
          "data": {
            "text/plain": [
              "<Figure size 432x288 with 1 Axes>"
            ],
            "image/png": "[encoded data removed]"
          },
          "metadata": {
            "needs_background": "light"
          }
        }
      ]
    },
    {
      "cell_type": "markdown",
      "source": [
        "plotting pairwise correlation between features"
      ],
      "metadata": {
        "id": "HQfFJb3NMvUL"
      }
    },
    {
      "cell_type": "code",
      "source": [
        "#importing needed libraries\n",
        "import matplotlib.pyplot as plt\n",
        "import seaborn as sns\n",
        "\n",
        "plt.figure(figsize=(15,9)) # changing the figure size such that correlation number can be easily seen\n",
        "sns.heatmap(data = train_data.corr(),cmap='bwr', annot=True, linewidths=0.2) # using pandas library correlation function"
      ],
      "metadata": {
        "colab": {
          "base_uri": "https://localhost:8080/",
          "height": 695
        },
        "id": "58xGQwuuKIDo",
        "outputId": "b549bdc7-c2ab-472f-b264-f8a60f6fec5b"
      },
      "execution_count": null,
      "outputs": [
        {
          "output_type": "execute_result",
          "data": {
            "text/plain": [
              "<Axes: >"
            ]
          },
          "metadata": {},
          "execution_count": 141
        },
        {
          "output_type": "display_data",
          "data": {
            "text/plain": [
              "<Figure size 1080x648 with 2 Axes>"
            ],
            "image/png": "[encoded data removed]"
          },
          "metadata": {
            "needs_background": "light"
          }
        }
      ]
    },
    {
      "cell_type": "markdown",
      "source": [
        "Correlation analysis can be used to identify important relationships between features\n",
        "in a dataset. Correlation analysis is often performed using a correlation coefficient, such as Pearson’s correlation coefficient or Spearman’s rank correlation coefficient. The correlation coefficient is a number between -1 and 1, where a correlation of 1 indicates a perfect positive linear relationship, a correlation of -1 indicates a perfect negative linear relationship, and a correlation of 0 indicates no linear relationship.\n",
        "\n",
        "\n",
        "The above correlation calculated by pandas is Pearson’s correlation coefficient which is the default, however depending on the type of features that we want to check their correlation we should use the appropriate method. Below we mention some of them.\n",
        "\n",
        "for Numerical - Numerical features correlation we can use:\n",
        "\n",
        "* **Pearson’s correlation coefficient**: This is the most common correlation coefficient, and it measures the linear relationship between two numerical variables. It takes values between -1 and 1, where a value of 1 indicates a perfect positive correlation, a value of -1 indicates a perfect negative correlation, and a value of 0 indicates no correlation. It assumes features are normally distributed and\n",
        "have linear relationship.\n",
        "\n",
        "* **Spearman’s rank correlation coefficient**: It is similar to Pearson’s correlation coefficient, but it is more robust to outliers and non-linear relationships.\n",
        "It also has a value between -1 and 1. It assumes features are not normally\n",
        "distributed and relationship is not linear but monotonic. It can be used also in\n",
        "case of Ordinal-Ordinal correlation or Oridnal-Numerical correlation.\n",
        "\n",
        "* **Kendall’s tau correlation coefficient**: It measures the concordance between\n",
        "two rankings of the same data. It has a value between -1 and 1, where a value of\n",
        "1 indicates perfect concordance and a value of -1 indicates perfect discordance.\n",
        "It assumes non-normality in data and is preferred to be used with Ordinal-Ordinal or Ordinal-Numerical but if ordinal variable has small number of\n",
        "levels.\n",
        "\n",
        "for Categorical - Categorical features correlation we can use:\n",
        "\n",
        "\n",
        "* **Cramer’s v**: It measures the association between two categorical variables. It\n",
        "has a value between 0 and 1, where a value of 0 indicates no association and a\n",
        "value of 1 indicates perfect association.\n",
        "\n",
        "* **Goodman-Kruskal’s lambda**: It is a measure of association, the possible values of lambda range from 0 to 1, with 0 indicating no association and 1 indicating perfect association. It is robust to outliers and is also a good measure of\n",
        "association to use when the variables are not normally distributed. It is usually\n",
        "used if there is no one dominant class of X for all levels of y."
      ],
      "metadata": {
        "id": "OmERCHT2D1qq"
      }
    },
    {
      "cell_type": "markdown",
      "source": [
        "Conserving the \"id\" of the transaction as the dataframe index such that we can use it later when we output the submission file that is be submitted on kaggle"
      ],
      "metadata": {
        "id": "xeE7shfbM1Wc"
      }
    },
    {
      "cell_type": "code",
      "source": [
        "train_data.set_index('id', inplace = True) # setting the index of the training set dataframe to be the coulmn named \"id\" such that we don't lose it.\n",
        "test_data.set_index('id', inplace = True) # setting the index of the testing set dataframe to be the coulmn named \"id\" such that we don't lose it."
      ],
      "metadata": {
        "id": "Yo8fRBC9Xf-c"
      },
      "execution_count": null,
      "outputs": []
    },
    {
      "cell_type": "markdown",
      "source": [
        "# **2- Data Cleaning and Pre-processing 🛁🧼**"
      ],
      "metadata": {
        "id": "P0jvLYMyClO0"
      }
    },
    {
      "cell_type": "markdown",
      "source": [
        "## *2.1) Non-important features drop*"
      ],
      "metadata": {
        "id": "BovY29PEbQVp"
      }
    },
    {
      "cell_type": "code",
      "source": [
        "# defining the unneeded features columns to be dropped\n",
        "features_to_drop = [\"currency_buyer\", \"product_variation_size_id\", \"urgency_text\", \"merchant_title\",\n",
        "                    \"merchant_name\",\"merchant_info_subtitle\", \"merchant_profile_picture\", \"theme\", \"crawl_month\"]\n",
        "\n",
        "train_data = train_data.drop(features_to_drop, axis=1) # removing the unneeded features from the training set\n",
        "X_test = test_data.drop(features_to_drop, axis=1) # removing the unneeded features from the testing set\n"
      ],
      "metadata": {
        "id": "249lPXB8YO7Z"
      },
      "execution_count": null,
      "outputs": []
    },
    {
      "cell_type": "code",
      "source": [
        "# printing different info about the trainig set after features dropping\n",
        "train_data.info()"
      ],
      "metadata": {
        "colab": {
          "base_uri": "https://localhost:8080/"
        },
        "id": "Iz_E5gu1aiy0",
        "outputId": "d1f228da-2195-4459-c75d-f3c3c9109a94"
      },
      "execution_count": null,
      "outputs": [
        {
          "output_type": "stream",
          "name": "stdout",
          "text": [
            "<class 'pandas.core.frame.DataFrame'>\n",
            "Int64Index: 1094 entries, 272 to 1536\n",
            "Data columns (total 24 columns):\n",
            " #   Column                        Non-Null Count  Dtype  \n",
            "---  ------                        --------------  -----  \n",
            " 0   price                         1094 non-null   float64\n",
            " 1   retail_price                  1094 non-null   int64  \n",
            " 2   units_sold                    1094 non-null   int64  \n",
            " 3   uses_ad_boosts                1094 non-null   int64  \n",
            " 4   rating                        1094 non-null   float64\n",
            " 5   rating_count                  1094 non-null   int64  \n",
            " 6   badges_count                  1094 non-null   int64  \n",
            " 7   badge_local_product           1094 non-null   int64  \n",
            " 8   badge_product_quality         1094 non-null   int64  \n",
            " 9   badge_fast_shipping           1094 non-null   int64  \n",
            " 10  tags                          1094 non-null   object \n",
            " 11  product_color                 1065 non-null   object \n",
            " 12  product_variation_inventory   1094 non-null   int64  \n",
            " 13  shipping_option_name          1094 non-null   object \n",
            " 14  shipping_option_price         1094 non-null   int64  \n",
            " 15  shipping_is_express           1094 non-null   int64  \n",
            " 16  countries_shipped_to          1094 non-null   int64  \n",
            " 17  inventory_total               1094 non-null   int64  \n",
            " 18  has_urgency_banner            349 non-null    float64\n",
            " 19  origin_country                1082 non-null   object \n",
            " 20  merchant_rating_count         1094 non-null   int64  \n",
            " 21  merchant_rating               1094 non-null   float64\n",
            " 22  merchant_id                   1094 non-null   object \n",
            " 23  merchant_has_profile_picture  1094 non-null   int64  \n",
            "dtypes: float64(4), int64(15), object(5)\n",
            "memory usage: 213.7+ KB\n"
          ]
        }
      ]
    },
    {
      "cell_type": "code",
      "source": [
        "# printing different info about the testing set after features dropping\n",
        "X_test.info()"
      ],
      "metadata": {
        "colab": {
          "base_uri": "https://localhost:8080/"
        },
        "id": "mlp2yjfgg6XC",
        "outputId": "0f7bc098-4a7e-4b95-c58e-7a024ec777f2"
      },
      "execution_count": null,
      "outputs": [
        {
          "output_type": "stream",
          "name": "stdout",
          "text": [
            "<class 'pandas.core.frame.DataFrame'>\n",
            "Int64Index: 479 entries, 937 to 196\n",
            "Data columns (total 23 columns):\n",
            " #   Column                        Non-Null Count  Dtype  \n",
            "---  ------                        --------------  -----  \n",
            " 0   price                         479 non-null    float64\n",
            " 1   retail_price                  479 non-null    int64  \n",
            " 2   units_sold                    479 non-null    int64  \n",
            " 3   uses_ad_boosts                479 non-null    int64  \n",
            " 4   rating_count                  479 non-null    int64  \n",
            " 5   badges_count                  479 non-null    int64  \n",
            " 6   badge_local_product           479 non-null    int64  \n",
            " 7   badge_product_quality         479 non-null    int64  \n",
            " 8   badge_fast_shipping           479 non-null    int64  \n",
            " 9   tags                          479 non-null    object \n",
            " 10  product_color                 467 non-null    object \n",
            " 11  product_variation_inventory   479 non-null    int64  \n",
            " 12  shipping_option_name          479 non-null    object \n",
            " 13  shipping_option_price         479 non-null    int64  \n",
            " 14  shipping_is_express           479 non-null    int64  \n",
            " 15  countries_shipped_to          479 non-null    int64  \n",
            " 16  inventory_total               479 non-null    int64  \n",
            " 17  has_urgency_banner            124 non-null    float64\n",
            " 18  origin_country                474 non-null    object \n",
            " 19  merchant_rating_count         479 non-null    int64  \n",
            " 20  merchant_rating               479 non-null    float64\n",
            " 21  merchant_id                   479 non-null    object \n",
            " 22  merchant_has_profile_picture  479 non-null    int64  \n",
            "dtypes: float64(3), int64(15), object(5)\n",
            "memory usage: 89.8+ KB\n"
          ]
        }
      ]
    },
    {
      "cell_type": "markdown",
      "source": [
        "## *2.2) Missing values imputation*\n",
        "*   \"product_color\" N/As are filled by the most repeated value\n",
        "*   \"origin_country\" N/As are filled by the most repeated value\n",
        "*   \"has_urgency_banner\"*italicized text* N/As are filled by zero\n",
        "\n",
        "\n",
        "\n",
        "\n"
      ],
      "metadata": {
        "id": "lijYCVSRbZh_"
      }
    },
    {
      "cell_type": "code",
      "source": [
        "print(train_data[\"product_color\"].value_counts()) # printing the values count of the product colour\n",
        "print(\"\\n most repeated product colour is:\",train_data[\"product_color\"].mode()[0]) # getting the most repeated colour"
      ],
      "metadata": {
        "colab": {
          "base_uri": "https://localhost:8080/"
        },
        "id": "SWwbcg-xeDLw",
        "outputId": "caab3892-ce06-4022-836b-e1b092d4f298"
      },
      "execution_count": null,
      "outputs": [
        {
          "output_type": "stream",
          "name": "stdout",
          "text": [
            "black             219\n",
            "white             173\n",
            "blue               77\n",
            "yellow             69\n",
            "pink               68\n",
            "                 ... \n",
            "claret              1\n",
            "brown & yellow      1\n",
            "whitestripe         1\n",
            "Pink                1\n",
            "light green         1\n",
            "Name: product_color, Length: 87, dtype: int64\n",
            "\n",
            " most repeated product colour is: black\n"
          ]
        }
      ]
    },
    {
      "cell_type": "code",
      "source": [
        "print(train_data[\"origin_country\"].value_counts()) # printing the values count of the origin country\n",
        "print(\"\\n most repeated origin country is:\",train_data[\"origin_country\"].mode()[0]) # getting the most repeated origin country"
      ],
      "metadata": {
        "colab": {
          "base_uri": "https://localhost:8080/"
        },
        "id": "H2cjC9nDe2QJ",
        "outputId": "ddd44d91-ea9f-4f21-da49-e3d3421f0307"
      },
      "execution_count": null,
      "outputs": [
        {
          "output_type": "stream",
          "name": "stdout",
          "text": [
            "CN    1054\n",
            "US      22\n",
            "VE       3\n",
            "SG       2\n",
            "GB       1\n",
            "Name: origin_country, dtype: int64\n",
            "\n",
            " most repeated origin country is: CN\n"
          ]
        }
      ]
    },
    {
      "cell_type": "code",
      "source": [
        "#print(train_data[\"origin_country\"].value_counts().idxmax())\n",
        "#train_data[\"origin_country\"].mode()[0]"
      ],
      "metadata": {
        "id": "d9MeL86lfw2k"
      },
      "execution_count": null,
      "outputs": []
    },
    {
      "cell_type": "code",
      "source": [
        "#setting a dictionary of the coulmns containg nulls and the values to be added instead of the null\n",
        "values_to_fill_NA = {\"product_color\": train_data[\"product_color\"].value_counts().idxmax(), # product colour nulls are replaced by most repeated colour\n",
        "                     \"origin_country\": train_data[\"origin_country\"].mode()[0], # origin country nulls are replaced by most repeated country\n",
        "                     \"has_urgency_banner\": 0} # nulls are replaced by zero\n",
        "\n",
        "train_data.fillna(value=values_to_fill_NA, inplace=True) # filling the null values in the training data by the predefined values\n",
        "X_test.fillna(value=values_to_fill_NA, inplace=True) # filling the null values in the testing data by the predefined values"
      ],
      "metadata": {
        "id": "TjOkMtVKgHRB"
      },
      "execution_count": null,
      "outputs": []
    },
    {
      "cell_type": "code",
      "source": [
        "# printing different info about the trainig set after filling the null values\n",
        "train_data.info()"
      ],
      "metadata": {
        "colab": {
          "base_uri": "https://localhost:8080/"
        },
        "id": "bANjoDPQhgUt",
        "outputId": "ee4b3235-950a-45f8-8a29-c987182338fb"
      },
      "execution_count": null,
      "outputs": [
        {
          "output_type": "stream",
          "name": "stdout",
          "text": [
            "<class 'pandas.core.frame.DataFrame'>\n",
            "Int64Index: 1094 entries, 272 to 1536\n",
            "Data columns (total 24 columns):\n",
            " #   Column                        Non-Null Count  Dtype  \n",
            "---  ------                        --------------  -----  \n",
            " 0   price                         1094 non-null   float64\n",
            " 1   retail_price                  1094 non-null   int64  \n",
            " 2   units_sold                    1094 non-null   int64  \n",
            " 3   uses_ad_boosts                1094 non-null   int64  \n",
            " 4   rating                        1094 non-null   float64\n",
            " 5   rating_count                  1094 non-null   int64  \n",
            " 6   badges_count                  1094 non-null   int64  \n",
            " 7   badge_local_product           1094 non-null   int64  \n",
            " 8   badge_product_quality         1094 non-null   int64  \n",
            " 9   badge_fast_shipping           1094 non-null   int64  \n",
            " 10  tags                          1094 non-null   object \n",
            " 11  product_color                 1094 non-null   object \n",
            " 12  product_variation_inventory   1094 non-null   int64  \n",
            " 13  shipping_option_name          1094 non-null   object \n",
            " 14  shipping_option_price         1094 non-null   int64  \n",
            " 15  shipping_is_express           1094 non-null   int64  \n",
            " 16  countries_shipped_to          1094 non-null   int64  \n",
            " 17  inventory_total               1094 non-null   int64  \n",
            " 18  has_urgency_banner            1094 non-null   float64\n",
            " 19  origin_country                1094 non-null   object \n",
            " 20  merchant_rating_count         1094 non-null   int64  \n",
            " 21  merchant_rating               1094 non-null   float64\n",
            " 22  merchant_id                   1094 non-null   object \n",
            " 23  merchant_has_profile_picture  1094 non-null   int64  \n",
            "dtypes: float64(4), int64(15), object(5)\n",
            "memory usage: 213.7+ KB\n"
          ]
        }
      ]
    },
    {
      "cell_type": "code",
      "source": [
        "# printing different info about the testing set after filling the null values\n",
        "X_test.info()"
      ],
      "metadata": {
        "colab": {
          "base_uri": "https://localhost:8080/"
        },
        "id": "PCYpIVK_h62u",
        "outputId": "0db03d37-c3fd-4213-ebf6-905c950f1d09"
      },
      "execution_count": null,
      "outputs": [
        {
          "output_type": "stream",
          "name": "stdout",
          "text": [
            "<class 'pandas.core.frame.DataFrame'>\n",
            "Int64Index: 479 entries, 937 to 196\n",
            "Data columns (total 23 columns):\n",
            " #   Column                        Non-Null Count  Dtype  \n",
            "---  ------                        --------------  -----  \n",
            " 0   price                         479 non-null    float64\n",
            " 1   retail_price                  479 non-null    int64  \n",
            " 2   units_sold                    479 non-null    int64  \n",
            " 3   uses_ad_boosts                479 non-null    int64  \n",
            " 4   rating_count                  479 non-null    int64  \n",
            " 5   badges_count                  479 non-null    int64  \n",
            " 6   badge_local_product           479 non-null    int64  \n",
            " 7   badge_product_quality         479 non-null    int64  \n",
            " 8   badge_fast_shipping           479 non-null    int64  \n",
            " 9   tags                          479 non-null    object \n",
            " 10  product_color                 479 non-null    object \n",
            " 11  product_variation_inventory   479 non-null    int64  \n",
            " 12  shipping_option_name          479 non-null    object \n",
            " 13  shipping_option_price         479 non-null    int64  \n",
            " 14  shipping_is_express           479 non-null    int64  \n",
            " 15  countries_shipped_to          479 non-null    int64  \n",
            " 16  inventory_total               479 non-null    int64  \n",
            " 17  has_urgency_banner            479 non-null    float64\n",
            " 18  origin_country                479 non-null    object \n",
            " 19  merchant_rating_count         479 non-null    int64  \n",
            " 20  merchant_rating               479 non-null    float64\n",
            " 21  merchant_id                   479 non-null    object \n",
            " 22  merchant_has_profile_picture  479 non-null    int64  \n",
            "dtypes: float64(3), int64(15), object(5)\n",
            "memory usage: 89.8+ KB\n"
          ]
        }
      ]
    },
    {
      "cell_type": "markdown",
      "source": [
        "## *2.3) Encoding categorical features using Binary Encoding*"
      ],
      "metadata": {
        "id": "XIkk6GDYvK7x"
      }
    },
    {
      "cell_type": "markdown",
      "source": [
        "Checking how many unique values are exsiting for the categorical features to choose the suitable encoding method whether one hot encoding or binary encoder\n"
      ],
      "metadata": {
        "id": "WUkF-teuR-nb"
      }
    },
    {
      "cell_type": "code",
      "source": [
        "print(\"there are\", train_data['tags'].nunique(), \"unique tags\")\n",
        "print(\"there are\", train_data['product_color'].nunique(), \"unique product_color\")\n",
        "print(\"there are\", train_data['shipping_option_name'].nunique(), \"shipping_option_name\")\n",
        "print(\"there are\", train_data['origin_country'].nunique(), \"origin_country\")\n",
        "print(\"there are\", train_data['merchant_id'].nunique(), \"merchant_id\")\n"
      ],
      "metadata": {
        "colab": {
          "base_uri": "https://localhost:8080/"
        },
        "id": "KnyQ-Qw7ujPr",
        "outputId": "ec77b087-28c4-4422-98ad-fa71f08c807f"
      },
      "execution_count": null,
      "outputs": [
        {
          "output_type": "stream",
          "name": "stdout",
          "text": [
            "there are 895 unique tags\n",
            "there are 87 unique product_color\n",
            "there are 13 shipping_option_name\n",
            "there are 5 origin_country\n",
            "there are 747 merchant_id\n"
          ]
        }
      ]
    },
    {
      "cell_type": "markdown",
      "source": [
        "Since there are a lot of unique values one hot encoding will be giving a lot of features and the data will be sparse so instead we will use binary encoding"
      ],
      "metadata": {
        "id": "pjolL3k3SLIy"
      }
    },
    {
      "cell_type": "code",
      "source": [
        "!pip install category_encoders # installing the library containg the BinaryEncoder\n",
        "from category_encoders import BinaryEncoder # importing the BinaryEncoder Library"
      ],
      "metadata": {
        "colab": {
          "base_uri": "https://localhost:8080/"
        },
        "id": "BZJN22-Vz8UZ",
        "outputId": "239db065-9fac-4659-f962-157c968e30bf"
      },
      "execution_count": null,
      "outputs": [
        {
          "output_type": "stream",
          "name": "stdout",
          "text": [
            "Looking in indexes: https://pypi.org/simple, https://us-python.pkg.dev/colab-wheels/public/simple/\n",
            "Requirement already satisfied: category_encoders in /usr/local/lib/python3.9/dist-packages (2.6.0)\n",
            "Requirement already satisfied: pandas>=1.0.5 in /usr/local/lib/python3.9/dist-packages (from category_encoders) (1.4.4)\n",
            "Requirement already satisfied: patsy>=0.5.1 in /usr/local/lib/python3.9/dist-packages (from category_encoders) (0.5.3)\n",
            "Requirement already satisfied: numpy>=1.14.0 in /usr/local/lib/python3.9/dist-packages (from category_encoders) (1.22.4)\n",
            "Requirement already satisfied: scikit-learn>=0.20.0 in /usr/local/lib/python3.9/dist-packages (from category_encoders) (1.2.2)\n",
            "Requirement already satisfied: statsmodels>=0.9.0 in /usr/local/lib/python3.9/dist-packages (from category_encoders) (0.13.5)\n",
            "Requirement already satisfied: scipy>=1.0.0 in /usr/local/lib/python3.9/dist-packages (from category_encoders) (1.10.1)\n",
            "Requirement already satisfied: python-dateutil>=2.8.1 in /usr/local/lib/python3.9/dist-packages (from pandas>=1.0.5->category_encoders) (2.8.2)\n",
            "Requirement already satisfied: pytz>=2020.1 in /usr/local/lib/python3.9/dist-packages (from pandas>=1.0.5->category_encoders) (2022.7.1)\n",
            "Requirement already satisfied: six in /usr/local/lib/python3.9/dist-packages (from patsy>=0.5.1->category_encoders) (1.16.0)\n",
            "Requirement already satisfied: joblib>=1.1.1 in /usr/local/lib/python3.9/dist-packages (from scikit-learn>=0.20.0->category_encoders) (1.1.1)\n",
            "Requirement already satisfied: threadpoolctl>=2.0.0 in /usr/local/lib/python3.9/dist-packages (from scikit-learn>=0.20.0->category_encoders) (3.1.0)\n",
            "Requirement already satisfied: packaging>=21.3 in /usr/local/lib/python3.9/dist-packages (from statsmodels>=0.9.0->category_encoders) (23.0)\n"
          ]
        }
      ]
    },
    {
      "cell_type": "code",
      "source": [
        "features_to_encode = ['tags', 'product_color', 'shipping_option_name', 'origin_country', 'merchant_id'] # categorical features to encode\n",
        "\n",
        "binary_encoder= BinaryEncoder(cols= features_to_encode) # binary encoder instance\n",
        "encoded_train_features = binary_encoder.fit_transform(train_data[features_to_encode]) # the encoded training set categorical features df\n",
        "encoded_test_features = binary_encoder.transform(X_test[features_to_encode]) # the encoded testing set categorical features df\n",
        "\n",
        "# concatenating the original training set (without the features to be encoded) and the encoded features\n",
        "train_data_new = pd.concat([train_data.drop(features_to_encode, axis=1), encoded_train_features], axis = 1)\n",
        "\n",
        "# concatenating the original testing set (without the features to be encoded) and the encoded features\n",
        "X_test_new = pd.concat([X_test.drop(features_to_encode, axis=1), encoded_test_features], axis = 1)\n"
      ],
      "metadata": {
        "id": "0CSIVMFY4zJP"
      },
      "execution_count": null,
      "outputs": []
    },
    {
      "cell_type": "markdown",
      "source": [
        "Other option is to drop these categorical featrues"
      ],
      "metadata": {
        "id": "3Tk_5Ac0T_-2"
      }
    },
    {
      "cell_type": "code",
      "source": [
        "# features_to_drop = [\"tags\", \"product_color\", \"shipping_option_name\", \"merchant_id\"]\n",
        "\n",
        "# train_data_new = train_data.drop(features_to_drop, axis=1)\n",
        "# X_test_new = test_data.drop(features_to_drop, axis=1)\n",
        "\n",
        "# features_to_encode = ['origin_country']\n",
        "# binary_encoder= BinaryEncoder(cols= features_to_encode)\n",
        "\n",
        "# encoded_train_features = binary_encoder.fit_transform(train_data[features_to_encode])\n",
        "# encoded_test_features = binary_encoder.transform(X_test[features_to_encode])\n",
        "\n",
        "# train_data_new = pd.concat([train_data_new.drop(features_to_encode, axis=1), encoded_train_features], axis = 1)\n",
        "# X_test_new = pd.concat([X_test_new.drop(features_to_encode, axis=1), encoded_test_features], axis = 1)\n"
      ],
      "metadata": {
        "id": "NUwRCuaBymAT"
      },
      "execution_count": null,
      "outputs": []
    },
    {
      "cell_type": "code",
      "source": [
        "# printing different info about the trainig set after categorical features encoding\n",
        "train_data_new.info()"
      ],
      "metadata": {
        "colab": {
          "base_uri": "https://localhost:8080/"
        },
        "id": "S-TBucW89xu6",
        "outputId": "7f519453-6cbe-42c8-8ef1-6631df72170a"
      },
      "execution_count": null,
      "outputs": [
        {
          "output_type": "stream",
          "name": "stdout",
          "text": [
            "<class 'pandas.core.frame.DataFrame'>\n",
            "Int64Index: 1094 entries, 272 to 1536\n",
            "Data columns (total 53 columns):\n",
            " #   Column                        Non-Null Count  Dtype  \n",
            "---  ------                        --------------  -----  \n",
            " 0   price                         1094 non-null   float64\n",
            " 1   retail_price                  1094 non-null   int64  \n",
            " 2   units_sold                    1094 non-null   int64  \n",
            " 3   uses_ad_boosts                1094 non-null   int64  \n",
            " 4   rating                        1094 non-null   float64\n",
            " 5   rating_count                  1094 non-null   int64  \n",
            " 6   badges_count                  1094 non-null   int64  \n",
            " 7   badge_local_product           1094 non-null   int64  \n",
            " 8   badge_product_quality         1094 non-null   int64  \n",
            " 9   badge_fast_shipping           1094 non-null   int64  \n",
            " 10  product_variation_inventory   1094 non-null   int64  \n",
            " 11  shipping_option_price         1094 non-null   int64  \n",
            " 12  shipping_is_express           1094 non-null   int64  \n",
            " 13  countries_shipped_to          1094 non-null   int64  \n",
            " 14  inventory_total               1094 non-null   int64  \n",
            " 15  has_urgency_banner            1094 non-null   float64\n",
            " 16  merchant_rating_count         1094 non-null   int64  \n",
            " 17  merchant_rating               1094 non-null   float64\n",
            " 18  merchant_has_profile_picture  1094 non-null   int64  \n",
            " 19  tags_0                        1094 non-null   int64  \n",
            " 20  tags_1                        1094 non-null   int64  \n",
            " 21  tags_2                        1094 non-null   int64  \n",
            " 22  tags_3                        1094 non-null   int64  \n",
            " 23  tags_4                        1094 non-null   int64  \n",
            " 24  tags_5                        1094 non-null   int64  \n",
            " 25  tags_6                        1094 non-null   int64  \n",
            " 26  tags_7                        1094 non-null   int64  \n",
            " 27  tags_8                        1094 non-null   int64  \n",
            " 28  tags_9                        1094 non-null   int64  \n",
            " 29  product_color_0               1094 non-null   int64  \n",
            " 30  product_color_1               1094 non-null   int64  \n",
            " 31  product_color_2               1094 non-null   int64  \n",
            " 32  product_color_3               1094 non-null   int64  \n",
            " 33  product_color_4               1094 non-null   int64  \n",
            " 34  product_color_5               1094 non-null   int64  \n",
            " 35  product_color_6               1094 non-null   int64  \n",
            " 36  shipping_option_name_0        1094 non-null   int64  \n",
            " 37  shipping_option_name_1        1094 non-null   int64  \n",
            " 38  shipping_option_name_2        1094 non-null   int64  \n",
            " 39  shipping_option_name_3        1094 non-null   int64  \n",
            " 40  origin_country_0              1094 non-null   int64  \n",
            " 41  origin_country_1              1094 non-null   int64  \n",
            " 42  origin_country_2              1094 non-null   int64  \n",
            " 43  merchant_id_0                 1094 non-null   int64  \n",
            " 44  merchant_id_1                 1094 non-null   int64  \n",
            " 45  merchant_id_2                 1094 non-null   int64  \n",
            " 46  merchant_id_3                 1094 non-null   int64  \n",
            " 47  merchant_id_4                 1094 non-null   int64  \n",
            " 48  merchant_id_5                 1094 non-null   int64  \n",
            " 49  merchant_id_6                 1094 non-null   int64  \n",
            " 50  merchant_id_7                 1094 non-null   int64  \n",
            " 51  merchant_id_8                 1094 non-null   int64  \n",
            " 52  merchant_id_9                 1094 non-null   int64  \n",
            "dtypes: float64(4), int64(49)\n",
            "memory usage: 461.5 KB\n"
          ]
        }
      ]
    },
    {
      "cell_type": "markdown",
      "source": [
        "## *2.4) Numeric Features normalization/scaling using MinMaxScaler*\n"
      ],
      "metadata": {
        "id": "A_smHjydBzLP"
      }
    },
    {
      "cell_type": "code",
      "source": [
        "train_data_new.describe() # checking different statistics of the data before scaling"
      ],
      "metadata": {
        "colab": {
          "base_uri": "https://localhost:8080/"
        },
        "id": "1fSNHPBcDY9q",
        "outputId": "d0b81f0b-2d56-44ab-d6bb-97764f69f305"
      },
      "execution_count": null,
      "outputs": [
        {
          "output_type": "execute_result",
          "data": {
            "text/plain": [
              "             price  retail_price     units_sold  uses_ad_boosts       rating  \\\n",
              "count  1094.000000   1094.000000    1094.000000     1094.000000  1094.000000   \n",
              "mean      8.320786     23.712066    4518.661792        0.432358     4.006399   \n",
              "std       4.027448     31.802661    9825.608568        0.495630     0.585706   \n",
              "min       1.000000      2.000000       1.000000        0.000000     1.000000   \n",
              "25%       5.830000      7.000000     100.000000        0.000000     4.000000   \n",
              "50%       8.000000     10.000000    1000.000000        0.000000     4.000000   \n",
              "75%      11.000000     26.000000    5000.000000        1.000000     4.000000   \n",
              "max      49.000000    252.000000  100000.000000        1.000000     6.000000   \n",
              "\n",
              "       rating_count  badges_count  badge_local_product  badge_product_quality  \\\n",
              "count   1094.000000   1094.000000          1094.000000            1094.000000   \n",
              "mean     915.523766      0.114260             0.019196               0.083181   \n",
              "std     2037.561158      0.348461             0.137275               0.276282   \n",
              "min        0.000000      0.000000             0.000000               0.000000   \n",
              "25%       24.000000      0.000000             0.000000               0.000000   \n",
              "50%      143.500000      0.000000             0.000000               0.000000   \n",
              "75%      845.500000      0.000000             0.000000               0.000000   \n",
              "max    20744.000000      3.000000             1.000000               1.000000   \n",
              "\n",
              "       badge_fast_shipping  ...  merchant_id_0  merchant_id_1  merchant_id_2  \\\n",
              "count          1094.000000  ...    1094.000000    1094.000000    1094.000000   \n",
              "mean              0.011883  ...       0.244059       0.330896       0.458867   \n",
              "std               0.108409  ...       0.429724       0.470751       0.498533   \n",
              "min               0.000000  ...       0.000000       0.000000       0.000000   \n",
              "25%               0.000000  ...       0.000000       0.000000       0.000000   \n",
              "50%               0.000000  ...       0.000000       0.000000       0.000000   \n",
              "75%               0.000000  ...       0.000000       1.000000       1.000000   \n",
              "max               1.000000  ...       1.000000       1.000000       1.000000   \n",
              "\n",
              "       merchant_id_3  merchant_id_4  merchant_id_5  merchant_id_6  \\\n",
              "count    1094.000000    1094.000000    1094.000000    1094.000000   \n",
              "mean        0.471664       0.479890       0.514625       0.494516   \n",
              "std         0.499425       0.499824       0.500015       0.500199   \n",
              "min         0.000000       0.000000       0.000000       0.000000   \n",
              "25%         0.000000       0.000000       0.000000       0.000000   \n",
              "50%         0.000000       0.000000       1.000000       0.000000   \n",
              "75%         1.000000       1.000000       1.000000       1.000000   \n",
              "max         1.000000       1.000000       1.000000       1.000000   \n",
              "\n",
              "       merchant_id_7  merchant_id_8  merchant_id_9  \n",
              "count    1094.000000    1094.000000    1094.000000  \n",
              "mean        0.502742       0.490859       0.508227  \n",
              "std         0.500221       0.500145       0.500161  \n",
              "min         0.000000       0.000000       0.000000  \n",
              "25%         0.000000       0.000000       0.000000  \n",
              "50%         1.000000       0.000000       1.000000  \n",
              "75%         1.000000       1.000000       1.000000  \n",
              "max         1.000000       1.000000       1.000000  \n",
              "\n",
              "[8 rows x 53 columns]"
            ],
            "text/html": [
              "\n",
              "  <div id=\"df-6b9710e9-2b90-4835-8cf2-eed3cd543015\">\n",
              "    <div class=\"colab-df-container\">\n",
              "      <div>\n",
              "<style scoped>\n",
              "    .dataframe tbody tr th:only-of-type {\n",
              "        vertical-align: middle;\n",
              "    }\n",
              "\n",
              "    .dataframe tbody tr th {\n",
              "        vertical-align: top;\n",
              "    }\n",
              "\n",
              "    .dataframe thead th {\n",
              "        text-align: right;\n",
              "    }\n",
              "</style>\n",
              "<table border=\"1\" class=\"dataframe\">\n",
              "  <thead>\n",
              "    <tr style=\"text-align: right;\">\n",
              "      <th></th>\n",
              "      <th>price</th>\n",
              "      <th>retail_price</th>\n",
              "      <th>units_sold</th>\n",
              "      <th>uses_ad_boosts</th>\n",
              "      <th>rating</th>\n",
              "      <th>rating_count</th>\n",
              "      <th>badges_count</th>\n",
              "      <th>badge_local_product</th>\n",
              "      <th>badge_product_quality</th>\n",
              "      <th>badge_fast_shipping</th>\n",
              "      <th>...</th>\n",
              "      <th>merchant_id_0</th>\n",
              "      <th>merchant_id_1</th>\n",
              "      <th>merchant_id_2</th>\n",
              "      <th>merchant_id_3</th>\n",
              "      <th>merchant_id_4</th>\n",
              "      <th>merchant_id_5</th>\n",
              "      <th>merchant_id_6</th>\n",
              "      <th>merchant_id_7</th>\n",
              "      <th>merchant_id_8</th>\n",
              "      <th>merchant_id_9</th>\n",
              "    </tr>\n",
              "  </thead>\n",
              "  <tbody>\n",
              "    <tr>\n",
              "      <th>count</th>\n",
              "      <td>1094.000000</td>\n",
              "      <td>1094.000000</td>\n",
              "      <td>1094.000000</td>\n",
              "      <td>1094.000000</td>\n",
              "      <td>1094.000000</td>\n",
              "      <td>1094.000000</td>\n",
              "      <td>1094.000000</td>\n",
              "      <td>1094.000000</td>\n",
              "      <td>1094.000000</td>\n",
              "      <td>1094.000000</td>\n",
              "      <td>...</td>\n",
              "      <td>1094.000000</td>\n",
              "      <td>1094.000000</td>\n",
              "      <td>1094.000000</td>\n",
              "      <td>1094.000000</td>\n",
              "      <td>1094.000000</td>\n",
              "      <td>1094.000000</td>\n",
              "      <td>1094.000000</td>\n",
              "      <td>1094.000000</td>\n",
              "      <td>1094.000000</td>\n",
              "      <td>1094.000000</td>\n",
              "    </tr>\n",
              "    <tr>\n",
              "      <th>mean</th>\n",
              "      <td>8.320786</td>\n",
              "      <td>23.712066</td>\n",
              "      <td>4518.661792</td>\n",
              "      <td>0.432358</td>\n",
              "      <td>4.006399</td>\n",
              "      <td>915.523766</td>\n",
              "      <td>0.114260</td>\n",
              "      <td>0.019196</td>\n",
              "      <td>0.083181</td>\n",
              "      <td>0.011883</td>\n",
              "      <td>...</td>\n",
              "      <td>0.244059</td>\n",
              "      <td>0.330896</td>\n",
              "      <td>0.458867</td>\n",
              "      <td>0.471664</td>\n",
              "      <td>0.479890</td>\n",
              "      <td>0.514625</td>\n",
              "      <td>0.494516</td>\n",
              "      <td>0.502742</td>\n",
              "      <td>0.490859</td>\n",
              "      <td>0.508227</td>\n",
              "    </tr>\n",
              "    <tr>\n",
              "      <th>std</th>\n",
              "      <td>4.027448</td>\n",
              "      <td>31.802661</td>\n",
              "      <td>9825.608568</td>\n",
              "      <td>0.495630</td>\n",
              "      <td>0.585706</td>\n",
              "      <td>2037.561158</td>\n",
              "      <td>0.348461</td>\n",
              "      <td>0.137275</td>\n",
              "      <td>0.276282</td>\n",
              "      <td>0.108409</td>\n",
              "      <td>...</td>\n",
              "      <td>0.429724</td>\n",
              "      <td>0.470751</td>\n",
              "      <td>0.498533</td>\n",
              "      <td>0.499425</td>\n",
              "      <td>0.499824</td>\n",
              "      <td>0.500015</td>\n",
              "      <td>0.500199</td>\n",
              "      <td>0.500221</td>\n",
              "      <td>0.500145</td>\n",
              "      <td>0.500161</td>\n",
              "    </tr>\n",
              "    <tr>\n",
              "      <th>min</th>\n",
              "      <td>1.000000</td>\n",
              "      <td>2.000000</td>\n",
              "      <td>1.000000</td>\n",
              "      <td>0.000000</td>\n",
              "      <td>1.000000</td>\n",
              "      <td>0.000000</td>\n",
              "      <td>0.000000</td>\n",
              "      <td>0.000000</td>\n",
              "      <td>0.000000</td>\n",
              "      <td>0.000000</td>\n",
              "      <td>...</td>\n",
              "      <td>0.000000</td>\n",
              "      <td>0.000000</td>\n",
              "      <td>0.000000</td>\n",
              "      <td>0.000000</td>\n",
              "      <td>0.000000</td>\n",
              "      <td>0.000000</td>\n",
              "      <td>0.000000</td>\n",
              "      <td>0.000000</td>\n",
              "      <td>0.000000</td>\n",
              "      <td>0.000000</td>\n",
              "    </tr>\n",
              "    <tr>\n",
              "      <th>25%</th>\n",
              "      <td>5.830000</td>\n",
              "      <td>7.000000</td>\n",
              "      <td>100.000000</td>\n",
              "      <td>0.000000</td>\n",
              "      <td>4.000000</td>\n",
              "      <td>24.000000</td>\n",
              "      <td>0.000000</td>\n",
              "      <td>0.000000</td>\n",
              "      <td>0.000000</td>\n",
              "      <td>0.000000</td>\n",
              "      <td>...</td>\n",
              "      <td>0.000000</td>\n",
              "      <td>0.000000</td>\n",
              "      <td>0.000000</td>\n",
              "      <td>0.000000</td>\n",
              "      <td>0.000000</td>\n",
              "      <td>0.000000</td>\n",
              "      <td>0.000000</td>\n",
              "      <td>0.000000</td>\n",
              "      <td>0.000000</td>\n",
              "      <td>0.000000</td>\n",
              "    </tr>\n",
              "    <tr>\n",
              "      <th>50%</th>\n",
              "      <td>8.000000</td>\n",
              "      <td>10.000000</td>\n",
              "      <td>1000.000000</td>\n",
              "      <td>0.000000</td>\n",
              "      <td>4.000000</td>\n",
              "      <td>143.500000</td>\n",
              "      <td>0.000000</td>\n",
              "      <td>0.000000</td>\n",
              "      <td>0.000000</td>\n",
              "      <td>0.000000</td>\n",
              "      <td>...</td>\n",
              "      <td>0.000000</td>\n",
              "      <td>0.000000</td>\n",
              "      <td>0.000000</td>\n",
              "      <td>0.000000</td>\n",
              "      <td>0.000000</td>\n",
              "      <td>1.000000</td>\n",
              "      <td>0.000000</td>\n",
              "      <td>1.000000</td>\n",
              "      <td>0.000000</td>\n",
              "      <td>1.000000</td>\n",
              "    </tr>\n",
              "    <tr>\n",
              "      <th>75%</th>\n",
              "      <td>11.000000</td>\n",
              "      <td>26.000000</td>\n",
              "      <td>5000.000000</td>\n",
              "      <td>1.000000</td>\n",
              "      <td>4.000000</td>\n",
              "      <td>845.500000</td>\n",
              "      <td>0.000000</td>\n",
              "      <td>0.000000</td>\n",
              "      <td>0.000000</td>\n",
              "      <td>0.000000</td>\n",
              "      <td>...</td>\n",
              "      <td>0.000000</td>\n",
              "      <td>1.000000</td>\n",
              "      <td>1.000000</td>\n",
              "      <td>1.000000</td>\n",
              "      <td>1.000000</td>\n",
              "      <td>1.000000</td>\n",
              "      <td>1.000000</td>\n",
              "      <td>1.000000</td>\n",
              "      <td>1.000000</td>\n",
              "      <td>1.000000</td>\n",
              "    </tr>\n",
              "    <tr>\n",
              "      <th>max</th>\n",
              "      <td>49.000000</td>\n",
              "      <td>252.000000</td>\n",
              "      <td>100000.000000</td>\n",
              "      <td>1.000000</td>\n",
              "      <td>6.000000</td>\n",
              "      <td>20744.000000</td>\n",
              "      <td>3.000000</td>\n",
              "      <td>1.000000</td>\n",
              "      <td>1.000000</td>\n",
              "      <td>1.000000</td>\n",
              "      <td>...</td>\n",
              "      <td>1.000000</td>\n",
              "      <td>1.000000</td>\n",
              "      <td>1.000000</td>\n",
              "      <td>1.000000</td>\n",
              "      <td>1.000000</td>\n",
              "      <td>1.000000</td>\n",
              "      <td>1.000000</td>\n",
              "      <td>1.000000</td>\n",
              "      <td>1.000000</td>\n",
              "      <td>1.000000</td>\n",
              "    </tr>\n",
              "  </tbody>\n",
              "</table>\n",
              "<p>8 rows × 53 columns</p>\n",
              "</div>\n",
              "      <button class=\"colab-df-convert\" onclick=\"convertToInteractive('df-6b9710e9-2b90-4835-8cf2-eed3cd543015')\"\n",
              "              title=\"Convert this dataframe to an interactive table.\"\n",
              "              style=\"display:none;\">\n",
              "        \n",
              "  <svg xmlns=\"http://www.w3.org/2000/svg\" height=\"24px\"viewBox=\"0 0 24 24\"\n",
              "       width=\"24px\">\n",
              "    <path d=\"M0 0h24v24H0V0z\" fill=\"none\"/>\n",
              "    <path d=\"M18.56 5.44l.94 2.06.94-2.06 2.06-.94-2.06-.94-.94-2.06-.94 2.06-2.06.94zm-11 1L8.5 8.5l.94-2.06 2.06-.94-2.06-.94L8.5 2.5l-.94 2.06-2.06.94zm10 10l.94 2.06.94-2.06 2.06-.94-2.06-.94-.94-2.06-.94 2.06-2.06.94z\"/><path d=\"M17.41 7.96l-1.37-1.37c-.4-.4-.92-.59-1.43-.59-.52 0-1.04.2-1.43.59L10.3 9.45l-7.72 7.72c-.78.78-.78 2.05 0 2.83L4 21.41c.39.39.9.59 1.41.59.51 0 1.02-.2 1.41-.59l7.78-7.78 2.81-2.81c.8-.78.8-2.07 0-2.86zM5.41 20L4 18.59l7.72-7.72 1.47 1.35L5.41 20z\"/>\n",
              "  </svg>\n",
              "      </button>\n",
              "      \n",
              "  <style>\n",
              "    .colab-df-container {\n",
              "      display:flex;\n",
              "      flex-wrap:wrap;\n",
              "      gap: 12px;\n",
              "    }\n",
              "\n",
              "    .colab-df-convert {\n",
              "      background-color: #E8F0FE;\n",
              "      border: none;\n",
              "      border-radius: 50%;\n",
              "      cursor: pointer;\n",
              "      display: none;\n",
              "      fill: #1967D2;\n",
              "      height: 32px;\n",
              "      padding: 0 0 0 0;\n",
              "      width: 32px;\n",
              "    }\n",
              "\n",
              "    .colab-df-convert:hover {\n",
              "      background-color: #E2EBFA;\n",
              "      box-shadow: 0px 1px 2px rgba(60, 64, 67, 0.3), 0px 1px 3px 1px rgba(60, 64, 67, 0.15);\n",
              "      fill: #174EA6;\n",
              "    }\n",
              "\n",
              "    [theme=dark] .colab-df-convert {\n",
              "      background-color: #3B4455;\n",
              "      fill: #D2E3FC;\n",
              "    }\n",
              "\n",
              "    [theme=dark] .colab-df-convert:hover {\n",
              "      background-color: #434B5C;\n",
              "      box-shadow: 0px 1px 3px 1px rgba(0, 0, 0, 0.15);\n",
              "      filter: drop-shadow(0px 1px 2px rgba(0, 0, 0, 0.3));\n",
              "      fill: #FFFFFF;\n",
              "    }\n",
              "  </style>\n",
              "\n",
              "      <script>\n",
              "        const buttonEl =\n",
              "          document.querySelector('#df-6b9710e9-2b90-4835-8cf2-eed3cd543015 button.colab-df-convert');\n",
              "        buttonEl.style.display =\n",
              "          google.colab.kernel.accessAllowed ? 'block' : 'none';\n",
              "\n",
              "        async function convertToInteractive(key) {\n",
              "          const element = document.querySelector('#df-6b9710e9-2b90-4835-8cf2-eed3cd543015');\n",
              "          const dataTable =\n",
              "            await google.colab.kernel.invokeFunction('convertToInteractive',\n",
              "                                                     [key], {});\n",
              "          if (!dataTable) return;\n",
              "\n",
              "          const docLinkHtml = 'Like what you see? Visit the ' +\n",
              "            '<a target=\"_blank\" href=https://colab.research.google.com/notebooks/data_table.ipynb>data table notebook</a>'\n",
              "            + ' to learn more about interactive tables.';\n",
              "          element.innerHTML = '';\n",
              "          dataTable['output_type'] = 'display_data';\n",
              "          await google.colab.output.renderOutput(dataTable, element);\n",
              "          const docLink = document.createElement('div');\n",
              "          docLink.innerHTML = docLinkHtml;\n",
              "          element.appendChild(docLink);\n",
              "        }\n",
              "      </script>\n",
              "    </div>\n",
              "  </div>\n",
              "  "
            ]
          },
          "metadata": {},
          "execution_count": 126
        }
      ]
    },
    {
      "cell_type": "markdown",
      "source": [
        "Numeric features scaling to be max of 1 and min of 0"
      ],
      "metadata": {
        "id": "JBbdbgkVYqfk"
      }
    },
    {
      "cell_type": "code",
      "source": [
        "from sklearn.preprocessing import MinMaxScaler\n",
        "minmax = MinMaxScaler() # scaler instance to scale features to be max of 1 min of 0\n",
        "\n",
        "# numeric features to be scaled\n",
        "numeric_features = [\"price\", \"retail_price\", \"units_sold\", \"rating_count\",\"badges_count\",\n",
        "                    \"product_variation_inventory\", \"shipping_option_price\", \"countries_shipped_to\",\n",
        "                    \"inventory_total\", \"merchant_rating_count\", \"merchant_rating\"]\n",
        "\n",
        "train_data_new[numeric_features] = minmax.fit_transform(train_data_new[numeric_features]) # scaling the numeric features in the training set\n",
        "X_test_new[numeric_features] = minmax.transform(X_test_new[numeric_features]) # scaling the numeric features in the testing set"
      ],
      "metadata": {
        "id": "ugt33JvF7qZY"
      },
      "execution_count": null,
      "outputs": []
    },
    {
      "cell_type": "code",
      "source": [
        "train_data_new.describe() # checking different statistics of the data after scaling"
      ],
      "metadata": {
        "colab": {
          "base_uri": "https://localhost:8080/"
        },
        "id": "nYT4NGG9Dn-6",
        "outputId": "1af180fa-9bc7-4784-a66b-b61a025b2878"
      },
      "execution_count": null,
      "outputs": [
        {
          "output_type": "execute_result",
          "data": {
            "text/plain": [
              "             price  retail_price   units_sold  uses_ad_boosts       rating  \\\n",
              "count  1094.000000   1094.000000  1094.000000     1094.000000  1094.000000   \n",
              "mean      0.152516      0.086848     0.045177        0.432358     4.006399   \n",
              "std       0.083905      0.127211     0.098257        0.495630     0.585706   \n",
              "min       0.000000      0.000000     0.000000        0.000000     1.000000   \n",
              "25%       0.100625      0.020000     0.000990        0.000000     4.000000   \n",
              "50%       0.145833      0.032000     0.009990        0.000000     4.000000   \n",
              "75%       0.208333      0.096000     0.049990        1.000000     4.000000   \n",
              "max       1.000000      1.000000     1.000000        1.000000     6.000000   \n",
              "\n",
              "       rating_count  badges_count  badge_local_product  badge_product_quality  \\\n",
              "count   1094.000000   1094.000000          1094.000000            1094.000000   \n",
              "mean       0.044134      0.038087             0.019196               0.083181   \n",
              "std        0.098224      0.116154             0.137275               0.276282   \n",
              "min        0.000000      0.000000             0.000000               0.000000   \n",
              "25%        0.001157      0.000000             0.000000               0.000000   \n",
              "50%        0.006918      0.000000             0.000000               0.000000   \n",
              "75%        0.040759      0.000000             0.000000               0.000000   \n",
              "max        1.000000      1.000000             1.000000               1.000000   \n",
              "\n",
              "       badge_fast_shipping  ...  merchant_id_0  merchant_id_1  merchant_id_2  \\\n",
              "count          1094.000000  ...    1094.000000    1094.000000    1094.000000   \n",
              "mean              0.011883  ...       0.244059       0.330896       0.458867   \n",
              "std               0.108409  ...       0.429724       0.470751       0.498533   \n",
              "min               0.000000  ...       0.000000       0.000000       0.000000   \n",
              "25%               0.000000  ...       0.000000       0.000000       0.000000   \n",
              "50%               0.000000  ...       0.000000       0.000000       0.000000   \n",
              "75%               0.000000  ...       0.000000       1.000000       1.000000   \n",
              "max               1.000000  ...       1.000000       1.000000       1.000000   \n",
              "\n",
              "       merchant_id_3  merchant_id_4  merchant_id_5  merchant_id_6  \\\n",
              "count    1094.000000    1094.000000    1094.000000    1094.000000   \n",
              "mean        0.471664       0.479890       0.514625       0.494516   \n",
              "std         0.499425       0.499824       0.500015       0.500199   \n",
              "min         0.000000       0.000000       0.000000       0.000000   \n",
              "25%         0.000000       0.000000       0.000000       0.000000   \n",
              "50%         0.000000       0.000000       1.000000       0.000000   \n",
              "75%         1.000000       1.000000       1.000000       1.000000   \n",
              "max         1.000000       1.000000       1.000000       1.000000   \n",
              "\n",
              "       merchant_id_7  merchant_id_8  merchant_id_9  \n",
              "count    1094.000000    1094.000000    1094.000000  \n",
              "mean        0.502742       0.490859       0.508227  \n",
              "std         0.500221       0.500145       0.500161  \n",
              "min         0.000000       0.000000       0.000000  \n",
              "25%         0.000000       0.000000       0.000000  \n",
              "50%         1.000000       0.000000       1.000000  \n",
              "75%         1.000000       1.000000       1.000000  \n",
              "max         1.000000       1.000000       1.000000  \n",
              "\n",
              "[8 rows x 53 columns]"
            ],
            "text/html": [
              "\n",
              "  <div id=\"df-5dfdca9b-a603-4789-81d5-a3beaf5e568d\">\n",
              "    <div class=\"colab-df-container\">\n",
              "      <div>\n",
              "<style scoped>\n",
              "    .dataframe tbody tr th:only-of-type {\n",
              "        vertical-align: middle;\n",
              "    }\n",
              "\n",
              "    .dataframe tbody tr th {\n",
              "        vertical-align: top;\n",
              "    }\n",
              "\n",
              "    .dataframe thead th {\n",
              "        text-align: right;\n",
              "    }\n",
              "</style>\n",
              "<table border=\"1\" class=\"dataframe\">\n",
              "  <thead>\n",
              "    <tr style=\"text-align: right;\">\n",
              "      <th></th>\n",
              "      <th>price</th>\n",
              "      <th>retail_price</th>\n",
              "      <th>units_sold</th>\n",
              "      <th>uses_ad_boosts</th>\n",
              "      <th>rating</th>\n",
              "      <th>rating_count</th>\n",
              "      <th>badges_count</th>\n",
              "      <th>badge_local_product</th>\n",
              "      <th>badge_product_quality</th>\n",
              "      <th>badge_fast_shipping</th>\n",
              "      <th>...</th>\n",
              "      <th>merchant_id_0</th>\n",
              "      <th>merchant_id_1</th>\n",
              "      <th>merchant_id_2</th>\n",
              "      <th>merchant_id_3</th>\n",
              "      <th>merchant_id_4</th>\n",
              "      <th>merchant_id_5</th>\n",
              "      <th>merchant_id_6</th>\n",
              "      <th>merchant_id_7</th>\n",
              "      <th>merchant_id_8</th>\n",
              "      <th>merchant_id_9</th>\n",
              "    </tr>\n",
              "  </thead>\n",
              "  <tbody>\n",
              "    <tr>\n",
              "      <th>count</th>\n",
              "      <td>1094.000000</td>\n",
              "      <td>1094.000000</td>\n",
              "      <td>1094.000000</td>\n",
              "      <td>1094.000000</td>\n",
              "      <td>1094.000000</td>\n",
              "      <td>1094.000000</td>\n",
              "      <td>1094.000000</td>\n",
              "      <td>1094.000000</td>\n",
              "      <td>1094.000000</td>\n",
              "      <td>1094.000000</td>\n",
              "      <td>...</td>\n",
              "      <td>1094.000000</td>\n",
              "      <td>1094.000000</td>\n",
              "      <td>1094.000000</td>\n",
              "      <td>1094.000000</td>\n",
              "      <td>1094.000000</td>\n",
              "      <td>1094.000000</td>\n",
              "      <td>1094.000000</td>\n",
              "      <td>1094.000000</td>\n",
              "      <td>1094.000000</td>\n",
              "      <td>1094.000000</td>\n",
              "    </tr>\n",
              "    <tr>\n",
              "      <th>mean</th>\n",
              "      <td>0.152516</td>\n",
              "      <td>0.086848</td>\n",
              "      <td>0.045177</td>\n",
              "      <td>0.432358</td>\n",
              "      <td>4.006399</td>\n",
              "      <td>0.044134</td>\n",
              "      <td>0.038087</td>\n",
              "      <td>0.019196</td>\n",
              "      <td>0.083181</td>\n",
              "      <td>0.011883</td>\n",
              "      <td>...</td>\n",
              "      <td>0.244059</td>\n",
              "      <td>0.330896</td>\n",
              "      <td>0.458867</td>\n",
              "      <td>0.471664</td>\n",
              "      <td>0.479890</td>\n",
              "      <td>0.514625</td>\n",
              "      <td>0.494516</td>\n",
              "      <td>0.502742</td>\n",
              "      <td>0.490859</td>\n",
              "      <td>0.508227</td>\n",
              "    </tr>\n",
              "    <tr>\n",
              "      <th>std</th>\n",
              "      <td>0.083905</td>\n",
              "      <td>0.127211</td>\n",
              "      <td>0.098257</td>\n",
              "      <td>0.495630</td>\n",
              "      <td>0.585706</td>\n",
              "      <td>0.098224</td>\n",
              "      <td>0.116154</td>\n",
              "      <td>0.137275</td>\n",
              "      <td>0.276282</td>\n",
              "      <td>0.108409</td>\n",
              "      <td>...</td>\n",
              "      <td>0.429724</td>\n",
              "      <td>0.470751</td>\n",
              "      <td>0.498533</td>\n",
              "      <td>0.499425</td>\n",
              "      <td>0.499824</td>\n",
              "      <td>0.500015</td>\n",
              "      <td>0.500199</td>\n",
              "      <td>0.500221</td>\n",
              "      <td>0.500145</td>\n",
              "      <td>0.500161</td>\n",
              "    </tr>\n",
              "    <tr>\n",
              "      <th>min</th>\n",
              "      <td>0.000000</td>\n",
              "      <td>0.000000</td>\n",
              "      <td>0.000000</td>\n",
              "      <td>0.000000</td>\n",
              "      <td>1.000000</td>\n",
              "      <td>0.000000</td>\n",
              "      <td>0.000000</td>\n",
              "      <td>0.000000</td>\n",
              "      <td>0.000000</td>\n",
              "      <td>0.000000</td>\n",
              "      <td>...</td>\n",
              "      <td>0.000000</td>\n",
              "      <td>0.000000</td>\n",
              "      <td>0.000000</td>\n",
              "      <td>0.000000</td>\n",
              "      <td>0.000000</td>\n",
              "      <td>0.000000</td>\n",
              "      <td>0.000000</td>\n",
              "      <td>0.000000</td>\n",
              "      <td>0.000000</td>\n",
              "      <td>0.000000</td>\n",
              "    </tr>\n",
              "    <tr>\n",
              "      <th>25%</th>\n",
              "      <td>0.100625</td>\n",
              "      <td>0.020000</td>\n",
              "      <td>0.000990</td>\n",
              "      <td>0.000000</td>\n",
              "      <td>4.000000</td>\n",
              "      <td>0.001157</td>\n",
              "      <td>0.000000</td>\n",
              "      <td>0.000000</td>\n",
              "      <td>0.000000</td>\n",
              "      <td>0.000000</td>\n",
              "      <td>...</td>\n",
              "      <td>0.000000</td>\n",
              "      <td>0.000000</td>\n",
              "      <td>0.000000</td>\n",
              "      <td>0.000000</td>\n",
              "      <td>0.000000</td>\n",
              "      <td>0.000000</td>\n",
              "      <td>0.000000</td>\n",
              "      <td>0.000000</td>\n",
              "      <td>0.000000</td>\n",
              "      <td>0.000000</td>\n",
              "    </tr>\n",
              "    <tr>\n",
              "      <th>50%</th>\n",
              "      <td>0.145833</td>\n",
              "      <td>0.032000</td>\n",
              "      <td>0.009990</td>\n",
              "      <td>0.000000</td>\n",
              "      <td>4.000000</td>\n",
              "      <td>0.006918</td>\n",
              "      <td>0.000000</td>\n",
              "      <td>0.000000</td>\n",
              "      <td>0.000000</td>\n",
              "      <td>0.000000</td>\n",
              "      <td>...</td>\n",
              "      <td>0.000000</td>\n",
              "      <td>0.000000</td>\n",
              "      <td>0.000000</td>\n",
              "      <td>0.000000</td>\n",
              "      <td>0.000000</td>\n",
              "      <td>1.000000</td>\n",
              "      <td>0.000000</td>\n",
              "      <td>1.000000</td>\n",
              "      <td>0.000000</td>\n",
              "      <td>1.000000</td>\n",
              "    </tr>\n",
              "    <tr>\n",
              "      <th>75%</th>\n",
              "      <td>0.208333</td>\n",
              "      <td>0.096000</td>\n",
              "      <td>0.049990</td>\n",
              "      <td>1.000000</td>\n",
              "      <td>4.000000</td>\n",
              "      <td>0.040759</td>\n",
              "      <td>0.000000</td>\n",
              "      <td>0.000000</td>\n",
              "      <td>0.000000</td>\n",
              "      <td>0.000000</td>\n",
              "      <td>...</td>\n",
              "      <td>0.000000</td>\n",
              "      <td>1.000000</td>\n",
              "      <td>1.000000</td>\n",
              "      <td>1.000000</td>\n",
              "      <td>1.000000</td>\n",
              "      <td>1.000000</td>\n",
              "      <td>1.000000</td>\n",
              "      <td>1.000000</td>\n",
              "      <td>1.000000</td>\n",
              "      <td>1.000000</td>\n",
              "    </tr>\n",
              "    <tr>\n",
              "      <th>max</th>\n",
              "      <td>1.000000</td>\n",
              "      <td>1.000000</td>\n",
              "      <td>1.000000</td>\n",
              "      <td>1.000000</td>\n",
              "      <td>6.000000</td>\n",
              "      <td>1.000000</td>\n",
              "      <td>1.000000</td>\n",
              "      <td>1.000000</td>\n",
              "      <td>1.000000</td>\n",
              "      <td>1.000000</td>\n",
              "      <td>...</td>\n",
              "      <td>1.000000</td>\n",
              "      <td>1.000000</td>\n",
              "      <td>1.000000</td>\n",
              "      <td>1.000000</td>\n",
              "      <td>1.000000</td>\n",
              "      <td>1.000000</td>\n",
              "      <td>1.000000</td>\n",
              "      <td>1.000000</td>\n",
              "      <td>1.000000</td>\n",
              "      <td>1.000000</td>\n",
              "    </tr>\n",
              "  </tbody>\n",
              "</table>\n",
              "<p>8 rows × 53 columns</p>\n",
              "</div>\n",
              "      <button class=\"colab-df-convert\" onclick=\"convertToInteractive('df-5dfdca9b-a603-4789-81d5-a3beaf5e568d')\"\n",
              "              title=\"Convert this dataframe to an interactive table.\"\n",
              "              style=\"display:none;\">\n",
              "        \n",
              "  <svg xmlns=\"http://www.w3.org/2000/svg\" height=\"24px\"viewBox=\"0 0 24 24\"\n",
              "       width=\"24px\">\n",
              "    <path d=\"M0 0h24v24H0V0z\" fill=\"none\"/>\n",
              "    <path d=\"M18.56 5.44l.94 2.06.94-2.06 2.06-.94-2.06-.94-.94-2.06-.94 2.06-2.06.94zm-11 1L8.5 8.5l.94-2.06 2.06-.94-2.06-.94L8.5 2.5l-.94 2.06-2.06.94zm10 10l.94 2.06.94-2.06 2.06-.94-2.06-.94-.94-2.06-.94 2.06-2.06.94z\"/><path d=\"M17.41 7.96l-1.37-1.37c-.4-.4-.92-.59-1.43-.59-.52 0-1.04.2-1.43.59L10.3 9.45l-7.72 7.72c-.78.78-.78 2.05 0 2.83L4 21.41c.39.39.9.59 1.41.59.51 0 1.02-.2 1.41-.59l7.78-7.78 2.81-2.81c.8-.78.8-2.07 0-2.86zM5.41 20L4 18.59l7.72-7.72 1.47 1.35L5.41 20z\"/>\n",
              "  </svg>\n",
              "      </button>\n",
              "      \n",
              "  <style>\n",
              "    .colab-df-container {\n",
              "      display:flex;\n",
              "      flex-wrap:wrap;\n",
              "      gap: 12px;\n",
              "    }\n",
              "\n",
              "    .colab-df-convert {\n",
              "      background-color: #E8F0FE;\n",
              "      border: none;\n",
              "      border-radius: 50%;\n",
              "      cursor: pointer;\n",
              "      display: none;\n",
              "      fill: #1967D2;\n",
              "      height: 32px;\n",
              "      padding: 0 0 0 0;\n",
              "      width: 32px;\n",
              "    }\n",
              "\n",
              "    .colab-df-convert:hover {\n",
              "      background-color: #E2EBFA;\n",
              "      box-shadow: 0px 1px 2px rgba(60, 64, 67, 0.3), 0px 1px 3px 1px rgba(60, 64, 67, 0.15);\n",
              "      fill: #174EA6;\n",
              "    }\n",
              "\n",
              "    [theme=dark] .colab-df-convert {\n",
              "      background-color: #3B4455;\n",
              "      fill: #D2E3FC;\n",
              "    }\n",
              "\n",
              "    [theme=dark] .colab-df-convert:hover {\n",
              "      background-color: #434B5C;\n",
              "      box-shadow: 0px 1px 3px 1px rgba(0, 0, 0, 0.15);\n",
              "      filter: drop-shadow(0px 1px 2px rgba(0, 0, 0, 0.3));\n",
              "      fill: #FFFFFF;\n",
              "    }\n",
              "  </style>\n",
              "\n",
              "      <script>\n",
              "        const buttonEl =\n",
              "          document.querySelector('#df-5dfdca9b-a603-4789-81d5-a3beaf5e568d button.colab-df-convert');\n",
              "        buttonEl.style.display =\n",
              "          google.colab.kernel.accessAllowed ? 'block' : 'none';\n",
              "\n",
              "        async function convertToInteractive(key) {\n",
              "          const element = document.querySelector('#df-5dfdca9b-a603-4789-81d5-a3beaf5e568d');\n",
              "          const dataTable =\n",
              "            await google.colab.kernel.invokeFunction('convertToInteractive',\n",
              "                                                     [key], {});\n",
              "          if (!dataTable) return;\n",
              "\n",
              "          const docLinkHtml = 'Like what you see? Visit the ' +\n",
              "            '<a target=\"_blank\" href=https://colab.research.google.com/notebooks/data_table.ipynb>data table notebook</a>'\n",
              "            + ' to learn more about interactive tables.';\n",
              "          element.innerHTML = '';\n",
              "          dataTable['output_type'] = 'display_data';\n",
              "          await google.colab.output.renderOutput(dataTable, element);\n",
              "          const docLink = document.createElement('div');\n",
              "          docLink.innerHTML = docLinkHtml;\n",
              "          element.appendChild(docLink);\n",
              "        }\n",
              "      </script>\n",
              "    </div>\n",
              "  </div>\n",
              "  "
            ]
          },
          "metadata": {},
          "execution_count": 128
        }
      ]
    },
    {
      "cell_type": "markdown",
      "source": [
        "## *2.5) Target Label check*"
      ],
      "metadata": {
        "id": "FlYvDNPVF7Yt"
      }
    },
    {
      "cell_type": "markdown",
      "source": [
        "Now before we split our training dataset into features matrix and labels (before decoupling the features from label) we will check if there is any inconsistency in the target label which is the \"rating\""
      ],
      "metadata": {
        "id": "9qmpPGL7D6rm"
      }
    },
    {
      "cell_type": "code",
      "source": [
        "print(train_data_new[\"rating\"].value_counts()) # checking the values count of the target label"
      ],
      "metadata": {
        "colab": {
          "base_uri": "https://localhost:8080/"
        },
        "id": "_K09AhDlGR40",
        "outputId": "da5d8627-2d3a-4db2-a397-cf54b8e7b8e3"
      },
      "execution_count": null,
      "outputs": [
        {
          "output_type": "stream",
          "name": "stdout",
          "text": [
            "4.0    774\n",
            "5.0    170\n",
            "3.0    135\n",
            "2.0     12\n",
            "1.0      2\n",
            "6.0      1\n",
            "Name: rating, dtype: int64\n"
          ]
        }
      ]
    },
    {
      "cell_type": "markdown",
      "source": [
        "we found a rating value of \"6\" which is inconsistent with the classes to will drop the record of this rating"
      ],
      "metadata": {
        "id": "Ua4RnSH7W_Aw"
      }
    },
    {
      "cell_type": "code",
      "source": [
        "# Dropping the row that contains the rating equal to six as this is inconsisitent with the label categs\n",
        "invalid_rating_index = train_data_new[train_data_new[\"rating\"] == 6.0].index[0] # getting the index at which the rating=6\n",
        "train_data_new = train_data_new.drop(index=invalid_rating_index) # dropping the index at which the rating=6\n",
        "\n",
        "# another way for dropping using list comprehension\n",
        "#train_data_new = train_data_new.drop(index=[row for row in train_data_new.index if 6.0 == train_data_new.loc[row, 'rating']])\n"
      ],
      "metadata": {
        "id": "h5M264MaGlSx"
      },
      "execution_count": null,
      "outputs": []
    },
    {
      "cell_type": "code",
      "source": [
        "print(train_data_new[\"rating\"].value_counts()) # checking the values count of the target label after dropping the inconsistent label"
      ],
      "metadata": {
        "colab": {
          "base_uri": "https://localhost:8080/"
        },
        "id": "YSU8YcyCKWAc",
        "outputId": "91cb1b94-cb94-466a-c1d8-5332b1876bf7"
      },
      "execution_count": null,
      "outputs": [
        {
          "output_type": "stream",
          "name": "stdout",
          "text": [
            "4.0    774\n",
            "5.0    170\n",
            "3.0    135\n",
            "2.0     12\n",
            "1.0      2\n",
            "Name: rating, dtype: int64\n"
          ]
        }
      ]
    },
    {
      "cell_type": "markdown",
      "source": [
        "# **3- Division of training set into training and validation and decoupling the features from the labels ✂️**"
      ],
      "metadata": {
        "id": "ola_o3WfKiLi"
      }
    },
    {
      "cell_type": "markdown",
      "source": [
        "Decoupling the training dataset's features matrix and labels vetcor"
      ],
      "metadata": {
        "id": "wY1O8TJQELHT"
      }
    },
    {
      "cell_type": "code",
      "source": [
        "y_train = train_data_new[\"rating\"] # target label series\n",
        "X_train = train_data_new.drop(['rating'], axis=1) # training features df\n"
      ],
      "metadata": {
        "id": "_fLMMBkAEb3H"
      },
      "execution_count": null,
      "outputs": []
    },
    {
      "cell_type": "code",
      "source": [
        "X_train.shape # training feature shape"
      ],
      "metadata": {
        "colab": {
          "base_uri": "https://localhost:8080/"
        },
        "id": "o12OnVKeEs8T",
        "outputId": "51524a44-217c-4056-d3f4-e47adef27bf9"
      },
      "execution_count": null,
      "outputs": [
        {
          "output_type": "execute_result",
          "data": {
            "text/plain": [
              "(1093, 52)"
            ]
          },
          "metadata": {},
          "execution_count": 133
        }
      ]
    },
    {
      "cell_type": "code",
      "source": [
        "y_train.shape # training label shape"
      ],
      "metadata": {
        "colab": {
          "base_uri": "https://localhost:8080/"
        },
        "id": "VHXcOEX2EwY_",
        "outputId": "286d6b8e-275a-4853-82e3-f261271b25f9"
      },
      "execution_count": null,
      "outputs": [
        {
          "output_type": "execute_result",
          "data": {
            "text/plain": [
              "(1093,)"
            ]
          },
          "metadata": {},
          "execution_count": 134
        }
      ]
    },
    {
      "cell_type": "markdown",
      "source": [
        "Dividing the Training data into training and validation sets"
      ],
      "metadata": {
        "id": "oE5e30VdBCq7"
      }
    },
    {
      "cell_type": "code",
      "source": [
        "# splitting the dataset into 80% training and 20% testing while using stratify to ensure equal class distribution in training and validation sets\n",
        "X_tr, X_valid, y_tr, y_valid = train_test_split(X_train, y_train, test_size = 0.2, stratify = y_train, random_state=10)\n",
        "\n",
        "print(\"Training data shape:\",X_tr.shape) # printing training data number of rows and coulmns\n",
        "print(\"Testing data shape\",X_valid.shape) # printing validation data number of rows and coulmns\n",
        "print(\"Training labels shape\",y_tr.shape) # printing training target label number of rows\n",
        "print(\"Testing labels shape\",y_valid.shape) # printing validation target label number of rows"
      ],
      "metadata": {
        "colab": {
          "base_uri": "https://localhost:8080/"
        },
        "id": "hLBeoymGKnyR",
        "outputId": "b955f1c7-c2dd-4646-a179-6797b6a80b18"
      },
      "execution_count": null,
      "outputs": [
        {
          "output_type": "stream",
          "name": "stdout",
          "text": [
            "Training data shape: (874, 52)\n",
            "Testing data shape (219, 52)\n",
            "Training labels shape (874,)\n",
            "Testing labels shape (219,)\n"
          ]
        }
      ]
    },
    {
      "cell_type": "markdown",
      "source": [
        "# **4- Imbalanced data issue treatement ⏳**"
      ],
      "metadata": {
        "id": "VjASIRQIBZ7F"
      }
    },
    {
      "cell_type": "code",
      "source": [
        "# getting unique target values count\n",
        "y_tr.value_counts()"
      ],
      "metadata": {
        "colab": {
          "base_uri": "https://localhost:8080/"
        },
        "id": "2p8zbI6Na5zu",
        "outputId": "5a948dfd-39a5-4a2f-b61c-405aaa2b2585"
      },
      "execution_count": null,
      "outputs": [
        {
          "output_type": "execute_result",
          "data": {
            "text/plain": [
              "4.0    619\n",
              "5.0    136\n",
              "3.0    108\n",
              "2.0      9\n",
              "1.0      2\n",
              "Name: rating, dtype: int64"
            ]
          },
          "metadata": {},
          "execution_count": 78
        }
      ]
    },
    {
      "cell_type": "code",
      "source": [
        "# plotting the unique target values count\n",
        "plt = y_tr.value_counts().plot(kind = 'bar')\n",
        "plt.set_xlabel('rating') # setting x-axis name\n",
        "plt.set_ylabel('rating Count') # setting y-axis name"
      ],
      "metadata": {
        "colab": {
          "base_uri": "https://localhost:8080/",
          "height": 302
        },
        "id": "g7DJhmuAnWoM",
        "outputId": "115d90bb-5876-4b89-a852-52075ea72a7a"
      },
      "execution_count": null,
      "outputs": [
        {
          "output_type": "execute_result",
          "data": {
            "text/plain": [
              "Text(0, 0.5, 'rating Count')"
            ]
          },
          "metadata": {},
          "execution_count": 79
        },
        {
          "output_type": "display_data",
          "data": {
            "text/plain": [
              "<Figure size 432x288 with 1 Axes>"
            ],
            "image/png": "[encoded data removed]"
          },
          "metadata": {
            "needs_background": "light"
          }
        }
      ]
    },
    {
      "cell_type": "markdown",
      "source": [
        "From the above chart it is evident that the data is imablanced so we need to treat this data imbalance issue as it affects the model behaviour specially for the under-represented classes which happen to be low ratings which we care for,as we need to know and detect if our product will end up have a poor rating such that we can improve it and increase the probability of having a good rating"
      ],
      "metadata": {
        "id": "UZ3FTpBRaRgx"
      }
    },
    {
      "cell_type": "markdown",
      "source": [
        "## *4.1) Tomek Links (for undersampling the majority class)*"
      ],
      "metadata": {
        "id": "21SiJXPwl1f6"
      }
    },
    {
      "cell_type": "code",
      "source": [
        "from imblearn.under_sampling import TomekLinks # importing the library\n",
        "tl = TomekLinks(sampling_strategy='majority') # making an instance of the imputer\n",
        "\n",
        "# removing the tomek links from the data set (they are the majority class instances on the boundry of the class with other classes for easier classification)\n",
        "X_tr, y_tr = tl.fit_resample(X_tr, y_tr)"
      ],
      "metadata": {
        "id": "MOQlXIeKR1Xp"
      },
      "execution_count": null,
      "outputs": []
    },
    {
      "cell_type": "code",
      "source": [
        "# checking training data shape after tomek links removal (undersampling)\n",
        "print(\"Training data shape:\",X_tr.shape)\n",
        "print(\"Training labels shape\",y_tr.shape)\n"
      ],
      "metadata": {
        "colab": {
          "base_uri": "https://localhost:8080/"
        },
        "id": "4B6ZxKYJUkHA",
        "outputId": "ee87e245-277e-4078-89f5-81909b344585"
      },
      "execution_count": null,
      "outputs": [
        {
          "output_type": "stream",
          "name": "stdout",
          "text": [
            "Training data shape: (821, 52)\n",
            "Training labels shape (821,)\n"
          ]
        }
      ]
    },
    {
      "cell_type": "code",
      "source": [
        "y_tr.value_counts() # checking the target label values after tomek links removal"
      ],
      "metadata": {
        "colab": {
          "base_uri": "https://localhost:8080/"
        },
        "id": "4K_xyTjTaGWy",
        "outputId": "3d34cda3-6c77-4154-f625-b5cbad2d2187"
      },
      "execution_count": null,
      "outputs": [
        {
          "output_type": "execute_result",
          "data": {
            "text/plain": [
              "4.0    566\n",
              "5.0    136\n",
              "3.0    108\n",
              "2.0      9\n",
              "1.0      2\n",
              "Name: rating, dtype: int64"
            ]
          },
          "metadata": {},
          "execution_count": 82
        }
      ]
    },
    {
      "cell_type": "markdown",
      "source": [
        "## *4.2) SMOTE (for oversampling the minority classes)*"
      ],
      "metadata": {
        "id": "EX6Nh8GLl7pk"
      }
    },
    {
      "cell_type": "markdown",
      "source": [
        "Duplicating the minority class manually for easier usage of SMOTE since the usage of SMOTE requires a k neigbours parameter which must be less than the minimum number of each class instances. the class of rating = 1 happens to occur just one time so k must be less than one which doesn't make sense so we need to duplicate the records of the minority class before using SMOTE to avoid this issue"
      ],
      "metadata": {
        "id": "cgsIokNAp953"
      }
    },
    {
      "cell_type": "code",
      "source": [
        "# we re-couple the features and the labels back for easier minority classes records duplication\n",
        "train_data_new = pd.concat([X_tr, y_tr], axis = 1)\n",
        "\n",
        "# repeated records of the rating == 1 (minority)\n",
        "df_repeated_rating_1 = pd.concat([train_data_new[train_data_new[\"rating\"] == 1]]*10, ignore_index=True)\n",
        "\n",
        "# repeated records of the rating == 2\n",
        "df_repeated_rating_2 = pd.concat([train_data_new[train_data_new[\"rating\"] == 2]]*2, ignore_index=True)"
      ],
      "metadata": {
        "id": "H4NXCx25qGZ0"
      },
      "execution_count": null,
      "outputs": []
    },
    {
      "cell_type": "code",
      "source": [
        "# adding the obtained repeated records to the training data to be used by smote passing the k neigbors issue\n",
        "train_data_new =  pd.concat([train_data_new, df_repeated_rating_1, df_repeated_rating_2], ignore_index=True)"
      ],
      "metadata": {
        "id": "JYKgkuNP_ZQM"
      },
      "execution_count": null,
      "outputs": []
    },
    {
      "cell_type": "code",
      "source": [
        "train_data_new.rating.value_counts() # checking the counts and now the minority classes number of instances increased so we can use a suitabe k"
      ],
      "metadata": {
        "colab": {
          "base_uri": "https://localhost:8080/"
        },
        "id": "G1fLNtqG_f47",
        "outputId": "0e80cc51-4335-40a6-b88e-10408073d63a"
      },
      "execution_count": null,
      "outputs": [
        {
          "output_type": "execute_result",
          "data": {
            "text/plain": [
              "4.0    566\n",
              "5.0    136\n",
              "3.0    108\n",
              "2.0     27\n",
              "1.0     22\n",
              "Name: rating, dtype: int64"
            ]
          },
          "metadata": {},
          "execution_count": 85
        }
      ]
    },
    {
      "cell_type": "code",
      "source": [
        "# decoupling the features and label again\n",
        "y_tr = train_data_new[\"rating\"]\n",
        "X_tr = train_data_new.drop(['rating'], axis=1)"
      ],
      "metadata": {
        "id": "zbxFL9VT_hHJ"
      },
      "execution_count": null,
      "outputs": []
    },
    {
      "cell_type": "markdown",
      "source": [
        "SMOTE"
      ],
      "metadata": {
        "id": "ZT4M-gb8_mPs"
      }
    },
    {
      "cell_type": "code",
      "source": [
        "from imblearn.over_sampling import SMOTE # importing the library\n",
        "smote = SMOTE(sampling_strategy='not majority', k_neighbors = 3) # SMOTE instance that will be oversampling all classes that are not the majority\n",
        "X_tr, y_tr = smote.fit_resample(X_tr, y_tr) # performing the oversampling"
      ],
      "metadata": {
        "id": "NKk7BRqsR_GZ"
      },
      "execution_count": null,
      "outputs": []
    },
    {
      "cell_type": "code",
      "source": [
        "y_tr.value_counts() # checking the target label count after oversampling"
      ],
      "metadata": {
        "colab": {
          "base_uri": "https://localhost:8080/"
        },
        "id": "XPFYIsRwa9dT",
        "outputId": "e0cdc2c7-b067-486c-a369-9b9bf392266c"
      },
      "execution_count": null,
      "outputs": [
        {
          "output_type": "execute_result",
          "data": {
            "text/plain": [
              "3.0    566\n",
              "4.0    566\n",
              "5.0    566\n",
              "2.0    566\n",
              "1.0    566\n",
              "Name: rating, dtype: int64"
            ]
          },
          "metadata": {},
          "execution_count": 88
        }
      ]
    },
    {
      "cell_type": "code",
      "source": [
        "# visualizing the target label count after the oversampling\n",
        "plt = y_tr.value_counts().plot(kind = 'bar') # getting the training target label values counts\n",
        "plt.set_xlabel('rating') # setting x-axis name\n",
        "plt.set_ylabel('rating Count') # setting y-axis name"
      ],
      "metadata": {
        "colab": {
          "base_uri": "https://localhost:8080/",
          "height": 302
        },
        "id": "EMr9qIQUny4U",
        "outputId": "548d1fca-edeb-4ea0-87d8-da9b74154e7a"
      },
      "execution_count": null,
      "outputs": [
        {
          "output_type": "execute_result",
          "data": {
            "text/plain": [
              "Text(0, 0.5, 'rating Count')"
            ]
          },
          "metadata": {},
          "execution_count": 89
        },
        {
          "output_type": "display_data",
          "data": {
            "text/plain": [
              "<Figure size 432x288 with 1 Axes>"
            ],
            "image/png": "[encoded data removed]"
          },
          "metadata": {
            "needs_background": "light"
          }
        }
      ]
    },
    {
      "cell_type": "code",
      "source": [
        "# checking training data shape after SMOTE oversampling\n",
        "print(\"Training data shape:\",X_tr.shape)\n",
        "print(\"Training labels shape\",y_tr.shape)"
      ],
      "metadata": {
        "colab": {
          "base_uri": "https://localhost:8080/"
        },
        "id": "mpXA22gqVlnC",
        "outputId": "5a384d6e-1ddd-41f5-ce8d-06294717fdd9"
      },
      "execution_count": null,
      "outputs": [
        {
          "output_type": "stream",
          "name": "stdout",
          "text": [
            "Training data shape: (2830, 52)\n",
            "Training labels shape (2830,)\n"
          ]
        }
      ]
    },
    {
      "cell_type": "markdown",
      "source": [
        "# **5- Tried Models 📈**"
      ],
      "metadata": {
        "id": "6hlKl1eY_24d"
      }
    },
    {
      "cell_type": "markdown",
      "source": [
        "## Classification Metrics Function"
      ],
      "metadata": {
        "id": "IuQoIeBl-e-V"
      }
    },
    {
      "cell_type": "markdown",
      "source": [
        "we here define a function that will be used for each model assesment that will be returing different metrics such as accuracy, mean F1 score, mean precision and mean recall. the mean calcualted is the macro version which is the unweighted mean of each class metric"
      ],
      "metadata": {
        "id": "ICGLMcgIi-Vb"
      }
    },
    {
      "cell_type": "code",
      "source": [
        "def print_model_metrics(y_test, y_pred):\n",
        "    ''' - Two parameters are given, the true label (y_test) and predicted labels (y_pred)\n",
        "    - Four metircs are returned in the following order: Accuracy, Recall, Precision and F1 score.\n",
        "    - The function also prints these metrics'''\n",
        "\n",
        "    from sklearn.metrics import accuracy_score\n",
        "    from sklearn.metrics import recall_score\n",
        "    from sklearn.metrics import precision_score\n",
        "    from sklearn.metrics import f1_score\n",
        "\n",
        "    acc = accuracy_score(y_test, y_pred)\n",
        "    recall = recall_score(y_test, y_pred, average = \"macro\")\n",
        "    prec = precision_score(y_test, y_pred, average = \"macro\")\n",
        "    f1 = f1_score(y_test, y_pred, average = \"macro\")\n",
        "\n",
        "    print(\"Model accuracy is: {0:.2f}\".format(acc))\n",
        "    print(\"Model recall is: {0:.2f}\".format(recall))\n",
        "    print(\"Model precision is: {0:.2f}\".format(prec))\n",
        "    print(\"Model F1 score is: {0:.2f}\".format(f1))\n",
        "\n",
        "    return acc, recall, prec, f1"
      ],
      "metadata": {
        "id": "75cGDQTcMvgY"
      },
      "execution_count": null,
      "outputs": []
    },
    {
      "cell_type": "markdown",
      "source": [
        "## *Model 1 & 2: Decision Tree with Grid Search*"
      ],
      "metadata": {
        "id": "3G2dAFI2jNqu"
      }
    },
    {
      "cell_type": "markdown",
      "source": [
        "We will begin our models trials with decision trees as they are usually good classifiers but we should be careful of overfitting 🙄."
      ],
      "metadata": {
        "id": "K24EMXKXDDYi"
      }
    },
    {
      "cell_type": "markdown",
      "source": [
        "DT Model 1"
      ],
      "metadata": {
        "id": "Vl8LV-Az9ed8"
      }
    },
    {
      "cell_type": "markdown",
      "source": [
        "Training"
      ],
      "metadata": {
        "id": "G47WFi9ikSuu"
      }
    },
    {
      "cell_type": "code",
      "source": [
        "from sklearn import tree\n",
        "from sklearn.model_selection import GridSearchCV\n",
        "\n",
        "tree_clf = tree.DecisionTreeClassifier(class_weight = \"balanced\", random_state=1) # decision tree model instance to be used by grid search\n",
        "\n",
        "# grid serach hyperparameters search space\n",
        "params = {\"criterion\": (\"gini\", \"entropy\"),\n",
        "          \"splitter\": (\"best\", \"random\"),\n",
        "          \"min_samples_split\": ( 2, 5, 8, 12, 15, 18, 21 ,24, 27),\n",
        "          \"min_samples_leaf\":( 2, 5, 8, 12, 15, 18, 21 ,24, 27),\n",
        "          \"max_features\": (\"sqrt\", \"log2\", None)}\n",
        "\n",
        "tree_clf_grid = GridSearchCV(estimator=tree_clf, param_grid=params, scoring=\"f1_macro\", cv=5) # grid search instance\n",
        "\n",
        "tree_clf_grid.fit(X_tr, y_tr) # fitting the model with the optimum hyperparameters"
      ],
      "metadata": {
        "colab": {
          "base_uri": "https://localhost:8080/",
          "height": 118
        },
        "id": "qwo2AldgKuEE",
        "outputId": "1ceea989-0f3d-4cd9-f2c6-6ab54a0ab37b"
      },
      "execution_count": null,
      "outputs": [
        {
          "output_type": "execute_result",
          "data": {
            "text/plain": [
              "GridSearchCV(cv=5,\n",
              "             estimator=DecisionTreeClassifier(class_weight='balanced',\n",
              "                                              random_state=1),\n",
              "             param_grid={'criterion': ('gini', 'entropy'),\n",
              "                         'max_features': ('sqrt', 'log2', None),\n",
              "                         'min_samples_leaf': (2, 5, 8, 12, 15, 18, 21, 24, 27),\n",
              "                         'min_samples_split': (2, 5, 8, 12, 15, 18, 21, 24, 27),\n",
              "                         'splitter': ('best', 'random')},\n",
              "             scoring='f1_macro')"
            ],
            "text/html": [
              "<style>#sk-container-id-1 {color: black;background-color: white;}#sk-container-id-1 pre{padding: 0;}#sk-container-id-1 div.sk-toggleable {background-color: white;}#sk-container-id-1 label.sk-toggleable__label {cursor: pointer;display: block;width: 100%;margin-bottom: 0;padding: 0.3em;box-sizing: border-box;text-align: center;}#sk-container-id-1 label.sk-toggleable__label-arrow:before {content: \"▸\";float: left;margin-right: 0.25em;color: #696969;}#sk-container-id-1 label.sk-toggleable__label-arrow:hover:before {color: black;}#sk-container-id-1 div.sk-estimator:hover label.sk-toggleable__label-arrow:before {color: black;}#sk-container-id-1 div.sk-toggleable__content {max-height: 0;max-width: 0;overflow: hidden;text-align: left;background-color: #f0f8ff;}#sk-container-id-1 div.sk-toggleable__content pre {margin: 0.2em;color: black;border-radius: 0.25em;background-color: #f0f8ff;}#sk-container-id-1 input.sk-toggleable__control:checked~div.sk-toggleable__content {max-height: 200px;max-width: 100%;overflow: auto;}#sk-container-id-1 input.sk-toggleable__control:checked~label.sk-toggleable__label-arrow:before {content: \"▾\";}#sk-container-id-1 div.sk-estimator input.sk-toggleable__control:checked~label.sk-toggleable__label {background-color: #d4ebff;}#sk-container-id-1 div.sk-label input.sk-toggleable__control:checked~label.sk-toggleable__label {background-color: #d4ebff;}#sk-container-id-1 input.sk-hidden--visually {border: 0;clip: rect(1px 1px 1px 1px);clip: rect(1px, 1px, 1px, 1px);height: 1px;margin: -1px;overflow: hidden;padding: 0;position: absolute;width: 1px;}#sk-container-id-1 div.sk-estimator {font-family: monospace;background-color: #f0f8ff;border: 1px dotted black;border-radius: 0.25em;box-sizing: border-box;margin-bottom: 0.5em;}#sk-container-id-1 div.sk-estimator:hover {background-color: #d4ebff;}#sk-container-id-1 div.sk-parallel-item::after {content: \"\";width: 100%;border-bottom: 1px solid gray;flex-grow: 1;}#sk-container-id-1 div.sk-label:hover label.sk-toggleable__label {background-color: #d4ebff;}#sk-container-id-1 div.sk-serial::before {content: \"\";position: absolute;border-left: 1px solid gray;box-sizing: border-box;top: 0;bottom: 0;left: 50%;z-index: 0;}#sk-container-id-1 div.sk-serial {display: flex;flex-direction: column;align-items: center;background-color: white;padding-right: 0.2em;padding-left: 0.2em;position: relative;}#sk-container-id-1 div.sk-item {position: relative;z-index: 1;}#sk-container-id-1 div.sk-parallel {display: flex;align-items: stretch;justify-content: center;background-color: white;position: relative;}#sk-container-id-1 div.sk-item::before, #sk-container-id-1 div.sk-parallel-item::before {content: \"\";position: absolute;border-left: 1px solid gray;box-sizing: border-box;top: 0;bottom: 0;left: 50%;z-index: -1;}#sk-container-id-1 div.sk-parallel-item {display: flex;flex-direction: column;z-index: 1;position: relative;background-color: white;}#sk-container-id-1 div.sk-parallel-item:first-child::after {align-self: flex-end;width: 50%;}#sk-container-id-1 div.sk-parallel-item:last-child::after {align-self: flex-start;width: 50%;}#sk-container-id-1 div.sk-parallel-item:only-child::after {width: 0;}#sk-container-id-1 div.sk-dashed-wrapped {border: 1px dashed gray;margin: 0 0.4em 0.5em 0.4em;box-sizing: border-box;padding-bottom: 0.4em;background-color: white;}#sk-container-id-1 div.sk-label label {font-family: monospace;font-weight: bold;display: inline-block;line-height: 1.2em;}#sk-container-id-1 div.sk-label-container {text-align: center;}#sk-container-id-1 div.sk-container {/* jupyter's `normalize.less` sets `[hidden] { display: none; }` but bootstrap.min.css set `[hidden] { display: none !important; }` so we also need the `!important` here to be able to override the default hidden behavior on the sphinx rendered scikit-learn.org. See: https://github.com/scikit-learn/scikit-learn/issues/21755 */display: inline-block !important;position: relative;}#sk-container-id-1 div.sk-text-repr-fallback {display: none;}</style><div id=\"sk-container-id-1\" class=\"sk-top-container\"><div class=\"sk-text-repr-fallback\"><pre>GridSearchCV(cv=5,\n",
              "             estimator=DecisionTreeClassifier(class_weight=&#x27;balanced&#x27;,\n",
              "                                              random_state=1),\n",
              "             param_grid={&#x27;criterion&#x27;: (&#x27;gini&#x27;, &#x27;entropy&#x27;),\n",
              "                         &#x27;max_features&#x27;: (&#x27;sqrt&#x27;, &#x27;log2&#x27;, None),\n",
              "                         &#x27;min_samples_leaf&#x27;: (2, 5, 8, 12, 15, 18, 21, 24, 27),\n",
              "                         &#x27;min_samples_split&#x27;: (2, 5, 8, 12, 15, 18, 21, 24, 27),\n",
              "                         &#x27;splitter&#x27;: (&#x27;best&#x27;, &#x27;random&#x27;)},\n",
              "             scoring=&#x27;f1_macro&#x27;)</pre><b>In a Jupyter environment, please rerun this cell to show the HTML representation or trust the notebook. <br />On GitHub, the HTML representation is unable to render, please try loading this page with nbviewer.org.</b></div><div class=\"sk-container\" hidden><div class=\"sk-item sk-dashed-wrapped\"><div class=\"sk-label-container\"><div class=\"sk-label sk-toggleable\"><input class=\"sk-toggleable__control sk-hidden--visually\" id=\"sk-estimator-id-1\" type=\"checkbox\" ><label for=\"sk-estimator-id-1\" class=\"sk-toggleable__label sk-toggleable__label-arrow\">GridSearchCV</label><div class=\"sk-toggleable__content\"><pre>GridSearchCV(cv=5,\n",
              "             estimator=DecisionTreeClassifier(class_weight=&#x27;balanced&#x27;,\n",
              "                                              random_state=1),\n",
              "             param_grid={&#x27;criterion&#x27;: (&#x27;gini&#x27;, &#x27;entropy&#x27;),\n",
              "                         &#x27;max_features&#x27;: (&#x27;sqrt&#x27;, &#x27;log2&#x27;, None),\n",
              "                         &#x27;min_samples_leaf&#x27;: (2, 5, 8, 12, 15, 18, 21, 24, 27),\n",
              "                         &#x27;min_samples_split&#x27;: (2, 5, 8, 12, 15, 18, 21, 24, 27),\n",
              "                         &#x27;splitter&#x27;: (&#x27;best&#x27;, &#x27;random&#x27;)},\n",
              "             scoring=&#x27;f1_macro&#x27;)</pre></div></div></div><div class=\"sk-parallel\"><div class=\"sk-parallel-item\"><div class=\"sk-item\"><div class=\"sk-label-container\"><div class=\"sk-label sk-toggleable\"><input class=\"sk-toggleable__control sk-hidden--visually\" id=\"sk-estimator-id-2\" type=\"checkbox\" ><label for=\"sk-estimator-id-2\" class=\"sk-toggleable__label sk-toggleable__label-arrow\">estimator: DecisionTreeClassifier</label><div class=\"sk-toggleable__content\"><pre>DecisionTreeClassifier(class_weight=&#x27;balanced&#x27;, random_state=1)</pre></div></div></div><div class=\"sk-serial\"><div class=\"sk-item\"><div class=\"sk-estimator sk-toggleable\"><input class=\"sk-toggleable__control sk-hidden--visually\" id=\"sk-estimator-id-3\" type=\"checkbox\" ><label for=\"sk-estimator-id-3\" class=\"sk-toggleable__label sk-toggleable__label-arrow\">DecisionTreeClassifier</label><div class=\"sk-toggleable__content\"><pre>DecisionTreeClassifier(class_weight=&#x27;balanced&#x27;, random_state=1)</pre></div></div></div></div></div></div></div></div></div></div>"
            ]
          },
          "metadata": {},
          "execution_count": 49
        }
      ]
    },
    {
      "cell_type": "code",
      "source": [
        "# Printing best hyperparameters found that corresponds to the best model\n",
        "tree_clf_grid.best_params_\n"
      ],
      "metadata": {
        "colab": {
          "base_uri": "https://localhost:8080/"
        },
        "id": "mMf3ILgWK1kr",
        "outputId": "14a6a833-be3a-48ba-b5c5-ea87fdcbfc10"
      },
      "execution_count": null,
      "outputs": [
        {
          "output_type": "execute_result",
          "data": {
            "text/plain": [
              "{'criterion': 'gini',\n",
              " 'max_features': None,\n",
              " 'min_samples_leaf': 2,\n",
              " 'min_samples_split': 2,\n",
              " 'splitter': 'best'}"
            ]
          },
          "metadata": {},
          "execution_count": 50
        }
      ]
    },
    {
      "cell_type": "code",
      "source": [
        "# Prining the best hyperparameter model score on the chosen \"scoring metric\" which is macro f1 score\n",
        "tree_clf_grid.best_score_"
      ],
      "metadata": {
        "colab": {
          "base_uri": "https://localhost:8080/"
        },
        "id": "MXgZxPyRK3jP",
        "outputId": "1ad03ca2-8006-421b-c098-57855c5b5342"
      },
      "execution_count": null,
      "outputs": [
        {
          "output_type": "execute_result",
          "data": {
            "text/plain": [
              "0.8633564508811679"
            ]
          },
          "metadata": {},
          "execution_count": 51
        }
      ]
    },
    {
      "cell_type": "markdown",
      "source": [
        "Prediction"
      ],
      "metadata": {
        "id": "ecO6d5tpkU6m"
      }
    },
    {
      "cell_type": "code",
      "source": [
        "# Prediction\n",
        "y_pred_tree = tree_clf_grid.predict(X_valid) # predicted output\n",
        "print(classification_report(y_valid, y_pred_tree))"
      ],
      "metadata": {
        "colab": {
          "base_uri": "https://localhost:8080/"
        },
        "id": "fNCkcCcqK6F3",
        "outputId": "192da493-07ef-4a0f-a699-c7b6a5872603"
      },
      "execution_count": null,
      "outputs": [
        {
          "output_type": "stream",
          "name": "stdout",
          "text": [
            "              precision    recall  f1-score   support\n",
            "\n",
            "         1.0       0.50      1.00      0.67         1\n",
            "         2.0       0.67      1.00      0.80         4\n",
            "         3.0       0.23      0.33      0.27        40\n",
            "         4.0       0.83      0.73      0.78       232\n",
            "         5.0       0.51      0.61      0.55        51\n",
            "\n",
            "    accuracy                           0.66       328\n",
            "   macro avg       0.55      0.73      0.61       328\n",
            "weighted avg       0.71      0.66      0.68       328\n",
            "\n"
          ]
        }
      ]
    },
    {
      "cell_type": "code",
      "source": [
        "# Printing the model metrics using the previously defined function \"print_model_metrics\"\n",
        "tree_acc, tree_recall, tree_prec, tree_f1 = print_model_metrics(y_valid, y_pred_tree)"
      ],
      "metadata": {
        "colab": {
          "base_uri": "https://localhost:8080/"
        },
        "id": "PwwebmumM9Ob",
        "outputId": "46b64226-26f2-404f-9e04-6a415bbcf85e"
      },
      "execution_count": null,
      "outputs": [
        {
          "output_type": "stream",
          "name": "stdout",
          "text": [
            "Model accuracy is: 0.66\n",
            "Model recall is: 0.73\n",
            "Model precision is: 0.55\n",
            "Model F1 score is: 0.61\n"
          ]
        }
      ]
    },
    {
      "cell_type": "markdown",
      "source": [
        "Since the mean cross-validated f1 score (86%) is higher than the testing score done using the separate validation set (61%) therefore the model is overfitting 🤕 as an expected behaviour of decision trees so will try another model of the decision trees with different set of hyperparameters for controlling the overfitting mainly we will introduce the max depth parameter and try higher values of the minimum samples required for splitting and the minimum samples required to be in a node in attempt to prune the tree 🌳"
      ],
      "metadata": {
        "id": "kvkrMXiu8uYe"
      }
    },
    {
      "cell_type": "markdown",
      "source": [
        "DT Model 2"
      ],
      "metadata": {
        "id": "PzpBCHjd9i6K"
      }
    },
    {
      "cell_type": "markdown",
      "source": [
        "Training"
      ],
      "metadata": {
        "id": "QLtmcp0FkXBV"
      }
    },
    {
      "cell_type": "code",
      "source": [
        "from sklearn import tree\n",
        "from sklearn.model_selection import GridSearchCV\n",
        "\n",
        "tree_clf = tree.DecisionTreeClassifier(class_weight = \"balanced\", random_state=2) # decision tree model instance to be used by grid search\n",
        "\n",
        "# grid serach hyperparameters search space\n",
        "params = {\"criterion\": [\"gini\"],\n",
        "          \"splitter\": [\"best\"],\n",
        "          \"min_samples_split\": [20, 30, 50],\n",
        "          \"min_samples_leaf\":[10, 20, 30],\n",
        "          \"max_features\": [\"log2\", None],\n",
        "          'max_depth': [10, 20]\n",
        "          }\n",
        "\n",
        "tree_clf_grid = GridSearchCV(estimator=tree_clf, param_grid=params, scoring=\"f1_macro\", cv=5) # grid search instance\n",
        "\n",
        "tree_clf_grid.fit(X_tr, y_tr) # fitting the model with the optimum hyperparameters"
      ],
      "metadata": {
        "colab": {
          "base_uri": "https://localhost:8080/",
          "height": 118
        },
        "outputId": "7e58480b-c8c7-4915-8263-750d8ff3e416",
        "id": "jJwSGZHtBmJn"
      },
      "execution_count": null,
      "outputs": [
        {
          "output_type": "execute_result",
          "data": {
            "text/plain": [
              "GridSearchCV(cv=5,\n",
              "             estimator=DecisionTreeClassifier(class_weight='balanced',\n",
              "                                              random_state=2),\n",
              "             param_grid={'criterion': ['gini'], 'max_depth': [10, 20],\n",
              "                         'max_features': ['log2', None],\n",
              "                         'min_samples_leaf': [10, 20, 30],\n",
              "                         'min_samples_split': [20, 30, 50],\n",
              "                         'splitter': ['best']},\n",
              "             scoring='f1_macro')"
            ],
            "text/html": [
              "<style>#sk-container-id-38 {color: black;background-color: white;}#sk-container-id-38 pre{padding: 0;}#sk-container-id-38 div.sk-toggleable {background-color: white;}#sk-container-id-38 label.sk-toggleable__label {cursor: pointer;display: block;width: 100%;margin-bottom: 0;padding: 0.3em;box-sizing: border-box;text-align: center;}#sk-container-id-38 label.sk-toggleable__label-arrow:before {content: \"▸\";float: left;margin-right: 0.25em;color: #696969;}#sk-container-id-38 label.sk-toggleable__label-arrow:hover:before {color: black;}#sk-container-id-38 div.sk-estimator:hover label.sk-toggleable__label-arrow:before {color: black;}#sk-container-id-38 div.sk-toggleable__content {max-height: 0;max-width: 0;overflow: hidden;text-align: left;background-color: #f0f8ff;}#sk-container-id-38 div.sk-toggleable__content pre {margin: 0.2em;color: black;border-radius: 0.25em;background-color: #f0f8ff;}#sk-container-id-38 input.sk-toggleable__control:checked~div.sk-toggleable__content {max-height: 200px;max-width: 100%;overflow: auto;}#sk-container-id-38 input.sk-toggleable__control:checked~label.sk-toggleable__label-arrow:before {content: \"▾\";}#sk-container-id-38 div.sk-estimator input.sk-toggleable__control:checked~label.sk-toggleable__label {background-color: #d4ebff;}#sk-container-id-38 div.sk-label input.sk-toggleable__control:checked~label.sk-toggleable__label {background-color: #d4ebff;}#sk-container-id-38 input.sk-hidden--visually {border: 0;clip: rect(1px 1px 1px 1px);clip: rect(1px, 1px, 1px, 1px);height: 1px;margin: -1px;overflow: hidden;padding: 0;position: absolute;width: 1px;}#sk-container-id-38 div.sk-estimator {font-family: monospace;background-color: #f0f8ff;border: 1px dotted black;border-radius: 0.25em;box-sizing: border-box;margin-bottom: 0.5em;}#sk-container-id-38 div.sk-estimator:hover {background-color: #d4ebff;}#sk-container-id-38 div.sk-parallel-item::after {content: \"\";width: 100%;border-bottom: 1px solid gray;flex-grow: 1;}#sk-container-id-38 div.sk-label:hover label.sk-toggleable__label {background-color: #d4ebff;}#sk-container-id-38 div.sk-serial::before {content: \"\";position: absolute;border-left: 1px solid gray;box-sizing: border-box;top: 0;bottom: 0;left: 50%;z-index: 0;}#sk-container-id-38 div.sk-serial {display: flex;flex-direction: column;align-items: center;background-color: white;padding-right: 0.2em;padding-left: 0.2em;position: relative;}#sk-container-id-38 div.sk-item {position: relative;z-index: 1;}#sk-container-id-38 div.sk-parallel {display: flex;align-items: stretch;justify-content: center;background-color: white;position: relative;}#sk-container-id-38 div.sk-item::before, #sk-container-id-38 div.sk-parallel-item::before {content: \"\";position: absolute;border-left: 1px solid gray;box-sizing: border-box;top: 0;bottom: 0;left: 50%;z-index: -1;}#sk-container-id-38 div.sk-parallel-item {display: flex;flex-direction: column;z-index: 1;position: relative;background-color: white;}#sk-container-id-38 div.sk-parallel-item:first-child::after {align-self: flex-end;width: 50%;}#sk-container-id-38 div.sk-parallel-item:last-child::after {align-self: flex-start;width: 50%;}#sk-container-id-38 div.sk-parallel-item:only-child::after {width: 0;}#sk-container-id-38 div.sk-dashed-wrapped {border: 1px dashed gray;margin: 0 0.4em 0.5em 0.4em;box-sizing: border-box;padding-bottom: 0.4em;background-color: white;}#sk-container-id-38 div.sk-label label {font-family: monospace;font-weight: bold;display: inline-block;line-height: 1.2em;}#sk-container-id-38 div.sk-label-container {text-align: center;}#sk-container-id-38 div.sk-container {/* jupyter's `normalize.less` sets `[hidden] { display: none; }` but bootstrap.min.css set `[hidden] { display: none !important; }` so we also need the `!important` here to be able to override the default hidden behavior on the sphinx rendered scikit-learn.org. See: https://github.com/scikit-learn/scikit-learn/issues/21755 */display: inline-block !important;position: relative;}#sk-container-id-38 div.sk-text-repr-fallback {display: none;}</style><div id=\"sk-container-id-38\" class=\"sk-top-container\"><div class=\"sk-text-repr-fallback\"><pre>GridSearchCV(cv=5,\n",
              "             estimator=DecisionTreeClassifier(class_weight=&#x27;balanced&#x27;,\n",
              "                                              random_state=2),\n",
              "             param_grid={&#x27;criterion&#x27;: [&#x27;gini&#x27;], &#x27;max_depth&#x27;: [10, 20],\n",
              "                         &#x27;max_features&#x27;: [&#x27;log2&#x27;, None],\n",
              "                         &#x27;min_samples_leaf&#x27;: [10, 20, 30],\n",
              "                         &#x27;min_samples_split&#x27;: [20, 30, 50],\n",
              "                         &#x27;splitter&#x27;: [&#x27;best&#x27;]},\n",
              "             scoring=&#x27;f1_macro&#x27;)</pre><b>In a Jupyter environment, please rerun this cell to show the HTML representation or trust the notebook. <br />On GitHub, the HTML representation is unable to render, please try loading this page with nbviewer.org.</b></div><div class=\"sk-container\" hidden><div class=\"sk-item sk-dashed-wrapped\"><div class=\"sk-label-container\"><div class=\"sk-label sk-toggleable\"><input class=\"sk-toggleable__control sk-hidden--visually\" id=\"sk-estimator-id-112\" type=\"checkbox\" ><label for=\"sk-estimator-id-112\" class=\"sk-toggleable__label sk-toggleable__label-arrow\">GridSearchCV</label><div class=\"sk-toggleable__content\"><pre>GridSearchCV(cv=5,\n",
              "             estimator=DecisionTreeClassifier(class_weight=&#x27;balanced&#x27;,\n",
              "                                              random_state=2),\n",
              "             param_grid={&#x27;criterion&#x27;: [&#x27;gini&#x27;], &#x27;max_depth&#x27;: [10, 20],\n",
              "                         &#x27;max_features&#x27;: [&#x27;log2&#x27;, None],\n",
              "                         &#x27;min_samples_leaf&#x27;: [10, 20, 30],\n",
              "                         &#x27;min_samples_split&#x27;: [20, 30, 50],\n",
              "                         &#x27;splitter&#x27;: [&#x27;best&#x27;]},\n",
              "             scoring=&#x27;f1_macro&#x27;)</pre></div></div></div><div class=\"sk-parallel\"><div class=\"sk-parallel-item\"><div class=\"sk-item\"><div class=\"sk-label-container\"><div class=\"sk-label sk-toggleable\"><input class=\"sk-toggleable__control sk-hidden--visually\" id=\"sk-estimator-id-113\" type=\"checkbox\" ><label for=\"sk-estimator-id-113\" class=\"sk-toggleable__label sk-toggleable__label-arrow\">estimator: DecisionTreeClassifier</label><div class=\"sk-toggleable__content\"><pre>DecisionTreeClassifier(class_weight=&#x27;balanced&#x27;, random_state=2)</pre></div></div></div><div class=\"sk-serial\"><div class=\"sk-item\"><div class=\"sk-estimator sk-toggleable\"><input class=\"sk-toggleable__control sk-hidden--visually\" id=\"sk-estimator-id-114\" type=\"checkbox\" ><label for=\"sk-estimator-id-114\" class=\"sk-toggleable__label sk-toggleable__label-arrow\">DecisionTreeClassifier</label><div class=\"sk-toggleable__content\"><pre>DecisionTreeClassifier(class_weight=&#x27;balanced&#x27;, random_state=2)</pre></div></div></div></div></div></div></div></div></div></div>"
            ]
          },
          "metadata": {},
          "execution_count": 210
        }
      ]
    },
    {
      "cell_type": "code",
      "source": [
        "# Printing best hyperparameters found that corresponds to the best model\n",
        "tree_clf_grid.best_params_\n"
      ],
      "metadata": {
        "colab": {
          "base_uri": "https://localhost:8080/"
        },
        "outputId": "fb79ae91-aa4e-4668-e847-cd851f6787e8",
        "id": "fXsRRmozBqzS"
      },
      "execution_count": null,
      "outputs": [
        {
          "output_type": "execute_result",
          "data": {
            "text/plain": [
              "{'criterion': 'gini',\n",
              " 'max_depth': 20,\n",
              " 'max_features': None,\n",
              " 'min_samples_leaf': 10,\n",
              " 'min_samples_split': 20,\n",
              " 'splitter': 'best'}"
            ]
          },
          "metadata": {},
          "execution_count": 211
        }
      ]
    },
    {
      "cell_type": "code",
      "source": [
        "# Prining the best hyperparameter model score on the chosen \"scoring metric\" which is macro f1 score\n",
        "tree_clf_grid.best_score_"
      ],
      "metadata": {
        "colab": {
          "base_uri": "https://localhost:8080/"
        },
        "outputId": "2374cdb1-579b-483f-c50d-fca3d0f22238",
        "id": "Qg5DfO8YBuPG"
      },
      "execution_count": null,
      "outputs": [
        {
          "output_type": "execute_result",
          "data": {
            "text/plain": [
              "0.8289208148191187"
            ]
          },
          "metadata": {},
          "execution_count": 212
        }
      ]
    },
    {
      "cell_type": "markdown",
      "source": [
        "Prediction"
      ],
      "metadata": {
        "id": "2NC8HCB-kZPw"
      }
    },
    {
      "cell_type": "code",
      "source": [
        "# Prediction\n",
        "y_pred_tree = tree_clf_grid.predict(X_valid) # predicted output\n",
        "print(classification_report(y_valid, y_pred_tree))"
      ],
      "metadata": {
        "colab": {
          "base_uri": "https://localhost:8080/"
        },
        "outputId": "82c647a5-176b-4c73-e1b1-f20b64d7ff63",
        "id": "TUlNG0muBzNl"
      },
      "execution_count": null,
      "outputs": [
        {
          "output_type": "stream",
          "name": "stdout",
          "text": [
            "              precision    recall  f1-score   support\n",
            "\n",
            "         1.0       0.00      0.00      0.00         0\n",
            "         2.0       0.50      0.67      0.57         3\n",
            "         3.0       0.21      0.19      0.20        27\n",
            "         4.0       0.79      0.79      0.79       155\n",
            "         5.0       0.43      0.44      0.43        34\n",
            "\n",
            "    accuracy                           0.66       219\n",
            "   macro avg       0.38      0.42      0.40       219\n",
            "weighted avg       0.66      0.66      0.66       219\n",
            "\n"
          ]
        },
        {
          "output_type": "stream",
          "name": "stderr",
          "text": [
            "/usr/local/lib/python3.9/dist-packages/sklearn/metrics/_classification.py:1344: UndefinedMetricWarning: Recall and F-score are ill-defined and being set to 0.0 in labels with no true samples. Use `zero_division` parameter to control this behavior.\n",
            "  _warn_prf(average, modifier, msg_start, len(result))\n",
            "/usr/local/lib/python3.9/dist-packages/sklearn/metrics/_classification.py:1344: UndefinedMetricWarning: Recall and F-score are ill-defined and being set to 0.0 in labels with no true samples. Use `zero_division` parameter to control this behavior.\n",
            "  _warn_prf(average, modifier, msg_start, len(result))\n",
            "/usr/local/lib/python3.9/dist-packages/sklearn/metrics/_classification.py:1344: UndefinedMetricWarning: Recall and F-score are ill-defined and being set to 0.0 in labels with no true samples. Use `zero_division` parameter to control this behavior.\n",
            "  _warn_prf(average, modifier, msg_start, len(result))\n"
          ]
        }
      ]
    },
    {
      "cell_type": "code",
      "source": [
        "# Printing the model metrics using the previously defined function \"print_model_metrics\"\n",
        "tree_acc, tree_recall, tree_prec, tree_f1 = print_model_metrics(y_valid, y_pred_tree)"
      ],
      "metadata": {
        "colab": {
          "base_uri": "https://localhost:8080/"
        },
        "outputId": "a828e65e-b15c-4648-93f7-27c5f0caaa8a",
        "id": "KuyuZP6mB4Aw"
      },
      "execution_count": null,
      "outputs": [
        {
          "output_type": "stream",
          "name": "stdout",
          "text": [
            "Model accuracy is: 0.66\n",
            "Model recall is: 0.42\n",
            "Model precision is: 0.38\n",
            "Model F1 score is: 0.40\n"
          ]
        },
        {
          "output_type": "stream",
          "name": "stderr",
          "text": [
            "/usr/local/lib/python3.9/dist-packages/sklearn/metrics/_classification.py:1344: UndefinedMetricWarning: Recall is ill-defined and being set to 0.0 in labels with no true samples. Use `zero_division` parameter to control this behavior.\n",
            "  _warn_prf(average, modifier, msg_start, len(result))\n"
          ]
        }
      ]
    },
    {
      "cell_type": "markdown",
      "source": [
        "Unfortunately the model is still overfitting as the mean cross-validated f1 score is 0.82 and the testing score is 0.4 😥. So now we will shift towards other models as maybe the DT is not suitable for this dataset/problem."
      ],
      "metadata": {
        "id": "dz0fLqhK-vBc"
      }
    },
    {
      "cell_type": "markdown",
      "source": [
        "## *Model 3: Naive Bayes*"
      ],
      "metadata": {
        "id": "Fe51I8Hm1ogU"
      }
    },
    {
      "cell_type": "markdown",
      "source": [
        "Training"
      ],
      "metadata": {
        "id": "1mCucRN3kLik"
      }
    },
    {
      "cell_type": "code",
      "source": [
        "from sklearn.naive_bayes import GaussianNB\n",
        "\n",
        "NB = GaussianNB() # model instance\n",
        "NB.fit(X_tr, y_tr) # model training\n"
      ],
      "metadata": {
        "colab": {
          "base_uri": "https://localhost:8080/",
          "height": 75
        },
        "id": "YfKxz8jg3T0x",
        "outputId": "6302157b-ca43-4f60-ed2b-310990630bdd"
      },
      "execution_count": null,
      "outputs": [
        {
          "output_type": "execute_result",
          "data": {
            "text/plain": [
              "GaussianNB()"
            ],
            "text/html": [
              "<style>#sk-container-id-1 {color: black;background-color: white;}#sk-container-id-1 pre{padding: 0;}#sk-container-id-1 div.sk-toggleable {background-color: white;}#sk-container-id-1 label.sk-toggleable__label {cursor: pointer;display: block;width: 100%;margin-bottom: 0;padding: 0.3em;box-sizing: border-box;text-align: center;}#sk-container-id-1 label.sk-toggleable__label-arrow:before {content: \"▸\";float: left;margin-right: 0.25em;color: #696969;}#sk-container-id-1 label.sk-toggleable__label-arrow:hover:before {color: black;}#sk-container-id-1 div.sk-estimator:hover label.sk-toggleable__label-arrow:before {color: black;}#sk-container-id-1 div.sk-toggleable__content {max-height: 0;max-width: 0;overflow: hidden;text-align: left;background-color: #f0f8ff;}#sk-container-id-1 div.sk-toggleable__content pre {margin: 0.2em;color: black;border-radius: 0.25em;background-color: #f0f8ff;}#sk-container-id-1 input.sk-toggleable__control:checked~div.sk-toggleable__content {max-height: 200px;max-width: 100%;overflow: auto;}#sk-container-id-1 input.sk-toggleable__control:checked~label.sk-toggleable__label-arrow:before {content: \"▾\";}#sk-container-id-1 div.sk-estimator input.sk-toggleable__control:checked~label.sk-toggleable__label {background-color: #d4ebff;}#sk-container-id-1 div.sk-label input.sk-toggleable__control:checked~label.sk-toggleable__label {background-color: #d4ebff;}#sk-container-id-1 input.sk-hidden--visually {border: 0;clip: rect(1px 1px 1px 1px);clip: rect(1px, 1px, 1px, 1px);height: 1px;margin: -1px;overflow: hidden;padding: 0;position: absolute;width: 1px;}#sk-container-id-1 div.sk-estimator {font-family: monospace;background-color: #f0f8ff;border: 1px dotted black;border-radius: 0.25em;box-sizing: border-box;margin-bottom: 0.5em;}#sk-container-id-1 div.sk-estimator:hover {background-color: #d4ebff;}#sk-container-id-1 div.sk-parallel-item::after {content: \"\";width: 100%;border-bottom: 1px solid gray;flex-grow: 1;}#sk-container-id-1 div.sk-label:hover label.sk-toggleable__label {background-color: #d4ebff;}#sk-container-id-1 div.sk-serial::before {content: \"\";position: absolute;border-left: 1px solid gray;box-sizing: border-box;top: 0;bottom: 0;left: 50%;z-index: 0;}#sk-container-id-1 div.sk-serial {display: flex;flex-direction: column;align-items: center;background-color: white;padding-right: 0.2em;padding-left: 0.2em;position: relative;}#sk-container-id-1 div.sk-item {position: relative;z-index: 1;}#sk-container-id-1 div.sk-parallel {display: flex;align-items: stretch;justify-content: center;background-color: white;position: relative;}#sk-container-id-1 div.sk-item::before, #sk-container-id-1 div.sk-parallel-item::before {content: \"\";position: absolute;border-left: 1px solid gray;box-sizing: border-box;top: 0;bottom: 0;left: 50%;z-index: -1;}#sk-container-id-1 div.sk-parallel-item {display: flex;flex-direction: column;z-index: 1;position: relative;background-color: white;}#sk-container-id-1 div.sk-parallel-item:first-child::after {align-self: flex-end;width: 50%;}#sk-container-id-1 div.sk-parallel-item:last-child::after {align-self: flex-start;width: 50%;}#sk-container-id-1 div.sk-parallel-item:only-child::after {width: 0;}#sk-container-id-1 div.sk-dashed-wrapped {border: 1px dashed gray;margin: 0 0.4em 0.5em 0.4em;box-sizing: border-box;padding-bottom: 0.4em;background-color: white;}#sk-container-id-1 div.sk-label label {font-family: monospace;font-weight: bold;display: inline-block;line-height: 1.2em;}#sk-container-id-1 div.sk-label-container {text-align: center;}#sk-container-id-1 div.sk-container {/* jupyter's `normalize.less` sets `[hidden] { display: none; }` but bootstrap.min.css set `[hidden] { display: none !important; }` so we also need the `!important` here to be able to override the default hidden behavior on the sphinx rendered scikit-learn.org. See: https://github.com/scikit-learn/scikit-learn/issues/21755 */display: inline-block !important;position: relative;}#sk-container-id-1 div.sk-text-repr-fallback {display: none;}</style><div id=\"sk-container-id-1\" class=\"sk-top-container\"><div class=\"sk-text-repr-fallback\"><pre>GaussianNB()</pre><b>In a Jupyter environment, please rerun this cell to show the HTML representation or trust the notebook. <br />On GitHub, the HTML representation is unable to render, please try loading this page with nbviewer.org.</b></div><div class=\"sk-container\" hidden><div class=\"sk-item\"><div class=\"sk-estimator sk-toggleable\"><input class=\"sk-toggleable__control sk-hidden--visually\" id=\"sk-estimator-id-1\" type=\"checkbox\" checked><label for=\"sk-estimator-id-1\" class=\"sk-toggleable__label sk-toggleable__label-arrow\">GaussianNB</label><div class=\"sk-toggleable__content\"><pre>GaussianNB()</pre></div></div></div></div></div>"
            ]
          },
          "metadata": {},
          "execution_count": 91
        }
      ]
    },
    {
      "cell_type": "code",
      "source": [
        "# training set prediction (training set error)\n",
        "# Printing the model metrics using the previously defined function \"print_model_metrics\"\n",
        "\n",
        "y_pred_NB_tr = NB.predict(X_tr) # predicted output\n",
        "NB_acc_tr, NB_recall_tr, NB_prec_tr, NB_f1_tr = print_model_metrics(y_tr, y_pred_NB_tr)"
      ],
      "metadata": {
        "colab": {
          "base_uri": "https://localhost:8080/"
        },
        "id": "bSXxfxRRFX19",
        "outputId": "2d7e3d2c-0b65-456e-8fe5-558df455d42e"
      },
      "execution_count": null,
      "outputs": [
        {
          "output_type": "stream",
          "name": "stdout",
          "text": [
            "Model accuracy is: 0.61\n",
            "Model recall is: 0.61\n",
            "Model precision is: 0.69\n",
            "Model F1 score is: 0.57\n"
          ]
        }
      ]
    },
    {
      "cell_type": "markdown",
      "source": [
        "Prediction"
      ],
      "metadata": {
        "id": "-DvNnxcskOCe"
      }
    },
    {
      "cell_type": "code",
      "source": [
        "# validation set prediction (validation set error)\n",
        "y_pred_NB = NB.predict(X_valid) # predicted output\n",
        "NB_acc, NB_recall, NB_prec, NB_f1 = print_model_metrics(y_valid, y_pred_NB)"
      ],
      "metadata": {
        "colab": {
          "base_uri": "https://localhost:8080/"
        },
        "id": "5IzVcn9t3oP7",
        "outputId": "f7434770-3445-4b52-b6f4-b10670375faa"
      },
      "execution_count": null,
      "outputs": [
        {
          "output_type": "stream",
          "name": "stdout",
          "text": [
            "Model accuracy is: 0.27\n",
            "Model recall is: 0.43\n",
            "Model precision is: 0.32\n",
            "Model F1 score is: 0.23\n"
          ]
        }
      ]
    },
    {
      "cell_type": "code",
      "source": [
        "print(classification_report(y_valid, y_pred_NB)) # classification report for the validatin set results"
      ],
      "metadata": {
        "colab": {
          "base_uri": "https://localhost:8080/"
        },
        "id": "LqYLsQUuErnp",
        "outputId": "8168cfac-414c-49ed-bc98-12e4032ebfd1"
      },
      "execution_count": null,
      "outputs": [
        {
          "output_type": "stream",
          "name": "stdout",
          "text": [
            "              precision    recall  f1-score   support\n",
            "\n",
            "         2.0       0.05      0.67      0.10         3\n",
            "         3.0       0.15      0.63      0.24        27\n",
            "         4.0       0.72      0.22      0.34       155\n",
            "         5.0       0.37      0.21      0.26        34\n",
            "\n",
            "    accuracy                           0.27       219\n",
            "   macro avg       0.32      0.43      0.23       219\n",
            "weighted avg       0.59      0.27      0.31       219\n",
            "\n"
          ]
        }
      ]
    },
    {
      "cell_type": "markdown",
      "source": [
        "Its clear that Naive Bayes is underfitting as both the training score and validation score are both very low 😕, this maybe due to the assumption the Naive Bayes model makes, that the features are independant, isn't suitable for this dataset. As we have seen in the pair-wise correlation matrix there were some correlated features. Since there are no hyperparameters for this model class to be tried we will now try another model architecture which is the SVM."
      ],
      "metadata": {
        "id": "bL2saGenH0vA"
      }
    },
    {
      "cell_type": "markdown",
      "source": [
        "## *Model 4: One Versus Rest*"
      ],
      "metadata": {
        "id": "x6CuCtaI7AGu"
      }
    },
    {
      "cell_type": "markdown",
      "source": [
        "We will first try this manual OvR classifier using SVC"
      ],
      "metadata": {
        "id": "iXWIy0_iUaQ0"
      }
    },
    {
      "cell_type": "code",
      "source": [
        "from sklearn.multiclass import OneVsRestClassifier\n",
        "from sklearn.svm import SVC\n",
        "\n",
        "ovr = OneVsRestClassifier(SVC(class_weight = \"balanced\", C = 10))\n",
        "ovr.fit(X_tr, y_tr)\n",
        "\n",
        "# Prediction\n",
        "y_pred_ovr = ovr.predict(X_valid)\n",
        "\n",
        "print(classification_report(y_valid, y_pred_ovr))"
      ],
      "metadata": {
        "colab": {
          "base_uri": "https://localhost:8080/"
        },
        "id": "PDArU2Hb6_Ry",
        "outputId": "8eb55379-2c35-4613-c90a-2f8bf4a5bd47"
      },
      "execution_count": null,
      "outputs": [
        {
          "output_type": "stream",
          "name": "stdout",
          "text": [
            "              precision    recall  f1-score   support\n",
            "\n",
            "         1.0       1.00      1.00      1.00         1\n",
            "         2.0       0.67      0.50      0.57         4\n",
            "         3.0       0.33      0.35      0.34        40\n",
            "         4.0       0.78      0.78      0.78       232\n",
            "         5.0       0.39      0.37      0.38        51\n",
            "\n",
            "    accuracy                           0.66       328\n",
            "   macro avg       0.63      0.60      0.61       328\n",
            "weighted avg       0.67      0.66      0.67       328\n",
            "\n"
          ]
        }
      ]
    },
    {
      "cell_type": "code",
      "source": [
        "# Printing the model metrics using the previously defined function \"print_model_metrics\" at section 4 for testing data.\n",
        "ovr_acc, ovr_recall, ovr_prec, ovr_f1 = print_model_metrics(y_valid, y_pred_ovr)"
      ],
      "metadata": {
        "colab": {
          "base_uri": "https://localhost:8080/"
        },
        "id": "Z9P6JTsf7WSk",
        "outputId": "61ede41d-0733-45da-9a79-46937e09addf"
      },
      "execution_count": null,
      "outputs": [
        {
          "output_type": "stream",
          "name": "stdout",
          "text": [
            "Model accuracy is: 0.66\n",
            "Model recall is: 0.60\n",
            "Model precision is: 0.63\n",
            "Model F1 score is: 0.61\n"
          ]
        }
      ]
    },
    {
      "cell_type": "markdown",
      "source": [
        "Astonishingly this is the best model performance so far where it acheived 0.76 on the public leaderboard in kaggle without hyperparameters tuning 😅 so we will experiment more with SVC as they seem promising 🧐"
      ],
      "metadata": {
        "id": "lgUIyl30Um11"
      }
    },
    {
      "cell_type": "markdown",
      "source": [
        "## *Model 5 & 6: SVC with Grid Search*"
      ],
      "metadata": {
        "id": "Wd7qYIrqjWj5"
      }
    },
    {
      "cell_type": "markdown",
      "source": [
        "1st SVC Model"
      ],
      "metadata": {
        "id": "JyN3wXqrP42V"
      }
    },
    {
      "cell_type": "markdown",
      "source": [
        "Training"
      ],
      "metadata": {
        "id": "Of2zG6u8j_jQ"
      }
    },
    {
      "cell_type": "code",
      "source": [
        "from sklearn.svm import SVC\n",
        "from sklearn.model_selection import GridSearchCV\n",
        "\n",
        "svm_model = SVC() # model instance to be used by grid search\n",
        "\n",
        "# hyperparameters seacrh space\n",
        "params = {\"kernel\": (\"linear\", \"rbf\", \"poly\"),\n",
        "          \"gamma\": (\"scale\", \"auto\"),\n",
        "          \"C\": [8,9],\n",
        "          \"degree\": [2,3]}\n",
        "\n",
        "# svm grid search instance\n",
        "svm_grid = GridSearchCV(estimator=svm_model,\n",
        "                        param_grid=params,\n",
        "                        scoring=\"f1_macro\",\n",
        "                        cv=5)\n",
        "\n",
        "svm_grid.fit(X_tr, y_tr) # model training with optimal hyperparameters found"
      ],
      "metadata": {
        "colab": {
          "base_uri": "https://localhost:8080/",
          "height": 118
        },
        "id": "kTm_pcIjjZhC",
        "outputId": "350d9a01-920f-4b4a-de84-bfa2042ff5ea"
      },
      "execution_count": null,
      "outputs": [
        {
          "output_type": "execute_result",
          "data": {
            "text/plain": [
              "GridSearchCV(cv=5, estimator=SVC(),\n",
              "             param_grid={'C': [8, 9], 'degree': [2, 3],\n",
              "                         'gamma': ('scale', 'auto'),\n",
              "                         'kernel': ('linear', 'rbf', 'poly')},\n",
              "             scoring='f1_macro')"
            ],
            "text/html": [
              "<style>#sk-container-id-5 {color: black;background-color: white;}#sk-container-id-5 pre{padding: 0;}#sk-container-id-5 div.sk-toggleable {background-color: white;}#sk-container-id-5 label.sk-toggleable__label {cursor: pointer;display: block;width: 100%;margin-bottom: 0;padding: 0.3em;box-sizing: border-box;text-align: center;}#sk-container-id-5 label.sk-toggleable__label-arrow:before {content: \"▸\";float: left;margin-right: 0.25em;color: #696969;}#sk-container-id-5 label.sk-toggleable__label-arrow:hover:before {color: black;}#sk-container-id-5 div.sk-estimator:hover label.sk-toggleable__label-arrow:before {color: black;}#sk-container-id-5 div.sk-toggleable__content {max-height: 0;max-width: 0;overflow: hidden;text-align: left;background-color: #f0f8ff;}#sk-container-id-5 div.sk-toggleable__content pre {margin: 0.2em;color: black;border-radius: 0.25em;background-color: #f0f8ff;}#sk-container-id-5 input.sk-toggleable__control:checked~div.sk-toggleable__content {max-height: 200px;max-width: 100%;overflow: auto;}#sk-container-id-5 input.sk-toggleable__control:checked~label.sk-toggleable__label-arrow:before {content: \"▾\";}#sk-container-id-5 div.sk-estimator input.sk-toggleable__control:checked~label.sk-toggleable__label {background-color: #d4ebff;}#sk-container-id-5 div.sk-label input.sk-toggleable__control:checked~label.sk-toggleable__label {background-color: #d4ebff;}#sk-container-id-5 input.sk-hidden--visually {border: 0;clip: rect(1px 1px 1px 1px);clip: rect(1px, 1px, 1px, 1px);height: 1px;margin: -1px;overflow: hidden;padding: 0;position: absolute;width: 1px;}#sk-container-id-5 div.sk-estimator {font-family: monospace;background-color: #f0f8ff;border: 1px dotted black;border-radius: 0.25em;box-sizing: border-box;margin-bottom: 0.5em;}#sk-container-id-5 div.sk-estimator:hover {background-color: #d4ebff;}#sk-container-id-5 div.sk-parallel-item::after {content: \"\";width: 100%;border-bottom: 1px solid gray;flex-grow: 1;}#sk-container-id-5 div.sk-label:hover label.sk-toggleable__label {background-color: #d4ebff;}#sk-container-id-5 div.sk-serial::before {content: \"\";position: absolute;border-left: 1px solid gray;box-sizing: border-box;top: 0;bottom: 0;left: 50%;z-index: 0;}#sk-container-id-5 div.sk-serial {display: flex;flex-direction: column;align-items: center;background-color: white;padding-right: 0.2em;padding-left: 0.2em;position: relative;}#sk-container-id-5 div.sk-item {position: relative;z-index: 1;}#sk-container-id-5 div.sk-parallel {display: flex;align-items: stretch;justify-content: center;background-color: white;position: relative;}#sk-container-id-5 div.sk-item::before, #sk-container-id-5 div.sk-parallel-item::before {content: \"\";position: absolute;border-left: 1px solid gray;box-sizing: border-box;top: 0;bottom: 0;left: 50%;z-index: -1;}#sk-container-id-5 div.sk-parallel-item {display: flex;flex-direction: column;z-index: 1;position: relative;background-color: white;}#sk-container-id-5 div.sk-parallel-item:first-child::after {align-self: flex-end;width: 50%;}#sk-container-id-5 div.sk-parallel-item:last-child::after {align-self: flex-start;width: 50%;}#sk-container-id-5 div.sk-parallel-item:only-child::after {width: 0;}#sk-container-id-5 div.sk-dashed-wrapped {border: 1px dashed gray;margin: 0 0.4em 0.5em 0.4em;box-sizing: border-box;padding-bottom: 0.4em;background-color: white;}#sk-container-id-5 div.sk-label label {font-family: monospace;font-weight: bold;display: inline-block;line-height: 1.2em;}#sk-container-id-5 div.sk-label-container {text-align: center;}#sk-container-id-5 div.sk-container {/* jupyter's `normalize.less` sets `[hidden] { display: none; }` but bootstrap.min.css set `[hidden] { display: none !important; }` so we also need the `!important` here to be able to override the default hidden behavior on the sphinx rendered scikit-learn.org. See: https://github.com/scikit-learn/scikit-learn/issues/21755 */display: inline-block !important;position: relative;}#sk-container-id-5 div.sk-text-repr-fallback {display: none;}</style><div id=\"sk-container-id-5\" class=\"sk-top-container\"><div class=\"sk-text-repr-fallback\"><pre>GridSearchCV(cv=5, estimator=SVC(),\n",
              "             param_grid={&#x27;C&#x27;: [8, 9], &#x27;degree&#x27;: [2, 3],\n",
              "                         &#x27;gamma&#x27;: (&#x27;scale&#x27;, &#x27;auto&#x27;),\n",
              "                         &#x27;kernel&#x27;: (&#x27;linear&#x27;, &#x27;rbf&#x27;, &#x27;poly&#x27;)},\n",
              "             scoring=&#x27;f1_macro&#x27;)</pre><b>In a Jupyter environment, please rerun this cell to show the HTML representation or trust the notebook. <br />On GitHub, the HTML representation is unable to render, please try loading this page with nbviewer.org.</b></div><div class=\"sk-container\" hidden><div class=\"sk-item sk-dashed-wrapped\"><div class=\"sk-label-container\"><div class=\"sk-label sk-toggleable\"><input class=\"sk-toggleable__control sk-hidden--visually\" id=\"sk-estimator-id-13\" type=\"checkbox\" ><label for=\"sk-estimator-id-13\" class=\"sk-toggleable__label sk-toggleable__label-arrow\">GridSearchCV</label><div class=\"sk-toggleable__content\"><pre>GridSearchCV(cv=5, estimator=SVC(),\n",
              "             param_grid={&#x27;C&#x27;: [8, 9], &#x27;degree&#x27;: [2, 3],\n",
              "                         &#x27;gamma&#x27;: (&#x27;scale&#x27;, &#x27;auto&#x27;),\n",
              "                         &#x27;kernel&#x27;: (&#x27;linear&#x27;, &#x27;rbf&#x27;, &#x27;poly&#x27;)},\n",
              "             scoring=&#x27;f1_macro&#x27;)</pre></div></div></div><div class=\"sk-parallel\"><div class=\"sk-parallel-item\"><div class=\"sk-item\"><div class=\"sk-label-container\"><div class=\"sk-label sk-toggleable\"><input class=\"sk-toggleable__control sk-hidden--visually\" id=\"sk-estimator-id-14\" type=\"checkbox\" ><label for=\"sk-estimator-id-14\" class=\"sk-toggleable__label sk-toggleable__label-arrow\">estimator: SVC</label><div class=\"sk-toggleable__content\"><pre>SVC()</pre></div></div></div><div class=\"sk-serial\"><div class=\"sk-item\"><div class=\"sk-estimator sk-toggleable\"><input class=\"sk-toggleable__control sk-hidden--visually\" id=\"sk-estimator-id-15\" type=\"checkbox\" ><label for=\"sk-estimator-id-15\" class=\"sk-toggleable__label sk-toggleable__label-arrow\">SVC</label><div class=\"sk-toggleable__content\"><pre>SVC()</pre></div></div></div></div></div></div></div></div></div></div>"
            ]
          },
          "metadata": {},
          "execution_count": 77
        }
      ]
    },
    {
      "cell_type": "code",
      "source": [
        "# Printing best hyperparameters found that corresponds to the best model\n",
        "svm_grid.best_params_"
      ],
      "metadata": {
        "colab": {
          "base_uri": "https://localhost:8080/"
        },
        "id": "araaUgMljhj5",
        "outputId": "555e9075-4c69-4c08-9691-6f4cb8db11ca"
      },
      "execution_count": null,
      "outputs": [
        {
          "output_type": "execute_result",
          "data": {
            "text/plain": [
              "{'C': 8, 'degree': 2, 'gamma': 'scale', 'kernel': 'rbf'}"
            ]
          },
          "metadata": {},
          "execution_count": 78
        }
      ]
    },
    {
      "cell_type": "code",
      "source": [
        "# Prining the best hyperparameter model score on the chosen \"scoring metric\" which is the f1 macro score\n",
        "svm_grid.best_score_"
      ],
      "metadata": {
        "colab": {
          "base_uri": "https://localhost:8080/"
        },
        "id": "30zq4tTTjvyC",
        "outputId": "28f7f8b7-ae59-442e-b889-bb202727253c"
      },
      "execution_count": null,
      "outputs": [
        {
          "output_type": "execute_result",
          "data": {
            "text/plain": [
              "0.9217977845471566"
            ]
          },
          "metadata": {},
          "execution_count": 79
        }
      ]
    },
    {
      "cell_type": "markdown",
      "source": [
        "Prediction"
      ],
      "metadata": {
        "id": "QbnvxzJlkBw6"
      }
    },
    {
      "cell_type": "code",
      "source": [
        "# Prediction\n",
        "y_pred_svm = svm_grid.predict(X_valid)\n",
        "print(classification_report(y_valid, y_pred_svm))"
      ],
      "metadata": {
        "colab": {
          "base_uri": "https://localhost:8080/"
        },
        "id": "48Ea-RlTkhT4",
        "outputId": "61d51737-dc40-4dc5-fdfa-e17848876101"
      },
      "execution_count": null,
      "outputs": [
        {
          "output_type": "stream",
          "name": "stdout",
          "text": [
            "              precision    recall  f1-score   support\n",
            "\n",
            "         1.0       1.00      1.00      1.00         1\n",
            "         2.0       0.67      0.50      0.57         4\n",
            "         3.0       0.27      0.30      0.29        40\n",
            "         4.0       0.78      0.80      0.79       232\n",
            "         5.0       0.40      0.33      0.36        51\n",
            "\n",
            "    accuracy                           0.66       328\n",
            "   macro avg       0.62      0.59      0.60       328\n",
            "weighted avg       0.66      0.66      0.66       328\n",
            "\n"
          ]
        }
      ]
    },
    {
      "cell_type": "code",
      "source": [
        "# Printing the model metrics using the previously defined function \"print_model_metrics\" at section 4 for testing data.\n",
        "svm_acc, svm_recall, svm_prec, svm_f1 = print_model_metrics(y_valid, y_pred_svm)"
      ],
      "metadata": {
        "colab": {
          "base_uri": "https://localhost:8080/"
        },
        "id": "VxuQpxrZj4av",
        "outputId": "ce2ea32d-4b8c-4f20-97f7-138d70a553eb"
      },
      "execution_count": null,
      "outputs": [
        {
          "output_type": "stream",
          "name": "stdout",
          "text": [
            "Model accuracy is: 0.66\n",
            "Model recall is: 0.59\n",
            "Model precision is: 0.62\n",
            "Model F1 score is: 0.60\n"
          ]
        }
      ]
    },
    {
      "cell_type": "markdown",
      "source": [
        "The SVC model here seems to be overfitting to the training data as the mean cross-validation f1 score is 92% while the mean testing f1 score is 60% 😣 so will try another set of hyperparameters ranges in aim of reducing this overfitting, mainly we will try to decrease the hyperparameter C as it is inversely proportional to the regularization."
      ],
      "metadata": {
        "id": "MtwoESozNr33"
      }
    },
    {
      "cell_type": "markdown",
      "source": [
        "2nd SVC Model"
      ],
      "metadata": {
        "id": "g9SZDuPcP0B-"
      }
    },
    {
      "cell_type": "markdown",
      "source": [
        "Training"
      ],
      "metadata": {
        "id": "FDiilzbOkEO0"
      }
    },
    {
      "cell_type": "code",
      "source": [
        "from sklearn.svm import SVC\n",
        "from sklearn.model_selection import GridSearchCV\n",
        "\n",
        "svm_model = SVC() # model instance to be used by grid search\n",
        "\n",
        "# hyperparameters seacrh space\n",
        "params = {\"kernel\": (\"linear\", \"rbf\", \"poly\"),\n",
        "          \"gamma\": (\"scale\", \"auto\"),\n",
        "          \"C\": [0.05, 0.1, 0.5, 1],\n",
        "          \"degree\": [2,3]}\n",
        "\n",
        "# svm grid search instance\n",
        "svm_grid = GridSearchCV(estimator=svm_model,\n",
        "                        param_grid=params,\n",
        "                        scoring=\"f1_macro\",\n",
        "                        cv=5)\n",
        "\n",
        "svm_grid.fit(X_tr, y_tr) # model training with optimal hyperparameters found"
      ],
      "metadata": {
        "colab": {
          "base_uri": "https://localhost:8080/",
          "height": 118
        },
        "outputId": "a4c450b2-a761-404e-8ff3-353d839af0c1",
        "id": "OJRr9d6pQDuh"
      },
      "execution_count": null,
      "outputs": [
        {
          "output_type": "execute_result",
          "data": {
            "text/plain": [
              "GridSearchCV(cv=5, estimator=SVC(),\n",
              "             param_grid={'C': [0.05, 0.1, 0.5, 1], 'degree': [2, 3],\n",
              "                         'gamma': ('scale', 'auto'),\n",
              "                         'kernel': ('linear', 'rbf', 'poly')},\n",
              "             scoring='f1_macro')"
            ],
            "text/html": [
              "<style>#sk-container-id-48 {color: black;background-color: white;}#sk-container-id-48 pre{padding: 0;}#sk-container-id-48 div.sk-toggleable {background-color: white;}#sk-container-id-48 label.sk-toggleable__label {cursor: pointer;display: block;width: 100%;margin-bottom: 0;padding: 0.3em;box-sizing: border-box;text-align: center;}#sk-container-id-48 label.sk-toggleable__label-arrow:before {content: \"▸\";float: left;margin-right: 0.25em;color: #696969;}#sk-container-id-48 label.sk-toggleable__label-arrow:hover:before {color: black;}#sk-container-id-48 div.sk-estimator:hover label.sk-toggleable__label-arrow:before {color: black;}#sk-container-id-48 div.sk-toggleable__content {max-height: 0;max-width: 0;overflow: hidden;text-align: left;background-color: #f0f8ff;}#sk-container-id-48 div.sk-toggleable__content pre {margin: 0.2em;color: black;border-radius: 0.25em;background-color: #f0f8ff;}#sk-container-id-48 input.sk-toggleable__control:checked~div.sk-toggleable__content {max-height: 200px;max-width: 100%;overflow: auto;}#sk-container-id-48 input.sk-toggleable__control:checked~label.sk-toggleable__label-arrow:before {content: \"▾\";}#sk-container-id-48 div.sk-estimator input.sk-toggleable__control:checked~label.sk-toggleable__label {background-color: #d4ebff;}#sk-container-id-48 div.sk-label input.sk-toggleable__control:checked~label.sk-toggleable__label {background-color: #d4ebff;}#sk-container-id-48 input.sk-hidden--visually {border: 0;clip: rect(1px 1px 1px 1px);clip: rect(1px, 1px, 1px, 1px);height: 1px;margin: -1px;overflow: hidden;padding: 0;position: absolute;width: 1px;}#sk-container-id-48 div.sk-estimator {font-family: monospace;background-color: #f0f8ff;border: 1px dotted black;border-radius: 0.25em;box-sizing: border-box;margin-bottom: 0.5em;}#sk-container-id-48 div.sk-estimator:hover {background-color: #d4ebff;}#sk-container-id-48 div.sk-parallel-item::after {content: \"\";width: 100%;border-bottom: 1px solid gray;flex-grow: 1;}#sk-container-id-48 div.sk-label:hover label.sk-toggleable__label {background-color: #d4ebff;}#sk-container-id-48 div.sk-serial::before {content: \"\";position: absolute;border-left: 1px solid gray;box-sizing: border-box;top: 0;bottom: 0;left: 50%;z-index: 0;}#sk-container-id-48 div.sk-serial {display: flex;flex-direction: column;align-items: center;background-color: white;padding-right: 0.2em;padding-left: 0.2em;position: relative;}#sk-container-id-48 div.sk-item {position: relative;z-index: 1;}#sk-container-id-48 div.sk-parallel {display: flex;align-items: stretch;justify-content: center;background-color: white;position: relative;}#sk-container-id-48 div.sk-item::before, #sk-container-id-48 div.sk-parallel-item::before {content: \"\";position: absolute;border-left: 1px solid gray;box-sizing: border-box;top: 0;bottom: 0;left: 50%;z-index: -1;}#sk-container-id-48 div.sk-parallel-item {display: flex;flex-direction: column;z-index: 1;position: relative;background-color: white;}#sk-container-id-48 div.sk-parallel-item:first-child::after {align-self: flex-end;width: 50%;}#sk-container-id-48 div.sk-parallel-item:last-child::after {align-self: flex-start;width: 50%;}#sk-container-id-48 div.sk-parallel-item:only-child::after {width: 0;}#sk-container-id-48 div.sk-dashed-wrapped {border: 1px dashed gray;margin: 0 0.4em 0.5em 0.4em;box-sizing: border-box;padding-bottom: 0.4em;background-color: white;}#sk-container-id-48 div.sk-label label {font-family: monospace;font-weight: bold;display: inline-block;line-height: 1.2em;}#sk-container-id-48 div.sk-label-container {text-align: center;}#sk-container-id-48 div.sk-container {/* jupyter's `normalize.less` sets `[hidden] { display: none; }` but bootstrap.min.css set `[hidden] { display: none !important; }` so we also need the `!important` here to be able to override the default hidden behavior on the sphinx rendered scikit-learn.org. See: https://github.com/scikit-learn/scikit-learn/issues/21755 */display: inline-block !important;position: relative;}#sk-container-id-48 div.sk-text-repr-fallback {display: none;}</style><div id=\"sk-container-id-48\" class=\"sk-top-container\"><div class=\"sk-text-repr-fallback\"><pre>GridSearchCV(cv=5, estimator=SVC(),\n",
              "             param_grid={&#x27;C&#x27;: [0.05, 0.1, 0.5, 1], &#x27;degree&#x27;: [2, 3],\n",
              "                         &#x27;gamma&#x27;: (&#x27;scale&#x27;, &#x27;auto&#x27;),\n",
              "                         &#x27;kernel&#x27;: (&#x27;linear&#x27;, &#x27;rbf&#x27;, &#x27;poly&#x27;)},\n",
              "             scoring=&#x27;f1_macro&#x27;)</pre><b>In a Jupyter environment, please rerun this cell to show the HTML representation or trust the notebook. <br />On GitHub, the HTML representation is unable to render, please try loading this page with nbviewer.org.</b></div><div class=\"sk-container\" hidden><div class=\"sk-item sk-dashed-wrapped\"><div class=\"sk-label-container\"><div class=\"sk-label sk-toggleable\"><input class=\"sk-toggleable__control sk-hidden--visually\" id=\"sk-estimator-id-142\" type=\"checkbox\" ><label for=\"sk-estimator-id-142\" class=\"sk-toggleable__label sk-toggleable__label-arrow\">GridSearchCV</label><div class=\"sk-toggleable__content\"><pre>GridSearchCV(cv=5, estimator=SVC(),\n",
              "             param_grid={&#x27;C&#x27;: [0.05, 0.1, 0.5, 1], &#x27;degree&#x27;: [2, 3],\n",
              "                         &#x27;gamma&#x27;: (&#x27;scale&#x27;, &#x27;auto&#x27;),\n",
              "                         &#x27;kernel&#x27;: (&#x27;linear&#x27;, &#x27;rbf&#x27;, &#x27;poly&#x27;)},\n",
              "             scoring=&#x27;f1_macro&#x27;)</pre></div></div></div><div class=\"sk-parallel\"><div class=\"sk-parallel-item\"><div class=\"sk-item\"><div class=\"sk-label-container\"><div class=\"sk-label sk-toggleable\"><input class=\"sk-toggleable__control sk-hidden--visually\" id=\"sk-estimator-id-143\" type=\"checkbox\" ><label for=\"sk-estimator-id-143\" class=\"sk-toggleable__label sk-toggleable__label-arrow\">estimator: SVC</label><div class=\"sk-toggleable__content\"><pre>SVC()</pre></div></div></div><div class=\"sk-serial\"><div class=\"sk-item\"><div class=\"sk-estimator sk-toggleable\"><input class=\"sk-toggleable__control sk-hidden--visually\" id=\"sk-estimator-id-144\" type=\"checkbox\" ><label for=\"sk-estimator-id-144\" class=\"sk-toggleable__label sk-toggleable__label-arrow\">SVC</label><div class=\"sk-toggleable__content\"><pre>SVC()</pre></div></div></div></div></div></div></div></div></div></div>"
            ]
          },
          "metadata": {},
          "execution_count": 263
        }
      ]
    },
    {
      "cell_type": "code",
      "source": [
        "# Printing best hyperparameters found that corresponds to the best model\n",
        "svm_grid.best_params_"
      ],
      "metadata": {
        "colab": {
          "base_uri": "https://localhost:8080/"
        },
        "outputId": "97144c01-8c3c-43f8-b535-c2a29c4ecd69",
        "id": "shOk-1SXQG8l"
      },
      "execution_count": null,
      "outputs": [
        {
          "output_type": "execute_result",
          "data": {
            "text/plain": [
              "{'C': 1, 'degree': 3, 'gamma': 'scale', 'kernel': 'poly'}"
            ]
          },
          "metadata": {},
          "execution_count": 264
        }
      ]
    },
    {
      "cell_type": "code",
      "source": [
        "# Prining the best hyperparameter model score on the chosen \"scoring metric\" which is the f1 macro score\n",
        "svm_grid.best_score_"
      ],
      "metadata": {
        "colab": {
          "base_uri": "https://localhost:8080/"
        },
        "outputId": "e162cb06-1407-4594-a5af-a90500af392f",
        "id": "SKAXMICaQJKw"
      },
      "execution_count": null,
      "outputs": [
        {
          "output_type": "execute_result",
          "data": {
            "text/plain": [
              "0.9112692757987763"
            ]
          },
          "metadata": {},
          "execution_count": 265
        }
      ]
    },
    {
      "cell_type": "markdown",
      "source": [
        "Prediction"
      ],
      "metadata": {
        "id": "sCTHnPbMkGEr"
      }
    },
    {
      "cell_type": "code",
      "source": [
        "# Prediction\n",
        "y_pred_svm = svm_grid.predict(X_valid)\n",
        "print(classification_report(y_valid, y_pred_svm))"
      ],
      "metadata": {
        "colab": {
          "base_uri": "https://localhost:8080/"
        },
        "outputId": "baac1ffc-4bf2-41df-a840-e6f73453c1a6",
        "id": "6dxpQhX1QLnD"
      },
      "execution_count": null,
      "outputs": [
        {
          "output_type": "stream",
          "name": "stdout",
          "text": [
            "              precision    recall  f1-score   support\n",
            "\n",
            "         2.0       0.33      0.33      0.33         3\n",
            "         3.0       0.20      0.22      0.21        27\n",
            "         4.0       0.78      0.80      0.79       155\n",
            "         5.0       0.38      0.29      0.33        34\n",
            "\n",
            "    accuracy                           0.64       219\n",
            "   macro avg       0.42      0.41      0.42       219\n",
            "weighted avg       0.64      0.64      0.64       219\n",
            "\n"
          ]
        }
      ]
    },
    {
      "cell_type": "code",
      "source": [
        "# Printing the model metrics using the previously defined function \"print_model_metrics\" at section 4 for testing data.\n",
        "svm_acc, svm_recall, svm_prec, svm_f1 = print_model_metrics(y_valid, y_pred_svm)"
      ],
      "metadata": {
        "colab": {
          "base_uri": "https://localhost:8080/"
        },
        "outputId": "24d1deed-eb5b-499b-bb97-9a8b16f87610",
        "id": "LPUbCOb5QO3U"
      },
      "execution_count": null,
      "outputs": [
        {
          "output_type": "stream",
          "name": "stdout",
          "text": [
            "Model accuracy is: 0.64\n",
            "Model recall is: 0.41\n",
            "Model precision is: 0.42\n",
            "Model F1 score is: 0.42\n"
          ]
        }
      ]
    },
    {
      "cell_type": "markdown",
      "source": [
        "Now even with very small values of C (high regularization) the SVC model is still overfitting 90% vs 42% 😩. At this point I really believe that maybe there is an issue with the data as the models can't generalize to any unseen data, so maybe the undersampling with the tomek links has removed important records or maybe the oversampling is not representative of the real life testing dataset and there is miss match between the training and the testing sets. We will carry on experimenting with other algorithms with the same data processing used and if the case of overfitting still remains then we will try to use different data preprocessing for training hoping for better generalizability ❗️"
      ],
      "metadata": {
        "id": "qrptiJlnP8of"
      }
    },
    {
      "cell_type": "markdown",
      "source": [
        "Next we will try more advanced algorithms to tackle this stubborn dataset 👊"
      ],
      "metadata": {
        "id": "PbWe0L4FV_fG"
      }
    },
    {
      "cell_type": "markdown",
      "source": [
        "## *Model 7: Gradient Boosting Classifier with Grid Search*"
      ],
      "metadata": {
        "id": "2M7Js-BQyZ7W"
      }
    },
    {
      "cell_type": "markdown",
      "source": [
        "Training"
      ],
      "metadata": {
        "id": "KTbNPW6lj5ZV"
      }
    },
    {
      "cell_type": "code",
      "source": [
        "from sklearn.model_selection import GridSearchCV\n",
        "from sklearn.ensemble import GradientBoostingClassifier\n",
        "\n",
        "GBC = GradientBoostingClassifier(random_state =100) # model instance to be used by grid search\n",
        "\n",
        "# hyperparameters search space\n",
        "gbc_params = [{'loss': ['log_loss'],\n",
        "              'learning_rate': [0.1, 0.01, 0.001],\n",
        "              'n_estimators': [100, 250, 500],\n",
        "              'subsample': [0.8],\n",
        "              'max_depth': [3, 5, 7, 10]\n",
        "              }]\n",
        "\n",
        "# grid search instance to be fitted\n",
        "GBC_grid = GridSearchCV(estimator = GBC,\n",
        "                        param_grid = gbc_params,\n",
        "                        scoring = 'f1_macro',\n",
        "                        cv = 5)\n",
        "\n",
        "GBC_grid.fit(X_tr, y_tr) # model training with optimal hyperparameters found\n"
      ],
      "metadata": {
        "id": "oUYUH_UJKcJa"
      },
      "execution_count": null,
      "outputs": []
    },
    {
      "cell_type": "code",
      "source": [
        "best_parameters_GBC = GBC_grid.best_params_  # best hyperparameters found that corresponds to the best model\n",
        "best_f1_macro_GBC = GBC_grid.best_score_ # best model score (fitted by optimal hyperparameters)\n",
        "print(\"Best f1 score macro: {:.2f} %\".format(best_f1_macro_GBC*100))\n",
        "print(\"Best Parameters:\", best_parameters_GBC)"
      ],
      "metadata": {
        "colab": {
          "base_uri": "https://localhost:8080/"
        },
        "id": "43gWuzdPNlgZ",
        "outputId": "8491eda4-0efd-48b2-d75f-1bdffce60939"
      },
      "execution_count": null,
      "outputs": [
        {
          "metadata": {
            "tags": null
          },
          "name": "stdout",
          "output_type": "stream",
          "text": [
            "Best Accuracy: 93.70 %\n",
            "Best Parameters: {'learning_rate': 0.1, 'loss': 'log_loss', 'max_depth': 10, 'n_estimators': 250, 'subsample': 0.8}\n"
          ]
        }
      ]
    },
    {
      "cell_type": "markdown",
      "source": [
        "Prediction"
      ],
      "metadata": {
        "id": "EaNzT2hIj7bz"
      }
    },
    {
      "cell_type": "code",
      "source": [
        "# Prediction\n",
        "y_pred_GBC = GBC_grid.predict(X_valid) # predicted output\n",
        "print(classification_report(y_valid, y_pred_GBC))"
      ],
      "metadata": {
        "colab": {
          "base_uri": "https://localhost:8080/"
        },
        "id": "4-SuYsYuJynx",
        "outputId": "8c8f61ee-2268-4a68-820a-98021f167cbc"
      },
      "execution_count": null,
      "outputs": [
        {
          "output_type": "stream",
          "name": "stdout",
          "text": [
            "              precision    recall  f1-score   support\n",
            "\n",
            "         1.0       1.00      1.00      1.00         1\n",
            "         2.0       1.00      0.50      0.67         4\n",
            "         3.0       0.45      0.35      0.39        40\n",
            "         4.0       0.83      0.88      0.85       232\n",
            "         5.0       0.58      0.55      0.57        51\n",
            "\n",
            "    accuracy                           0.76       328\n",
            "   macro avg       0.77      0.65      0.70       328\n",
            "weighted avg       0.74      0.76      0.75       328\n",
            "\n"
          ]
        }
      ]
    },
    {
      "cell_type": "code",
      "source": [
        "# Printing the model metrics using the previously defined function \"print_model_metrics\" at section 4 for testing data.\n",
        "GBC_acc, GBC_recall, GBC_prec, GBC_f1 = print_model_metrics(y_valid, y_pred_GBC)"
      ],
      "metadata": {
        "colab": {
          "base_uri": "https://localhost:8080/"
        },
        "id": "MEq3KjopKAya",
        "outputId": "5a007df7-1cbf-4bae-8d85-062dfea5dacd"
      },
      "execution_count": null,
      "outputs": [
        {
          "output_type": "stream",
          "name": "stdout",
          "text": [
            "Model accuracy is: 0.76\n",
            "Model recall is: 0.65\n",
            "Model precision is: 0.77\n",
            "Model F1 score is: 0.70\n"
          ]
        }
      ]
    },
    {
      "cell_type": "markdown",
      "source": [
        "This model has excellent performance on the mean cross-validation f1 score being 93.7% but on the testing set it gives 70% and on kaggle public leaderboard it is just 73.64% so it is overfitting to the training data which supports may belief that there is an issue with the data but will keep this for the end. We will try another two algorithms and see if they can generalize."
      ],
      "metadata": {
        "id": "0nJh4-zpXhkB"
      }
    },
    {
      "cell_type": "markdown",
      "source": [
        "## *Model 8: XGBoost*"
      ],
      "metadata": {
        "id": "hIrM7HS3QUPR"
      }
    },
    {
      "cell_type": "markdown",
      "source": [
        "for XG boosting we need to change the target labels to be integer starting from zero so we will define a function to subtract 1 from the labels and convert it to integer and we will reverse these operations on the predicted lables at the end"
      ],
      "metadata": {
        "id": "Y63Mn14ZGa31"
      }
    },
    {
      "cell_type": "markdown",
      "source": [
        "model-specific preprocessing"
      ],
      "metadata": {
        "id": "D_uQmxwOjwda"
      }
    },
    {
      "cell_type": "code",
      "source": [
        "# function to change the target label to int and subtract 1\n",
        "def change_to_cat(label):\n",
        "    label = label - 1\n",
        "    label  = int(label)\n",
        "    return label\n"
      ],
      "metadata": {
        "id": "SwoxZqQ8YUSc"
      },
      "execution_count": null,
      "outputs": []
    },
    {
      "cell_type": "code",
      "source": [
        "y_tr = y_tr.apply(change_to_cat) # applying the function to the training labels vector\n"
      ],
      "metadata": {
        "id": "tunduhCsYr0u"
      },
      "execution_count": null,
      "outputs": []
    },
    {
      "cell_type": "code",
      "source": [
        "y_tr.value_counts() # checking if the target labels have changed"
      ],
      "metadata": {
        "colab": {
          "base_uri": "https://localhost:8080/"
        },
        "id": "ialMJa_k1gZf",
        "outputId": "61e06a9b-be61-46e4-f702-d347e49cae7a"
      },
      "execution_count": null,
      "outputs": [
        {
          "output_type": "execute_result",
          "data": {
            "text/plain": [
              "2    566\n",
              "3    566\n",
              "4    566\n",
              "1    566\n",
              "0    566\n",
              "Name: rating, dtype: int64"
            ]
          },
          "metadata": {},
          "execution_count": 99
        }
      ]
    },
    {
      "cell_type": "markdown",
      "source": [
        "Training"
      ],
      "metadata": {
        "id": "IzZoZZ-1j1Zy"
      }
    },
    {
      "cell_type": "code",
      "source": [
        "from xgboost import XGBClassifier\n",
        "\n",
        "XGB = XGBClassifier() # model instnace\n",
        "XGB.fit(X_tr, y_tr) # model training"
      ],
      "metadata": {
        "colab": {
          "base_uri": "https://localhost:8080/",
          "height": 248
        },
        "id": "PZmyq7xUQTcd",
        "outputId": "4b15ede8-ddb7-4b89-f764-e7a199b238f7"
      },
      "execution_count": null,
      "outputs": [
        {
          "output_type": "execute_result",
          "data": {
            "text/plain": [
              "XGBClassifier(base_score=None, booster=None, callbacks=None,\n",
              "              colsample_bylevel=None, colsample_bynode=None,\n",
              "              colsample_bytree=None, early_stopping_rounds=None,\n",
              "              enable_categorical=False, eval_metric=None, feature_types=None,\n",
              "              gamma=None, gpu_id=None, grow_policy=None, importance_type=None,\n",
              "              interaction_constraints=None, learning_rate=None, max_bin=None,\n",
              "              max_cat_threshold=None, max_cat_to_onehot=None,\n",
              "              max_delta_step=None, max_depth=None, max_leaves=None,\n",
              "              min_child_weight=None, missing=nan, monotone_constraints=None,\n",
              "              n_estimators=100, n_jobs=None, num_parallel_tree=None,\n",
              "              objective='multi:softprob', predictor=None, ...)"
            ],
            "text/html": [
              "<style>#sk-container-id-2 {color: black;background-color: white;}#sk-container-id-2 pre{padding: 0;}#sk-container-id-2 div.sk-toggleable {background-color: white;}#sk-container-id-2 label.sk-toggleable__label {cursor: pointer;display: block;width: 100%;margin-bottom: 0;padding: 0.3em;box-sizing: border-box;text-align: center;}#sk-container-id-2 label.sk-toggleable__label-arrow:before {content: \"▸\";float: left;margin-right: 0.25em;color: #696969;}#sk-container-id-2 label.sk-toggleable__label-arrow:hover:before {color: black;}#sk-container-id-2 div.sk-estimator:hover label.sk-toggleable__label-arrow:before {color: black;}#sk-container-id-2 div.sk-toggleable__content {max-height: 0;max-width: 0;overflow: hidden;text-align: left;background-color: #f0f8ff;}#sk-container-id-2 div.sk-toggleable__content pre {margin: 0.2em;color: black;border-radius: 0.25em;background-color: #f0f8ff;}#sk-container-id-2 input.sk-toggleable__control:checked~div.sk-toggleable__content {max-height: 200px;max-width: 100%;overflow: auto;}#sk-container-id-2 input.sk-toggleable__control:checked~label.sk-toggleable__label-arrow:before {content: \"▾\";}#sk-container-id-2 div.sk-estimator input.sk-toggleable__control:checked~label.sk-toggleable__label {background-color: #d4ebff;}#sk-container-id-2 div.sk-label input.sk-toggleable__control:checked~label.sk-toggleable__label {background-color: #d4ebff;}#sk-container-id-2 input.sk-hidden--visually {border: 0;clip: rect(1px 1px 1px 1px);clip: rect(1px, 1px, 1px, 1px);height: 1px;margin: -1px;overflow: hidden;padding: 0;position: absolute;width: 1px;}#sk-container-id-2 div.sk-estimator {font-family: monospace;background-color: #f0f8ff;border: 1px dotted black;border-radius: 0.25em;box-sizing: border-box;margin-bottom: 0.5em;}#sk-container-id-2 div.sk-estimator:hover {background-color: #d4ebff;}#sk-container-id-2 div.sk-parallel-item::after {content: \"\";width: 100%;border-bottom: 1px solid gray;flex-grow: 1;}#sk-container-id-2 div.sk-label:hover label.sk-toggleable__label {background-color: #d4ebff;}#sk-container-id-2 div.sk-serial::before {content: \"\";position: absolute;border-left: 1px solid gray;box-sizing: border-box;top: 0;bottom: 0;left: 50%;z-index: 0;}#sk-container-id-2 div.sk-serial {display: flex;flex-direction: column;align-items: center;background-color: white;padding-right: 0.2em;padding-left: 0.2em;position: relative;}#sk-container-id-2 div.sk-item {position: relative;z-index: 1;}#sk-container-id-2 div.sk-parallel {display: flex;align-items: stretch;justify-content: center;background-color: white;position: relative;}#sk-container-id-2 div.sk-item::before, #sk-container-id-2 div.sk-parallel-item::before {content: \"\";position: absolute;border-left: 1px solid gray;box-sizing: border-box;top: 0;bottom: 0;left: 50%;z-index: -1;}#sk-container-id-2 div.sk-parallel-item {display: flex;flex-direction: column;z-index: 1;position: relative;background-color: white;}#sk-container-id-2 div.sk-parallel-item:first-child::after {align-self: flex-end;width: 50%;}#sk-container-id-2 div.sk-parallel-item:last-child::after {align-self: flex-start;width: 50%;}#sk-container-id-2 div.sk-parallel-item:only-child::after {width: 0;}#sk-container-id-2 div.sk-dashed-wrapped {border: 1px dashed gray;margin: 0 0.4em 0.5em 0.4em;box-sizing: border-box;padding-bottom: 0.4em;background-color: white;}#sk-container-id-2 div.sk-label label {font-family: monospace;font-weight: bold;display: inline-block;line-height: 1.2em;}#sk-container-id-2 div.sk-label-container {text-align: center;}#sk-container-id-2 div.sk-container {/* jupyter's `normalize.less` sets `[hidden] { display: none; }` but bootstrap.min.css set `[hidden] { display: none !important; }` so we also need the `!important` here to be able to override the default hidden behavior on the sphinx rendered scikit-learn.org. See: https://github.com/scikit-learn/scikit-learn/issues/21755 */display: inline-block !important;position: relative;}#sk-container-id-2 div.sk-text-repr-fallback {display: none;}</style><div id=\"sk-container-id-2\" class=\"sk-top-container\"><div class=\"sk-text-repr-fallback\"><pre>XGBClassifier(base_score=None, booster=None, callbacks=None,\n",
              "              colsample_bylevel=None, colsample_bynode=None,\n",
              "              colsample_bytree=None, early_stopping_rounds=None,\n",
              "              enable_categorical=False, eval_metric=None, feature_types=None,\n",
              "              gamma=None, gpu_id=None, grow_policy=None, importance_type=None,\n",
              "              interaction_constraints=None, learning_rate=None, max_bin=None,\n",
              "              max_cat_threshold=None, max_cat_to_onehot=None,\n",
              "              max_delta_step=None, max_depth=None, max_leaves=None,\n",
              "              min_child_weight=None, missing=nan, monotone_constraints=None,\n",
              "              n_estimators=100, n_jobs=None, num_parallel_tree=None,\n",
              "              objective=&#x27;multi:softprob&#x27;, predictor=None, ...)</pre><b>In a Jupyter environment, please rerun this cell to show the HTML representation or trust the notebook. <br />On GitHub, the HTML representation is unable to render, please try loading this page with nbviewer.org.</b></div><div class=\"sk-container\" hidden><div class=\"sk-item\"><div class=\"sk-estimator sk-toggleable\"><input class=\"sk-toggleable__control sk-hidden--visually\" id=\"sk-estimator-id-2\" type=\"checkbox\" checked><label for=\"sk-estimator-id-2\" class=\"sk-toggleable__label sk-toggleable__label-arrow\">XGBClassifier</label><div class=\"sk-toggleable__content\"><pre>XGBClassifier(base_score=None, booster=None, callbacks=None,\n",
              "              colsample_bylevel=None, colsample_bynode=None,\n",
              "              colsample_bytree=None, early_stopping_rounds=None,\n",
              "              enable_categorical=False, eval_metric=None, feature_types=None,\n",
              "              gamma=None, gpu_id=None, grow_policy=None, importance_type=None,\n",
              "              interaction_constraints=None, learning_rate=None, max_bin=None,\n",
              "              max_cat_threshold=None, max_cat_to_onehot=None,\n",
              "              max_delta_step=None, max_depth=None, max_leaves=None,\n",
              "              min_child_weight=None, missing=nan, monotone_constraints=None,\n",
              "              n_estimators=100, n_jobs=None, num_parallel_tree=None,\n",
              "              objective=&#x27;multi:softprob&#x27;, predictor=None, ...)</pre></div></div></div></div></div>"
            ]
          },
          "metadata": {},
          "execution_count": 100
        }
      ]
    },
    {
      "cell_type": "markdown",
      "source": [
        "Prediction"
      ],
      "metadata": {
        "id": "aExG9knqjr05"
      }
    },
    {
      "cell_type": "code",
      "source": [
        "# Prediction\n",
        "y_pred_XGB = XGB.predict(X_valid) # validation dataset prediction\n",
        "\n",
        "#reversing the operations done before on the training label by adding 1 and converting to float\n",
        "y_pred_XGB = y_pred_XGB + 1\n",
        "y_pred_XGB = y_pred_XGB.astype(float)\n",
        "\n",
        "# Printing the model metrics using the previously defined function \"print_model_metrics\"\n",
        "print(classification_report(y_valid, y_pred_XGB))"
      ],
      "metadata": {
        "colab": {
          "base_uri": "https://localhost:8080/"
        },
        "id": "PupCYuAhQ_iQ",
        "outputId": "7132137f-c040-4940-ee6c-677a412691e5"
      },
      "execution_count": null,
      "outputs": [
        {
          "output_type": "stream",
          "name": "stdout",
          "text": [
            "              precision    recall  f1-score   support\n",
            "\n",
            "         1.0       1.00      1.00      1.00        26\n",
            "         2.0       0.88      1.00      0.94        15\n",
            "         3.0       0.38      0.25      0.30        20\n",
            "         4.0       0.78      0.89      0.83       100\n",
            "         5.0       0.69      0.44      0.54        25\n",
            "\n",
            "    accuracy                           0.78       186\n",
            "   macro avg       0.75      0.72      0.72       186\n",
            "weighted avg       0.76      0.78      0.77       186\n",
            "\n"
          ]
        }
      ]
    },
    {
      "cell_type": "code",
      "source": [
        "# Printing the model metrics using the previously defined function \"print_model_metrics\" at section 4 for testing data.\n",
        "XGB_acc, XGB_recall, XGB_prec, XGB_f1 = print_model_metrics(y_valid, y_pred_XGB)"
      ],
      "metadata": {
        "colab": {
          "base_uri": "https://localhost:8080/"
        },
        "id": "YSwtBFjVRJ5I",
        "outputId": "b0ff9a78-74d2-469d-e843-be84e7708f4f"
      },
      "execution_count": null,
      "outputs": [
        {
          "output_type": "stream",
          "name": "stdout",
          "text": [
            "Model accuracy is: 0.78\n",
            "Model recall is: 0.72\n",
            "Model precision is: 0.75\n",
            "Model F1 score is: 0.72\n"
          ]
        }
      ]
    },
    {
      "cell_type": "markdown",
      "source": [
        "This model is having a relatively high mean f1 score on the validation 72% compared with other tried models but it is very low on kaggle where it achieves 62.7% mean f1 score so it is either overfitting or underfitting, I cant really tell for this model as I didn't calculate the training metrics so we will try grid search to find the optimal hyperparameters as here we just used the default configuration just in aim to see if there is any hope in further investigating this model class 🥺 and the metrics are not that bad for a rough estimates so it is worth tuning."
      ],
      "metadata": {
        "id": "niL4fgz4Y_jD"
      }
    },
    {
      "cell_type": "markdown",
      "source": [
        "## *Model 9: XGBoost with Grid Search*"
      ],
      "metadata": {
        "id": "emZvlmi4-rvo"
      }
    },
    {
      "cell_type": "markdown",
      "source": [
        "Training"
      ],
      "metadata": {
        "id": "dsPbDAN-jhoH"
      }
    },
    {
      "cell_type": "code",
      "source": [
        "from sklearn.model_selection import GridSearchCV\n",
        "from xgboost import XGBClassifier\n",
        "\n",
        "XGB = XGBClassifier() # model instance to be used by grid search\n",
        "\n",
        "# hyperparameters search space\n",
        "XGB_params = [{\n",
        "               'learning_rate': [0.1, 0.01],\n",
        "               'gamma': [0, 0.25, 1],\n",
        "               'reg_lambda': [0, 1, 10],\n",
        "               'n_estimators': [100, 250, 500],\n",
        "               'subsample': [0.6],\n",
        "               'colsample_bytree': [0.5],\n",
        "               'max_depth': [5, 7, 10]\n",
        "              }]\n",
        "\n",
        "# grid search instance to be fitted\n",
        "XGB_grid = GridSearchCV(estimator = XGB,\n",
        "                        param_grid = XGB_params,\n",
        "                        scoring = 'f1_macro',\n",
        "                        cv = 5)\n",
        "\n",
        "XGB_grid.fit(X_tr, y_tr) # model training\n"
      ],
      "metadata": {
        "colab": {
          "base_uri": "https://localhost:8080/",
          "height": 118
        },
        "id": "80yfJtnl-6dQ",
        "outputId": "677d91a0-d7a7-455e-ffb9-29e7396da352"
      },
      "execution_count": null,
      "outputs": [
        {
          "output_type": "execute_result",
          "data": {
            "text/plain": [
              "GridSearchCV(cv=5,\n",
              "             estimator=XGBClassifier(base_score=None, booster=None,\n",
              "                                     callbacks=None, colsample_bylevel=None,\n",
              "                                     colsample_bynode=None,\n",
              "                                     colsample_bytree=None,\n",
              "                                     early_stopping_rounds=None,\n",
              "                                     enable_categorical=False, eval_metric=None,\n",
              "                                     feature_types=None, gamma=None,\n",
              "                                     gpu_id=None, grow_policy=None,\n",
              "                                     importance_type=None,\n",
              "                                     interaction_constraints=None,\n",
              "                                     learning_rate=None,...\n",
              "                                     max_leaves=None, min_child_weight=None,\n",
              "                                     missing=nan, monotone_constraints=None,\n",
              "                                     n_estimators=100, n_jobs=None,\n",
              "                                     num_parallel_tree=None, predictor=None,\n",
              "                                     random_state=None, ...),\n",
              "             param_grid=[{'colsample_bytree': [0.5], 'gamma': [0, 0.25, 1],\n",
              "                          'learning_rate': [0.1, 0.01], 'max_depth': [5, 7, 10],\n",
              "                          'n_estimators': [100, 250, 500],\n",
              "                          'reg_lambda': [0, 1, 10], 'subsample': [0.6]}],\n",
              "             scoring='f1_macro')"
            ],
            "text/html": [
              "<style>#sk-container-id-10 {color: black;background-color: white;}#sk-container-id-10 pre{padding: 0;}#sk-container-id-10 div.sk-toggleable {background-color: white;}#sk-container-id-10 label.sk-toggleable__label {cursor: pointer;display: block;width: 100%;margin-bottom: 0;padding: 0.3em;box-sizing: border-box;text-align: center;}#sk-container-id-10 label.sk-toggleable__label-arrow:before {content: \"▸\";float: left;margin-right: 0.25em;color: #696969;}#sk-container-id-10 label.sk-toggleable__label-arrow:hover:before {color: black;}#sk-container-id-10 div.sk-estimator:hover label.sk-toggleable__label-arrow:before {color: black;}#sk-container-id-10 div.sk-toggleable__content {max-height: 0;max-width: 0;overflow: hidden;text-align: left;background-color: #f0f8ff;}#sk-container-id-10 div.sk-toggleable__content pre {margin: 0.2em;color: black;border-radius: 0.25em;background-color: #f0f8ff;}#sk-container-id-10 input.sk-toggleable__control:checked~div.sk-toggleable__content {max-height: 200px;max-width: 100%;overflow: auto;}#sk-container-id-10 input.sk-toggleable__control:checked~label.sk-toggleable__label-arrow:before {content: \"▾\";}#sk-container-id-10 div.sk-estimator input.sk-toggleable__control:checked~label.sk-toggleable__label {background-color: #d4ebff;}#sk-container-id-10 div.sk-label input.sk-toggleable__control:checked~label.sk-toggleable__label {background-color: #d4ebff;}#sk-container-id-10 input.sk-hidden--visually {border: 0;clip: rect(1px 1px 1px 1px);clip: rect(1px, 1px, 1px, 1px);height: 1px;margin: -1px;overflow: hidden;padding: 0;position: absolute;width: 1px;}#sk-container-id-10 div.sk-estimator {font-family: monospace;background-color: #f0f8ff;border: 1px dotted black;border-radius: 0.25em;box-sizing: border-box;margin-bottom: 0.5em;}#sk-container-id-10 div.sk-estimator:hover {background-color: #d4ebff;}#sk-container-id-10 div.sk-parallel-item::after {content: \"\";width: 100%;border-bottom: 1px solid gray;flex-grow: 1;}#sk-container-id-10 div.sk-label:hover label.sk-toggleable__label {background-color: #d4ebff;}#sk-container-id-10 div.sk-serial::before {content: \"\";position: absolute;border-left: 1px solid gray;box-sizing: border-box;top: 0;bottom: 0;left: 50%;z-index: 0;}#sk-container-id-10 div.sk-serial {display: flex;flex-direction: column;align-items: center;background-color: white;padding-right: 0.2em;padding-left: 0.2em;position: relative;}#sk-container-id-10 div.sk-item {position: relative;z-index: 1;}#sk-container-id-10 div.sk-parallel {display: flex;align-items: stretch;justify-content: center;background-color: white;position: relative;}#sk-container-id-10 div.sk-item::before, #sk-container-id-10 div.sk-parallel-item::before {content: \"\";position: absolute;border-left: 1px solid gray;box-sizing: border-box;top: 0;bottom: 0;left: 50%;z-index: -1;}#sk-container-id-10 div.sk-parallel-item {display: flex;flex-direction: column;z-index: 1;position: relative;background-color: white;}#sk-container-id-10 div.sk-parallel-item:first-child::after {align-self: flex-end;width: 50%;}#sk-container-id-10 div.sk-parallel-item:last-child::after {align-self: flex-start;width: 50%;}#sk-container-id-10 div.sk-parallel-item:only-child::after {width: 0;}#sk-container-id-10 div.sk-dashed-wrapped {border: 1px dashed gray;margin: 0 0.4em 0.5em 0.4em;box-sizing: border-box;padding-bottom: 0.4em;background-color: white;}#sk-container-id-10 div.sk-label label {font-family: monospace;font-weight: bold;display: inline-block;line-height: 1.2em;}#sk-container-id-10 div.sk-label-container {text-align: center;}#sk-container-id-10 div.sk-container {/* jupyter's `normalize.less` sets `[hidden] { display: none; }` but bootstrap.min.css set `[hidden] { display: none !important; }` so we also need the `!important` here to be able to override the default hidden behavior on the sphinx rendered scikit-learn.org. See: https://github.com/scikit-learn/scikit-learn/issues/21755 */display: inline-block !important;position: relative;}#sk-container-id-10 div.sk-text-repr-fallback {display: none;}</style><div id=\"sk-container-id-10\" class=\"sk-top-container\"><div class=\"sk-text-repr-fallback\"><pre>GridSearchCV(cv=5,\n",
              "             estimator=XGBClassifier(base_score=None, booster=None,\n",
              "                                     callbacks=None, colsample_bylevel=None,\n",
              "                                     colsample_bynode=None,\n",
              "                                     colsample_bytree=None,\n",
              "                                     early_stopping_rounds=None,\n",
              "                                     enable_categorical=False, eval_metric=None,\n",
              "                                     feature_types=None, gamma=None,\n",
              "                                     gpu_id=None, grow_policy=None,\n",
              "                                     importance_type=None,\n",
              "                                     interaction_constraints=None,\n",
              "                                     learning_rate=None,...\n",
              "                                     max_leaves=None, min_child_weight=None,\n",
              "                                     missing=nan, monotone_constraints=None,\n",
              "                                     n_estimators=100, n_jobs=None,\n",
              "                                     num_parallel_tree=None, predictor=None,\n",
              "                                     random_state=None, ...),\n",
              "             param_grid=[{&#x27;colsample_bytree&#x27;: [0.5], &#x27;gamma&#x27;: [0, 0.25, 1],\n",
              "                          &#x27;learning_rate&#x27;: [0.1, 0.01], &#x27;max_depth&#x27;: [5, 7, 10],\n",
              "                          &#x27;n_estimators&#x27;: [100, 250, 500],\n",
              "                          &#x27;reg_lambda&#x27;: [0, 1, 10], &#x27;subsample&#x27;: [0.6]}],\n",
              "             scoring=&#x27;f1_macro&#x27;)</pre><b>In a Jupyter environment, please rerun this cell to show the HTML representation or trust the notebook. <br />On GitHub, the HTML representation is unable to render, please try loading this page with nbviewer.org.</b></div><div class=\"sk-container\" hidden><div class=\"sk-item sk-dashed-wrapped\"><div class=\"sk-label-container\"><div class=\"sk-label sk-toggleable\"><input class=\"sk-toggleable__control sk-hidden--visually\" id=\"sk-estimator-id-22\" type=\"checkbox\" ><label for=\"sk-estimator-id-22\" class=\"sk-toggleable__label sk-toggleable__label-arrow\">GridSearchCV</label><div class=\"sk-toggleable__content\"><pre>GridSearchCV(cv=5,\n",
              "             estimator=XGBClassifier(base_score=None, booster=None,\n",
              "                                     callbacks=None, colsample_bylevel=None,\n",
              "                                     colsample_bynode=None,\n",
              "                                     colsample_bytree=None,\n",
              "                                     early_stopping_rounds=None,\n",
              "                                     enable_categorical=False, eval_metric=None,\n",
              "                                     feature_types=None, gamma=None,\n",
              "                                     gpu_id=None, grow_policy=None,\n",
              "                                     importance_type=None,\n",
              "                                     interaction_constraints=None,\n",
              "                                     learning_rate=None,...\n",
              "                                     max_leaves=None, min_child_weight=None,\n",
              "                                     missing=nan, monotone_constraints=None,\n",
              "                                     n_estimators=100, n_jobs=None,\n",
              "                                     num_parallel_tree=None, predictor=None,\n",
              "                                     random_state=None, ...),\n",
              "             param_grid=[{&#x27;colsample_bytree&#x27;: [0.5], &#x27;gamma&#x27;: [0, 0.25, 1],\n",
              "                          &#x27;learning_rate&#x27;: [0.1, 0.01], &#x27;max_depth&#x27;: [5, 7, 10],\n",
              "                          &#x27;n_estimators&#x27;: [100, 250, 500],\n",
              "                          &#x27;reg_lambda&#x27;: [0, 1, 10], &#x27;subsample&#x27;: [0.6]}],\n",
              "             scoring=&#x27;f1_macro&#x27;)</pre></div></div></div><div class=\"sk-parallel\"><div class=\"sk-parallel-item\"><div class=\"sk-item\"><div class=\"sk-label-container\"><div class=\"sk-label sk-toggleable\"><input class=\"sk-toggleable__control sk-hidden--visually\" id=\"sk-estimator-id-23\" type=\"checkbox\" ><label for=\"sk-estimator-id-23\" class=\"sk-toggleable__label sk-toggleable__label-arrow\">estimator: XGBClassifier</label><div class=\"sk-toggleable__content\"><pre>XGBClassifier(base_score=None, booster=None, callbacks=None,\n",
              "              colsample_bylevel=None, colsample_bynode=None,\n",
              "              colsample_bytree=None, early_stopping_rounds=None,\n",
              "              enable_categorical=False, eval_metric=None, feature_types=None,\n",
              "              gamma=None, gpu_id=None, grow_policy=None, importance_type=None,\n",
              "              interaction_constraints=None, learning_rate=None, max_bin=None,\n",
              "              max_cat_threshold=None, max_cat_to_onehot=None,\n",
              "              max_delta_step=None, max_depth=None, max_leaves=None,\n",
              "              min_child_weight=None, missing=nan, monotone_constraints=None,\n",
              "              n_estimators=100, n_jobs=None, num_parallel_tree=None,\n",
              "              predictor=None, random_state=None, ...)</pre></div></div></div><div class=\"sk-serial\"><div class=\"sk-item\"><div class=\"sk-estimator sk-toggleable\"><input class=\"sk-toggleable__control sk-hidden--visually\" id=\"sk-estimator-id-24\" type=\"checkbox\" ><label for=\"sk-estimator-id-24\" class=\"sk-toggleable__label sk-toggleable__label-arrow\">XGBClassifier</label><div class=\"sk-toggleable__content\"><pre>XGBClassifier(base_score=None, booster=None, callbacks=None,\n",
              "              colsample_bylevel=None, colsample_bynode=None,\n",
              "              colsample_bytree=None, early_stopping_rounds=None,\n",
              "              enable_categorical=False, eval_metric=None, feature_types=None,\n",
              "              gamma=None, gpu_id=None, grow_policy=None, importance_type=None,\n",
              "              interaction_constraints=None, learning_rate=None, max_bin=None,\n",
              "              max_cat_threshold=None, max_cat_to_onehot=None,\n",
              "              max_delta_step=None, max_depth=None, max_leaves=None,\n",
              "              min_child_weight=None, missing=nan, monotone_constraints=None,\n",
              "              n_estimators=100, n_jobs=None, num_parallel_tree=None,\n",
              "              predictor=None, random_state=None, ...)</pre></div></div></div></div></div></div></div></div></div></div>"
            ]
          },
          "metadata": {},
          "execution_count": 184
        }
      ]
    },
    {
      "cell_type": "code",
      "source": [
        "best_parameters_XGB = XGB_grid.best_params_ # best hyperparameters found that corresponds to the best model\n",
        "best_f1_macro_XGB = XGB_grid.best_score_ # best model score (fitted by optimal hyperparameters)\n",
        "print(\"Best f1 score macro: {:.2f} %\".format(best_f1_macro_XGB*100))\n",
        "print(\"Best Parameters:\", best_parameters_XGB)"
      ],
      "metadata": {
        "colab": {
          "base_uri": "https://localhost:8080/"
        },
        "id": "I-eZLoRV_aiG",
        "outputId": "9b4150a5-1cf6-47fa-c948-4876cdaf2c97"
      },
      "execution_count": null,
      "outputs": [
        {
          "output_type": "stream",
          "name": "stdout",
          "text": [
            "Best f1 score macro: 98.71 %\n",
            "Best Parameters: {'colsample_bytree': 0.5, 'gamma': 0, 'learning_rate': 0.1, 'max_depth': 10, 'n_estimators': 500, 'reg_lambda': 1, 'subsample': 0.6}\n"
          ]
        }
      ]
    },
    {
      "cell_type": "markdown",
      "source": [
        "Prediction"
      ],
      "metadata": {
        "id": "CWqOzQC4jk1R"
      }
    },
    {
      "cell_type": "code",
      "source": [
        "# Prediction\n",
        "y_pred_XGB_grid = XGB_grid.predict(X_valid) # predicted output\n",
        "\n",
        "#reversing the operations done before on the training label by adding 1 and converting to float\n",
        "y_pred_XGB_grid = y_pred_XGB_grid + 1\n",
        "y_pred_XGB_grid = y_pred_XGB_grid.astype(float)\n",
        "print(classification_report(y_valid, y_pred_XGB_grid))"
      ],
      "metadata": {
        "colab": {
          "base_uri": "https://localhost:8080/"
        },
        "id": "GO-ON7bO_t3Q",
        "outputId": "95cccdfc-cf6d-4057-c8d8-d1d0301bed19"
      },
      "execution_count": null,
      "outputs": [
        {
          "output_type": "stream",
          "name": "stdout",
          "text": [
            "              precision    recall  f1-score   support\n",
            "\n",
            "         1.0       1.00      1.00      1.00        26\n",
            "         2.0       0.88      1.00      0.94        15\n",
            "         3.0       0.44      0.35      0.39        20\n",
            "         4.0       0.78      0.88      0.83       100\n",
            "         5.0       0.64      0.36      0.46        25\n",
            "\n",
            "    accuracy                           0.78       186\n",
            "   macro avg       0.75      0.72      0.72       186\n",
            "weighted avg       0.76      0.78      0.76       186\n",
            "\n"
          ]
        }
      ]
    },
    {
      "cell_type": "code",
      "source": [
        "# Printing the model metrics using the previously defined function \"print_model_metrics\"\n",
        "XGB_gr_acc, XGB_gr_recall, XGB_gr_prec, XGB_gr_f1 = print_model_metrics(y_valid, y_pred_XGB_grid)"
      ],
      "metadata": {
        "colab": {
          "base_uri": "https://localhost:8080/"
        },
        "id": "YA5n1iyi_41O",
        "outputId": "09813dd8-62f4-4609-dccd-08ec8948eae6"
      },
      "execution_count": null,
      "outputs": [
        {
          "output_type": "stream",
          "name": "stdout",
          "text": [
            "Model accuracy is: 0.78\n",
            "Model recall is: 0.72\n",
            "Model precision is: 0.75\n",
            "Model F1 score is: 0.72\n"
          ]
        }
      ]
    },
    {
      "cell_type": "markdown",
      "source": [
        "Now this model is having superior performance on the training set which is not matched by any other tried model where the mean cross-validated f1 score is 98.71% 😮 but unfortuantely as usual the model is overfitting as the mean f1 score on the testing is 72% and kaggle score is also 72.38%.\n",
        "so this model is actually worth noting and it is really qualified for further testing with other data preprocessing that we will check but before that we will check a final simialr algorithm which is random forest."
      ],
      "metadata": {
        "id": "eNPL45a2eHgJ"
      }
    },
    {
      "cell_type": "markdown",
      "source": [
        "## *Model 10: Random Forest with Grid Search*\n",
        "\n"
      ],
      "metadata": {
        "id": "ccV8ziO3Wh0v"
      }
    },
    {
      "cell_type": "markdown",
      "source": [
        "Training"
      ],
      "metadata": {
        "id": "kno-g6r8ki-Z"
      }
    },
    {
      "cell_type": "code",
      "source": [
        "from sklearn.model_selection import GridSearchCV\n",
        "from sklearn.ensemble import RandomForestClassifier\n",
        "\n",
        "rf = RandomForestClassifier(class_weight = \"balanced_subsample\") # model instance to be used by grid search\n",
        "\n",
        "# hyperparameters search space\n",
        "rf_params = {'n_estimators': [250, 500],\n",
        "              'max_depth': [10, 15],\n",
        "              \"min_samples_split\": [10, 30, 60],\n",
        "              \"min_samples_leaf\": [10, 30, 60],\n",
        "             }\n",
        "\n",
        "# grid search instance to be fitted\n",
        "rf_grid = GridSearchCV(estimator = rf,\n",
        "                        param_grid = rf_params,\n",
        "                        scoring = 'f1_macro',\n",
        "                        cv = 5)\n",
        "\n",
        "rf_grid.fit(X_tr, y_tr) # model training\n"
      ],
      "metadata": {
        "colab": {
          "base_uri": "https://localhost:8080/",
          "height": 172
        },
        "id": "wMIdeA6EWgtb",
        "outputId": "53007af5-2335-42a3-8404-f3a2bd7f1874"
      },
      "execution_count": null,
      "outputs": [
        {
          "metadata": {
            "tags": null
          },
          "name": "stderr",
          "output_type": "stream",
          "text": [
            "/usr/local/lib/python3.9/dist-packages/sklearn/model_selection/_split.py:700: UserWarning: The least populated class in y has only 2 members, which is less than n_splits=5.\n",
            "  warnings.warn(\n"
          ]
        },
        {
          "output_type": "execute_result",
          "data": {
            "text/plain": [
              "GridSearchCV(cv=5,\n",
              "             estimator=RandomForestClassifier(class_weight='balanced_subsample'),\n",
              "             param_grid={'max_depth': [10, 15],\n",
              "                         'min_samples_leaf': [10, 30, 60],\n",
              "                         'min_samples_split': [10, 30, 60],\n",
              "                         'n_estimators': [250, 500]},\n",
              "             scoring='f1_macro')"
            ],
            "text/html": [
              "<style>#sk-container-id-3 {color: black;background-color: white;}#sk-container-id-3 pre{padding: 0;}#sk-container-id-3 div.sk-toggleable {background-color: white;}#sk-container-id-3 label.sk-toggleable__label {cursor: pointer;display: block;width: 100%;margin-bottom: 0;padding: 0.3em;box-sizing: border-box;text-align: center;}#sk-container-id-3 label.sk-toggleable__label-arrow:before {content: \"▸\";float: left;margin-right: 0.25em;color: #696969;}#sk-container-id-3 label.sk-toggleable__label-arrow:hover:before {color: black;}#sk-container-id-3 div.sk-estimator:hover label.sk-toggleable__label-arrow:before {color: black;}#sk-container-id-3 div.sk-toggleable__content {max-height: 0;max-width: 0;overflow: hidden;text-align: left;background-color: #f0f8ff;}#sk-container-id-3 div.sk-toggleable__content pre {margin: 0.2em;color: black;border-radius: 0.25em;background-color: #f0f8ff;}#sk-container-id-3 input.sk-toggleable__control:checked~div.sk-toggleable__content {max-height: 200px;max-width: 100%;overflow: auto;}#sk-container-id-3 input.sk-toggleable__control:checked~label.sk-toggleable__label-arrow:before {content: \"▾\";}#sk-container-id-3 div.sk-estimator input.sk-toggleable__control:checked~label.sk-toggleable__label {background-color: #d4ebff;}#sk-container-id-3 div.sk-label input.sk-toggleable__control:checked~label.sk-toggleable__label {background-color: #d4ebff;}#sk-container-id-3 input.sk-hidden--visually {border: 0;clip: rect(1px 1px 1px 1px);clip: rect(1px, 1px, 1px, 1px);height: 1px;margin: -1px;overflow: hidden;padding: 0;position: absolute;width: 1px;}#sk-container-id-3 div.sk-estimator {font-family: monospace;background-color: #f0f8ff;border: 1px dotted black;border-radius: 0.25em;box-sizing: border-box;margin-bottom: 0.5em;}#sk-container-id-3 div.sk-estimator:hover {background-color: #d4ebff;}#sk-container-id-3 div.sk-parallel-item::after {content: \"\";width: 100%;border-bottom: 1px solid gray;flex-grow: 1;}#sk-container-id-3 div.sk-label:hover label.sk-toggleable__label {background-color: #d4ebff;}#sk-container-id-3 div.sk-serial::before {content: \"\";position: absolute;border-left: 1px solid gray;box-sizing: border-box;top: 0;bottom: 0;left: 50%;z-index: 0;}#sk-container-id-3 div.sk-serial {display: flex;flex-direction: column;align-items: center;background-color: white;padding-right: 0.2em;padding-left: 0.2em;position: relative;}#sk-container-id-3 div.sk-item {position: relative;z-index: 1;}#sk-container-id-3 div.sk-parallel {display: flex;align-items: stretch;justify-content: center;background-color: white;position: relative;}#sk-container-id-3 div.sk-item::before, #sk-container-id-3 div.sk-parallel-item::before {content: \"\";position: absolute;border-left: 1px solid gray;box-sizing: border-box;top: 0;bottom: 0;left: 50%;z-index: -1;}#sk-container-id-3 div.sk-parallel-item {display: flex;flex-direction: column;z-index: 1;position: relative;background-color: white;}#sk-container-id-3 div.sk-parallel-item:first-child::after {align-self: flex-end;width: 50%;}#sk-container-id-3 div.sk-parallel-item:last-child::after {align-self: flex-start;width: 50%;}#sk-container-id-3 div.sk-parallel-item:only-child::after {width: 0;}#sk-container-id-3 div.sk-dashed-wrapped {border: 1px dashed gray;margin: 0 0.4em 0.5em 0.4em;box-sizing: border-box;padding-bottom: 0.4em;background-color: white;}#sk-container-id-3 div.sk-label label {font-family: monospace;font-weight: bold;display: inline-block;line-height: 1.2em;}#sk-container-id-3 div.sk-label-container {text-align: center;}#sk-container-id-3 div.sk-container {/* jupyter's `normalize.less` sets `[hidden] { display: none; }` but bootstrap.min.css set `[hidden] { display: none !important; }` so we also need the `!important` here to be able to override the default hidden behavior on the sphinx rendered scikit-learn.org. See: https://github.com/scikit-learn/scikit-learn/issues/21755 */display: inline-block !important;position: relative;}#sk-container-id-3 div.sk-text-repr-fallback {display: none;}</style><div id=\"sk-container-id-3\" class=\"sk-top-container\"><div class=\"sk-text-repr-fallback\"><pre>GridSearchCV(cv=5,\n",
              "             estimator=RandomForestClassifier(class_weight=&#x27;balanced_subsample&#x27;),\n",
              "             param_grid={&#x27;max_depth&#x27;: [10, 15],\n",
              "                         &#x27;min_samples_leaf&#x27;: [10, 30, 60],\n",
              "                         &#x27;min_samples_split&#x27;: [10, 30, 60],\n",
              "                         &#x27;n_estimators&#x27;: [250, 500]},\n",
              "             scoring=&#x27;f1_macro&#x27;)</pre><b>In a Jupyter environment, please rerun this cell to show the HTML representation or trust the notebook. <br />On GitHub, the HTML representation is unable to render, please try loading this page with nbviewer.org.</b></div><div class=\"sk-container\" hidden><div class=\"sk-item sk-dashed-wrapped\"><div class=\"sk-label-container\"><div class=\"sk-label sk-toggleable\"><input class=\"sk-toggleable__control sk-hidden--visually\" id=\"sk-estimator-id-3\" type=\"checkbox\" ><label for=\"sk-estimator-id-3\" class=\"sk-toggleable__label sk-toggleable__label-arrow\">GridSearchCV</label><div class=\"sk-toggleable__content\"><pre>GridSearchCV(cv=5,\n",
              "             estimator=RandomForestClassifier(class_weight=&#x27;balanced_subsample&#x27;),\n",
              "             param_grid={&#x27;max_depth&#x27;: [10, 15],\n",
              "                         &#x27;min_samples_leaf&#x27;: [10, 30, 60],\n",
              "                         &#x27;min_samples_split&#x27;: [10, 30, 60],\n",
              "                         &#x27;n_estimators&#x27;: [250, 500]},\n",
              "             scoring=&#x27;f1_macro&#x27;)</pre></div></div></div><div class=\"sk-parallel\"><div class=\"sk-parallel-item\"><div class=\"sk-item\"><div class=\"sk-label-container\"><div class=\"sk-label sk-toggleable\"><input class=\"sk-toggleable__control sk-hidden--visually\" id=\"sk-estimator-id-4\" type=\"checkbox\" ><label for=\"sk-estimator-id-4\" class=\"sk-toggleable__label sk-toggleable__label-arrow\">estimator: RandomForestClassifier</label><div class=\"sk-toggleable__content\"><pre>RandomForestClassifier(class_weight=&#x27;balanced_subsample&#x27;)</pre></div></div></div><div class=\"sk-serial\"><div class=\"sk-item\"><div class=\"sk-estimator sk-toggleable\"><input class=\"sk-toggleable__control sk-hidden--visually\" id=\"sk-estimator-id-5\" type=\"checkbox\" ><label for=\"sk-estimator-id-5\" class=\"sk-toggleable__label sk-toggleable__label-arrow\">RandomForestClassifier</label><div class=\"sk-toggleable__content\"><pre>RandomForestClassifier(class_weight=&#x27;balanced_subsample&#x27;)</pre></div></div></div></div></div></div></div></div></div></div>"
            ]
          },
          "metadata": {},
          "execution_count": 136
        }
      ]
    },
    {
      "cell_type": "code",
      "source": [
        "best_parameters_rf = rf_grid.best_params_ # best hyperparameters found that corresponds to the best model\n",
        "best_f1_macro_rf = rf_grid.best_score_ # best model score (fitted by optimal hyperparameters)\n",
        "print(\"Best f1 score macro: {:.2f} %\".format(best_f1_macro_rf*100))\n",
        "print(\"Best Parameters:\", best_parameters_rf)"
      ],
      "metadata": {
        "colab": {
          "base_uri": "https://localhost:8080/"
        },
        "id": "bB3ah0HIktR4",
        "outputId": "72cb2643-433b-4d47-8dfc-d630b96ef2fb"
      },
      "execution_count": null,
      "outputs": [
        {
          "metadata": {
            "tags": null
          },
          "name": "stdout",
          "output_type": "stream",
          "text": [
            "Best f1 score macro: 54.33 %\n",
            "Best Parameters: {'max_depth': 15, 'min_samples_leaf': 10, 'min_samples_split': 10, 'n_estimators': 500}\n"
          ]
        }
      ]
    },
    {
      "cell_type": "markdown",
      "source": [
        "Prediction"
      ],
      "metadata": {
        "id": "Yi7rkLx0kkzd"
      }
    },
    {
      "cell_type": "code",
      "source": [
        "# prediction\n",
        "y_pred_rf_grid = rf_grid.predict(X_valid) # predicted output\n",
        "print(classification_report(y_valid, y_pred_rf_grid))"
      ],
      "metadata": {
        "colab": {
          "base_uri": "https://localhost:8080/"
        },
        "id": "eFIuIpTukmmq",
        "outputId": "f3726445-10f6-4e23-a849-3cee966d7abc"
      },
      "execution_count": null,
      "outputs": [
        {
          "output_type": "stream",
          "name": "stdout",
          "text": [
            "              precision    recall  f1-score   support\n",
            "\n",
            "         2.0       0.50      0.67      0.57         3\n",
            "         3.0       0.30      0.33      0.32        27\n",
            "         4.0       0.85      0.77      0.81       155\n",
            "         5.0       0.56      0.74      0.63        34\n",
            "\n",
            "    accuracy                           0.71       219\n",
            "   macro avg       0.55      0.63      0.58       219\n",
            "weighted avg       0.73      0.71      0.72       219\n",
            "\n"
          ]
        }
      ]
    },
    {
      "cell_type": "code",
      "source": [
        "# Printing the model metrics using the previously defined function \"print_model_metrics\"\n",
        "rf_gr_acc, rf_gr_recall, rf_gr_prec, rf_gr_f1 = print_model_metrics(y_valid, y_pred_rf_grid)"
      ],
      "metadata": {
        "id": "oRWQTGrNlAwo"
      },
      "execution_count": null,
      "outputs": []
    },
    {
      "cell_type": "markdown",
      "source": [
        "It seems that the random forest is underfitting as the mean cross-validation f1 score is 54.33% and the mean f1 score on the separate validation set is 58%, we can try other hyperparameters ranges but we will not try that further as we need to check if actually the training data is representitive or not before wasting any more time, so we will take the best promising model which happened to be the XGboosting model and try it without the data imbalance treatment which may has skewed our dataset away from the real features distributions."
      ],
      "metadata": {
        "id": "eCHr47dD5E0d"
      }
    },
    {
      "cell_type": "markdown",
      "source": [
        "## *Model 11 & 12: XGBoost with Grid Search without SMOTE or Tomelinks* ⭐️⭐️⭐️"
      ],
      "metadata": {
        "id": "hRMciqMGoMb1"
      }
    },
    {
      "cell_type": "markdown",
      "source": [
        "Now we are back with XG boost where we will try different preprocessing on the training data as it was the best performing model on the training data as we have seen before.\n",
        "Now the only change that we made for the training data is that we didn't take class imbalance issue into consideration as maybe the oversampling for minority classes by SMOTE and undersampling for majority class by Tomeklinks didn't end up being representitve of the actual real testing set 🤔"
      ],
      "metadata": {
        "id": "SU1nmUylolV4"
      }
    },
    {
      "cell_type": "markdown",
      "source": [
        "1st XGBoosting model without SMOTE/Tomeklinks"
      ],
      "metadata": {
        "id": "8VcxYtRFxbyg"
      }
    },
    {
      "cell_type": "markdown",
      "source": [
        "Training"
      ],
      "metadata": {
        "id": "WI8kz56Cr__T"
      }
    },
    {
      "cell_type": "code",
      "source": [
        "from sklearn.model_selection import GridSearchCV\n",
        "from xgboost import XGBClassifier\n",
        "\n",
        "XGB = XGBClassifier() # model instance to be used by grid search\n",
        "\n",
        "# hyperparameters search space\n",
        "XGB_params = [{\n",
        "               'learning_rate': [0.1, 0.01],\n",
        "               'gamma': [0, 0.25, 1],\n",
        "               'reg_lambda': [0, 1, 10],\n",
        "               'n_estimators': [100, 250, 500],\n",
        "               'subsample': [0.6],\n",
        "               'colsample_bytree': [0.5],\n",
        "               'max_depth': [5, 7, 10]\n",
        "              }]\n",
        "\n",
        "# grid search instance to be fitted\n",
        "XGB_grid = GridSearchCV(estimator = XGB,\n",
        "                        param_grid = XGB_params,\n",
        "                        scoring = 'f1_macro',\n",
        "                        cv = 5)\n",
        "\n",
        "XGB_grid.fit(X_tr, y_tr) # model training\n"
      ],
      "metadata": {
        "colab": {
          "base_uri": "https://localhost:8080/",
          "height": 152
        },
        "outputId": "f6a8d97f-2b71-4568-ab69-23cb9a9eeb4a",
        "id": "z-u1l-AQoMb1"
      },
      "execution_count": null,
      "outputs": [
        {
          "metadata": {
            "tags": null
          },
          "name": "stderr",
          "output_type": "stream",
          "text": [
            "/usr/local/lib/python3.9/dist-packages/sklearn/model_selection/_split.py:700: UserWarning: The least populated class in y has only 2 members, which is less than n_splits=5.\n",
            "  warnings.warn(\n"
          ]
        },
        {
          "output_type": "execute_result",
          "data": {
            "text/plain": [
              "GridSearchCV(cv=5,\n",
              "             estimator=XGBClassifier(base_score=None, booster=None,\n",
              "                                     callbacks=None, colsample_bylevel=None,\n",
              "                                     colsample_bynode=None,\n",
              "                                     colsample_bytree=None,\n",
              "                                     early_stopping_rounds=None,\n",
              "                                     enable_categorical=False, eval_metric=None,\n",
              "                                     feature_types=None, gamma=None,\n",
              "                                     gpu_id=None, grow_policy=None,\n",
              "                                     importance_type=None,\n",
              "                                     interaction_constraints=None,\n",
              "                                     learning_rate=None,...\n",
              "                                     max_leaves=None, min_child_weight=None,\n",
              "                                     missing=nan, monotone_constraints=None,\n",
              "                                     n_estimators=100, n_jobs=None,\n",
              "                                     num_parallel_tree=None, predictor=None,\n",
              "                                     random_state=None, ...),\n",
              "             param_grid=[{'colsample_bytree': [0.5], 'gamma': [0, 0.25, 1],\n",
              "                          'learning_rate': [0.1, 0.01], 'max_depth': [5, 7, 10],\n",
              "                          'n_estimators': [100, 250, 500],\n",
              "                          'reg_lambda': [0, 1, 10], 'subsample': [0.6]}],\n",
              "             scoring='f1_macro')"
            ],
            "text/html": [
              "<style>#sk-container-id-50 {color: black;background-color: white;}#sk-container-id-50 pre{padding: 0;}#sk-container-id-50 div.sk-toggleable {background-color: white;}#sk-container-id-50 label.sk-toggleable__label {cursor: pointer;display: block;width: 100%;margin-bottom: 0;padding: 0.3em;box-sizing: border-box;text-align: center;}#sk-container-id-50 label.sk-toggleable__label-arrow:before {content: \"▸\";float: left;margin-right: 0.25em;color: #696969;}#sk-container-id-50 label.sk-toggleable__label-arrow:hover:before {color: black;}#sk-container-id-50 div.sk-estimator:hover label.sk-toggleable__label-arrow:before {color: black;}#sk-container-id-50 div.sk-toggleable__content {max-height: 0;max-width: 0;overflow: hidden;text-align: left;background-color: #f0f8ff;}#sk-container-id-50 div.sk-toggleable__content pre {margin: 0.2em;color: black;border-radius: 0.25em;background-color: #f0f8ff;}#sk-container-id-50 input.sk-toggleable__control:checked~div.sk-toggleable__content {max-height: 200px;max-width: 100%;overflow: auto;}#sk-container-id-50 input.sk-toggleable__control:checked~label.sk-toggleable__label-arrow:before {content: \"▾\";}#sk-container-id-50 div.sk-estimator input.sk-toggleable__control:checked~label.sk-toggleable__label {background-color: #d4ebff;}#sk-container-id-50 div.sk-label input.sk-toggleable__control:checked~label.sk-toggleable__label {background-color: #d4ebff;}#sk-container-id-50 input.sk-hidden--visually {border: 0;clip: rect(1px 1px 1px 1px);clip: rect(1px, 1px, 1px, 1px);height: 1px;margin: -1px;overflow: hidden;padding: 0;position: absolute;width: 1px;}#sk-container-id-50 div.sk-estimator {font-family: monospace;background-color: #f0f8ff;border: 1px dotted black;border-radius: 0.25em;box-sizing: border-box;margin-bottom: 0.5em;}#sk-container-id-50 div.sk-estimator:hover {background-color: #d4ebff;}#sk-container-id-50 div.sk-parallel-item::after {content: \"\";width: 100%;border-bottom: 1px solid gray;flex-grow: 1;}#sk-container-id-50 div.sk-label:hover label.sk-toggleable__label {background-color: #d4ebff;}#sk-container-id-50 div.sk-serial::before {content: \"\";position: absolute;border-left: 1px solid gray;box-sizing: border-box;top: 0;bottom: 0;left: 50%;z-index: 0;}#sk-container-id-50 div.sk-serial {display: flex;flex-direction: column;align-items: center;background-color: white;padding-right: 0.2em;padding-left: 0.2em;position: relative;}#sk-container-id-50 div.sk-item {position: relative;z-index: 1;}#sk-container-id-50 div.sk-parallel {display: flex;align-items: stretch;justify-content: center;background-color: white;position: relative;}#sk-container-id-50 div.sk-item::before, #sk-container-id-50 div.sk-parallel-item::before {content: \"\";position: absolute;border-left: 1px solid gray;box-sizing: border-box;top: 0;bottom: 0;left: 50%;z-index: -1;}#sk-container-id-50 div.sk-parallel-item {display: flex;flex-direction: column;z-index: 1;position: relative;background-color: white;}#sk-container-id-50 div.sk-parallel-item:first-child::after {align-self: flex-end;width: 50%;}#sk-container-id-50 div.sk-parallel-item:last-child::after {align-self: flex-start;width: 50%;}#sk-container-id-50 div.sk-parallel-item:only-child::after {width: 0;}#sk-container-id-50 div.sk-dashed-wrapped {border: 1px dashed gray;margin: 0 0.4em 0.5em 0.4em;box-sizing: border-box;padding-bottom: 0.4em;background-color: white;}#sk-container-id-50 div.sk-label label {font-family: monospace;font-weight: bold;display: inline-block;line-height: 1.2em;}#sk-container-id-50 div.sk-label-container {text-align: center;}#sk-container-id-50 div.sk-container {/* jupyter's `normalize.less` sets `[hidden] { display: none; }` but bootstrap.min.css set `[hidden] { display: none !important; }` so we also need the `!important` here to be able to override the default hidden behavior on the sphinx rendered scikit-learn.org. See: https://github.com/scikit-learn/scikit-learn/issues/21755 */display: inline-block !important;position: relative;}#sk-container-id-50 div.sk-text-repr-fallback {display: none;}</style><div id=\"sk-container-id-50\" class=\"sk-top-container\"><div class=\"sk-text-repr-fallback\"><pre>GridSearchCV(cv=5,\n",
              "             estimator=XGBClassifier(base_score=None, booster=None,\n",
              "                                     callbacks=None, colsample_bylevel=None,\n",
              "                                     colsample_bynode=None,\n",
              "                                     colsample_bytree=None,\n",
              "                                     early_stopping_rounds=None,\n",
              "                                     enable_categorical=False, eval_metric=None,\n",
              "                                     feature_types=None, gamma=None,\n",
              "                                     gpu_id=None, grow_policy=None,\n",
              "                                     importance_type=None,\n",
              "                                     interaction_constraints=None,\n",
              "                                     learning_rate=None,...\n",
              "                                     max_leaves=None, min_child_weight=None,\n",
              "                                     missing=nan, monotone_constraints=None,\n",
              "                                     n_estimators=100, n_jobs=None,\n",
              "                                     num_parallel_tree=None, predictor=None,\n",
              "                                     random_state=None, ...),\n",
              "             param_grid=[{&#x27;colsample_bytree&#x27;: [0.5], &#x27;gamma&#x27;: [0, 0.25, 1],\n",
              "                          &#x27;learning_rate&#x27;: [0.1, 0.01], &#x27;max_depth&#x27;: [5, 7, 10],\n",
              "                          &#x27;n_estimators&#x27;: [100, 250, 500],\n",
              "                          &#x27;reg_lambda&#x27;: [0, 1, 10], &#x27;subsample&#x27;: [0.6]}],\n",
              "             scoring=&#x27;f1_macro&#x27;)</pre><b>In a Jupyter environment, please rerun this cell to show the HTML representation or trust the notebook. <br />On GitHub, the HTML representation is unable to render, please try loading this page with nbviewer.org.</b></div><div class=\"sk-container\" hidden><div class=\"sk-item sk-dashed-wrapped\"><div class=\"sk-label-container\"><div class=\"sk-label sk-toggleable\"><input class=\"sk-toggleable__control sk-hidden--visually\" id=\"sk-estimator-id-146\" type=\"checkbox\" ><label for=\"sk-estimator-id-146\" class=\"sk-toggleable__label sk-toggleable__label-arrow\">GridSearchCV</label><div class=\"sk-toggleable__content\"><pre>GridSearchCV(cv=5,\n",
              "             estimator=XGBClassifier(base_score=None, booster=None,\n",
              "                                     callbacks=None, colsample_bylevel=None,\n",
              "                                     colsample_bynode=None,\n",
              "                                     colsample_bytree=None,\n",
              "                                     early_stopping_rounds=None,\n",
              "                                     enable_categorical=False, eval_metric=None,\n",
              "                                     feature_types=None, gamma=None,\n",
              "                                     gpu_id=None, grow_policy=None,\n",
              "                                     importance_type=None,\n",
              "                                     interaction_constraints=None,\n",
              "                                     learning_rate=None,...\n",
              "                                     max_leaves=None, min_child_weight=None,\n",
              "                                     missing=nan, monotone_constraints=None,\n",
              "                                     n_estimators=100, n_jobs=None,\n",
              "                                     num_parallel_tree=None, predictor=None,\n",
              "                                     random_state=None, ...),\n",
              "             param_grid=[{&#x27;colsample_bytree&#x27;: [0.5], &#x27;gamma&#x27;: [0, 0.25, 1],\n",
              "                          &#x27;learning_rate&#x27;: [0.1, 0.01], &#x27;max_depth&#x27;: [5, 7, 10],\n",
              "                          &#x27;n_estimators&#x27;: [100, 250, 500],\n",
              "                          &#x27;reg_lambda&#x27;: [0, 1, 10], &#x27;subsample&#x27;: [0.6]}],\n",
              "             scoring=&#x27;f1_macro&#x27;)</pre></div></div></div><div class=\"sk-parallel\"><div class=\"sk-parallel-item\"><div class=\"sk-item\"><div class=\"sk-label-container\"><div class=\"sk-label sk-toggleable\"><input class=\"sk-toggleable__control sk-hidden--visually\" id=\"sk-estimator-id-147\" type=\"checkbox\" ><label for=\"sk-estimator-id-147\" class=\"sk-toggleable__label sk-toggleable__label-arrow\">estimator: XGBClassifier</label><div class=\"sk-toggleable__content\"><pre>XGBClassifier(base_score=None, booster=None, callbacks=None,\n",
              "              colsample_bylevel=None, colsample_bynode=None,\n",
              "              colsample_bytree=None, early_stopping_rounds=None,\n",
              "              enable_categorical=False, eval_metric=None, feature_types=None,\n",
              "              gamma=None, gpu_id=None, grow_policy=None, importance_type=None,\n",
              "              interaction_constraints=None, learning_rate=None, max_bin=None,\n",
              "              max_cat_threshold=None, max_cat_to_onehot=None,\n",
              "              max_delta_step=None, max_depth=None, max_leaves=None,\n",
              "              min_child_weight=None, missing=nan, monotone_constraints=None,\n",
              "              n_estimators=100, n_jobs=None, num_parallel_tree=None,\n",
              "              predictor=None, random_state=None, ...)</pre></div></div></div><div class=\"sk-serial\"><div class=\"sk-item\"><div class=\"sk-estimator sk-toggleable\"><input class=\"sk-toggleable__control sk-hidden--visually\" id=\"sk-estimator-id-148\" type=\"checkbox\" ><label for=\"sk-estimator-id-148\" class=\"sk-toggleable__label sk-toggleable__label-arrow\">XGBClassifier</label><div class=\"sk-toggleable__content\"><pre>XGBClassifier(base_score=None, booster=None, callbacks=None,\n",
              "              colsample_bylevel=None, colsample_bynode=None,\n",
              "              colsample_bytree=None, early_stopping_rounds=None,\n",
              "              enable_categorical=False, eval_metric=None, feature_types=None,\n",
              "              gamma=None, gpu_id=None, grow_policy=None, importance_type=None,\n",
              "              interaction_constraints=None, learning_rate=None, max_bin=None,\n",
              "              max_cat_threshold=None, max_cat_to_onehot=None,\n",
              "              max_delta_step=None, max_depth=None, max_leaves=None,\n",
              "              min_child_weight=None, missing=nan, monotone_constraints=None,\n",
              "              n_estimators=100, n_jobs=None, num_parallel_tree=None,\n",
              "              predictor=None, random_state=None, ...)</pre></div></div></div></div></div></div></div></div></div></div>"
            ]
          },
          "metadata": {},
          "execution_count": 309
        }
      ]
    },
    {
      "cell_type": "code",
      "source": [
        "best_parameters_XGB = XGB_grid.best_params_ # best hyperparameters found that corresponds to the best model\n",
        "best_f1_macro_XGB = XGB_grid.best_score_ # best model score (fitted by optimal hyperparameters)\n",
        "print(\"Best f1 score macro: {:.2f} %\".format(best_f1_macro_XGB*100))\n",
        "print(\"Best Parameters:\", best_parameters_XGB)"
      ],
      "metadata": {
        "colab": {
          "base_uri": "https://localhost:8080/"
        },
        "outputId": "fee502cf-2b6a-4ac8-ddde-0cee36f25221",
        "id": "oclYZNVPoMb2"
      },
      "execution_count": null,
      "outputs": [
        {
          "metadata": {
            "tags": null
          },
          "name": "stdout",
          "output_type": "stream",
          "text": [
            "Best f1 score macro: 65.63 %\n",
            "Best Parameters: {'colsample_bytree': 0.5, 'gamma': 0.25, 'learning_rate': 0.1, 'max_depth': 7, 'n_estimators': 250, 'reg_lambda': 0, 'subsample': 0.6}\n"
          ]
        }
      ]
    },
    {
      "cell_type": "markdown",
      "source": [
        "Prediction"
      ],
      "metadata": {
        "id": "g4p7twAisDp_"
      }
    },
    {
      "cell_type": "code",
      "source": [
        "# Prediction\n",
        "y_pred_XGB_grid = XGB_grid.predict(X_valid) # predicted output\n",
        "\n",
        "#reversing the operations done before on the training label by adding 1 and converting to float\n",
        "y_pred_XGB_grid = y_pred_XGB_grid + 1\n",
        "y_pred_XGB_grid = y_pred_XGB_grid.astype(float)\n",
        "print(classification_report(y_valid, y_pred_XGB_grid))"
      ],
      "metadata": {
        "colab": {
          "base_uri": "https://localhost:8080/"
        },
        "outputId": "9a102cca-5f4d-4c2b-ce42-ff74d1d8ec83",
        "id": "5mvrm2xWoMb2"
      },
      "execution_count": null,
      "outputs": [
        {
          "output_type": "stream",
          "name": "stdout",
          "text": [
            "              precision    recall  f1-score   support\n",
            "\n",
            "         2.0       0.67      0.67      0.67         3\n",
            "         3.0       0.43      0.22      0.29        27\n",
            "         4.0       0.81      0.94      0.87       155\n",
            "         5.0       0.74      0.50      0.60        34\n",
            "\n",
            "    accuracy                           0.78       219\n",
            "   macro avg       0.66      0.58      0.61       219\n",
            "weighted avg       0.75      0.78      0.75       219\n",
            "\n"
          ]
        }
      ]
    },
    {
      "cell_type": "code",
      "source": [
        "# Printing the model metrics using the previously defined function \"print_model_metrics\"\n",
        "XGB_gr_acc, XGB_gr_recall, XGB_gr_prec, XGB_gr_f1 = print_model_metrics(y_valid, y_pred_XGB_grid)"
      ],
      "metadata": {
        "colab": {
          "base_uri": "https://localhost:8080/"
        },
        "outputId": "2b1bd0b8-ee4b-4fa0-810a-bc9d968c8bc5",
        "id": "uqeKKwjnoMb2"
      },
      "execution_count": null,
      "outputs": [
        {
          "output_type": "stream",
          "name": "stdout",
          "text": [
            "Model accuracy is: 0.78\n",
            "Model recall is: 0.58\n",
            "Model precision is: 0.66\n",
            "Model F1 score is: 0.61\n"
          ]
        }
      ]
    },
    {
      "cell_type": "markdown",
      "source": [
        "As we can see now the model turned from overfitting to underfiiting as the mean cross-validation f1 score is 65.63% but also the perfromance on the separate validation set is 61%, they are consistent! this consistency has not been seen before except for the underfitting random forest, so we will try to overcome this underfitting by having more training examples for each tree in the XGboosting model controlled by 'subsample' hyperparameter and take more features per tree by trying other values of 'colsample_bytree'"
      ],
      "metadata": {
        "id": "Ds4w2eZ-tyVy"
      }
    },
    {
      "cell_type": "markdown",
      "source": [
        "2nd XGBoosting model without SMOTE/Tomeklinks"
      ],
      "metadata": {
        "id": "tRF2K-18xiTf"
      }
    },
    {
      "cell_type": "code",
      "source": [
        "from sklearn.model_selection import GridSearchCV\n",
        "from xgboost import XGBClassifier\n",
        "\n",
        "XGB = XGBClassifier() # model instance to be used by grid search\n",
        "\n",
        "# hyperparameters search space\n",
        "XGB_params = [{\n",
        "               'learning_rate': [0.1],\n",
        "               'gamma': [0, 0.25, 1],\n",
        "               'reg_lambda': [0],\n",
        "               'n_estimators': [250, 500],\n",
        "               'subsample': [0.8],\n",
        "               'colsample_bytree': [0.8],\n",
        "               'max_depth': [5, 7, 10]\n",
        "              }]\n",
        "\n",
        "# grid search instance to be fitted\n",
        "XGB_grid = GridSearchCV(estimator = XGB,\n",
        "                        param_grid = XGB_params,\n",
        "                        scoring = 'f1_macro',\n",
        "                        cv = 5)\n",
        "\n",
        "XGB_grid.fit(X_tr, y_tr) # model training\n"
      ],
      "metadata": {
        "colab": {
          "base_uri": "https://localhost:8080/",
          "height": 118
        },
        "outputId": "44a06b9b-036c-488d-cbf7-212417e2f104",
        "id": "dGeTDkZtyJ-M"
      },
      "execution_count": null,
      "outputs": [
        {
          "output_type": "execute_result",
          "data": {
            "text/plain": [
              "GridSearchCV(cv=5,\n",
              "             estimator=XGBClassifier(base_score=None, booster=None,\n",
              "                                     callbacks=None, colsample_bylevel=None,\n",
              "                                     colsample_bynode=None,\n",
              "                                     colsample_bytree=None,\n",
              "                                     early_stopping_rounds=None,\n",
              "                                     enable_categorical=False, eval_metric=None,\n",
              "                                     feature_types=None, gamma=None,\n",
              "                                     gpu_id=None, grow_policy=None,\n",
              "                                     importance_type=None,\n",
              "                                     interaction_constraints=None,\n",
              "                                     learning_rate=None,...\n",
              "                                     max_delta_step=None, max_depth=None,\n",
              "                                     max_leaves=None, min_child_weight=None,\n",
              "                                     missing=nan, monotone_constraints=None,\n",
              "                                     n_estimators=100, n_jobs=None,\n",
              "                                     num_parallel_tree=None, predictor=None,\n",
              "                                     random_state=None, ...),\n",
              "             param_grid=[{'colsample_bytree': [0.8], 'gamma': [0, 0.25, 1],\n",
              "                          'learning_rate': [0.1], 'max_depth': [5, 7, 10],\n",
              "                          'n_estimators': [250, 500], 'reg_lambda': [0],\n",
              "                          'subsample': [0.8]}],\n",
              "             scoring='f1_macro')"
            ],
            "text/html": [
              "<style>#sk-container-id-51 {color: black;background-color: white;}#sk-container-id-51 pre{padding: 0;}#sk-container-id-51 div.sk-toggleable {background-color: white;}#sk-container-id-51 label.sk-toggleable__label {cursor: pointer;display: block;width: 100%;margin-bottom: 0;padding: 0.3em;box-sizing: border-box;text-align: center;}#sk-container-id-51 label.sk-toggleable__label-arrow:before {content: \"▸\";float: left;margin-right: 0.25em;color: #696969;}#sk-container-id-51 label.sk-toggleable__label-arrow:hover:before {color: black;}#sk-container-id-51 div.sk-estimator:hover label.sk-toggleable__label-arrow:before {color: black;}#sk-container-id-51 div.sk-toggleable__content {max-height: 0;max-width: 0;overflow: hidden;text-align: left;background-color: #f0f8ff;}#sk-container-id-51 div.sk-toggleable__content pre {margin: 0.2em;color: black;border-radius: 0.25em;background-color: #f0f8ff;}#sk-container-id-51 input.sk-toggleable__control:checked~div.sk-toggleable__content {max-height: 200px;max-width: 100%;overflow: auto;}#sk-container-id-51 input.sk-toggleable__control:checked~label.sk-toggleable__label-arrow:before {content: \"▾\";}#sk-container-id-51 div.sk-estimator input.sk-toggleable__control:checked~label.sk-toggleable__label {background-color: #d4ebff;}#sk-container-id-51 div.sk-label input.sk-toggleable__control:checked~label.sk-toggleable__label {background-color: #d4ebff;}#sk-container-id-51 input.sk-hidden--visually {border: 0;clip: rect(1px 1px 1px 1px);clip: rect(1px, 1px, 1px, 1px);height: 1px;margin: -1px;overflow: hidden;padding: 0;position: absolute;width: 1px;}#sk-container-id-51 div.sk-estimator {font-family: monospace;background-color: #f0f8ff;border: 1px dotted black;border-radius: 0.25em;box-sizing: border-box;margin-bottom: 0.5em;}#sk-container-id-51 div.sk-estimator:hover {background-color: #d4ebff;}#sk-container-id-51 div.sk-parallel-item::after {content: \"\";width: 100%;border-bottom: 1px solid gray;flex-grow: 1;}#sk-container-id-51 div.sk-label:hover label.sk-toggleable__label {background-color: #d4ebff;}#sk-container-id-51 div.sk-serial::before {content: \"\";position: absolute;border-left: 1px solid gray;box-sizing: border-box;top: 0;bottom: 0;left: 50%;z-index: 0;}#sk-container-id-51 div.sk-serial {display: flex;flex-direction: column;align-items: center;background-color: white;padding-right: 0.2em;padding-left: 0.2em;position: relative;}#sk-container-id-51 div.sk-item {position: relative;z-index: 1;}#sk-container-id-51 div.sk-parallel {display: flex;align-items: stretch;justify-content: center;background-color: white;position: relative;}#sk-container-id-51 div.sk-item::before, #sk-container-id-51 div.sk-parallel-item::before {content: \"\";position: absolute;border-left: 1px solid gray;box-sizing: border-box;top: 0;bottom: 0;left: 50%;z-index: -1;}#sk-container-id-51 div.sk-parallel-item {display: flex;flex-direction: column;z-index: 1;position: relative;background-color: white;}#sk-container-id-51 div.sk-parallel-item:first-child::after {align-self: flex-end;width: 50%;}#sk-container-id-51 div.sk-parallel-item:last-child::after {align-self: flex-start;width: 50%;}#sk-container-id-51 div.sk-parallel-item:only-child::after {width: 0;}#sk-container-id-51 div.sk-dashed-wrapped {border: 1px dashed gray;margin: 0 0.4em 0.5em 0.4em;box-sizing: border-box;padding-bottom: 0.4em;background-color: white;}#sk-container-id-51 div.sk-label label {font-family: monospace;font-weight: bold;display: inline-block;line-height: 1.2em;}#sk-container-id-51 div.sk-label-container {text-align: center;}#sk-container-id-51 div.sk-container {/* jupyter's `normalize.less` sets `[hidden] { display: none; }` but bootstrap.min.css set `[hidden] { display: none !important; }` so we also need the `!important` here to be able to override the default hidden behavior on the sphinx rendered scikit-learn.org. See: https://github.com/scikit-learn/scikit-learn/issues/21755 */display: inline-block !important;position: relative;}#sk-container-id-51 div.sk-text-repr-fallback {display: none;}</style><div id=\"sk-container-id-51\" class=\"sk-top-container\"><div class=\"sk-text-repr-fallback\"><pre>GridSearchCV(cv=5,\n",
              "             estimator=XGBClassifier(base_score=None, booster=None,\n",
              "                                     callbacks=None, colsample_bylevel=None,\n",
              "                                     colsample_bynode=None,\n",
              "                                     colsample_bytree=None,\n",
              "                                     early_stopping_rounds=None,\n",
              "                                     enable_categorical=False, eval_metric=None,\n",
              "                                     feature_types=None, gamma=None,\n",
              "                                     gpu_id=None, grow_policy=None,\n",
              "                                     importance_type=None,\n",
              "                                     interaction_constraints=None,\n",
              "                                     learning_rate=None,...\n",
              "                                     max_delta_step=None, max_depth=None,\n",
              "                                     max_leaves=None, min_child_weight=None,\n",
              "                                     missing=nan, monotone_constraints=None,\n",
              "                                     n_estimators=100, n_jobs=None,\n",
              "                                     num_parallel_tree=None, predictor=None,\n",
              "                                     random_state=None, ...),\n",
              "             param_grid=[{&#x27;colsample_bytree&#x27;: [0.8], &#x27;gamma&#x27;: [0, 0.25, 1],\n",
              "                          &#x27;learning_rate&#x27;: [0.1], &#x27;max_depth&#x27;: [5, 7, 10],\n",
              "                          &#x27;n_estimators&#x27;: [250, 500], &#x27;reg_lambda&#x27;: [0],\n",
              "                          &#x27;subsample&#x27;: [0.8]}],\n",
              "             scoring=&#x27;f1_macro&#x27;)</pre><b>In a Jupyter environment, please rerun this cell to show the HTML representation or trust the notebook. <br />On GitHub, the HTML representation is unable to render, please try loading this page with nbviewer.org.</b></div><div class=\"sk-container\" hidden><div class=\"sk-item sk-dashed-wrapped\"><div class=\"sk-label-container\"><div class=\"sk-label sk-toggleable\"><input class=\"sk-toggleable__control sk-hidden--visually\" id=\"sk-estimator-id-149\" type=\"checkbox\" ><label for=\"sk-estimator-id-149\" class=\"sk-toggleable__label sk-toggleable__label-arrow\">GridSearchCV</label><div class=\"sk-toggleable__content\"><pre>GridSearchCV(cv=5,\n",
              "             estimator=XGBClassifier(base_score=None, booster=None,\n",
              "                                     callbacks=None, colsample_bylevel=None,\n",
              "                                     colsample_bynode=None,\n",
              "                                     colsample_bytree=None,\n",
              "                                     early_stopping_rounds=None,\n",
              "                                     enable_categorical=False, eval_metric=None,\n",
              "                                     feature_types=None, gamma=None,\n",
              "                                     gpu_id=None, grow_policy=None,\n",
              "                                     importance_type=None,\n",
              "                                     interaction_constraints=None,\n",
              "                                     learning_rate=None,...\n",
              "                                     max_delta_step=None, max_depth=None,\n",
              "                                     max_leaves=None, min_child_weight=None,\n",
              "                                     missing=nan, monotone_constraints=None,\n",
              "                                     n_estimators=100, n_jobs=None,\n",
              "                                     num_parallel_tree=None, predictor=None,\n",
              "                                     random_state=None, ...),\n",
              "             param_grid=[{&#x27;colsample_bytree&#x27;: [0.8], &#x27;gamma&#x27;: [0, 0.25, 1],\n",
              "                          &#x27;learning_rate&#x27;: [0.1], &#x27;max_depth&#x27;: [5, 7, 10],\n",
              "                          &#x27;n_estimators&#x27;: [250, 500], &#x27;reg_lambda&#x27;: [0],\n",
              "                          &#x27;subsample&#x27;: [0.8]}],\n",
              "             scoring=&#x27;f1_macro&#x27;)</pre></div></div></div><div class=\"sk-parallel\"><div class=\"sk-parallel-item\"><div class=\"sk-item\"><div class=\"sk-label-container\"><div class=\"sk-label sk-toggleable\"><input class=\"sk-toggleable__control sk-hidden--visually\" id=\"sk-estimator-id-150\" type=\"checkbox\" ><label for=\"sk-estimator-id-150\" class=\"sk-toggleable__label sk-toggleable__label-arrow\">estimator: XGBClassifier</label><div class=\"sk-toggleable__content\"><pre>XGBClassifier(base_score=None, booster=None, callbacks=None,\n",
              "              colsample_bylevel=None, colsample_bynode=None,\n",
              "              colsample_bytree=None, early_stopping_rounds=None,\n",
              "              enable_categorical=False, eval_metric=None, feature_types=None,\n",
              "              gamma=None, gpu_id=None, grow_policy=None, importance_type=None,\n",
              "              interaction_constraints=None, learning_rate=None, max_bin=None,\n",
              "              max_cat_threshold=None, max_cat_to_onehot=None,\n",
              "              max_delta_step=None, max_depth=None, max_leaves=None,\n",
              "              min_child_weight=None, missing=nan, monotone_constraints=None,\n",
              "              n_estimators=100, n_jobs=None, num_parallel_tree=None,\n",
              "              predictor=None, random_state=None, ...)</pre></div></div></div><div class=\"sk-serial\"><div class=\"sk-item\"><div class=\"sk-estimator sk-toggleable\"><input class=\"sk-toggleable__control sk-hidden--visually\" id=\"sk-estimator-id-151\" type=\"checkbox\" ><label for=\"sk-estimator-id-151\" class=\"sk-toggleable__label sk-toggleable__label-arrow\">XGBClassifier</label><div class=\"sk-toggleable__content\"><pre>XGBClassifier(base_score=None, booster=None, callbacks=None,\n",
              "              colsample_bylevel=None, colsample_bynode=None,\n",
              "              colsample_bytree=None, early_stopping_rounds=None,\n",
              "              enable_categorical=False, eval_metric=None, feature_types=None,\n",
              "              gamma=None, gpu_id=None, grow_policy=None, importance_type=None,\n",
              "              interaction_constraints=None, learning_rate=None, max_bin=None,\n",
              "              max_cat_threshold=None, max_cat_to_onehot=None,\n",
              "              max_delta_step=None, max_depth=None, max_leaves=None,\n",
              "              min_child_weight=None, missing=nan, monotone_constraints=None,\n",
              "              n_estimators=100, n_jobs=None, num_parallel_tree=None,\n",
              "              predictor=None, random_state=None, ...)</pre></div></div></div></div></div></div></div></div></div></div>"
            ]
          },
          "metadata": {},
          "execution_count": 324
        }
      ]
    },
    {
      "cell_type": "code",
      "source": [
        "best_parameters_XGB = XGB_grid.best_params_ # best hyperparameters found that corresponds to the best model\n",
        "best_f1_macro_XGB = XGB_grid.best_score_ # best model score (fitted by optimal hyperparameters)\n",
        "print(\"Best f1 score macro: {:.2f} %\".format(best_f1_macro_XGB*100))\n",
        "print(\"Best Parameters:\", best_parameters_XGB)"
      ],
      "metadata": {
        "colab": {
          "base_uri": "https://localhost:8080/"
        },
        "outputId": "5afc75f2-7542-445a-8f89-5f3e9d023c6a",
        "id": "8lVUxzDmyOW6"
      },
      "execution_count": null,
      "outputs": [
        {
          "metadata": {
            "tags": null
          },
          "name": "stdout",
          "output_type": "stream",
          "text": [
            "Best f1 score macro: 89.71 %\n",
            "Best Parameters: {'colsample_bytree': 0.8, 'gamma': 0.25, 'learning_rate': 0.1, 'max_depth': 10, 'n_estimators': 500, 'reg_lambda': 0, 'subsample': 0.8}\n"
          ]
        }
      ]
    },
    {
      "cell_type": "code",
      "source": [
        "# Prediction\n",
        "y_pred_XGB_grid = XGB_grid.predict(X_valid) # predicted output\n",
        "\n",
        "#reversing the operations done before on the training label by adding 1 and converting to float\n",
        "y_pred_XGB_grid = y_pred_XGB_grid + 1\n",
        "y_pred_XGB_grid = y_pred_XGB_grid.astype(float)\n",
        "print(classification_report(y_valid, y_pred_XGB_grid))"
      ],
      "metadata": {
        "colab": {
          "base_uri": "https://localhost:8080/"
        },
        "outputId": "e081233f-26af-4cbf-ee53-2fc17f50bdda",
        "id": "id2pM71VyTYZ"
      },
      "execution_count": null,
      "outputs": [
        {
          "output_type": "stream",
          "name": "stdout",
          "text": [
            "              precision    recall  f1-score   support\n",
            "\n",
            "         2.0       0.67      0.67      0.67         3\n",
            "         3.0       0.40      0.22      0.29        27\n",
            "         4.0       0.82      0.94      0.88       155\n",
            "         5.0       0.78      0.53      0.63        34\n",
            "\n",
            "    accuracy                           0.79       219\n",
            "   macro avg       0.67      0.59      0.62       219\n",
            "weighted avg       0.76      0.79      0.76       219\n",
            "\n"
          ]
        }
      ]
    },
    {
      "cell_type": "code",
      "source": [
        "# Printing the model metrics using the previously defined function \"print_model_metrics\"\n",
        "XGB_gr_acc, XGB_gr_recall, XGB_gr_prec, XGB_gr_f1 = print_model_metrics(y_valid, y_pred_XGB_grid)"
      ],
      "metadata": {
        "colab": {
          "base_uri": "https://localhost:8080/"
        },
        "outputId": "8377df15-37ae-4a81-caf7-7c29a0c112a8",
        "id": "jqu8D8PhyX3O"
      },
      "execution_count": null,
      "outputs": [
        {
          "output_type": "stream",
          "name": "stdout",
          "text": [
            "Model accuracy is: 0.79\n",
            "Model recall is: 0.59\n",
            "Model precision is: 0.67\n",
            "Model F1 score is: 0.62\n"
          ]
        }
      ]
    },
    {
      "cell_type": "markdown",
      "source": [
        "Although at first glance this model seems to be overfitting but when tested vs the public leaderboard kaggle test set the actual performance is 79.916% mean f1 score, which is the highest obtained score and finally we made it up to the 2nd check point 🥳🥳 this can mean that our intuition about the representativeness of the training set after SMOTE/Tomeklinks vs the actual testing set turned out to be somewhat true 😊."
      ],
      "metadata": {
        "id": "DBWc28MRy3Zz"
      }
    },
    {
      "cell_type": "markdown",
      "source": [
        "We can try to further tune this model as it has high potential for fitting the data correctly but we will end it up her and maybe try it later offline👋"
      ],
      "metadata": {
        "id": "iVyv57hz8BnO"
      }
    },
    {
      "cell_type": "markdown",
      "source": [
        "# **6- Training on whole dataset and test set prediction 🎯**"
      ],
      "metadata": {
        "id": "XPFZUOBYLQkp"
      }
    },
    {
      "cell_type": "markdown",
      "source": [
        "Final training of the best model on whole dataset"
      ],
      "metadata": {
        "id": "hkkYSnIx9WDE"
      }
    },
    {
      "cell_type": "code",
      "source": [
        "# fitting the model on the whole dataset\n",
        "\n",
        "#X_train =  pd.concat([X_tr, X_valid], ignore_index=True)\n",
        "#y_train =  pd.concat([y_tr, y_valid], ignore_index=True)\n",
        "#XGB.fit(X_train, y_train)"
      ],
      "metadata": {
        "id": "zXAMgE2Nk3uk"
      },
      "execution_count": null,
      "outputs": []
    },
    {
      "cell_type": "markdown",
      "source": [
        "Predictions to be submitted to Kaggle"
      ],
      "metadata": {
        "id": "A_6f7TOu9bOo"
      }
    },
    {
      "cell_type": "code",
      "source": [
        "# Testing set Prediction\n",
        "y_pred_XGB_test = XGB_grid.predict(X_test_new) # output prediction\n",
        "\n",
        "#reversing the operations done before on the training label by adding 1 and converting to float\n",
        "y_pred_XGB_test = y_pred_XGB_test + 1\n",
        "y_pred_XGB_test = y_pred_XGB_test.astype(float)"
      ],
      "metadata": {
        "id": "L77ASZImLD2J"
      },
      "execution_count": null,
      "outputs": []
    },
    {
      "cell_type": "code",
      "source": [
        "y_pred_XGB_test # checking the predicted values"
      ],
      "metadata": {
        "colab": {
          "base_uri": "https://localhost:8080/"
        },
        "id": "b_cR5DsKb3bL",
        "outputId": "1eccb6f0-362c-4571-a4bb-8d132b5210f3"
      },
      "execution_count": null,
      "outputs": [
        {
          "output_type": "execute_result",
          "data": {
            "text/plain": [
              "array([5., 4., 4., 4., 4., 5., 4., 4., 4., 4., 4., 4., 4., 4., 4., 4., 4.,\n",
              "       4., 3., 5., 4., 5., 3., 4., 4., 4., 4., 5., 4., 4., 4., 4., 4., 4.,\n",
              "       4., 4., 4., 4., 4., 3., 5., 4., 3., 4., 4., 3., 3., 3., 4., 4., 4.,\n",
              "       5., 4., 4., 4., 4., 4., 4., 4., 4., 4., 4., 4., 4., 4., 4., 4., 4.,\n",
              "       4., 4., 4., 4., 4., 4., 4., 4., 4., 4., 4., 4., 4., 4., 4., 4., 4.,\n",
              "       4., 4., 4., 4., 5., 5., 4., 3., 5., 4., 4., 4., 4., 4., 4., 4., 4.,\n",
              "       4., 4., 5., 4., 4., 4., 4., 4., 4., 4., 4., 5., 4., 4., 4., 4., 5.,\n",
              "       4., 3., 4., 4., 4., 4., 4., 4., 4., 4., 4., 3., 4., 4., 4., 4., 4.,\n",
              "       4., 4., 4., 4., 4., 4., 5., 4., 4., 4., 4., 4., 4., 4., 4., 4., 4.,\n",
              "       4., 3., 4., 4., 4., 4., 4., 4., 4., 4., 4., 3., 4., 4., 4., 4., 4.,\n",
              "       4., 4., 4., 3., 4., 4., 4., 4., 4., 4., 4., 4., 4., 4., 4., 4., 4.,\n",
              "       4., 4., 4., 4., 3., 4., 4., 4., 4., 4., 3., 4., 4., 4., 5., 4., 4.,\n",
              "       4., 5., 4., 4., 3., 5., 4., 3., 4., 4., 4., 4., 4., 4., 4., 4., 4.,\n",
              "       4., 5., 4., 4., 4., 4., 4., 4., 4., 4., 4., 4., 4., 4., 4., 4., 4.,\n",
              "       4., 4., 4., 4., 3., 5., 4., 4., 4., 4., 4., 4., 3., 4., 4., 4., 3.,\n",
              "       4., 4., 4., 4., 4., 4., 4., 4., 4., 4., 4., 4., 4., 4., 4., 4., 4.,\n",
              "       4., 4., 4., 4., 4., 4., 4., 4., 4., 4., 4., 4., 4., 5., 4., 4., 4.,\n",
              "       4., 4., 4., 4., 4., 4., 4., 4., 4., 4., 5., 4., 4., 4., 4., 4., 4.,\n",
              "       4., 4., 4., 4., 4., 4., 4., 3., 4., 4., 5., 3., 4., 4., 3., 4., 3.,\n",
              "       4., 4., 4., 5., 4., 3., 3., 4., 4., 4., 4., 4., 4., 4., 4., 4., 5.,\n",
              "       4., 4., 3., 3., 4., 4., 4., 4., 4., 4., 4., 4., 4., 4., 4., 4., 4.,\n",
              "       4., 4., 4., 4., 4., 3., 4., 4., 3., 3., 4., 3., 4., 3., 5., 4., 3.,\n",
              "       4., 4., 4., 4., 3., 4., 4., 3., 4., 4., 4., 4., 3., 3., 4., 4., 4.,\n",
              "       5., 4., 4., 5., 3., 4., 4., 4., 4., 4., 4., 4., 4., 5., 3., 4., 4.,\n",
              "       5., 4., 4., 5., 4., 4., 3., 4., 3., 4., 3., 4., 5., 4., 4., 4., 4.,\n",
              "       4., 4., 3., 4., 4., 4., 4., 4., 4., 4., 4., 4., 4., 5., 4., 4., 4.,\n",
              "       4., 4., 4., 4., 4., 4., 4., 4., 4., 4., 4., 4., 4., 4., 4., 4., 4.,\n",
              "       3., 4., 4., 4., 4., 4., 4., 4., 4., 4., 4., 4., 4., 5., 4., 4., 4.,\n",
              "       2., 3., 4.])"
            ]
          },
          "metadata": {},
          "execution_count": 329
        }
      ]
    },
    {
      "cell_type": "code",
      "source": [
        "#y_pred_XGB_test[y_pred_XGB_test == 6] = 5\n",
        "#y_pred_XGB_test"
      ],
      "metadata": {
        "id": "GyXMf_Um5fPl"
      },
      "execution_count": null,
      "outputs": []
    },
    {
      "cell_type": "markdown",
      "source": [
        "Saving the predictions in a CSV file"
      ],
      "metadata": {
        "id": "JLiZAvT59Nxq"
      }
    },
    {
      "cell_type": "code",
      "source": [
        "output = pd.DataFrame({'id': X_test_new.index, 'rating':y_pred_XGB_test })\n",
        "output.to_csv('submission.csv', index=False)"
      ],
      "metadata": {
        "id": "1XZpY-yXLGeg"
      },
      "execution_count": null,
      "outputs": []
    }
  ]
}